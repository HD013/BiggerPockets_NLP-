{
 "cells": [
  {
   "cell_type": "code",
   "execution_count": 1,
   "id": "142f8b43",
   "metadata": {},
   "outputs": [],
   "source": [
    "### Web Scraping Comments from multiple vides ###"
   ]
  },
  {
   "cell_type": "code",
   "execution_count": 7,
   "id": "614cb7b4",
   "metadata": {},
   "outputs": [],
   "source": [
    "# Import libraries\n",
    "import itertools \n",
    "from youtube_comment_downloader import * #you can find out more about this library here Tutorial: https://github.com/egbertbouman/youtube-comment-downloader\n",
    "import re\n",
    "import pandas as pd\n",
    "import numpy as np\n",
    "import matplotlib.pyplot as plt\n",
    "from IPython.core.interactiveshell import InteractiveShell\n",
    "InteractiveShell.ast_node_interactivity = \"all\"\n",
    "import scrapetube # get all links from one youtube channel\n",
    "import csv\n",
    "import plotly.express as px\n",
    "\n",
    "#NLP packages\n",
    "from textblob import TextBlob\n",
    "from nltk.corpus import stopwords\n",
    "from wordcloud import WordCloud, STOPWORDS\n",
    "import spacy\n",
    "import nltk"
   ]
  },
  {
   "cell_type": "code",
   "execution_count": 36,
   "id": "cddca7cb",
   "metadata": {},
   "outputs": [],
   "source": [
    "# Find all the video IDs and their published time\n",
    "\n",
    "# https://www.google.com/search?q=scrapetube.get_channel+and+dates&sca_esv=557502889&rlz=1C1CHBF_enUS1033US1033&sxsrf=AB5stBiQJApOVf1uJ5hWeASOhQDebrqIew%3A1692222088094&ei=iELdZNinBYjF0PEP7d-Q6AE&ved=0ahUKEwjYi8TDkuKAAxWIIjQIHe0vBB0Q4dUDCBA&uact=5&oq=scrapetube.get_channel+and+dates&gs_lp=Egxnd3Mtd2l6LXNlcnAiIHNjcmFwZXR1YmUuZ2V0X2NoYW5uZWwgYW5kIGRhdGVzSIEQUJwEWP8OcAF4AJABAJgBjgGgAdwJqgEEMC4xMLgBA8gBAPgBAcICBBAjGCfiAwQYASBBiAYB&sclient=gws-wiz-serp\n",
    "\n",
    "#videos = scrapetube.get_channel(channel_url  = \"https://www.youtube.com/@biggerpockets/videos\",\n",
    " #                              limit = int(1000), \n",
    "  #                             sort_by = \"newest\") \n",
    "\n",
    "videos = scrapetube.get_channel(channel_id  = \"UCVWDbXqQ8cupuVpotWNt2eg\",\n",
    "                               limit = int(1000), \n",
    "                               sort_by = \"newest\") \n",
    "\n",
    "# this is the channel ID for Bigger Pockets:  \n",
    "# bp id: UCVWDbXqQ8cupuVpotWNt2eg\n",
    "\n",
    "# to find the channel ID: see this video https://youtu.be/0oDy2sWPF38"
   ]
  },
  {
   "cell_type": "code",
   "execution_count": 37,
   "id": "7427c463",
   "metadata": {},
   "outputs": [
    {
     "data": {
      "text/plain": [
       "30"
      ]
     },
     "execution_count": 37,
     "metadata": {},
     "output_type": "execute_result"
    },
    {
     "name": "stdout",
     "output_type": "stream",
     "text": [
      "How to Invest in Real Estate in 2024 (9 Beginner Steps)\n",
      "JERpaTX60jg\n",
      "1,776 views\n",
      "4 hours ago\n"
     ]
    },
    {
     "data": {
      "text/plain": [
       "95"
      ]
     },
     "execution_count": 37,
     "metadata": {},
     "output_type": "execute_result"
    },
    {
     "name": "stdout",
     "output_type": "stream",
     "text": [
      "This is The BIGGEST Opportunity Since the 2008 Market Crash\n",
      "bxxEqwqjATU\n",
      "9,118 views\n",
      "12 hours ago\n"
     ]
    },
    {
     "data": {
      "text/plain": [
       "100"
      ]
     },
     "execution_count": 37,
     "metadata": {},
     "output_type": "execute_result"
    },
    {
     "name": "stdout",
     "output_type": "stream",
     "text": [
      "How I Built a $350K/Year Passive Income Stream in JUST 3 Years\n",
      "brgj25cpaEg\n",
      "20,548 views\n",
      "1 day ago\n"
     ]
    },
    {
     "data": {
      "text/plain": [
       "101"
      ]
     },
     "execution_count": 37,
     "metadata": {},
     "output_type": "execute_result"
    },
    {
     "name": "stdout",
     "output_type": "stream",
     "text": [
      "Mortgage Rate Cuts Could \"Catapult\" Home Equity in 2024\n",
      "TpWWxOqDZX4\n",
      "10,096 views\n",
      "2 days ago\n"
     ]
    },
    {
     "data": {
      "text/plain": [
       "99"
      ]
     },
     "execution_count": 37,
     "metadata": {},
     "output_type": "execute_result"
    },
    {
     "name": "stdout",
     "output_type": "stream",
     "text": [
      "NEW LOW Down Payment Mortgages Are Here (Put Just 1% DOWN)\n",
      "m3sNMj_INtQ\n",
      "17,757 views\n",
      "3 days ago\n"
     ]
    },
    {
     "data": {
      "text/plain": [
       "98"
      ]
     },
     "execution_count": 37,
     "metadata": {},
     "output_type": "execute_result"
    },
    {
     "name": "stdout",
     "output_type": "stream",
     "text": [
      "How to Rent Out Your House (Step-by-Step Guide)\n",
      "cmw6GjAOuAc\n",
      "10,225 views\n",
      "4 days ago\n"
     ]
    },
    {
     "data": {
      "text/plain": [
       "87"
      ]
     },
     "execution_count": 37,
     "metadata": {},
     "output_type": "execute_result"
    },
    {
     "name": "stdout",
     "output_type": "stream",
     "text": [
      "The Home Foreclosure ?Tsunami? That Never Happened\n",
      "Y4L2lI5TAAY\n",
      "9,648 views\n",
      "6 days ago\n"
     ]
    },
    {
     "data": {
      "text/plain": [
       "89"
      ]
     },
     "execution_count": 37,
     "metadata": {},
     "output_type": "execute_result"
    },
    {
     "name": "stdout",
     "output_type": "stream",
     "text": [
      "Follow These Steps BEFORE You Start Flipping Houses in 2024\n",
      "WUT8qCRuSdY\n",
      "7,891 views\n",
      "7 days ago\n"
     ]
    },
    {
     "data": {
      "text/plain": [
       "98"
      ]
     },
     "execution_count": 37,
     "metadata": {},
     "output_type": "execute_result"
    },
    {
     "name": "stdout",
     "output_type": "stream",
     "text": [
      "How to Build Wealth in 2024 with This Real Estate ?Strategy?\n",
      "JBa2q3AZThw\n",
      "11,690 views\n",
      "8 days ago\n"
     ]
    },
    {
     "data": {
      "text/plain": [
       "100"
      ]
     },
     "execution_count": 37,
     "metadata": {},
     "output_type": "execute_result"
    },
    {
     "name": "stdout",
     "output_type": "stream",
     "text": [
      "How to Find Your Perfect First Rental Property (The ?Buy Box?)\n",
      "l7xvOOEeUiE\n",
      "9,085 views\n",
      "9 days ago\n"
     ]
    },
    {
     "data": {
      "text/plain": [
       "101"
      ]
     },
     "execution_count": 37,
     "metadata": {},
     "output_type": "execute_result"
    },
    {
     "name": "stdout",
     "output_type": "stream",
     "text": [
      "The Beginner's Guide to Rental Property Financing in 2024\n",
      "fvD_2kxc4x0\n",
      "50,212 views\n",
      "10 days ago\n"
     ]
    },
    {
     "data": {
      "text/plain": [
       "98"
      ]
     },
     "execution_count": 37,
     "metadata": {},
     "output_type": "execute_result"
    },
    {
     "name": "stdout",
     "output_type": "stream",
     "text": [
      "Why You?ll (Probably) Regret Not Buying a House in 2024\n",
      "XTbYWrSdlG0\n",
      "20,820 views\n",
      "11 days ago\n"
     ]
    },
    {
     "data": {
      "text/plain": [
       "96"
      ]
     },
     "execution_count": 37,
     "metadata": {},
     "output_type": "execute_result"
    },
    {
     "name": "stdout",
     "output_type": "stream",
     "text": [
      "Massive Passive Income with $0 Down, 0% Interest Rental Properties\n",
      "vB_2bj3Shio\n",
      "15,919 views\n",
      "13 days ago\n"
     ]
    },
    {
     "data": {
      "text/plain": [
       "109"
      ]
     },
     "execution_count": 37,
     "metadata": {},
     "output_type": "execute_result"
    },
    {
     "name": "stdout",
     "output_type": "stream",
     "text": [
      "How to Buy Your First Rental Property in 2024\n",
      "6SgzbnCmjLY\n",
      "10,640 views\n",
      "2 weeks ago\n"
     ]
    },
    {
     "data": {
      "text/plain": [
       "86"
      ]
     },
     "execution_count": 37,
     "metadata": {},
     "output_type": "execute_result"
    },
    {
     "name": "stdout",
     "output_type": "stream",
     "text": [
      "Zillow and Redfin On 2024 Home Prices, Mortgage Rates, and More\n",
      "WjI_jZqcKeI\n",
      "21,153 views\n",
      "2 weeks ago\n"
     ]
    },
    {
     "data": {
      "text/plain": [
       "106"
      ]
     },
     "execution_count": 37,
     "metadata": {},
     "output_type": "execute_result"
    },
    {
     "name": "stdout",
     "output_type": "stream",
     "text": [
      "I Was Wrong About the Housing Market?\n",
      "4qxQLJZ20NA\n",
      "20,934 views\n",
      "2 weeks ago\n"
     ]
    },
    {
     "data": {
      "text/plain": [
       "78"
      ]
     },
     "execution_count": 37,
     "metadata": {},
     "output_type": "execute_result"
    },
    {
     "name": "stdout",
     "output_type": "stream",
     "text": [
      "Why Does the Mortgage Process Take SO LONG? (How to Speed it Up)\n",
      "Uw-9NizA1iA\n",
      "6,110 views\n",
      "2 weeks ago\n"
     ]
    },
    {
     "data": {
      "text/plain": [
       "104"
      ]
     },
     "execution_count": 37,
     "metadata": {},
     "output_type": "execute_result"
    },
    {
     "name": "stdout",
     "output_type": "stream",
     "text": [
      "Why 86% of Americans Are Wrong About the Housing Market\n",
      "KtyHJAhmfXY\n",
      "39,027 views\n",
      "2 weeks ago\n"
     ]
    },
    {
     "data": {
      "text/plain": [
       "96"
      ]
     },
     "execution_count": 37,
     "metadata": {},
     "output_type": "execute_result"
    },
    {
     "name": "stdout",
     "output_type": "stream",
     "text": [
      "How to Make Multiple Streams of Income from 1 Rental Property\n",
      "zGfvH0E3NiY\n",
      "25,615 views\n",
      "2 weeks ago\n"
     ]
    },
    {
     "data": {
      "text/plain": [
       "102"
      ]
     },
     "execution_count": 37,
     "metadata": {},
     "output_type": "execute_result"
    },
    {
     "name": "stdout",
     "output_type": "stream",
     "text": [
      "These 10 Rental Property Loans Are (Almost) Impossible to Get\n",
      "hANfcgzV9SM\n",
      "6,076 views\n",
      "3 weeks ago\n"
     ]
    },
    {
     "data": {
      "text/plain": [
       "101"
      ]
     },
     "execution_count": 37,
     "metadata": {},
     "output_type": "execute_result"
    },
    {
     "name": "stdout",
     "output_type": "stream",
     "text": [
      "How to Buy BIG Properties in 2024 (Commercial Real Estate ?Buy Box?)\n",
      "TW4qchbGXg0\n",
      "11,911 views\n",
      "3 weeks ago\n"
     ]
    },
    {
     "data": {
      "text/plain": [
       "109"
      ]
     },
     "execution_count": 37,
     "metadata": {},
     "output_type": "execute_result"
    },
    {
     "name": "stdout",
     "output_type": "stream",
     "text": [
      "5 Financial Mistakes That Will Keep You Poor in 2024\n",
      "NitiiadRgIo\n",
      "6,301 views\n",
      "3 weeks ago\n"
     ]
    },
    {
     "data": {
      "text/plain": [
       "92"
      ]
     },
     "execution_count": 37,
     "metadata": {},
     "output_type": "execute_result"
    },
    {
     "name": "stdout",
     "output_type": "stream",
     "text": [
      "From \"Dirt Floor\" Poverty to Making $80K/Month in Passive Income\n",
      "JujnC2CCtj4\n",
      "11,073 views\n",
      "3 weeks ago\n"
     ]
    },
    {
     "data": {
      "text/plain": [
       "109"
      ]
     },
     "execution_count": 37,
     "metadata": {},
     "output_type": "execute_result"
    },
    {
     "name": "stdout",
     "output_type": "stream",
     "text": [
      "How I Bought Rental Properties for 33% Off in a HOT Housing Market\n",
      "UxQDD60jABU\n",
      "15,329 views\n",
      "3 weeks ago\n"
     ]
    },
    {
     "data": {
      "text/plain": [
       "107"
      ]
     },
     "execution_count": 37,
     "metadata": {},
     "output_type": "execute_result"
    },
    {
     "name": "stdout",
     "output_type": "stream",
     "text": [
      "Foreclosures, Layoffs, and The Buyer?s Market Returns in 2024\n",
      "V1lFFZbm_XE\n",
      "29,730 views\n",
      "4 weeks ago\n"
     ]
    },
    {
     "data": {
      "text/plain": [
       "104"
      ]
     },
     "execution_count": 37,
     "metadata": {},
     "output_type": "execute_result"
    },
    {
     "name": "stdout",
     "output_type": "stream",
     "text": [
      "Making $50K in 6 Weeks with Quick, Repeatable House Flips\n",
      "rPzqevbZhZg\n",
      "6,666 views\n",
      "4 weeks ago\n"
     ]
    },
    {
     "data": {
      "text/plain": [
       "99"
      ]
     },
     "execution_count": 37,
     "metadata": {},
     "output_type": "execute_result"
    },
    {
     "name": "stdout",
     "output_type": "stream",
     "text": [
      "Every Landlord Should Do THIS to Their Rental Property NOW\n",
      "9pUb4LsBCUQ\n",
      "53,611 views\n",
      "4 weeks ago\n"
     ]
    },
    {
     "data": {
      "text/plain": [
       "99"
      ]
     },
     "execution_count": 37,
     "metadata": {},
     "output_type": "execute_result"
    },
    {
     "name": "stdout",
     "output_type": "stream",
     "text": [
      "Fed to Make BIG Interest Rate Cuts in 2024 as Economic Fears Grow\n",
      "qJ1LnjQiKOU\n",
      "45,710 views\n",
      "1 month ago\n"
     ]
    },
    {
     "data": {
      "text/plain": [
       "106"
      ]
     },
     "execution_count": 37,
     "metadata": {},
     "output_type": "execute_result"
    },
    {
     "name": "stdout",
     "output_type": "stream",
     "text": [
      "Fed Announces 2024 Plan, Boomers Take Advantage of High Rates\n",
      "zfVS9GgYLRM\n",
      "26,886 views\n",
      "1 month ago\n"
     ]
    },
    {
     "data": {
      "text/plain": [
       "104"
      ]
     },
     "execution_count": 37,
     "metadata": {},
     "output_type": "execute_result"
    },
    {
     "name": "stdout",
     "output_type": "stream",
     "text": [
      "When Real Estate Goes Wrong (Expert House Flipper Loses $380K)\n",
      "LD7FMYoDgx0\n",
      "7,355 views\n",
      "1 month ago\n"
     ]
    },
    {
     "data": {
      "text/plain": [
       "102"
      ]
     },
     "execution_count": 37,
     "metadata": {},
     "output_type": "execute_result"
    },
    {
     "name": "stdout",
     "output_type": "stream",
     "text": [
      "The House That Almost ?Broke? Me: Losing $350K on ONE Property\n",
      "7LrYvKDKbHI\n",
      "5,131 views\n",
      "1 month ago\n"
     ]
    },
    {
     "data": {
      "text/plain": [
       "102"
      ]
     },
     "execution_count": 37,
     "metadata": {},
     "output_type": "execute_result"
    },
    {
     "name": "stdout",
     "output_type": "stream",
     "text": [
      "How NOT To Invest in Real Estate in 2024\n",
      "Cvu5l3zlUW8\n",
      "7,735 views\n",
      "1 month ago\n"
     ]
    },
    {
     "data": {
      "text/plain": [
       "80"
      ]
     },
     "execution_count": 37,
     "metadata": {},
     "output_type": "execute_result"
    },
    {
     "name": "stdout",
     "output_type": "stream",
     "text": [
      "How to Make 6-Figures in Passive Income with NO College Degree\n",
      "nwYS_IQ6w3U\n",
      "11,913 views\n",
      "1 month ago\n"
     ]
    },
    {
     "data": {
      "text/plain": [
       "103"
      ]
     },
     "execution_count": 37,
     "metadata": {},
     "output_type": "execute_result"
    },
    {
     "name": "stdout",
     "output_type": "stream",
     "text": [
      "The Housing Market Has Changed: What to Watch for in 2024\n",
      "1bel7eF7EII\n",
      "36,514 views\n",
      "1 month ago\n"
     ]
    },
    {
     "data": {
      "text/plain": [
       "98"
      ]
     },
     "execution_count": 37,
     "metadata": {},
     "output_type": "execute_result"
    },
    {
     "name": "stdout",
     "output_type": "stream",
     "text": [
      "Getting a HELOC on Investment Property Just Got WAY Easier?\n",
      "Gd_OxqUSBDk\n",
      "51,067 views\n",
      "1 month ago\n"
     ]
    },
    {
     "data": {
      "text/plain": [
       "100"
      ]
     },
     "execution_count": 37,
     "metadata": {},
     "output_type": "execute_result"
    },
    {
     "name": "stdout",
     "output_type": "stream",
     "text": [
      "Student Housing Investments: Massive Cash Flow or Major Headache?\n",
      "BuiEbJyvBXI\n",
      "11,583 views\n",
      "1 month ago\n"
     ]
    },
    {
     "data": {
      "text/plain": [
       "106"
      ]
     },
     "execution_count": 37,
     "metadata": {},
     "output_type": "execute_result"
    },
    {
     "name": "stdout",
     "output_type": "stream",
     "text": [
      "Real Estate Investing in 2024: Big Risks, HUGE Opportunities\n",
      "d87IErdDfM0\n",
      "40,383 views\n",
      "1 month ago\n"
     ]
    },
    {
     "data": {
      "text/plain": [
       "103"
      ]
     },
     "execution_count": 37,
     "metadata": {},
     "output_type": "execute_result"
    },
    {
     "name": "stdout",
     "output_type": "stream",
     "text": [
      "How to Get Started in Real Estate\n",
      "C-XN2A85Y1o\n",
      "10,113 views\n",
      "1 month ago\n"
     ]
    },
    {
     "data": {
      "text/plain": [
       "74"
      ]
     },
     "execution_count": 37,
     "metadata": {},
     "output_type": "execute_result"
    },
    {
     "name": "stdout",
     "output_type": "stream",
     "text": [
      "How to Reach Financial Freedom 5X Faster with ?Negative? Cash Flow\n",
      "1Xdqrqw9k5U\n",
      "25,676 views\n",
      "1 month ago\n"
     ]
    },
    {
     "data": {
      "text/plain": [
       "107"
      ]
     },
     "execution_count": 37,
     "metadata": {},
     "output_type": "execute_result"
    },
    {
     "name": "stdout",
     "output_type": "stream",
     "text": [
      "Scott Trench?s 5 Steps to START Investing in Real Estate in 2024\n",
      "t0N1p1aD70c\n",
      "14,926 views\n",
      "1 month ago\n"
     ]
    },
    {
     "data": {
      "text/plain": [
       "105"
      ]
     },
     "execution_count": 37,
     "metadata": {},
     "output_type": "execute_result"
    },
    {
     "name": "stdout",
     "output_type": "stream",
     "text": [
      "Rent Prices Flatten Across the US...Except Here\n",
      "VN55GfVF4dA\n",
      "11,064 views\n",
      "1 month ago\n"
     ]
    },
    {
     "data": {
      "text/plain": [
       "88"
      ]
     },
     "execution_count": 37,
     "metadata": {},
     "output_type": "execute_result"
    },
    {
     "name": "stdout",
     "output_type": "stream",
     "text": [
      "4% Interest Rates Are Coming BACK, Says Major Bank\n",
      "Oj5Y5oDhg5c\n",
      "70,153 views\n",
      "1 month ago\n"
     ]
    },
    {
     "data": {
      "text/plain": [
       "93"
      ]
     },
     "execution_count": 37,
     "metadata": {},
     "output_type": "execute_result"
    },
    {
     "name": "stdout",
     "output_type": "stream",
     "text": [
      "?Subject To? Speculation and Why It?s SO Hard to Find Cash Flow\n",
      "c6hjZJf8WWE\n",
      "16,201 views\n",
      "1 month ago\n"
     ]
    },
    {
     "data": {
      "text/plain": [
       "104"
      ]
     },
     "execution_count": 37,
     "metadata": {},
     "output_type": "execute_result"
    },
    {
     "name": "stdout",
     "output_type": "stream",
     "text": [
      "Millionaire in 4 Years by Buying \"Overlooked\" Investment Properties\n",
      "eSOflLy4n4o\n",
      "16,776 views\n",
      "1 month ago\n"
     ]
    },
    {
     "data": {
      "text/plain": [
       "112"
      ]
     },
     "execution_count": 37,
     "metadata": {},
     "output_type": "execute_result"
    },
    {
     "name": "stdout",
     "output_type": "stream",
     "text": [
      "The Truth About Financial Freedom (The Cashflow Quadrant)\n",
      "sWCwJIts7t4\n",
      "15,074 views\n",
      "1 month ago\n"
     ]
    },
    {
     "data": {
      "text/plain": [
       "98"
      ]
     },
     "execution_count": 37,
     "metadata": {},
     "output_type": "execute_result"
    },
    {
     "name": "stdout",
     "output_type": "stream",
     "text": [
      "7 Multifamily Real Estate Red Flags You CAN'T Ignore\n",
      "yR3dHLBv7dM\n",
      "16,857 views\n",
      "1 month ago\n"
     ]
    },
    {
     "data": {
      "text/plain": [
       "93"
      ]
     },
     "execution_count": 37,
     "metadata": {},
     "output_type": "execute_result"
    },
    {
     "name": "stdout",
     "output_type": "stream",
     "text": [
      "How to Turn $6K into $200K Using the ?Condo? Real Estate Strategy\n",
      "e1q1zYFGwBc\n",
      "49,142 views\n",
      "1 month ago\n"
     ]
    },
    {
     "data": {
      "text/plain": [
       "106"
      ]
     },
     "execution_count": 37,
     "metadata": {},
     "output_type": "execute_result"
    },
    {
     "name": "stdout",
     "output_type": "stream",
     "text": [
      "How to Buy BIG Properties (Commercial Lending 101)\n",
      "_ZXWWVroXIc\n",
      "42,508 views\n",
      "1 month ago\n"
     ]
    },
    {
     "data": {
      "text/plain": [
       "91"
      ]
     },
     "execution_count": 37,
     "metadata": {},
     "output_type": "execute_result"
    },
    {
     "name": "stdout",
     "output_type": "stream",
     "text": [
      "How to Use Your Home Equity to Retire Early\n",
      "IAP2apxD5oY\n",
      "28,918 views\n",
      "1 month ago\n"
     ]
    },
    {
     "data": {
      "text/plain": [
       "84"
      ]
     },
     "execution_count": 37,
     "metadata": {},
     "output_type": "execute_result"
    },
    {
     "name": "stdout",
     "output_type": "stream",
     "text": [
      "From \"No Green Card\" Waitress to Making $5K/Month Passive Income\n",
      "GNYnRjBSxDM\n",
      "17,586 views\n",
      "1 month ago\n"
     ]
    },
    {
     "data": {
      "text/plain": [
       "109"
      ]
     },
     "execution_count": 37,
     "metadata": {},
     "output_type": "execute_result"
    },
    {
     "name": "stdout",
     "output_type": "stream",
     "text": [
      "How to Buy Investment Properties WITHOUT Paying High Mortgage Rates\n",
      "wWziR81_VBw\n",
      "46,614 views\n",
      "1 month ago\n"
     ]
    },
    {
     "data": {
      "text/plain": [
       "108"
      ]
     },
     "execution_count": 37,
     "metadata": {},
     "output_type": "execute_result"
    },
    {
     "name": "stdout",
     "output_type": "stream",
     "text": [
      "New Rental Property Mortgages with 3% Interest Rates, 5% Down\n",
      "IVK5vQg1UvY\n",
      "101,112 views\n",
      "1 month ago\n"
     ]
    },
    {
     "data": {
      "text/plain": [
       "105"
      ]
     },
     "execution_count": 37,
     "metadata": {},
     "output_type": "execute_result"
    },
    {
     "name": "stdout",
     "output_type": "stream",
     "text": [
      "The Fastest Way to Build a Real Estate Portfolio (BRRRR Strategy)\n",
      "qBzvgn8OxpY\n",
      "8,678 views\n",
      "1 month ago\n"
     ]
    },
    {
     "data": {
      "text/plain": [
       "105"
      ]
     },
     "execution_count": 37,
     "metadata": {},
     "output_type": "execute_result"
    },
    {
     "name": "stdout",
     "output_type": "stream",
     "text": [
      "This Could Change the Real Estate Market Forever?\n",
      "FHqMswYKUpM\n",
      "61,279 views\n",
      "1 month ago\n"
     ]
    },
    {
     "data": {
      "text/plain": [
       "90"
      ]
     },
     "execution_count": 37,
     "metadata": {},
     "output_type": "execute_result"
    },
    {
     "name": "stdout",
     "output_type": "stream",
     "text": [
      "Pay Fewer Taxes in 2024 | What You Need to Do NOW\n",
      "QWNPOPdSPJc\n",
      "16,375 views\n",
      "1 month ago\n"
     ]
    },
    {
     "data": {
      "text/plain": [
       "90"
      ]
     },
     "execution_count": 37,
     "metadata": {},
     "output_type": "execute_result"
    },
    {
     "name": "stdout",
     "output_type": "stream",
     "text": [
      "This Will Destroy Your Real Estate Development Deal?\n",
      "n3gnr-XYBOQ\n",
      "40,327 views\n",
      "2 months ago\n"
     ]
    },
    {
     "data": {
      "text/plain": [
       "94"
      ]
     },
     "execution_count": 37,
     "metadata": {},
     "output_type": "execute_result"
    },
    {
     "name": "stdout",
     "output_type": "stream",
     "text": [
      "The Slow, Steady Way to Make $50K/Month with Rental Properties\n",
      "967GkIZJrBg\n",
      "40,966 views\n",
      "2 months ago\n"
     ]
    },
    {
     "data": {
      "text/plain": [
       "106"
      ]
     },
     "execution_count": 37,
     "metadata": {},
     "output_type": "execute_result"
    },
    {
     "name": "stdout",
     "output_type": "stream",
     "text": [
      "NAR Lawsuit Loss Could Mean the END of Real Estate Agents\n",
      "oFkxTrYmp3Q\n",
      "78,262 views\n",
      "2 months ago\n"
     ]
    },
    {
     "data": {
      "text/plain": [
       "99"
      ]
     },
     "execution_count": 37,
     "metadata": {},
     "output_type": "execute_result"
    },
    {
     "name": "stdout",
     "output_type": "stream",
     "text": [
      "3 \"Lies\" You Can't Afford to Tell Yourself in This Housing Market\n",
      "vmqell13vz8\n",
      "13,635 views\n",
      "2 months ago\n"
     ]
    },
    {
     "data": {
      "text/plain": [
       "111"
      ]
     },
     "execution_count": 37,
     "metadata": {},
     "output_type": "execute_result"
    },
    {
     "name": "stdout",
     "output_type": "stream",
     "text": [
      "Bridge Loans: 100% Financing on Investment Property?\n",
      "2GEjBMIxorU\n",
      "42,069 views\n",
      "2 months ago\n"
     ]
    },
    {
     "data": {
      "text/plain": [
       "94"
      ]
     },
     "execution_count": 37,
     "metadata": {},
     "output_type": "execute_result"
    },
    {
     "name": "stdout",
     "output_type": "stream",
     "text": [
      "Don't Make Enough Money to Invest in Real Estate? Do This?\n",
      "RHosE_urbek\n",
      "19,484 views\n",
      "2 months ago\n"
     ]
    },
    {
     "data": {
      "text/plain": [
       "100"
      ]
     },
     "execution_count": 37,
     "metadata": {},
     "output_type": "execute_result"
    },
    {
     "name": "stdout",
     "output_type": "stream",
     "text": [
      "Achieve Financial Freedom 4x Faster with the ?ROE Rule? of Real Estate\n",
      "1uN6feyEoH8\n",
      "20,416 views\n",
      "2 months ago\n"
     ]
    },
    {
     "data": {
      "text/plain": [
       "112"
      ]
     },
     "execution_count": 37,
     "metadata": {},
     "output_type": "execute_result"
    },
    {
     "name": "stdout",
     "output_type": "stream",
     "text": [
      "On-Market Real Estate Deals Are BACK (Home Sellers FINALLY Wake Up)\n",
      "JvfFadd0qvU\n",
      "13,697 views\n",
      "2 months ago\n"
     ]
    },
    {
     "data": {
      "text/plain": [
       "109"
      ]
     },
     "execution_count": 37,
     "metadata": {},
     "output_type": "execute_result"
    },
    {
     "name": "stdout",
     "output_type": "stream",
     "text": [
      "Barbara Corcoran: Investing Like THIS Will Make You Millions\n",
      "wZ8VFXW7kZo\n",
      "38,377 views\n",
      "2 months ago\n"
     ]
    },
    {
     "data": {
      "text/plain": [
       "102"
      ]
     },
     "execution_count": 37,
     "metadata": {},
     "output_type": "execute_result"
    },
    {
     "name": "stdout",
     "output_type": "stream",
     "text": [
      "?A ROUGH First Half? | 2024 Housing Market Predictions\n",
      "GcQQOvl2IB4\n",
      "56,705 views\n",
      "2 months ago\n"
     ]
    },
    {
     "data": {
      "text/plain": [
       "96"
      ]
     },
     "execution_count": 37,
     "metadata": {},
     "output_type": "execute_result"
    },
    {
     "name": "stdout",
     "output_type": "stream",
     "text": [
      "Why Smart Money Isn?t Betting on a ?Soft Landing?\n",
      "E_ApGf6fSCU\n",
      "29,453 views\n",
      "2 months ago\n"
     ]
    },
    {
     "data": {
      "text/plain": [
       "91"
      ]
     },
     "execution_count": 37,
     "metadata": {},
     "output_type": "execute_result"
    },
    {
     "name": "stdout",
     "output_type": "stream",
     "text": [
      "DSCR, Rental Property Loans, and Our Most Crucial Mortgage FAQs\n",
      "G5Ek7s5PyGU\n",
      "11,797 views\n",
      "2 months ago\n"
     ]
    },
    {
     "data": {
      "text/plain": [
       "107"
      ]
     },
     "execution_count": 37,
     "metadata": {},
     "output_type": "execute_result"
    },
    {
     "name": "stdout",
     "output_type": "stream",
     "text": [
      "Has the End of Real Estate Investing Already Begun?\n",
      "_-8n69FZ4Q4\n",
      "28,223 views\n",
      "2 months ago\n"
     ]
    },
    {
     "data": {
      "text/plain": [
       "93"
      ]
     },
     "execution_count": 37,
     "metadata": {},
     "output_type": "execute_result"
    },
    {
     "name": "stdout",
     "output_type": "stream",
     "text": [
      "\"Passive Income\" Isn't Real...Here's The Truth\n",
      "W08vWIUDqy0\n",
      "7,100 views\n",
      "2 months ago\n"
     ]
    },
    {
     "data": {
      "text/plain": [
       "91"
      ]
     },
     "execution_count": 37,
     "metadata": {},
     "output_type": "execute_result"
    },
    {
     "name": "stdout",
     "output_type": "stream",
     "text": [
      "From Janitor to $1,000,000 by Buying $2,500 Rental Properties\n",
      "vwZYLpQpoRM\n",
      "44,403 views\n",
      "2 months ago\n"
     ]
    },
    {
     "data": {
      "text/plain": [
       "105"
      ]
     },
     "execution_count": 37,
     "metadata": {},
     "output_type": "execute_result"
    },
    {
     "name": "stdout",
     "output_type": "stream",
     "text": [
      "Could This Trigger the 2024 Recession?\n",
      "vmPMXY_Werw\n",
      "52,229 views\n",
      "2 months ago\n"
     ]
    },
    {
     "data": {
      "text/plain": [
       "80"
      ]
     },
     "execution_count": 37,
     "metadata": {},
     "output_type": "execute_result"
    },
    {
     "name": "stdout",
     "output_type": "stream",
     "text": [
      "Asset Protection 101 and \"Robin Hood Lawsuits\" Coming For YOU?\n",
      "I0G28BxwIv4\n",
      "9,108 views\n",
      "2 months ago\n"
     ]
    },
    {
     "data": {
      "text/plain": [
       "107"
      ]
     },
     "execution_count": 37,
     "metadata": {},
     "output_type": "execute_result"
    },
    {
     "name": "stdout",
     "output_type": "stream",
     "text": [
      "The Fed?s Grim Warning for Mortgage Rates\n",
      "yqDCnC4JM3I\n",
      "68,093 views\n",
      "2 months ago\n"
     ]
    },
    {
     "data": {
      "text/plain": [
       "83"
      ]
     },
     "execution_count": 37,
     "metadata": {},
     "output_type": "execute_result"
    },
    {
     "name": "stdout",
     "output_type": "stream",
     "text": [
      "Investing in This is a ?Terrible Idea? w/ Meet Kevin\n",
      "0-iXhlpN0pg\n",
      "16,749 views\n",
      "2 months ago\n"
     ]
    },
    {
     "data": {
      "text/plain": [
       "94"
      ]
     },
     "execution_count": 37,
     "metadata": {},
     "output_type": "execute_result"
    },
    {
     "name": "stdout",
     "output_type": "stream",
     "text": [
      "DON'T Chase Cash Flow: 4 Ways to Make Money in Real Estate\n",
      "Tw2HFOyli14\n",
      "20,546 views\n",
      "2 months ago\n"
     ]
    },
    {
     "data": {
      "text/plain": [
       "100"
      ]
     },
     "execution_count": 37,
     "metadata": {},
     "output_type": "execute_result"
    },
    {
     "name": "stdout",
     "output_type": "stream",
     "text": [
      "From Night Shifts and $200K in Debt to Financial Freedom in 5 Years\n",
      "d-OG67kzYwo\n",
      "32,623 views\n",
      "2 months ago\n"
     ]
    },
    {
     "data": {
      "text/plain": [
       "109"
      ]
     },
     "execution_count": 37,
     "metadata": {},
     "output_type": "execute_result"
    },
    {
     "name": "stdout",
     "output_type": "stream",
     "text": [
      "Recession Risk Rises as U.S. Consumer Spending EXPLODES\n",
      "LkqkaZ7rA8M\n",
      "44,408 views\n",
      "2 months ago\n"
     ]
    },
    {
     "data": {
      "text/plain": [
       "97"
      ]
     },
     "execution_count": 37,
     "metadata": {},
     "output_type": "execute_result"
    },
    {
     "name": "stdout",
     "output_type": "stream",
     "text": [
      "Airbnb Demand Drops: A Rough Road Ahead for Short-Term Rentals?\n",
      "phTxVJYL3jw\n",
      "18,158 views\n",
      "2 months ago\n"
     ]
    },
    {
     "data": {
      "text/plain": [
       "105"
      ]
     },
     "execution_count": 37,
     "metadata": {},
     "output_type": "execute_result"
    },
    {
     "name": "stdout",
     "output_type": "stream",
     "text": [
      "Pay Off Your House 7 Years FASTER with This Secret Mortgage Hack\n",
      "MnJoMcug1Oc\n",
      "54,497 views\n",
      "2 months ago\n"
     ]
    },
    {
     "data": {
      "text/plain": [
       "106"
      ]
     },
     "execution_count": 37,
     "metadata": {},
     "output_type": "execute_result"
    },
    {
     "name": "stdout",
     "output_type": "stream",
     "text": [
      "DON?T Use a HELOC to Buy Investment Property Unless?\n",
      "0c7rX0soJew\n",
      "38,594 views\n",
      "2 months ago\n"
     ]
    },
    {
     "data": {
      "text/plain": [
       "94"
      ]
     },
     "execution_count": 37,
     "metadata": {},
     "output_type": "execute_result"
    },
    {
     "name": "stdout",
     "output_type": "stream",
     "text": [
      "How to Analyze a Rental Property & Make an Offer\n",
      "WSuKfD3A2Xg\n",
      "17,317 views\n",
      "2 months ago\n"
     ]
    },
    {
     "data": {
      "text/plain": [
       "90"
      ]
     },
     "execution_count": 37,
     "metadata": {},
     "output_type": "execute_result"
    },
    {
     "name": "stdout",
     "output_type": "stream",
     "text": [
      "How We Made Over $1,000,000 with ONE Rental Property\n",
      "7WkQwDt4BK8\n",
      "42,736 views\n",
      "2 months ago\n"
     ]
    },
    {
     "data": {
      "text/plain": [
       "96"
      ]
     },
     "execution_count": 37,
     "metadata": {},
     "output_type": "execute_result"
    },
    {
     "name": "stdout",
     "output_type": "stream",
     "text": [
      "From Surviving on $30 Per Day to 30+ Rental Properties\n",
      "2Rm7q6tm1Us\n",
      "16,587 views\n",
      "2 months ago\n"
     ]
    },
    {
     "data": {
      "text/plain": [
       "96"
      ]
     },
     "execution_count": 37,
     "metadata": {},
     "output_type": "execute_result"
    },
    {
     "name": "stdout",
     "output_type": "stream",
     "text": [
      "What Could Cause Home Prices Drop in 2024\n",
      "CgTXpTPv3KA\n",
      "8,168 views\n",
      "3 months ago\n"
     ]
    },
    {
     "data": {
      "text/plain": [
       "82"
      ]
     },
     "execution_count": 37,
     "metadata": {},
     "output_type": "execute_result"
    },
    {
     "name": "stdout",
     "output_type": "stream",
     "text": [
      "Reach Retirement Faster with These Out-of-State Rental Properties\n",
      "JuoxVRLFwRA\n",
      "12,758 views\n",
      "3 months ago\n"
     ]
    },
    {
     "data": {
      "text/plain": [
       "107"
      ]
     },
     "execution_count": 37,
     "metadata": {},
     "output_type": "execute_result"
    },
    {
     "name": "stdout",
     "output_type": "stream",
     "text": [
      "Fannie Mae SLASHES Multifamily Down Payment to Just 5%\n",
      "WTAWE0JA9ok\n",
      "83,962 views\n",
      "3 months ago\n"
     ]
    },
    {
     "data": {
      "text/plain": [
       "96"
      ]
     },
     "execution_count": 37,
     "metadata": {},
     "output_type": "execute_result"
    },
    {
     "name": "stdout",
     "output_type": "stream",
     "text": [
      "Should I Sell My Rental Property in 2023 While Prices Are High?\n",
      "IjXjnkffBKM\n",
      "14,861 views\n",
      "3 months ago\n"
     ]
    },
    {
     "data": {
      "text/plain": [
       "105"
      ]
     },
     "execution_count": 37,
     "metadata": {},
     "output_type": "execute_result"
    },
    {
     "name": "stdout",
     "output_type": "stream",
     "text": [
      "What the Media Isn?t Tell You About the Airbnb Investing ?Crash?\n",
      "6oN03uIzyoo\n",
      "47,906 views\n",
      "3 months ago\n"
     ]
    },
    {
     "data": {
      "text/plain": [
       "106"
      ]
     },
     "execution_count": 37,
     "metadata": {},
     "output_type": "execute_result"
    },
    {
     "name": "stdout",
     "output_type": "stream",
     "text": [
      "$2M in Real Estate in 2 Years by Buying ONLY Off-Market\n",
      "xSrH3KG5u4k\n",
      "38,665 views\n",
      "3 months ago\n"
     ]
    },
    {
     "data": {
      "text/plain": [
       "97"
      ]
     },
     "execution_count": 37,
     "metadata": {},
     "output_type": "execute_result"
    },
    {
     "name": "stdout",
     "output_type": "stream",
     "text": [
      "Could America?s ?Negative Equity? Cause Home Prices to Spiral?\n",
      "Elv0X1cMUWw\n",
      "38,219 views\n",
      "3 months ago\n"
     ]
    },
    {
     "data": {
      "text/plain": [
       "104"
      ]
     },
     "execution_count": 37,
     "metadata": {},
     "output_type": "execute_result"
    },
    {
     "name": "stdout",
     "output_type": "stream",
     "text": [
      "The Repeatable, 3-Step Blueprint That Leads to Financial Freedom\n",
      "ywOgnny5rtY\n",
      "33,519 views\n",
      "3 months ago\n"
     ]
    },
    {
     "data": {
      "text/plain": [
       "108"
      ]
     },
     "execution_count": 37,
     "metadata": {},
     "output_type": "execute_result"
    },
    {
     "name": "stdout",
     "output_type": "stream",
     "text": [
      "Conventional Loans: Requirements, Mortgage Rates, & Down Payments\n",
      "U6oOr4p4Qw8\n",
      "45,606 views\n",
      "3 months ago\n"
     ]
    },
    {
     "data": {
      "text/plain": [
       "109"
      ]
     },
     "execution_count": 37,
     "metadata": {},
     "output_type": "execute_result"
    },
    {
     "name": "stdout",
     "output_type": "stream",
     "text": [
      "Don?t Sell Your ?Low Cash Flow? Rental Property Yet?\n",
      "TiEWeKFOgwA\n",
      "13,723 views\n",
      "3 months ago\n"
     ]
    },
    {
     "data": {
      "text/plain": [
       "94"
      ]
     },
     "execution_count": 37,
     "metadata": {},
     "output_type": "execute_result"
    },
    {
     "name": "stdout",
     "output_type": "stream",
     "text": [
      "Flipping Houses vs. Rentals: Which Will Make You Richer TODAY?\n",
      "y9QeMv7bU58\n",
      "27,863 views\n",
      "3 months ago\n"
     ]
    },
    {
     "data": {
      "text/plain": [
       "104"
      ]
     },
     "execution_count": 37,
     "metadata": {},
     "output_type": "execute_result"
    },
    {
     "name": "stdout",
     "output_type": "stream",
     "text": [
      "From $16/Hour to Making Six Figures in Real Estate in ONE Year\n",
      "hgbR_2woc2Y\n",
      "34,422 views\n",
      "3 months ago\n"
     ]
    },
    {
     "data": {
      "text/plain": [
       "104"
      ]
     },
     "execution_count": 37,
     "metadata": {},
     "output_type": "execute_result"
    },
    {
     "name": "stdout",
     "output_type": "stream",
     "text": [
      "3 Real Estate Markets with Double-Digit Home Price Growth\n",
      "rEBciZMHEKk\n",
      "12,872 views\n",
      "3 months ago\n"
     ]
    },
    {
     "data": {
      "text/plain": [
       "99"
      ]
     },
     "execution_count": 37,
     "metadata": {},
     "output_type": "execute_result"
    },
    {
     "name": "stdout",
     "output_type": "stream",
     "text": [
      "5 Steps to Get ANY Home Offer Accepted in The 2023 Housing Market\n",
      "-DSOfGzJ4OQ\n",
      "14,850 views\n",
      "3 months ago\n"
     ]
    },
    {
     "data": {
      "text/plain": [
       "107"
      ]
     },
     "execution_count": 37,
     "metadata": {},
     "output_type": "execute_result"
    },
    {
     "name": "stdout",
     "output_type": "stream",
     "text": [
      "What a Top Loan Officer Knows About Mortgages That You Don?t\n",
      "SFusXXJnN_k\n",
      "11,989 views\n",
      "3 months ago\n"
     ]
    },
    {
     "data": {
      "text/plain": [
       "102"
      ]
     },
     "execution_count": 37,
     "metadata": {},
     "output_type": "execute_result"
    },
    {
     "name": "stdout",
     "output_type": "stream",
     "text": [
      "How to Turn 1 Rental Property into MANY (The Right Way)\n",
      "g-cCq14M-2c\n",
      "53,427 views\n",
      "3 months ago\n"
     ]
    },
    {
     "data": {
      "text/plain": [
       "97"
      ]
     },
     "execution_count": 37,
     "metadata": {},
     "output_type": "execute_result"
    },
    {
     "name": "stdout",
     "output_type": "stream",
     "text": [
      "I Tried House Flipping During a Market Crash (Lost $150K)\n",
      "EpuBwlqznho\n",
      "40,830 views\n",
      "3 months ago\n"
     ]
    },
    {
     "data": {
      "text/plain": [
       "99"
      ]
     },
     "execution_count": 37,
     "metadata": {},
     "output_type": "execute_result"
    },
    {
     "name": "stdout",
     "output_type": "stream",
     "text": [
      "How to Analyze a Rental Market in Under 15 Minutes\n",
      "w3Yzgo5PMOk\n",
      "18,150 views\n",
      "3 months ago\n"
     ]
    },
    {
     "data": {
      "text/plain": [
       "92"
      ]
     },
     "execution_count": 37,
     "metadata": {},
     "output_type": "execute_result"
    },
    {
     "name": "stdout",
     "output_type": "stream",
     "text": [
      "From Family Bankruptcy to Financial Freedom by Doing THIS Every Year\n",
      "h9oGb5zrCRQ\n",
      "13,104 views\n",
      "3 months ago\n"
     ]
    },
    {
     "data": {
      "text/plain": [
       "110"
      ]
     },
     "execution_count": 37,
     "metadata": {},
     "output_type": "execute_result"
    },
    {
     "name": "stdout",
     "output_type": "stream",
     "text": [
      "4 Factors that Could Force a Housing Market Correction This Fall\n",
      "ftgsCGvVMgQ\n",
      "65,651 views\n",
      "3 months ago\n"
     ]
    },
    {
     "data": {
      "text/plain": [
       "106"
      ]
     },
     "execution_count": 37,
     "metadata": {},
     "output_type": "execute_result"
    },
    {
     "name": "stdout",
     "output_type": "stream",
     "text": [
      "How the Rich Pay ZERO Taxes w/Real Estate Cost Segregation Studies\n",
      "c6pwouGBRpM\n",
      "12,546 views\n",
      "3 months ago\n"
     ]
    },
    {
     "data": {
      "text/plain": [
       "108"
      ]
     },
     "execution_count": 37,
     "metadata": {},
     "output_type": "execute_result"
    },
    {
     "name": "stdout",
     "output_type": "stream",
     "text": [
      "Zillow?s ?1% Down? Mortgage Isn?t What You Think?\n",
      "OPW0DGsvBF4\n",
      "37,451 views\n",
      "3 months ago\n"
     ]
    },
    {
     "data": {
      "text/plain": [
       "91"
      ]
     },
     "execution_count": 37,
     "metadata": {},
     "output_type": "execute_result"
    },
    {
     "name": "stdout",
     "output_type": "stream",
     "text": [
      "How to Retire in 10 Years Using Home Equity & Rental Properties\n",
      "Orszg4lG608\n",
      "84,038 views\n",
      "3 months ago\n"
     ]
    },
    {
     "data": {
      "text/plain": [
       "105"
      ]
     },
     "execution_count": 37,
     "metadata": {},
     "output_type": "execute_result"
    },
    {
     "name": "stdout",
     "output_type": "stream",
     "text": [
      "How to Buy Your First Rental by The END of 2023 (Step-by-Step)\n",
      "YqZ1FW93ayY\n",
      "67,746 views\n",
      "3 months ago\n"
     ]
    },
    {
     "data": {
      "text/plain": [
       "104"
      ]
     },
     "execution_count": 37,
     "metadata": {},
     "output_type": "execute_result"
    },
    {
     "name": "stdout",
     "output_type": "stream",
     "text": [
      "Airbnb Business Ban: It?s Time to Switch to Medium-Term Rentals\n",
      "Pql1JaAqWWQ\n",
      "71,883 views\n",
      "3 months ago\n"
     ]
    },
    {
     "data": {
      "text/plain": [
       "105"
      ]
     },
     "execution_count": 37,
     "metadata": {},
     "output_type": "execute_result"
    },
    {
     "name": "stdout",
     "output_type": "stream",
     "text": [
      "Millionaire by Mid-30s Using THIS Multifamily Rental Formula\n",
      "AoNE1dhNEF8\n",
      "20,506 views\n",
      "3 months ago\n"
     ]
    },
    {
     "data": {
      "text/plain": [
       "102"
      ]
     },
     "execution_count": 37,
     "metadata": {},
     "output_type": "execute_result"
    },
    {
     "name": "stdout",
     "output_type": "stream",
     "text": [
      "A Real Estate ?Doom Loop? Could Push Prices to The Floor\n",
      "VpvfU_83qG4\n",
      "83,410 views\n",
      "3 months ago\n"
     ]
    },
    {
     "data": {
      "text/plain": [
       "98"
      ]
     },
     "execution_count": 37,
     "metadata": {},
     "output_type": "execute_result"
    },
    {
     "name": "stdout",
     "output_type": "stream",
     "text": [
      "The Late Starter?s Guide to Real Estate Investing (Start in Your 50s!)\n",
      "wHk7eEyw0SM\n",
      "62,560 views\n",
      "3 months ago\n"
     ]
    },
    {
     "data": {
      "text/plain": [
       "112"
      ]
     },
     "execution_count": 37,
     "metadata": {},
     "output_type": "execute_result"
    },
    {
     "name": "stdout",
     "output_type": "stream",
     "text": [
      "The Government Wants to Give You $26,000 (ERC Credit 2023)\n",
      "_c0CI0KXZgc\n",
      "12,712 views\n",
      "4 months ago\n"
     ]
    },
    {
     "data": {
      "text/plain": [
       "102"
      ]
     },
     "execution_count": 37,
     "metadata": {},
     "output_type": "execute_result"
    },
    {
     "name": "stdout",
     "output_type": "stream",
     "text": [
      "The Worst Insurance Market EVER Could Be Almost Over...\n",
      "rfqu8x8JBJM\n",
      "11,106 views\n",
      "4 months ago\n"
     ]
    },
    {
     "data": {
      "text/plain": [
       "97"
      ]
     },
     "execution_count": 37,
     "metadata": {},
     "output_type": "execute_result"
    },
    {
     "name": "stdout",
     "output_type": "stream",
     "text": [
      "Touring a Brand New $180K ADU (Full ADU Walkthrough)\n",
      "HnWthdQqsFQ\n",
      "16,541 views\n",
      "4 months ago\n"
     ]
    },
    {
     "data": {
      "text/plain": [
       "94"
      ]
     },
     "execution_count": 37,
     "metadata": {},
     "output_type": "execute_result"
    },
    {
     "name": "stdout",
     "output_type": "stream",
     "text": [
      "From Making $800/Month to Millions with These Cash Flow ?Machines?\n",
      "_rOB2L5agjE\n",
      "37,123 views\n",
      "4 months ago\n"
     ]
    },
    {
     "data": {
      "text/plain": [
       "108"
      ]
     },
     "execution_count": 37,
     "metadata": {},
     "output_type": "execute_result"
    },
    {
     "name": "stdout",
     "output_type": "stream",
     "text": [
      "Landlords Flee the Housing Market?Should You?\n",
      "EwidDJvURlQ\n",
      "102,887 views\n",
      "4 months ago\n"
     ]
    },
    {
     "data": {
      "text/plain": [
       "88"
      ]
     },
     "execution_count": 37,
     "metadata": {},
     "output_type": "execute_result"
    },
    {
     "name": "stdout",
     "output_type": "stream",
     "text": [
      "2 Real Estate Markets Where Renters Are Running To\n",
      "bf0ahMuVD-Q\n",
      "13,909 views\n",
      "4 months ago\n"
     ]
    },
    {
     "data": {
      "text/plain": [
       "92"
      ]
     },
     "execution_count": 37,
     "metadata": {},
     "output_type": "execute_result"
    },
    {
     "name": "stdout",
     "output_type": "stream",
     "text": [
      "DSCR Loans: The Greatest Investor Loan of All Time?\n",
      "6korxs8cK-E\n",
      "57,936 views\n",
      "4 months ago\n"
     ]
    },
    {
     "data": {
      "text/plain": [
       "93"
      ]
     },
     "execution_count": 37,
     "metadata": {},
     "output_type": "execute_result"
    },
    {
     "name": "stdout",
     "output_type": "stream",
     "text": [
      "?Luxury? House Hacking and How to Invest in Real Estate with $20K\n",
      "jG9pkHSLIlY\n",
      "33,251 views\n",
      "4 months ago\n"
     ]
    },
    {
     "data": {
      "text/plain": [
       "107"
      ]
     },
     "execution_count": 37,
     "metadata": {},
     "output_type": "execute_result"
    },
    {
     "name": "stdout",
     "output_type": "stream",
     "text": [
      "Home Buyers Made a Huge Mistake in 2022...Don't Repeat It in 2023\n",
      "xZr8IxDRGE4\n",
      "143,150 views\n",
      "4 months ago\n"
     ]
    },
    {
     "data": {
      "text/plain": [
       "108"
      ]
     },
     "execution_count": 37,
     "metadata": {},
     "output_type": "execute_result"
    },
    {
     "name": "stdout",
     "output_type": "stream",
     "text": [
      "$10K/Month Passive Income by Buying The Houses 99% of People Won't\n",
      "Eklq6ximjI0\n",
      "60,758 views\n",
      "4 months ago\n"
     ]
    },
    {
     "data": {
      "text/plain": [
       "108"
      ]
     },
     "execution_count": 37,
     "metadata": {},
     "output_type": "execute_result"
    },
    {
     "name": "stdout",
     "output_type": "stream",
     "text": [
      "3 Underpriced Housing Markets with HUGE Potential\n",
      "tcHlVC1Klho\n",
      "161,996 views\n",
      "4 months ago\n"
     ]
    },
    {
     "data": {
      "text/plain": [
       "92"
      ]
     },
     "execution_count": 37,
     "metadata": {},
     "output_type": "execute_result"
    },
    {
     "name": "stdout",
     "output_type": "stream",
     "text": [
      "BiggerNews: Is This ?The Beginning of The End? for Real Estate?\n",
      "zLCpN2jEcuU\n",
      "63,241 views\n",
      "4 months ago\n"
     ]
    },
    {
     "data": {
      "text/plain": [
       "105"
      ]
     },
     "execution_count": 37,
     "metadata": {},
     "output_type": "execute_result"
    },
    {
     "name": "stdout",
     "output_type": "stream",
     "text": [
      "Don't Get a Mortgage From Your Bank...\n",
      "i17mg51aZEc\n",
      "118,518 views\n",
      "4 months ago\n"
     ]
    },
    {
     "data": {
      "text/plain": [
       "81"
      ]
     },
     "execution_count": 37,
     "metadata": {},
     "output_type": "execute_result"
    },
    {
     "name": "stdout",
     "output_type": "stream",
     "text": [
      "Real Estate ?Red Pills? & A Huge Rental Threat That WILL Affect YOU\n",
      "dfcKNck7_4E\n",
      "23,153 views\n",
      "4 months ago\n"
     ]
    },
    {
     "data": {
      "text/plain": [
       "109"
      ]
     },
     "execution_count": 37,
     "metadata": {},
     "output_type": "execute_result"
    },
    {
     "name": "stdout",
     "output_type": "stream",
     "text": [
      "These 3 Housing Markets Are ?Hotbeds? for Cash Flow\n",
      "Bz39Rv2rB6o\n",
      "19,786 views\n",
      "4 months ago\n"
     ]
    },
    {
     "data": {
      "text/plain": [
       "93"
      ]
     },
     "execution_count": 37,
     "metadata": {},
     "output_type": "execute_result"
    },
    {
     "name": "stdout",
     "output_type": "stream",
     "text": [
      "Insurance and Taxes: A BIG Write-Off You Won't Want to Miss\n",
      "7OIhCuVld7s\n",
      "7,445 views\n",
      "4 months ago\n"
     ]
    },
    {
     "data": {
      "text/plain": [
       "100"
      ]
     },
     "execution_count": 37,
     "metadata": {},
     "output_type": "execute_result"
    },
    {
     "name": "stdout",
     "output_type": "stream",
     "text": [
      "17 Rental Properties in 3 Years Thanks to ?Non-Stop Rejection?\n",
      "9J43urWJ6to\n",
      "36,923 views\n",
      "4 months ago\n"
     ]
    },
    {
     "data": {
      "text/plain": [
       "104"
      ]
     },
     "execution_count": 37,
     "metadata": {},
     "output_type": "execute_result"
    },
    {
     "name": "stdout",
     "output_type": "stream",
     "text": [
      "Sellers Gone Wild: Never Buy a Rental Property Like This...\n",
      "BpexuFtl7rA\n",
      "14,888 views\n",
      "4 months ago\n"
     ]
    },
    {
     "data": {
      "text/plain": [
       "101"
      ]
     },
     "execution_count": 37,
     "metadata": {},
     "output_type": "execute_result"
    },
    {
     "name": "stdout",
     "output_type": "stream",
     "text": [
      "3 Real Estate Investing Tools That'll Help You Make 6 Figures\n",
      "19suVBsz9sE\n",
      "14,128 views\n",
      "4 months ago\n"
     ]
    },
    {
     "data": {
      "text/plain": [
       "103"
      ]
     },
     "execution_count": 37,
     "metadata": {},
     "output_type": "execute_result"
    },
    {
     "name": "stdout",
     "output_type": "stream",
     "text": [
      "The ?Sneaky? Home Buying Trick 99% of People Don't Use\n",
      "VbOSGrJdM_Q\n",
      "120,521 views\n",
      "4 months ago\n"
     ]
    },
    {
     "data": {
      "text/plain": [
       "97"
      ]
     },
     "execution_count": 37,
     "metadata": {},
     "output_type": "execute_result"
    },
    {
     "name": "stdout",
     "output_type": "stream",
     "text": [
      "Tom Brady?s Performance Coach on Why ?Fear? Is Your Greatest Gift\n",
      "aAivg1GFqoA\n",
      "12,207 views\n",
      "4 months ago\n"
     ]
    },
    {
     "data": {
      "text/plain": [
       "107"
      ]
     },
     "execution_count": 37,
     "metadata": {},
     "output_type": "execute_result"
    },
    {
     "name": "stdout",
     "output_type": "stream",
     "text": [
      "Building an ADU From SCRATCH: Finishing Work and Final Touches (Part 3)\n",
      "bbZJGeJOGBs\n",
      "127,753 views\n",
      "4 months ago\n"
     ]
    },
    {
     "data": {
      "text/plain": [
       "114"
      ]
     },
     "execution_count": 37,
     "metadata": {},
     "output_type": "execute_result"
    },
    {
     "name": "stdout",
     "output_type": "stream",
     "text": [
      "How I Bought an $850K House for $365K (Where to Find CHEAP Houses)\n",
      "yMj1UHZ5W60\n",
      "133,540 views\n",
      "4 months ago\n"
     ]
    },
    {
     "data": {
      "text/plain": [
       "109"
      ]
     },
     "execution_count": 37,
     "metadata": {},
     "output_type": "execute_result"
    },
    {
     "name": "stdout",
     "output_type": "stream",
     "text": [
      "How 1 Rental Property Saved Corey Kent?s Career\n",
      "a4tSqSO4-qQ\n",
      "9,585 views\n",
      "4 months ago\n"
     ]
    },
    {
     "data": {
      "text/plain": [
       "88"
      ]
     },
     "execution_count": 37,
     "metadata": {},
     "output_type": "execute_result"
    },
    {
     "name": "stdout",
     "output_type": "stream",
     "text": [
      "Multifamily is Crashing HARD?and It?s About to Get Worse\n",
      "EfqaHPyWjMw\n",
      "37,187 views\n",
      "4 months ago\n"
     ]
    },
    {
     "data": {
      "text/plain": [
       "98"
      ]
     },
     "execution_count": 37,
     "metadata": {},
     "output_type": "execute_result"
    },
    {
     "name": "stdout",
     "output_type": "stream",
     "text": [
      "This Could Change Real Estate Investing Forever\n",
      "PlUhwHoQqrQ\n",
      "20,040 views\n",
      "4 months ago\n"
     ]
    },
    {
     "data": {
      "text/plain": [
       "89"
      ]
     },
     "execution_count": 37,
     "metadata": {},
     "output_type": "execute_result"
    },
    {
     "name": "stdout",
     "output_type": "stream",
     "text": [
      "Your ?Low? Mortgage Rate is a TRAP\n",
      "XQxpIxz17Kg\n",
      "32,525 views\n",
      "4 months ago\n"
     ]
    },
    {
     "data": {
      "text/plain": [
       "76"
      ]
     },
     "execution_count": 37,
     "metadata": {},
     "output_type": "execute_result"
    },
    {
     "name": "stdout",
     "output_type": "stream",
     "text": [
      "The Real Estate ?Trap? That Will Catch Perfect Deals For You\n",
      "abeB4FExQ1M\n",
      "9,530 views\n",
      "4 months ago\n"
     ]
    },
    {
     "data": {
      "text/plain": [
       "101"
      ]
     },
     "execution_count": 37,
     "metadata": {},
     "output_type": "execute_result"
    },
    {
     "name": "stdout",
     "output_type": "stream",
     "text": [
      "The Guide to Financial Freedom Through Small Multifamily Investing\n",
      "cNWgtgJrJ_0\n",
      "30,087 views\n",
      "4 months ago\n"
     ]
    },
    {
     "data": {
      "text/plain": [
       "108"
      ]
     },
     "execution_count": 37,
     "metadata": {},
     "output_type": "execute_result"
    },
    {
     "name": "stdout",
     "output_type": "stream",
     "text": [
      "This Real Estate Portfolio ?Plan? Will Make You Way More Money\n",
      "t1Gi0woXje8\n",
      "112,604 views\n",
      "5 months ago\n"
     ]
    },
    {
     "data": {
      "text/plain": [
       "105"
      ]
     },
     "execution_count": 37,
     "metadata": {},
     "output_type": "execute_result"
    },
    {
     "name": "stdout",
     "output_type": "stream",
     "text": [
      "From Soccer Moms to Multimillion-Dollar Multifamily Deals ($11M!)\n",
      "sEeW9BggR7E\n",
      "9,302 views\n",
      "5 months ago\n"
     ]
    },
    {
     "data": {
      "text/plain": [
       "106"
      ]
     },
     "execution_count": 37,
     "metadata": {},
     "output_type": "execute_result"
    },
    {
     "name": "stdout",
     "output_type": "stream",
     "text": [
      "Zillow?s Home Price Forecast Just FLIPPED the Housing Market\n",
      "4iSJcyHiEP0\n",
      "240,717 views\n",
      "5 months ago\n"
     ]
    },
    {
     "data": {
      "text/plain": [
       "103"
      ]
     },
     "execution_count": 37,
     "metadata": {},
     "output_type": "execute_result"
    },
    {
     "name": "stdout",
     "output_type": "stream",
     "text": [
      "130% Returns and 3% Mortgage Rates in THESE Housing Markets\n",
      "ZMxjA-lWUnw\n",
      "23,246 views\n",
      "5 months ago\n"
     ]
    },
    {
     "data": {
      "text/plain": [
       "101"
      ]
     },
     "execution_count": 37,
     "metadata": {},
     "output_type": "execute_result"
    },
    {
     "name": "stdout",
     "output_type": "stream",
     "text": [
      "Low Interest Rates Are On SALE with These \"Secret\" Mortgages\n",
      "r7JKF7qrlSs\n",
      "34,528 views\n",
      "5 months ago\n"
     ]
    },
    {
     "data": {
      "text/plain": [
       "106"
      ]
     },
     "execution_count": 37,
     "metadata": {},
     "output_type": "execute_result"
    },
    {
     "name": "stdout",
     "output_type": "stream",
     "text": [
      "Give Up On ?Mailbox Money?...Real Estate Investing Has Changed\n",
      "HGREKx6i-pE\n",
      "13,235 views\n",
      "5 months ago\n"
     ]
    },
    {
     "data": {
      "text/plain": [
       "104"
      ]
     },
     "execution_count": 37,
     "metadata": {},
     "output_type": "execute_result"
    },
    {
     "name": "stdout",
     "output_type": "stream",
     "text": [
      "Home Renovation Red Flags That Could Ruin Your House Flip\n",
      "jkMyyv36yKg\n",
      "11,512 views\n",
      "5 months ago\n"
     ]
    },
    {
     "data": {
      "text/plain": [
       "99"
      ]
     },
     "execution_count": 37,
     "metadata": {},
     "output_type": "execute_result"
    },
    {
     "name": "stdout",
     "output_type": "stream",
     "text": [
      "Using His \"Weaknesses\" to Grow a $1.8M Real Estate Portfolio\n",
      "rpSl6bXrqPo\n",
      "12,775 views\n",
      "5 months ago\n"
     ]
    },
    {
     "data": {
      "text/plain": [
       "106"
      ]
     },
     "execution_count": 37,
     "metadata": {},
     "output_type": "execute_result"
    },
    {
     "name": "stdout",
     "output_type": "stream",
     "text": [
      "How to Value ANY Property in ANY Market (Real Estate Comps)\n",
      "u7CmHMRRpPM\n",
      "131,828 views\n",
      "5 months ago\n"
     ]
    },
    {
     "data": {
      "text/plain": [
       "102"
      ]
     },
     "execution_count": 37,
     "metadata": {},
     "output_type": "execute_result"
    },
    {
     "name": "stdout",
     "output_type": "stream",
     "text": [
      "Passive Income is a Scam w/ Codie Sanchez\n",
      "uBAfQGcGxtU\n",
      "40,526 views\n",
      "5 months ago\n"
     ]
    },
    {
     "data": {
      "text/plain": [
       "83"
      ]
     },
     "execution_count": 37,
     "metadata": {},
     "output_type": "execute_result"
    },
    {
     "name": "stdout",
     "output_type": "stream",
     "text": [
      "How to Buy a Multifamily Rental Property with 3.5% Down\n",
      "VyFk2sdw230\n",
      "145,675 views\n",
      "5 months ago\n"
     ]
    },
    {
     "data": {
      "text/plain": [
       "98"
      ]
     },
     "execution_count": 37,
     "metadata": {},
     "output_type": "execute_result"
    },
    {
     "name": "stdout",
     "output_type": "stream",
     "text": [
      "No Money or Time to Invest? You Need a Real Estate Partnership\n",
      "_bYncXzRe4g\n",
      "9,498 views\n",
      "5 months ago\n"
     ]
    },
    {
     "data": {
      "text/plain": [
       "103"
      ]
     },
     "execution_count": 37,
     "metadata": {},
     "output_type": "execute_result"
    },
    {
     "name": "stdout",
     "output_type": "stream",
     "text": [
      "Building an ADU From SCRATCH: Framing, Roofing, and Siding (Part 2)\n",
      "0zjEJdcs3wA\n",
      "7,295 views\n",
      "5 months ago\n"
     ]
    },
    {
     "data": {
      "text/plain": [
       "110"
      ]
     },
     "execution_count": 37,
     "metadata": {},
     "output_type": "execute_result"
    },
    {
     "name": "stdout",
     "output_type": "stream",
     "text": [
      "If a Real Estate Investor Says This To You?Run\n",
      "_xllDjoU914\n",
      "78,966 views\n",
      "5 months ago\n"
     ]
    },
    {
     "data": {
      "text/plain": [
       "88"
      ]
     },
     "execution_count": 37,
     "metadata": {},
     "output_type": "execute_result"
    },
    {
     "name": "stdout",
     "output_type": "stream",
     "text": [
      "Millionaire Advice That'll Make You 7 Figures w/Codie Sanchez & Hormozi\n",
      "xc6OVW2z6es\n",
      "24,209 views\n",
      "5 months ago\n"
     ]
    },
    {
     "data": {
      "text/plain": [
       "113"
      ]
     },
     "execution_count": 37,
     "metadata": {},
     "output_type": "execute_result"
    },
    {
     "name": "stdout",
     "output_type": "stream",
     "text": [
      "Huge Red Flags When Buying a House (Rentals, Rehabs, & Flips)\n",
      "51x2oZzPRhM\n",
      "19,057 views\n",
      "5 months ago\n"
     ]
    },
    {
     "data": {
      "text/plain": [
       "105"
      ]
     },
     "execution_count": 37,
     "metadata": {},
     "output_type": "execute_result"
    },
    {
     "name": "stdout",
     "output_type": "stream",
     "text": [
      "130 Multifamily Units With This Simple Seller Financing Strategy\n",
      "ifOTmf12uGw\n",
      "37,367 views\n",
      "5 months ago\n"
     ]
    },
    {
     "data": {
      "text/plain": [
       "106"
      ]
     },
     "execution_count": 37,
     "metadata": {},
     "output_type": "execute_result"
    },
    {
     "name": "stdout",
     "output_type": "stream",
     "text": [
      "Why the Mortgage Rate Pause is BAD for Buyers\n",
      "YBSQQcqSrWw\n",
      "34,527 views\n",
      "5 months ago\n"
     ]
    },
    {
     "data": {
      "text/plain": [
       "87"
      ]
     },
     "execution_count": 37,
     "metadata": {},
     "output_type": "execute_result"
    },
    {
     "name": "stdout",
     "output_type": "stream",
     "text": [
      "Leila and Alex Hormozi?s $100M Business Blueprint\n",
      "iGAT6i1qE8g\n",
      "54,579 views\n",
      "5 months ago\n"
     ]
    },
    {
     "data": {
      "text/plain": [
       "91"
      ]
     },
     "execution_count": 37,
     "metadata": {},
     "output_type": "execute_result"
    },
    {
     "name": "stdout",
     "output_type": "stream",
     "text": [
      "Real Estate House Party_Dropping Out of College to Make $8K/MONTH with ?Rental Arbitrage?\n",
      "9T2znYDz9m8\n",
      "9,820 views\n",
      "5 months ago\n"
     ]
    },
    {
     "data": {
      "text/plain": [
       "130"
      ]
     },
     "execution_count": 37,
     "metadata": {},
     "output_type": "execute_result"
    },
    {
     "name": "stdout",
     "output_type": "stream",
     "text": [
      "DON'T Get This Wrong: Landlord Insurance vs. Homeowners Insurance\n",
      "bfsA8QKK2ZU\n",
      "163,523 views\n",
      "5 months ago\n"
     ]
    },
    {
     "data": {
      "text/plain": [
       "108"
      ]
     },
     "execution_count": 37,
     "metadata": {},
     "output_type": "execute_result"
    },
    {
     "name": "stdout",
     "output_type": "stream",
     "text": [
      "7 Rental Properties in 3 Years by Finding the ?Golden Triangle?\n",
      "VOM-e_lTiXI\n",
      "28,334 views\n",
      "5 months ago\n"
     ]
    },
    {
     "data": {
      "text/plain": [
       "105"
      ]
     },
     "execution_count": 37,
     "metadata": {},
     "output_type": "execute_result"
    },
    {
     "name": "stdout",
     "output_type": "stream",
     "text": [
      "2X Your Rental Property Income with \"Medium-Term\" Pricing (Webinar)\n",
      "Ci2HAl2asXM\n",
      "15,919 views\n",
      "5 months ago\n"
     ]
    },
    {
     "data": {
      "text/plain": [
       "113"
      ]
     },
     "execution_count": 37,
     "metadata": {},
     "output_type": "execute_result"
    },
    {
     "name": "stdout",
     "output_type": "stream",
     "text": [
      "2024 Housing Market Predictions (Prices, Mortgage Rates, & More!)\n",
      "iGTjD9HbHGw\n",
      "48,260 views\n",
      "5 months ago\n"
     ]
    },
    {
     "data": {
      "text/plain": [
       "109"
      ]
     },
     "execution_count": 37,
     "metadata": {},
     "output_type": "execute_result"
    },
    {
     "name": "stdout",
     "output_type": "stream",
     "text": [
      "STOP Waiting to Buy Real Estate (It?s Costing You)\n",
      "aiorLvj4tXA\n",
      "20,195 views\n",
      "5 months ago\n"
     ]
    },
    {
     "data": {
      "text/plain": [
       "92"
      ]
     },
     "execution_count": 37,
     "metadata": {},
     "output_type": "execute_result"
    },
    {
     "name": "stdout",
     "output_type": "stream",
     "text": [
      "Early Retirement and $10K/Month While Working 2 Hours Per Week!\n",
      "uVxQ9UQoLlQ\n",
      "34,053 views\n",
      "5 months ago\n"
     ]
    },
    {
     "data": {
      "text/plain": [
       "105"
      ]
     },
     "execution_count": 37,
     "metadata": {},
     "output_type": "execute_result"
    },
    {
     "name": "stdout",
     "output_type": "stream",
     "text": [
      "Building an ADU From Scratch: EVERYTHING You Need to Start\n",
      "CcyCKKeLWCQ\n",
      "9,722 views\n",
      "5 months ago\n"
     ]
    },
    {
     "data": {
      "text/plain": [
       "99"
      ]
     },
     "execution_count": 37,
     "metadata": {},
     "output_type": "execute_result"
    },
    {
     "name": "stdout",
     "output_type": "stream",
     "text": [
      "Short-Term Rental Prices Have Gone INSANE\n",
      "dhOgXqEkjZI\n",
      "124,699 views\n",
      "5 months ago\n"
     ]
    },
    {
     "data": {
      "text/plain": [
       "84"
      ]
     },
     "execution_count": 37,
     "metadata": {},
     "output_type": "execute_result"
    },
    {
     "name": "stdout",
     "output_type": "stream",
     "text": [
      "Buying Homes with $100 Down & Creative Finance Secrets Most Don't Know\n",
      "Hzf1aL3U_AE\n",
      "69,924 views\n",
      "5 months ago\n"
     ]
    },
    {
     "data": {
      "text/plain": [
       "112"
      ]
     },
     "execution_count": 37,
     "metadata": {},
     "output_type": "execute_result"
    },
    {
     "name": "stdout",
     "output_type": "stream",
     "text": [
      "How to Retire Early with 10 Rental Properties (or Less)\n",
      "FUQaEaoWlSo\n",
      "16,444 views\n",
      "5 months ago\n"
     ]
    },
    {
     "data": {
      "text/plain": [
       "97"
      ]
     },
     "execution_count": 37,
     "metadata": {},
     "output_type": "execute_result"
    },
    {
     "name": "stdout",
     "output_type": "stream",
     "text": [
      "How to Analyze a Rental Property, BRRRR, or Airbnb in 2023\n",
      "BUN5xrOqFWU\n",
      "23,613 views\n",
      "6 months ago\n"
     ]
    },
    {
     "data": {
      "text/plain": [
       "102"
      ]
     },
     "execution_count": 37,
     "metadata": {},
     "output_type": "execute_result"
    },
    {
     "name": "stdout",
     "output_type": "stream",
     "text": [
      "BRRRR Method Myths That Are Making You BROKE\n",
      "sJwIQW4rbUM\n",
      "17,266 views\n",
      "6 months ago\n"
     ]
    },
    {
     "data": {
      "text/plain": [
       "86"
      ]
     },
     "execution_count": 37,
     "metadata": {},
     "output_type": "execute_result"
    },
    {
     "name": "stdout",
     "output_type": "stream",
     "text": [
      "How to Wholesale Real Estate in 2023 w/Jamil Damji! (Bonus Audiobook Chapter)\n",
      "UBNlTlObF1w\n",
      "5,131 views\n",
      "6 months ago\n"
     ]
    },
    {
     "data": {
      "text/plain": [
       "118"
      ]
     },
     "execution_count": 37,
     "metadata": {},
     "output_type": "execute_result"
    },
    {
     "name": "stdout",
     "output_type": "stream",
     "text": [
      "How to Start a Business That Will TRULY Set You Free\n",
      "yFQ-yCBFZqQ\n",
      "20,964 views\n",
      "6 months ago\n"
     ]
    },
    {
     "data": {
      "text/plain": [
       "94"
      ]
     },
     "execution_count": 37,
     "metadata": {},
     "output_type": "execute_result"
    },
    {
     "name": "stdout",
     "output_type": "stream",
     "text": [
      "5 Landlord Insurance Tips to Help You AVOID Disaster\n",
      "p5rUFfovdsw\n",
      "137,254 views\n",
      "6 months ago\n"
     ]
    },
    {
     "data": {
      "text/plain": [
       "95"
      ]
     },
     "execution_count": 37,
     "metadata": {},
     "output_type": "execute_result"
    },
    {
     "name": "stdout",
     "output_type": "stream",
     "text": [
      "40 Rental Units and ?Desperate? Deals Anyone Can Find in 2023\n",
      "fnfCgeIb4uI\n",
      "18,388 views\n",
      "6 months ago\n"
     ]
    },
    {
     "data": {
      "text/plain": [
       "103"
      ]
     },
     "execution_count": 37,
     "metadata": {},
     "output_type": "execute_result"
    },
    {
     "name": "stdout",
     "output_type": "stream",
     "text": [
      "Calculating Numbers on a Rental Property (In 20 Mins or Less!)\n",
      "dLOsvVaxwHo\n",
      "19,550 views\n",
      "6 months ago\n"
     ]
    },
    {
     "data": {
      "text/plain": [
       "104"
      ]
     },
     "execution_count": 37,
     "metadata": {},
     "output_type": "execute_result"
    },
    {
     "name": "stdout",
     "output_type": "stream",
     "text": [
      "0% Interest Rates and Instant Cash Flow Real Estate Deals in 2023\n",
      "9_QUx3BUAHk\n",
      "28,589 views\n",
      "6 months ago\n"
     ]
    },
    {
     "data": {
      "text/plain": [
       "107"
      ]
     },
     "execution_count": 37,
     "metadata": {},
     "output_type": "execute_result"
    },
    {
     "name": "stdout",
     "output_type": "stream",
     "text": [
      "Why You'll Regret Paying Off Your House Early\n",
      "EM9CQ97nXgo\n",
      "25,420 views\n",
      "6 months ago\n"
     ]
    },
    {
     "data": {
      "text/plain": [
       "87"
      ]
     },
     "execution_count": 37,
     "metadata": {},
     "output_type": "execute_result"
    },
    {
     "name": "stdout",
     "output_type": "stream",
     "text": [
      "Overlooked Rental Markets & Where to Find Real Estate Deals in 2023\n",
      "L-6e3AlQhL8\n",
      "38,453 views\n",
      "6 months ago\n"
     ]
    },
    {
     "data": {
      "text/plain": [
       "109"
      ]
     },
     "execution_count": 37,
     "metadata": {},
     "output_type": "execute_result"
    },
    {
     "name": "stdout",
     "output_type": "stream",
     "text": [
      "How to Set Up Your Real Estate Business Structure (Step-by-Step)\n",
      "YmTzIx002Ps\n",
      "23,774 views\n",
      "6 months ago\n"
     ]
    },
    {
     "data": {
      "text/plain": [
       "106"
      ]
     },
     "execution_count": 37,
     "metadata": {},
     "output_type": "execute_result"
    },
    {
     "name": "stdout",
     "output_type": "stream",
     "text": [
      "Low Income to $70K/Month with ?Infinite Return? Rental Properties\n",
      "g6Hgdizw7B8\n",
      "47,131 views\n",
      "6 months ago\n"
     ]
    },
    {
     "data": {
      "text/plain": [
       "107"
      ]
     },
     "execution_count": 37,
     "metadata": {},
     "output_type": "execute_result"
    },
    {
     "name": "stdout",
     "output_type": "stream",
     "text": [
      "Foreclosures Up 41% (More On the Way?)\n",
      "Ge8ocGEJWVI\n",
      "150,692 views\n",
      "6 months ago\n"
     ]
    },
    {
     "data": {
      "text/plain": [
       "81"
      ]
     },
     "execution_count": 37,
     "metadata": {},
     "output_type": "execute_result"
    },
    {
     "name": "stdout",
     "output_type": "stream",
     "text": [
      "5 Tips For Financial Independence That The 99% Ignore w/Brandon Turner\n",
      "3C4j6dSn5u0\n",
      "66,742 views\n",
      "6 months ago\n"
     ]
    },
    {
     "data": {
      "text/plain": [
       "112"
      ]
     },
     "execution_count": 37,
     "metadata": {},
     "output_type": "execute_result"
    },
    {
     "name": "stdout",
     "output_type": "stream",
     "text": [
      "Your Secret Weapon During High Interest Rates (ARM Loans)\n",
      "gwyr5tWGHrU\n",
      "12,504 views\n",
      "6 months ago\n"
     ]
    },
    {
     "data": {
      "text/plain": [
       "99"
      ]
     },
     "execution_count": 37,
     "metadata": {},
     "output_type": "execute_result"
    },
    {
     "name": "stdout",
     "output_type": "stream",
     "text": [
      "Brandon Turner on Housing Crash Prophecies & REAL Financial Freedom\n",
      "-ti4Mys9foA\n",
      "67,243 views\n",
      "6 months ago\n"
     ]
    },
    {
     "data": {
      "text/plain": [
       "109"
      ]
     },
     "execution_count": 37,
     "metadata": {},
     "output_type": "execute_result"
    },
    {
     "name": "stdout",
     "output_type": "stream",
     "text": [
      "5 Ways to INSTANTLY Lower Landlord Insurance Premiums\n",
      "q8wE6hxzR9E\n",
      "127,333 views\n",
      "6 months ago\n"
     ]
    },
    {
     "data": {
      "text/plain": [
       "96"
      ]
     },
     "execution_count": 37,
     "metadata": {},
     "output_type": "execute_result"
    },
    {
     "name": "stdout",
     "output_type": "stream",
     "text": [
      "Making $1M+/Year After Giving Up a ?Dream? Career for Real Estate\n",
      "q98AuKey3hg\n",
      "17,799 views\n",
      "6 months ago\n"
     ]
    },
    {
     "data": {
      "text/plain": [
       "107"
      ]
     },
     "execution_count": 37,
     "metadata": {},
     "output_type": "execute_result"
    },
    {
     "name": "stdout",
     "output_type": "stream",
     "text": [
      "Landlords Get Desperate as Tenants REFUSE High Rent Prices\n",
      "8Q-t1H6Qrl0\n",
      "66,839 views\n",
      "6 months ago\n"
     ]
    },
    {
     "data": {
      "text/plain": [
       "100"
      ]
     },
     "execution_count": 37,
     "metadata": {},
     "output_type": "execute_result"
    },
    {
     "name": "stdout",
     "output_type": "stream",
     "text": [
      "First Time Home Buyer Hacks: Down Payments, Home Loans, & Insurance\n",
      "kJWbAiYa1ZI\n",
      "12,659 views\n",
      "6 months ago\n"
     ]
    },
    {
     "data": {
      "text/plain": [
       "111"
      ]
     },
     "execution_count": 37,
     "metadata": {},
     "output_type": "execute_result"
    },
    {
     "name": "stdout",
     "output_type": "stream",
     "text": [
      "How to Build a 100% Passive Rental Property Portfolio in 5 Steps\n",
      "Ewue92KcSeA\n",
      "18,827 views\n",
      "6 months ago\n"
     ]
    },
    {
     "data": {
      "text/plain": [
       "106"
      ]
     },
     "execution_count": 37,
     "metadata": {},
     "output_type": "execute_result"
    },
    {
     "name": "stdout",
     "output_type": "stream",
     "text": [
      "First Time Home Buyer Hacks: Home Inspections & What to Look For\n",
      "MPUZD1zx-1U\n",
      "9,206 views\n",
      "6 months ago\n"
     ]
    },
    {
     "data": {
      "text/plain": [
       "105"
      ]
     },
     "execution_count": 37,
     "metadata": {},
     "output_type": "execute_result"
    },
    {
     "name": "stdout",
     "output_type": "stream",
     "text": [
      "House Hunting Hacks for the First Time Home Buyer\n",
      "IPwAStryHk8\n",
      "15,606 views\n",
      "6 months ago\n"
     ]
    },
    {
     "data": {
      "text/plain": [
       "91"
      ]
     },
     "execution_count": 37,
     "metadata": {},
     "output_type": "execute_result"
    },
    {
     "name": "stdout",
     "output_type": "stream",
     "text": [
      "6 Solid Multifamily Real Estate Markets (and 3 To AVOID)\n",
      "fdt2yJRQCC8\n",
      "181,412 views\n",
      "6 months ago\n"
     ]
    },
    {
     "data": {
      "text/plain": [
       "99"
      ]
     },
     "execution_count": 37,
     "metadata": {},
     "output_type": "execute_result"
    },
    {
     "name": "stdout",
     "output_type": "stream",
     "text": [
      "Pace Morby Gets Annihilated Guessing These Property Prices\n",
      "891TrCPKV0o\n",
      "60,495 views\n",
      "6 months ago\n"
     ]
    },
    {
     "data": {
      "text/plain": [
       "100"
      ]
     },
     "execution_count": 37,
     "metadata": {},
     "output_type": "execute_result"
    },
    {
     "name": "stdout",
     "output_type": "stream",
     "text": [
      "The Biggest Myth About the 2023 Real Estate Market (Get in NOW)\n",
      "mgI8aZDCt5I\n",
      "43,021 views\n",
      "6 months ago\n"
     ]
    },
    {
     "data": {
      "text/plain": [
       "105"
      ]
     },
     "execution_count": 37,
     "metadata": {},
     "output_type": "execute_result"
    },
    {
     "name": "stdout",
     "output_type": "stream",
     "text": [
      "This Could Be a HUGE Opportunity for Small Investors\n",
      "4oWrCFL3XT0\n",
      "128,157 views\n",
      "6 months ago\n"
     ]
    },
    {
     "data": {
      "text/plain": [
       "95"
      ]
     },
     "execution_count": 37,
     "metadata": {},
     "output_type": "execute_result"
    },
    {
     "name": "stdout",
     "output_type": "stream",
     "text": [
      "4 Ways to Find (and Buy) Undervalued Rental Properties\n",
      "HaocGdKSTqU\n",
      "67,704 views\n",
      "6 months ago\n"
     ]
    },
    {
     "data": {
      "text/plain": [
       "96"
      ]
     },
     "execution_count": 37,
     "metadata": {},
     "output_type": "execute_result"
    },
    {
     "name": "stdout",
     "output_type": "stream",
     "text": [
      "The ?Lowest Rate? Rip-Off and Mortgage Mistakes You MUST Avoid\n",
      "Kq7SR1prgyc\n",
      "9,867 views\n",
      "6 months ago\n"
     ]
    },
    {
     "data": {
      "text/plain": [
       "103"
      ]
     },
     "execution_count": 37,
     "metadata": {},
     "output_type": "execute_result"
    },
    {
     "name": "stdout",
     "output_type": "stream",
     "text": [
      "How to Make 400% More Cash Flow with Medium-Term Rentals\n",
      "YWJCasCwutI\n",
      "51,474 views\n",
      "7 months ago\n"
     ]
    },
    {
     "data": {
      "text/plain": [
       "98"
      ]
     },
     "execution_count": 37,
     "metadata": {},
     "output_type": "execute_result"
    },
    {
     "name": "stdout",
     "output_type": "stream",
     "text": [
      "The Perfect Floor Plan Design (From an EXPERT House Flipper)\n",
      "mkRFBTzs8xU\n",
      "24,844 views\n",
      "7 months ago\n"
     ]
    },
    {
     "data": {
      "text/plain": [
       "102"
      ]
     },
     "execution_count": 37,
     "metadata": {},
     "output_type": "execute_result"
    },
    {
     "name": "stdout",
     "output_type": "stream",
     "text": [
      "Debunking Insurance Myths That Could Cost You Thousands\n",
      "2oLJDp1ArYc\n",
      "131,176 views\n",
      "7 months ago\n"
     ]
    },
    {
     "data": {
      "text/plain": [
       "98"
      ]
     },
     "execution_count": 37,
     "metadata": {},
     "output_type": "execute_result"
    },
    {
     "name": "stdout",
     "output_type": "stream",
     "text": [
      "From Pizza Delivery Driver to Financial Freedom with 27 Rentals\n",
      "Zu4TSjQ-8wM\n",
      "30,454 views\n",
      "7 months ago\n"
     ]
    },
    {
     "data": {
      "text/plain": [
       "105"
      ]
     },
     "execution_count": 37,
     "metadata": {},
     "output_type": "execute_result"
    },
    {
     "name": "stdout",
     "output_type": "stream",
     "text": [
      "The ?Perfect Storm? is About to Hit This Real Estate Sector (Get Out NOW)\n",
      "DOoLDYaUO_o\n",
      "24,878 views\n",
      "7 months ago\n"
     ]
    },
    {
     "data": {
      "text/plain": [
       "115"
      ]
     },
     "execution_count": 37,
     "metadata": {},
     "output_type": "execute_result"
    },
    {
     "name": "stdout",
     "output_type": "stream",
     "text": [
      "How to Build a Rental Portfolio FAST Without Tons of Time or Money\n",
      "6A0CIYKLdQ0\n",
      "94,870 views\n",
      "7 months ago\n"
     ]
    },
    {
     "data": {
      "text/plain": [
       "108"
      ]
     },
     "execution_count": 37,
     "metadata": {},
     "output_type": "execute_result"
    },
    {
     "name": "stdout",
     "output_type": "stream",
     "text": [
      "How to Buy a Rental Property with 5% Down (Sneaky Tactic)\n",
      "1c9jimlaeBo\n",
      "156,731 views\n",
      "7 months ago\n"
     ]
    },
    {
     "data": {
      "text/plain": [
       "100"
      ]
     },
     "execution_count": 37,
     "metadata": {},
     "output_type": "execute_result"
    },
    {
     "name": "stdout",
     "output_type": "stream",
     "text": [
      "Late Start? Here?s How You Can Still Retire With Real Estate\n",
      "Wp5m4sNZW_w\n",
      "62,868 views\n",
      "7 months ago\n"
     ]
    },
    {
     "data": {
      "text/plain": [
       "102"
      ]
     },
     "execution_count": 37,
     "metadata": {},
     "output_type": "execute_result"
    },
    {
     "name": "stdout",
     "output_type": "stream",
     "text": [
      "3 Rental Property Markets That Could EXPLODE in Summer\n",
      "8GYcQpjA50U\n",
      "14,572 views\n",
      "7 months ago\n"
     ]
    },
    {
     "data": {
      "text/plain": [
       "96"
      ]
     },
     "execution_count": 37,
     "metadata": {},
     "output_type": "execute_result"
    },
    {
     "name": "stdout",
     "output_type": "stream",
     "text": [
      "I Went From 1 Condo to 9 Rental Properties After Doing THIS\n",
      "z34KCLpF1D8\n",
      "38,813 views\n",
      "7 months ago\n"
     ]
    },
    {
     "data": {
      "text/plain": [
       "101"
      ]
     },
     "execution_count": 37,
     "metadata": {},
     "output_type": "execute_result"
    },
    {
     "name": "stdout",
     "output_type": "stream",
     "text": [
      "Turning a $100K High School into $42K/Month Cash Flow\n",
      "VKl__CrrftA\n",
      "18,893 views\n",
      "7 months ago\n"
     ]
    },
    {
     "data": {
      "text/plain": [
       "95"
      ]
     },
     "execution_count": 37,
     "metadata": {},
     "output_type": "execute_result"
    },
    {
     "name": "stdout",
     "output_type": "stream",
     "text": [
      "Homes Under $200K!? 5 Strong Real Estate Markets w/ LOW Home Prices\n",
      "sIFwYTvklj4\n",
      "80,885 views\n",
      "7 months ago\n"
     ]
    },
    {
     "data": {
      "text/plain": [
       "109"
      ]
     },
     "execution_count": 37,
     "metadata": {},
     "output_type": "execute_result"
    },
    {
     "name": "stdout",
     "output_type": "stream",
     "text": [
      "BiggerNews: Rent Prices Are Now Dangerously Unaffordable\n",
      "8sCeAtZew1Q\n",
      "33,413 views\n",
      "7 months ago\n"
     ]
    },
    {
     "data": {
      "text/plain": [
       "98"
      ]
     },
     "execution_count": 37,
     "metadata": {},
     "output_type": "execute_result"
    },
    {
     "name": "stdout",
     "output_type": "stream",
     "text": [
      "The Underrated Investing Strategy 95% of People DON?T Know About\n",
      "GczBMQod8Vs\n",
      "46,591 views\n",
      "7 months ago\n"
     ]
    },
    {
     "data": {
      "text/plain": [
       "106"
      ]
     },
     "execution_count": 37,
     "metadata": {},
     "output_type": "execute_result"
    },
    {
     "name": "stdout",
     "output_type": "stream",
     "text": [
      "Those Who Don?t Buy Real Estate Will Regret It?\n",
      "JJb1tweItjQ\n",
      "115,465 views\n",
      "7 months ago\n"
     ]
    },
    {
     "data": {
      "text/plain": [
       "90"
      ]
     },
     "execution_count": 37,
     "metadata": {},
     "output_type": "execute_result"
    },
    {
     "name": "stdout",
     "output_type": "stream",
     "text": [
      "4 Simple Ways to Boost Your Rental Property?s ROI\n",
      "GiGpdlo3xgQ\n",
      "90,675 views\n",
      "7 months ago\n"
     ]
    },
    {
     "data": {
      "text/plain": [
       "91"
      ]
     },
     "execution_count": 37,
     "metadata": {},
     "output_type": "execute_result"
    },
    {
     "name": "stdout",
     "output_type": "stream",
     "text": [
      "Replacing Your W2 with $70K/Year Cash Flow After a BIG Wake-Up Call\n",
      "VBHjFqecn2Q\n",
      "26,042 views\n",
      "7 months ago\n"
     ]
    },
    {
     "data": {
      "text/plain": [
       "109"
      ]
     },
     "execution_count": 37,
     "metadata": {},
     "output_type": "execute_result"
    },
    {
     "name": "stdout",
     "output_type": "stream",
     "text": [
      "How to Analyze a Rental Property (2023 Market Indicators to WATCH)\n",
      "IYBNoh6fNko\n",
      "42,653 views\n",
      "7 months ago\n"
     ]
    },
    {
     "data": {
      "text/plain": [
       "108"
      ]
     },
     "execution_count": 37,
     "metadata": {},
     "output_type": "execute_result"
    },
    {
     "name": "stdout",
     "output_type": "stream",
     "text": [
      "The Ugly Truth About Real Estate Investing in 2023\n",
      "Tklm0NokMV8\n",
      "164,622 views\n",
      "7 months ago\n"
     ]
    },
    {
     "data": {
      "text/plain": [
       "93"
      ]
     },
     "execution_count": 37,
     "metadata": {},
     "output_type": "execute_result"
    },
    {
     "name": "stdout",
     "output_type": "stream",
     "text": [
      "Credit Repair Secrets That Could Save You $10K+ On Your Mortgage\n",
      "zoHTENmE5V4\n",
      "75,245 views\n",
      "7 months ago\n"
     ]
    },
    {
     "data": {
      "text/plain": [
       "106"
      ]
     },
     "execution_count": 37,
     "metadata": {},
     "output_type": "execute_result"
    },
    {
     "name": "stdout",
     "output_type": "stream",
     "text": [
      "The Truth About ?Affordable Housing?\n",
      "qlouIMrrksY\n",
      "22,972 views\n",
      "7 months ago\n"
     ]
    },
    {
     "data": {
      "text/plain": [
       "78"
      ]
     },
     "execution_count": 37,
     "metadata": {},
     "output_type": "execute_result"
    },
    {
     "name": "stdout",
     "output_type": "stream",
     "text": [
      "The Florida Housing Market is Changing FAST\n",
      "lTEzE_1Lxn0\n",
      "98,808 views\n",
      "7 months ago\n"
     ]
    },
    {
     "data": {
      "text/plain": [
       "85"
      ]
     },
     "execution_count": 37,
     "metadata": {},
     "output_type": "execute_result"
    },
    {
     "name": "stdout",
     "output_type": "stream",
     "text": [
      "These Short-Term Rentals Are WAY Cheaper Than You Think\n",
      "DNUdkwwu1b4\n",
      "43,970 views\n",
      "7 months ago\n"
     ]
    },
    {
     "data": {
      "text/plain": [
       "97"
      ]
     },
     "execution_count": 37,
     "metadata": {},
     "output_type": "execute_result"
    },
    {
     "name": "stdout",
     "output_type": "stream",
     "text": [
      "How to Invest in Real Estate Using Your 401(k) or IRA (Tax-Free!)\n",
      "ewGG5nEfnv8\n",
      "39,826 views\n",
      "7 months ago\n"
     ]
    },
    {
     "data": {
      "text/plain": [
       "107"
      ]
     },
     "execution_count": 37,
     "metadata": {},
     "output_type": "execute_result"
    },
    {
     "name": "stdout",
     "output_type": "stream",
     "text": [
      "Summer 2023 Housing Market Forecast | This Could Change EVERYTHING\n",
      "qMRUtbW6rbI\n",
      "69,429 views\n",
      "7 months ago\n"
     ]
    },
    {
     "data": {
      "text/plain": [
       "108"
      ]
     },
     "execution_count": 37,
     "metadata": {},
     "output_type": "execute_result"
    },
    {
     "name": "stdout",
     "output_type": "stream",
     "text": [
      "How to ?Infinitely Invest? with the BRRRR Method (Walkthrough)\n",
      "5VuTr-c92Ow\n",
      "102,323 views\n",
      "7 months ago\n"
     ]
    },
    {
     "data": {
      "text/plain": [
       "105"
      ]
     },
     "execution_count": 37,
     "metadata": {},
     "output_type": "execute_result"
    },
    {
     "name": "stdout",
     "output_type": "stream",
     "text": [
      "This State is GIVING AWAY Down Payment Money\n",
      "lXAcJFvvaWY\n",
      "77,725 views\n",
      "7 months ago\n"
     ]
    },
    {
     "data": {
      "text/plain": [
       "86"
      ]
     },
     "execution_count": 37,
     "metadata": {},
     "output_type": "execute_result"
    },
    {
     "name": "stdout",
     "output_type": "stream",
     "text": [
      "The Truth About Full-Time Real Estate Investing\n",
      "IMNhIJJ6j2g\n",
      "38,085 views\n",
      "7 months ago\n"
     ]
    },
    {
     "data": {
      "text/plain": [
       "89"
      ]
     },
     "execution_count": 37,
     "metadata": {},
     "output_type": "execute_result"
    },
    {
     "name": "stdout",
     "output_type": "stream",
     "text": [
      "The Passive Income Formula That Makes Me Six-Figure Cash Flow\n",
      "Qxu_UytM8LU\n",
      "30,839 views\n",
      "7 months ago\n"
     ]
    },
    {
     "data": {
      "text/plain": [
       "103"
      ]
     },
     "execution_count": 37,
     "metadata": {},
     "output_type": "execute_result"
    },
    {
     "name": "stdout",
     "output_type": "stream",
     "text": [
      "How to Use Debt to Get Rich in 2023 (What the Wealthy Do)\n",
      "Eq6UU6eNeAk\n",
      "80,973 views\n",
      "7 months ago\n"
     ]
    },
    {
     "data": {
      "text/plain": [
       "99"
      ]
     },
     "execution_count": 37,
     "metadata": {},
     "output_type": "execute_result"
    },
    {
     "name": "stdout",
     "output_type": "stream",
     "text": [
      "2023 Multifamily Market Update\n",
      "JZ-mpOX2NKc\n",
      "13,406 views\n",
      "8 months ago\n"
     ]
    },
    {
     "data": {
      "text/plain": [
       "72"
      ]
     },
     "execution_count": 37,
     "metadata": {},
     "output_type": "execute_result"
    },
    {
     "name": "stdout",
     "output_type": "stream",
     "text": [
      "May 2023 Housing Market Update\n",
      "t6gwd79e8xM\n",
      "29,249 views\n",
      "8 months ago\n"
     ]
    },
    {
     "data": {
      "text/plain": [
       "72"
      ]
     },
     "execution_count": 37,
     "metadata": {},
     "output_type": "execute_result"
    },
    {
     "name": "stdout",
     "output_type": "stream",
     "text": [
      "These Two Real Estate Markets Could See Explosive Growth Soon\n",
      "1DgQj6KG1ZA\n",
      "32,791 views\n",
      "8 months ago\n"
     ]
    },
    {
     "data": {
      "text/plain": [
       "103"
      ]
     },
     "execution_count": 37,
     "metadata": {},
     "output_type": "execute_result"
    },
    {
     "name": "stdout",
     "output_type": "stream",
     "text": [
      "Banks to FORCE Foreclosures on Borrowers Violating THIS One Rule\n",
      "SQOXkw8DOrc\n",
      "24,560 views\n",
      "8 months ago\n"
     ]
    },
    {
     "data": {
      "text/plain": [
       "106"
      ]
     },
     "execution_count": 37,
     "metadata": {},
     "output_type": "execute_result"
    },
    {
     "name": "stdout",
     "output_type": "stream",
     "text": [
      "The ?Low Risk? Way to Start Real Estate Investing?\n",
      "KMwvPv6stsU\n",
      "46,956 views\n",
      "8 months ago\n"
     ]
    },
    {
     "data": {
      "text/plain": [
       "92"
      ]
     },
     "execution_count": 37,
     "metadata": {},
     "output_type": "execute_result"
    },
    {
     "name": "stdout",
     "output_type": "stream",
     "text": [
      "$65K ADU Garage Conversion Tour + BIG Cost-Saving Tips\n",
      "UNmIsYDyQfo\n",
      "20,254 views\n",
      "8 months ago\n"
     ]
    },
    {
     "data": {
      "text/plain": [
       "96"
      ]
     },
     "execution_count": 37,
     "metadata": {},
     "output_type": "execute_result"
    },
    {
     "name": "stdout",
     "output_type": "stream",
     "text": [
      "How to Build a $200K/Year Passive Income Stream in JUST 3 Years\n",
      "RFbULmw0Y40\n",
      "219,257 views\n",
      "8 months ago\n"
     ]
    },
    {
     "data": {
      "text/plain": [
       "106"
      ]
     },
     "execution_count": 37,
     "metadata": {},
     "output_type": "execute_result"
    },
    {
     "name": "stdout",
     "output_type": "stream",
     "text": [
      "The Real Estate vs. Stock Debate is OVER (It?s Not Even Close)\n",
      "dtLL7kKk4kc\n",
      "24,344 views\n",
      "8 months ago\n"
     ]
    },
    {
     "data": {
      "text/plain": [
       "104"
      ]
     },
     "execution_count": 37,
     "metadata": {},
     "output_type": "execute_result"
    },
    {
     "name": "stdout",
     "output_type": "stream",
     "text": [
      "Barbara Corcoran?s Investing ?Formula? Will Make You a FORTUNE\n",
      "P_v-O0t2NP4\n",
      "100,013 views\n",
      "8 months ago\n"
     ]
    },
    {
     "data": {
      "text/plain": [
       "105"
      ]
     },
     "execution_count": 37,
     "metadata": {},
     "output_type": "execute_result"
    },
    {
     "name": "stdout",
     "output_type": "stream",
     "text": [
      "Fees for High Credit Scores? New Mortgage Rules Aren't What They Seem\n",
      "gUi1V8NVRys\n",
      "21,435 views\n",
      "8 months ago\n"
     ]
    },
    {
     "data": {
      "text/plain": [
       "111"
      ]
     },
     "execution_count": 37,
     "metadata": {},
     "output_type": "execute_result"
    },
    {
     "name": "stdout",
     "output_type": "stream",
     "text": [
      "What the US Dollar?s Demise Could Mean for Real Estate\n",
      "4e8K2VaM1CU\n",
      "35,832 views\n",
      "8 months ago\n"
     ]
    },
    {
     "data": {
      "text/plain": [
       "96"
      ]
     },
     "execution_count": 37,
     "metadata": {},
     "output_type": "execute_result"
    },
    {
     "name": "stdout",
     "output_type": "stream",
     "text": [
      "$1M+ in Real Estate (in Her 20s!) After Side Hustle Success\n",
      "uVsxU7obfAc\n",
      "14,465 views\n",
      "8 months ago\n"
     ]
    },
    {
     "data": {
      "text/plain": [
       "101"
      ]
     },
     "execution_count": 37,
     "metadata": {},
     "output_type": "execute_result"
    },
    {
     "name": "stdout",
     "output_type": "stream",
     "text": [
      "How to Find Cash-Flowing Rentals (EVEN with High Mortgage Rates)\n",
      "yVPaaXhhziM\n",
      "94,120 views\n",
      "8 months ago\n"
     ]
    },
    {
     "data": {
      "text/plain": [
       "106"
      ]
     },
     "execution_count": 37,
     "metadata": {},
     "output_type": "execute_result"
    },
    {
     "name": "stdout",
     "output_type": "stream",
     "text": [
      "From Sleeping on a Dirt Floor to $80K/Month in Passive Income\n",
      "QIjJ9gUN_KU\n",
      "487,598 views\n",
      "8 months ago\n"
     ]
    },
    {
     "data": {
      "text/plain": [
       "104"
      ]
     },
     "execution_count": 37,
     "metadata": {},
     "output_type": "execute_result"
    },
    {
     "name": "stdout",
     "output_type": "stream",
     "text": [
      "Housing Inventory \"In the Gutter\" as Recession Fears Grow\n",
      "1ElB7-9ZcSI\n",
      "19,283 views\n",
      "8 months ago\n"
     ]
    },
    {
     "data": {
      "text/plain": [
       "103"
      ]
     },
     "execution_count": 37,
     "metadata": {},
     "output_type": "execute_result"
    },
    {
     "name": "stdout",
     "output_type": "stream",
     "text": [
      "BiggerNews: New 2023 Housing Market Predictions (Buyers Are Back!)\n",
      "KtmjA4dQ3dY\n",
      "42,060 views\n",
      "8 months ago\n"
     ]
    },
    {
     "data": {
      "text/plain": [
       "108"
      ]
     },
     "execution_count": 37,
     "metadata": {},
     "output_type": "execute_result"
    },
    {
     "name": "stdout",
     "output_type": "stream",
     "text": [
      "How I Bought Over 1,800 Rental Properties (You Can Do It Too)\n",
      "Zq6XekT0iaU\n",
      "15,960 views\n",
      "8 months ago\n"
     ]
    },
    {
     "data": {
      "text/plain": [
       "105"
      ]
     },
     "execution_count": 37,
     "metadata": {},
     "output_type": "execute_result"
    },
    {
     "name": "stdout",
     "output_type": "stream",
     "text": [
      "The ONE Thing That Will Make (or Break) Your Rental Property\n",
      "ihICoJ53O_s\n",
      "32,879 views\n",
      "8 months ago\n"
     ]
    },
    {
     "data": {
      "text/plain": [
       "102"
      ]
     },
     "execution_count": 37,
     "metadata": {},
     "output_type": "execute_result"
    },
    {
     "name": "stdout",
     "output_type": "stream",
     "text": [
      "Seattle Home Prices Decline 17%, Is Now the Time to Buy?\n",
      "o4YMjUnWMyI\n",
      "79,703 views\n",
      "8 months ago\n"
     ]
    },
    {
     "data": {
      "text/plain": [
       "100"
      ]
     },
     "execution_count": 37,
     "metadata": {},
     "output_type": "execute_result"
    },
    {
     "name": "stdout",
     "output_type": "stream",
     "text": [
      "How I Built a $1.4M/Year Real Estate Business (Steal My Plan)\n",
      "dXq5CPZgq0k\n",
      "24,099 views\n",
      "8 months ago\n"
     ]
    },
    {
     "data": {
      "text/plain": [
       "103"
      ]
     },
     "execution_count": 37,
     "metadata": {},
     "output_type": "execute_result"
    },
    {
     "name": "stdout",
     "output_type": "stream",
     "text": [
      "Real Estate vs. Stocks: Which Makes MORE In a RECESSION?\n",
      "yzFPUkYEbFU\n",
      "15,245 views\n",
      "8 months ago\n"
     ]
    },
    {
     "data": {
      "text/plain": [
       "98"
      ]
     },
     "execution_count": 37,
     "metadata": {},
     "output_type": "execute_result"
    },
    {
     "name": "stdout",
     "output_type": "stream",
     "text": [
      "Home Foreclosures Jump 29%...But Not For the Reason You Think\n",
      "uwE6AjMiReQ\n",
      "18,408 views\n",
      "8 months ago\n"
     ]
    },
    {
     "data": {
      "text/plain": [
       "103"
      ]
     },
     "execution_count": 37,
     "metadata": {},
     "output_type": "execute_result"
    },
    {
     "name": "stdout",
     "output_type": "stream",
     "text": [
      "Pace Morby's Secret to $0 Down, 3% Interest Real Estate Deals\n",
      "E79spurDiHI\n",
      "109,941 views\n",
      "8 months ago\n"
     ]
    },
    {
     "data": {
      "text/plain": [
       "106"
      ]
     },
     "execution_count": 37,
     "metadata": {},
     "output_type": "execute_result"
    },
    {
     "name": "stdout",
     "output_type": "stream",
     "text": [
      "HELOCs for Rental Property Are BACK (Use Your Equity!)\n",
      "YsDTMUX0KTE\n",
      "73,485 views\n",
      "8 months ago\n"
     ]
    },
    {
     "data": {
      "text/plain": [
       "96"
      ]
     },
     "execution_count": 37,
     "metadata": {},
     "output_type": "execute_result"
    },
    {
     "name": "stdout",
     "output_type": "stream",
     "text": [
      "How to ?Supercharge? Your Real Estate Cash Flow in 2023\n",
      "pDv6QruIYh4\n",
      "25,336 views\n",
      "8 months ago\n"
     ]
    },
    {
     "data": {
      "text/plain": [
       "97"
      ]
     },
     "execution_count": 37,
     "metadata": {},
     "output_type": "execute_result"
    },
    {
     "name": "stdout",
     "output_type": "stream",
     "text": [
      "Grant Cardone: NOW is the Time to Buy (Sellers Are Desperate)\n",
      "x7dGSlFHyF0\n",
      "51,278 views\n",
      "8 months ago\n"
     ]
    },
    {
     "data": {
      "text/plain": [
       "103"
      ]
     },
     "execution_count": 37,
     "metadata": {},
     "output_type": "execute_result"
    },
    {
     "name": "stdout",
     "output_type": "stream",
     "text": [
      "How to Start Real Estate Investing with LITTLE Money (4 Ways)\n",
      "FDuxblZAB8Q\n",
      "79,492 views\n",
      "8 months ago\n"
     ]
    },
    {
     "data": {
      "text/plain": [
       "103"
      ]
     },
     "execution_count": 37,
     "metadata": {},
     "output_type": "execute_result"
    },
    {
     "name": "stdout",
     "output_type": "stream",
     "text": [
      "$300K/Year with 11 Rental Properties by ?Accidentally? Investing\n",
      "madObKblKhM\n",
      "91,542 views\n",
      "8 months ago\n"
     ]
    },
    {
     "data": {
      "text/plain": [
       "106"
      ]
     },
     "execution_count": 37,
     "metadata": {},
     "output_type": "execute_result"
    },
    {
     "name": "stdout",
     "output_type": "stream",
     "text": [
      "The US Dollar Enters Dangerous Territory as China Makes a Stand\n",
      "53jRJCJW-l4\n",
      "11,057 views\n",
      "8 months ago\n"
     ]
    },
    {
     "data": {
      "text/plain": [
       "105"
      ]
     },
     "execution_count": 37,
     "metadata": {},
     "output_type": "execute_result"
    },
    {
     "name": "stdout",
     "output_type": "stream",
     "text": [
      "How to Buy Your FIRST Rental Property in 2023\n",
      "xLaPE55HqYo\n",
      "133,162 views\n",
      "9 months ago\n"
     ]
    },
    {
     "data": {
      "text/plain": [
       "88"
      ]
     },
     "execution_count": 37,
     "metadata": {},
     "output_type": "execute_result"
    },
    {
     "name": "stdout",
     "output_type": "stream",
     "text": [
      "How to Buy Property with NO MONEY Using the \"Subject To\" Strategy\n",
      "eUWEZR5C7Jg\n",
      "12,797 views\n",
      "9 months ago\n"
     ]
    },
    {
     "data": {
      "text/plain": [
       "111"
      ]
     },
     "execution_count": 37,
     "metadata": {},
     "output_type": "execute_result"
    },
    {
     "name": "stdout",
     "output_type": "stream",
     "text": [
      "How to Unlock HUGE Real Estate Tax Deductions (Save THOUSANDS)\n",
      "8Zw4QVvzb44\n",
      "15,770 views\n",
      "9 months ago\n"
     ]
    },
    {
     "data": {
      "text/plain": [
       "104"
      ]
     },
     "execution_count": 37,
     "metadata": {},
     "output_type": "execute_result"
    },
    {
     "name": "stdout",
     "output_type": "stream",
     "text": [
      "This Could Be the HOTTEST Housing Market of 2023?Will It Last?\n",
      "FA6ywQLZXrk\n",
      "19,562 views\n",
      "9 months ago\n"
     ]
    },
    {
     "data": {
      "text/plain": [
       "104"
      ]
     },
     "execution_count": 37,
     "metadata": {},
     "output_type": "execute_result"
    },
    {
     "name": "stdout",
     "output_type": "stream",
     "text": [
      "These Luxury Cabins Cost How Much!?\n",
      "sbEE3EWVvuk\n",
      "59,931 views\n",
      "9 months ago\n"
     ]
    },
    {
     "data": {
      "text/plain": [
       "77"
      ]
     },
     "execution_count": 37,
     "metadata": {},
     "output_type": "execute_result"
    },
    {
     "name": "stdout",
     "output_type": "stream",
     "text": [
      "How to Invest in Multifamily Real Estate on a Middle-Class Salary\n",
      "70HkuvEeGks\n",
      "170,487 views\n",
      "9 months ago\n"
     ]
    },
    {
     "data": {
      "text/plain": [
       "108"
      ]
     },
     "execution_count": 37,
     "metadata": {},
     "output_type": "execute_result"
    },
    {
     "name": "stdout",
     "output_type": "stream",
     "text": [
      "Housing Demand DROPS as Households Stagnate\n",
      "u4Dc_zmw3A8\n",
      "15,576 views\n",
      "9 months ago\n"
     ]
    },
    {
     "data": {
      "text/plain": [
       "85"
      ]
     },
     "execution_count": 37,
     "metadata": {},
     "output_type": "execute_result"
    },
    {
     "name": "stdout",
     "output_type": "stream",
     "text": [
      "Will the BRRRR Method Go Bust in 2023?\n",
      "xb4-obzCQgs\n",
      "44,083 views\n",
      "9 months ago\n"
     ]
    },
    {
     "data": {
      "text/plain": [
       "80"
      ]
     },
     "execution_count": 37,
     "metadata": {},
     "output_type": "execute_result"
    },
    {
     "name": "stdout",
     "output_type": "stream",
     "text": [
      "The New 3% Mortgage Rate Program Explained...Are You Eligible?\n",
      "5cd8YqHTOUo\n",
      "48,205 views\n",
      "9 months ago\n"
     ]
    },
    {
     "data": {
      "text/plain": [
       "104"
      ]
     },
     "execution_count": 37,
     "metadata": {},
     "output_type": "execute_result"
    },
    {
     "name": "stdout",
     "output_type": "stream",
     "text": [
      "\"Quick\" Cash Flow, Tenant Laws, & Building Your Financial Foundation\n",
      "Zt9jtgDeNlc\n",
      "26,888 views\n",
      "9 months ago\n"
     ]
    },
    {
     "data": {
      "text/plain": [
       "114"
      ]
     },
     "execution_count": 37,
     "metadata": {},
     "output_type": "execute_result"
    },
    {
     "name": "stdout",
     "output_type": "stream",
     "text": [
      "From Corporate Burnout to Financial FREEDOM w/Multifamily Rentals\n",
      "Lyuc8oPT80E\n",
      "11,051 views\n",
      "9 months ago\n"
     ]
    },
    {
     "data": {
      "text/plain": [
       "107"
      ]
     },
     "execution_count": 37,
     "metadata": {},
     "output_type": "execute_result"
    },
    {
     "name": "stdout",
     "output_type": "stream",
     "text": [
      "Rent Rates Are DROPPING: How to Take Advantage in 2023\n",
      "vfGq5twejic\n",
      "89,988 views\n",
      "9 months ago\n"
     ]
    },
    {
     "data": {
      "text/plain": [
       "96"
      ]
     },
     "execution_count": 37,
     "metadata": {},
     "output_type": "execute_result"
    },
    {
     "name": "stdout",
     "output_type": "stream",
     "text": [
      "From DoorDash Driver to $1.5M in Real Estate (Making $50K/Month)\n",
      "nVgAoA2usRY\n",
      "270,786 views\n",
      "9 months ago\n"
     ]
    },
    {
     "data": {
      "text/plain": [
       "107"
      ]
     },
     "execution_count": 37,
     "metadata": {},
     "output_type": "execute_result"
    },
    {
     "name": "stdout",
     "output_type": "stream",
     "text": [
      "?Record Levels? of Rentals Are About to HIT the Housing Market\n",
      "nCEvBzIldoo\n",
      "46,424 views\n",
      "9 months ago\n"
     ]
    },
    {
     "data": {
      "text/plain": [
       "104"
      ]
     },
     "execution_count": 37,
     "metadata": {},
     "output_type": "execute_result"
    },
    {
     "name": "stdout",
     "output_type": "stream",
     "text": [
      "Preschool Teacher to Rental Property Millionaire w/GUARANTEED Rent\n",
      "vEnFnSkAXq4\n",
      "22,744 views\n",
      "9 months ago\n"
     ]
    },
    {
     "data": {
      "text/plain": [
       "108"
      ]
     },
     "execution_count": 37,
     "metadata": {},
     "output_type": "execute_result"
    },
    {
     "name": "stdout",
     "output_type": "stream",
     "text": [
      "3% Mortgage Rates Are BACK?Here?s How to Get One\n",
      "x9X6Vw90SvU\n",
      "244,230 views\n",
      "9 months ago\n"
     ]
    },
    {
     "data": {
      "text/plain": [
       "91"
      ]
     },
     "execution_count": 37,
     "metadata": {},
     "output_type": "execute_result"
    },
    {
     "name": "stdout",
     "output_type": "stream",
     "text": [
      "How to Use Your Home Equity to Buy Rental Properties NOW\n",
      "I_7ZHDrN9rE\n",
      "117,525 views\n",
      "9 months ago\n"
     ]
    },
    {
     "data": {
      "text/plain": [
       "99"
      ]
     },
     "execution_count": 37,
     "metadata": {},
     "output_type": "execute_result"
    },
    {
     "name": "stdout",
     "output_type": "stream",
     "text": [
      "The Austin Housing Market is Crashing HARD?And It Could Get Worse\n",
      "UNuPJNDdxes\n",
      "43,013 views\n",
      "9 months ago\n"
     ]
    },
    {
     "data": {
      "text/plain": [
       "107"
      ]
     },
     "execution_count": 37,
     "metadata": {},
     "output_type": "execute_result"
    },
    {
     "name": "stdout",
     "output_type": "stream",
     "text": [
      "Starting a Real Estate Portfolio at 16 with Just $5,000!\n",
      "1WjIuGa3Rx0\n",
      "9,477 views\n",
      "9 months ago\n"
     ]
    },
    {
     "data": {
      "text/plain": [
       "99"
      ]
     },
     "execution_count": 37,
     "metadata": {},
     "output_type": "execute_result"
    },
    {
     "name": "stdout",
     "output_type": "stream",
     "text": [
      "28 Rental Units Before 28 Years Old by Putting Family First\n",
      "7Wcyu55IgZU\n",
      "44,628 views\n",
      "9 months ago\n"
     ]
    },
    {
     "data": {
      "text/plain": [
       "101"
      ]
     },
     "execution_count": 37,
     "metadata": {},
     "output_type": "execute_result"
    },
    {
     "name": "stdout",
     "output_type": "stream",
     "text": [
      "2023 Rent Prices Enter Dangerous Territory\n",
      "IPb3zjRkkgk\n",
      "37,392 views\n",
      "9 months ago\n"
     ]
    },
    {
     "data": {
      "text/plain": [
       "84"
      ]
     },
     "execution_count": 37,
     "metadata": {},
     "output_type": "execute_result"
    },
    {
     "name": "stdout",
     "output_type": "stream",
     "text": [
      "The EASIEST Way to Invest in Real Estate in 2023\n",
      "M8XaarsoojA\n",
      "205,275 views\n",
      "9 months ago\n"
     ]
    },
    {
     "data": {
      "text/plain": [
       "91"
      ]
     },
     "execution_count": 37,
     "metadata": {},
     "output_type": "execute_result"
    },
    {
     "name": "stdout",
     "output_type": "stream",
     "text": [
      "Escaping the Rat Race in 2023 & Do You NEED a Rental Property LLC?\n",
      "vFpMvDTBOgA\n",
      "37,166 views\n",
      "9 months ago\n"
     ]
    },
    {
     "data": {
      "text/plain": [
       "108"
      ]
     },
     "execution_count": 37,
     "metadata": {},
     "output_type": "execute_result"
    },
    {
     "name": "stdout",
     "output_type": "stream",
     "text": [
      "Mortgages Could Be in Danger As Banks Continue to Crash\n",
      "P-DQxrA0LHY\n",
      "29,698 views\n",
      "9 months ago\n"
     ]
    },
    {
     "data": {
      "text/plain": [
       "97"
      ]
     },
     "execution_count": 37,
     "metadata": {},
     "output_type": "execute_result"
    },
    {
     "name": "stdout",
     "output_type": "stream",
     "text": [
      "$74K in Debt to Financial Freedom in 3 Years w/Multifamily Rentals\n",
      "2bAMHldin3E\n",
      "10,746 views\n",
      "9 months ago\n"
     ]
    },
    {
     "data": {
      "text/plain": [
       "108"
      ]
     },
     "execution_count": 37,
     "metadata": {},
     "output_type": "execute_result"
    },
    {
     "name": "stdout",
     "output_type": "stream",
     "text": [
      "Guessing the Prices of LUXURY Beach Houses | The Price (of the Property) is Wrong\n",
      "OLpg9Ae6vuo\n",
      "63,881 views\n",
      "9 months ago\n"
     ]
    },
    {
     "data": {
      "text/plain": [
       "123"
      ]
     },
     "execution_count": 37,
     "metadata": {},
     "output_type": "execute_result"
    },
    {
     "name": "stdout",
     "output_type": "stream",
     "text": [
      "How to Make $200K With ONE Rental Property (BRRRR 2.0)\n",
      "g6zZGjvnE0g\n",
      "32,734 views\n",
      "9 months ago\n"
     ]
    },
    {
     "data": {
      "text/plain": [
       "96"
      ]
     },
     "execution_count": 37,
     "metadata": {},
     "output_type": "execute_result"
    },
    {
     "name": "stdout",
     "output_type": "stream",
     "text": [
      "Home Prices DROP in Biggest Price Cut Since 2012\n",
      "iSixBhvBP5o\n",
      "23,421 views\n",
      "9 months ago\n"
     ]
    },
    {
     "data": {
      "text/plain": [
       "90"
      ]
     },
     "execution_count": 37,
     "metadata": {},
     "output_type": "execute_result"
    },
    {
     "name": "stdout",
     "output_type": "stream",
     "text": [
      "The 4 Steps to Financial Freedom Through Real Estate in 2023\n",
      "CVzZahui9rw\n",
      "26,050 views\n",
      "9 months ago\n"
     ]
    },
    {
     "data": {
      "text/plain": [
       "102"
      ]
     },
     "execution_count": 37,
     "metadata": {},
     "output_type": "execute_result"
    },
    {
     "name": "stdout",
     "output_type": "stream",
     "text": [
      "Start From Scratch_How to Build a Real Estate Portfolio AFTER a CRASH\n",
      "7TabVWANJGY\n",
      "14,590 views\n",
      "9 months ago\n"
     ]
    },
    {
     "data": {
      "text/plain": [
       "111"
      ]
     },
     "execution_count": 37,
     "metadata": {},
     "output_type": "execute_result"
    },
    {
     "name": "stdout",
     "output_type": "stream",
     "text": [
      "The \"Golden Age\" of Cash Flow Real Estate Investing Is OVER\n",
      "UHX_NlVALO0\n",
      "77,133 views\n",
      "9 months ago\n"
     ]
    },
    {
     "data": {
      "text/plain": [
       "105"
      ]
     },
     "execution_count": 37,
     "metadata": {},
     "output_type": "execute_result"
    },
    {
     "name": "stdout",
     "output_type": "stream",
     "text": [
      "California Real Estate Investing: Low Cash Flow, But Worth the Risk?\n",
      "AucPQZP0CeQ\n",
      "73,589 views\n",
      "10 months ago\n"
     ]
    },
    {
     "data": {
      "text/plain": [
       "113"
      ]
     },
     "execution_count": 37,
     "metadata": {},
     "output_type": "execute_result"
    },
    {
     "name": "stdout",
     "output_type": "stream",
     "text": [
      "Could SVB's Collapse Cause a Housing Market Crash?\n",
      "tUTWIvOWxAA\n",
      "34,574 views\n",
      "10 months ago\n"
     ]
    },
    {
     "data": {
      "text/plain": [
       "93"
      ]
     },
     "execution_count": 37,
     "metadata": {},
     "output_type": "execute_result"
    },
    {
     "name": "stdout",
     "output_type": "stream",
     "text": [
      "From $500 to 40 Rental Units After Going COMPLETELY Broke\n",
      "X5Rcd2d3R-s\n",
      "39,085 views\n",
      "10 months ago\n"
     ]
    },
    {
     "data": {
      "text/plain": [
       "100"
      ]
     },
     "execution_count": 37,
     "metadata": {},
     "output_type": "execute_result"
    },
    {
     "name": "stdout",
     "output_type": "stream",
     "text": [
      "SVB Collapses, Investors Panic as Banks Start to Fall\n",
      "dF9rUT7qQFA\n",
      "18,414 views\n",
      "10 months ago\n"
     ]
    },
    {
     "data": {
      "text/plain": [
       "98"
      ]
     },
     "execution_count": 37,
     "metadata": {},
     "output_type": "execute_result"
    },
    {
     "name": "stdout",
     "output_type": "stream",
     "text": [
      "How to Build a BIG Portfolio (Without Pulling Your Hair Out)\n",
      "toip52QcAiU\n",
      "22,219 views\n",
      "10 months ago\n"
     ]
    },
    {
     "data": {
      "text/plain": [
       "103"
      ]
     },
     "execution_count": 37,
     "metadata": {},
     "output_type": "execute_result"
    },
    {
     "name": "stdout",
     "output_type": "stream",
     "text": [
      "My Rental Property is Losing Money!\n",
      "mDtIIhkUaVI\n",
      "12,630 views\n",
      "10 months ago\n"
     ]
    },
    {
     "data": {
      "text/plain": [
       "78"
      ]
     },
     "execution_count": 37,
     "metadata": {},
     "output_type": "execute_result"
    },
    {
     "name": "stdout",
     "output_type": "stream",
     "text": [
      "2023 Real Estate Portfolio Pivots You MUST Make | Future Millionaires\n",
      "rLptf4TtQdo\n",
      "21,343 views\n",
      "10 months ago\n"
     ]
    },
    {
     "data": {
      "text/plain": [
       "112"
      ]
     },
     "execution_count": 37,
     "metadata": {},
     "output_type": "execute_result"
    },
    {
     "name": "stdout",
     "output_type": "stream",
     "text": [
      "2023?s HUGE Multifamily Opportunity & The End of \"Tax-Free\" Income?\n",
      "fwj9x1d_ez8\n",
      "18,222 views\n",
      "10 months ago\n"
     ]
    },
    {
     "data": {
      "text/plain": [
       "114"
      ]
     },
     "execution_count": 37,
     "metadata": {},
     "output_type": "execute_result"
    },
    {
     "name": "stdout",
     "output_type": "stream",
     "text": [
      "How to Use the 2023 Housing Correction to Get RICH with Real Estate\n",
      "-oSOUMojiPU\n",
      "213,879 views\n",
      "10 months ago\n"
     ]
    },
    {
     "data": {
      "text/plain": [
       "111"
      ]
     },
     "execution_count": 37,
     "metadata": {},
     "output_type": "execute_result"
    },
    {
     "name": "stdout",
     "output_type": "stream",
     "text": [
      "Lewis Howes: The 3 Steps to Go From Broke to Millionaire in 2023\n",
      "uSSrlJQRaXg\n",
      "25,621 views\n",
      "10 months ago\n"
     ]
    },
    {
     "data": {
      "text/plain": [
       "107"
      ]
     },
     "execution_count": 37,
     "metadata": {},
     "output_type": "execute_result"
    },
    {
     "name": "stdout",
     "output_type": "stream",
     "text": [
      "Home Sales FALL Off a Cliff: When Will Prices Follow?\n",
      "ngjwnb7PgaY\n",
      "33,429 views\n",
      "10 months ago\n"
     ]
    },
    {
     "data": {
      "text/plain": [
       "96"
      ]
     },
     "execution_count": 37,
     "metadata": {},
     "output_type": "execute_result"
    },
    {
     "name": "stdout",
     "output_type": "stream",
     "text": [
      "BiggerNews: Mortgage Rate MAYHEM & ChatGPT?s Danger to Investors\n",
      "04b6qzTS0eg\n",
      "25,317 views\n",
      "10 months ago\n"
     ]
    },
    {
     "data": {
      "text/plain": [
       "107"
      ]
     },
     "execution_count": 37,
     "metadata": {},
     "output_type": "execute_result"
    },
    {
     "name": "stdout",
     "output_type": "stream",
     "text": [
      "This Tropical Airbnb Makes $150K/YEAR...Here's How\n",
      "8HdpzDThY-U\n",
      "10,308 views\n",
      "10 months ago\n"
     ]
    },
    {
     "data": {
      "text/plain": [
       "93"
      ]
     },
     "execution_count": 37,
     "metadata": {},
     "output_type": "execute_result"
    },
    {
     "name": "stdout",
     "output_type": "stream",
     "text": [
      "Rental Property ?Deal-Breakers? That Could Kill Your Cash Flow\n",
      "Q5mOFqncqyE\n",
      "69,386 views\n",
      "10 months ago\n"
     ]
    },
    {
     "data": {
      "text/plain": [
       "105"
      ]
     },
     "execution_count": 37,
     "metadata": {},
     "output_type": "execute_result"
    },
    {
     "name": "stdout",
     "output_type": "stream",
     "text": [
      "Top 9 CASH FLOW Real Estate Markets of 2023\n",
      "PdUtY8jMB4g\n",
      "57,590 views\n",
      "10 months ago\n"
     ]
    },
    {
     "data": {
      "text/plain": [
       "86"
      ]
     },
     "execution_count": 37,
     "metadata": {},
     "output_type": "execute_result"
    },
    {
     "name": "stdout",
     "output_type": "stream",
     "text": [
      "5 Real Estate Agent Mistakes That Will LOSE You Listings\n",
      "gA-yHGOQ5KM\n",
      "5,830 views\n",
      "10 months ago\n"
     ]
    },
    {
     "data": {
      "text/plain": [
       "98"
      ]
     },
     "execution_count": 37,
     "metadata": {},
     "output_type": "execute_result"
    },
    {
     "name": "stdout",
     "output_type": "stream",
     "text": [
      "Real Estate Investing RED FLAGS You MUST Avoid (LAWSUIT)\n",
      "osG-h0mgScU\n",
      "19,656 views\n",
      "10 months ago\n"
     ]
    },
    {
     "data": {
      "text/plain": [
       "99"
      ]
     },
     "execution_count": 37,
     "metadata": {},
     "output_type": "execute_result"
    },
    {
     "name": "stdout",
     "output_type": "stream",
     "text": [
      "The Housing Market ?Splits? as Rents Start to Get Unstable\n",
      "6GAJcwGGfus\n",
      "35,935 views\n",
      "10 months ago\n"
     ]
    },
    {
     "data": {
      "text/plain": [
       "101"
      ]
     },
     "execution_count": 37,
     "metadata": {},
     "output_type": "execute_result"
    },
    {
     "name": "stdout",
     "output_type": "stream",
     "text": [
      "3 Housing Markets to Look Into BEFORE Homebuyer Season Heats Up\n",
      "Xp4FT9dU9mo\n",
      "23,151 views\n",
      "10 months ago\n"
     ]
    },
    {
     "data": {
      "text/plain": [
       "106"
      ]
     },
     "execution_count": 37,
     "metadata": {},
     "output_type": "execute_result"
    },
    {
     "name": "stdout",
     "output_type": "stream",
     "text": [
      "How I Bought 157 Rental Units in 1 YEAR (You Can Do It Too)\n",
      "9hj9Ji11bEk\n",
      "23,811 views\n",
      "10 months ago\n"
     ]
    },
    {
     "data": {
      "text/plain": [
       "102"
      ]
     },
     "execution_count": 37,
     "metadata": {},
     "output_type": "execute_result"
    },
    {
     "name": "stdout",
     "output_type": "stream",
     "text": [
      "Real Estate Side Hustles and Why You SHOULDN'T Quit Your Job...Yet\n",
      "R4KgGHtCp3g\n",
      "28,417 views\n",
      "10 months ago\n"
     ]
    },
    {
     "data": {
      "text/plain": [
       "109"
      ]
     },
     "execution_count": 37,
     "metadata": {},
     "output_type": "execute_result"
    },
    {
     "name": "stdout",
     "output_type": "stream",
     "text": [
      "From Low-Income to Passive Income in Their 20s w/170 Multifamily Units\n",
      "aj3ayOiUwC4\n",
      "17,819 views\n",
      "10 months ago\n"
     ]
    },
    {
     "data": {
      "text/plain": [
       "113"
      ]
     },
     "execution_count": 37,
     "metadata": {},
     "output_type": "execute_result"
    },
    {
     "name": "stdout",
     "output_type": "stream",
     "text": [
      "Real Estate and the Art of Catching Fish\n",
      "41NyGwZhI-Q\n",
      "5,395 views\n",
      "10 months ago\n"
     ]
    },
    {
     "data": {
      "text/plain": [
       "82"
      ]
     },
     "execution_count": 37,
     "metadata": {},
     "output_type": "execute_result"
    },
    {
     "name": "stdout",
     "output_type": "stream",
     "text": [
      "From Losing EVERYTHING in the Last Housing Crash to $8M Wealth\n",
      "i1INRmhdUO0\n",
      "20,612 views\n",
      "10 months ago\n"
     ]
    },
    {
     "data": {
      "text/plain": [
       "105"
      ]
     },
     "execution_count": 37,
     "metadata": {},
     "output_type": "execute_result"
    },
    {
     "name": "stdout",
     "output_type": "stream",
     "text": [
      "BIG Changes in the Housing Market (New Forecasts)\n",
      "BVuVMHZ7R24\n",
      "35,973 views\n",
      "10 months ago\n"
     ]
    },
    {
     "data": {
      "text/plain": [
       "92"
      ]
     },
     "execution_count": 37,
     "metadata": {},
     "output_type": "execute_result"
    },
    {
     "name": "stdout",
     "output_type": "stream",
     "text": [
      "How to Invest in Real Estate with $10K in 2023\n",
      "QVBgzV1e0rE\n",
      "442,923 views\n",
      "10 months ago\n"
     ]
    },
    {
     "data": {
      "text/plain": [
       "90"
      ]
     },
     "execution_count": 37,
     "metadata": {},
     "output_type": "execute_result"
    },
    {
     "name": "stdout",
     "output_type": "stream",
     "text": [
      "How To Avoid Income Taxes 101 (5 TOP Ways)\n",
      "LsC3oirPmJU\n",
      "11,926 views\n",
      "10 months ago\n"
     ]
    },
    {
     "data": {
      "text/plain": [
       "85"
      ]
     },
     "execution_count": 37,
     "metadata": {},
     "output_type": "execute_result"
    },
    {
     "name": "stdout",
     "output_type": "stream",
     "text": [
      "The 10 Real Estate Markets Seeing MASSIVE Migration in 2023\n",
      "8eilFVinLPE\n",
      "65,957 views\n",
      "10 months ago\n"
     ]
    },
    {
     "data": {
      "text/plain": [
       "102"
      ]
     },
     "execution_count": 37,
     "metadata": {},
     "output_type": "execute_result"
    },
    {
     "name": "stdout",
     "output_type": "stream",
     "text": [
      "The 8 MOST AFFORDABLE Housing Markets in the US (2023)\n",
      "llDnFq7nFqE\n",
      "30,260 views\n",
      "11 months ago\n"
     ]
    },
    {
     "data": {
      "text/plain": [
       "97"
      ]
     },
     "execution_count": 37,
     "metadata": {},
     "output_type": "execute_result"
    },
    {
     "name": "stdout",
     "output_type": "stream",
     "text": [
      "12 Reasons Why Real Estate Agents Fail (STUPID Mistakes)\n",
      "ACHCghqpqvM\n",
      "7,942 views\n",
      "11 months ago\n"
     ]
    },
    {
     "data": {
      "text/plain": [
       "98"
      ]
     },
     "execution_count": 37,
     "metadata": {},
     "output_type": "execute_result"
    },
    {
     "name": "stdout",
     "output_type": "stream",
     "text": [
      "$1M/Year with 9 Rental Properties by Cracking the Travel Nurse Code\n",
      "ZEZGjZG3N84\n",
      "285,668 views\n",
      "11 months ago\n"
     ]
    },
    {
     "data": {
      "text/plain": [
       "111"
      ]
     },
     "execution_count": 37,
     "metadata": {},
     "output_type": "execute_result"
    },
    {
     "name": "stdout",
     "output_type": "stream",
     "text": [
      "Is the \"Renters Bill of Rights\" Bad News for Real Estate Investors?\n",
      "vlDrpcg3jDE\n",
      "21,393 views\n",
      "11 months ago\n"
     ]
    },
    {
     "data": {
      "text/plain": [
       "114"
      ]
     },
     "execution_count": 37,
     "metadata": {},
     "output_type": "execute_result"
    },
    {
     "name": "stdout",
     "output_type": "stream",
     "text": [
      "Making $300K Per Year On ONE Short-Term Rental\n",
      "2449AchWDtc\n",
      "18,702 views\n",
      "11 months ago\n"
     ]
    },
    {
     "data": {
      "text/plain": [
       "89"
      ]
     },
     "execution_count": 37,
     "metadata": {},
     "output_type": "execute_result"
    },
    {
     "name": "stdout",
     "output_type": "stream",
     "text": [
      "Building a $10M Real Estate Portfolio at 25 Using The ?Wealth Formula?\n",
      "6R99QwOWdrQ\n",
      "22,616 views\n",
      "11 months ago\n"
     ]
    },
    {
     "data": {
      "text/plain": [
       "113"
      ]
     },
     "execution_count": 37,
     "metadata": {},
     "output_type": "execute_result"
    },
    {
     "name": "stdout",
     "output_type": "stream",
     "text": [
      "How to Get a Lowball Offer Accepted | Future Millionaires\n",
      "cDwtUBlrD9o\n",
      "41,176 views\n",
      "11 months ago\n"
     ]
    },
    {
     "data": {
      "text/plain": [
       "100"
      ]
     },
     "execution_count": 37,
     "metadata": {},
     "output_type": "execute_result"
    },
    {
     "name": "stdout",
     "output_type": "stream",
     "text": [
      "Flips Are OUT, BRRRRs Are In, and Why We QUIT Our Jobs to Invest\n",
      "agfMJX99B0I\n",
      "12,433 views\n",
      "11 months ago\n"
     ]
    },
    {
     "data": {
      "text/plain": [
       "109"
      ]
     },
     "execution_count": 37,
     "metadata": {},
     "output_type": "execute_result"
    },
    {
     "name": "stdout",
     "output_type": "stream",
     "text": [
      "The Former Olympian Who Gave Up Everything to Invest in Real Estate\n",
      "qvJ5OmQgGec\n",
      "20,275 views\n",
      "11 months ago\n"
     ]
    },
    {
     "data": {
      "text/plain": [
       "110"
      ]
     },
     "execution_count": 37,
     "metadata": {},
     "output_type": "execute_result"
    },
    {
     "name": "stdout",
     "output_type": "stream",
     "text": [
      "The 2023 Recession is CANCELED: Is a ?Soft Landing? Possible?\n",
      "1B37xFFqG2M\n",
      "31,445 views\n",
      "11 months ago\n"
     ]
    },
    {
     "data": {
      "text/plain": [
       "104"
      ]
     },
     "execution_count": 37,
     "metadata": {},
     "output_type": "execute_result"
    },
    {
     "name": "stdout",
     "output_type": "stream",
     "text": [
      "How to SCALE Your Real Estate Portfolio in 2023\n",
      "wIbfJ-4pF5Y\n",
      "29,977 views\n",
      "11 months ago\n"
     ]
    },
    {
     "data": {
      "text/plain": [
       "90"
      ]
     },
     "execution_count": 37,
     "metadata": {},
     "output_type": "execute_result"
    },
    {
     "name": "stdout",
     "output_type": "stream",
     "text": [
      "How to Invest in Real Estate in 2023 (With NO Experience) | Start From Scratch\n",
      "wS5NZ0UDJaM\n",
      "83,828 views\n",
      "11 months ago\n"
     ]
    },
    {
     "data": {
      "text/plain": [
       "121"
      ]
     },
     "execution_count": 37,
     "metadata": {},
     "output_type": "execute_result"
    },
    {
     "name": "stdout",
     "output_type": "stream",
     "text": [
      "Why Investors are STILL Buying Real Estate in the 2023 Recession\n",
      "cVmwJGF39V4\n",
      "119,751 views\n",
      "11 months ago\n"
     ]
    },
    {
     "data": {
      "text/plain": [
       "108"
      ]
     },
     "execution_count": 37,
     "metadata": {},
     "output_type": "execute_result"
    },
    {
     "name": "stdout",
     "output_type": "stream",
     "text": [
      "The Hidden Housing Crash: Prices to DROP 20%\n",
      "L6jjZJLUgAc\n",
      "39,451 views\n",
      "11 months ago\n"
     ]
    },
    {
     "data": {
      "text/plain": [
       "87"
      ]
     },
     "execution_count": 37,
     "metadata": {},
     "output_type": "execute_result"
    },
    {
     "name": "stdout",
     "output_type": "stream",
     "text": [
      "From 7-Day Workweeks to Financial Freedom Through AGGRESSIVE Investing\n",
      "K_FcI8c6U1o\n",
      "34,782 views\n",
      "11 months ago\n"
     ]
    },
    {
     "data": {
      "text/plain": [
       "113"
      ]
     },
     "execution_count": 37,
     "metadata": {},
     "output_type": "execute_result"
    },
    {
     "name": "stdout",
     "output_type": "stream",
     "text": [
      "4 Ways to Invest in Real Estate with NO MONEY in 2023\n",
      "Zeb9p4HpzD0\n",
      "35,782 views\n",
      "11 months ago\n"
     ]
    },
    {
     "data": {
      "text/plain": [
       "96"
      ]
     },
     "execution_count": 37,
     "metadata": {},
     "output_type": "execute_result"
    },
    {
     "name": "stdout",
     "output_type": "stream",
     "text": [
      "Sound the Alarm: A Commercial Real Estate Crash is Likely\n",
      "-5BBeyNUJTE\n",
      "28,853 views\n",
      "11 months ago\n"
     ]
    },
    {
     "data": {
      "text/plain": [
       "100"
      ]
     },
     "execution_count": 37,
     "metadata": {},
     "output_type": "execute_result"
    },
    {
     "name": "stdout",
     "output_type": "stream",
     "text": [
      "How We Bought $20M in Multifamily Real Estate in Our 20s (NO Banks)\n",
      "TpIUyDxanJ0\n",
      "42,559 views\n",
      "11 months ago\n"
     ]
    },
    {
     "data": {
      "text/plain": [
       "110"
      ]
     },
     "execution_count": 37,
     "metadata": {},
     "output_type": "execute_result"
    },
    {
     "name": "stdout",
     "output_type": "stream",
     "text": [
      "Depreciation, DTI Dilemmas, and Why Mortgage Rates DON?T Matter\n",
      "7XX6ozTqm_k\n",
      "34,234 views\n",
      "11 months ago\n"
     ]
    },
    {
     "data": {
      "text/plain": [
       "108"
      ]
     },
     "execution_count": 37,
     "metadata": {},
     "output_type": "execute_result"
    },
    {
     "name": "stdout",
     "output_type": "stream",
     "text": [
      "This Housing Market is WILD: Mortgage Rates DROP, Buyers Come Back\n",
      "cijB_1v3uKE\n",
      "48,579 views\n",
      "11 months ago\n"
     ]
    },
    {
     "data": {
      "text/plain": [
       "111"
      ]
     },
     "execution_count": 37,
     "metadata": {},
     "output_type": "execute_result"
    },
    {
     "name": "stdout",
     "output_type": "stream",
     "text": [
      "How to Find Real Estate Deals NOW | Future Millionaires\n",
      "b1B_XY7UEH8\n",
      "30,969 views\n",
      "11 months ago\n"
     ]
    },
    {
     "data": {
      "text/plain": [
       "98"
      ]
     },
     "execution_count": 37,
     "metadata": {},
     "output_type": "execute_result"
    },
    {
     "name": "stdout",
     "output_type": "stream",
     "text": [
      "How to Fail At Financing a Rental Property | 7 Steps to Avoid\n",
      "d5UXXPB9ld8\n",
      "18,003 views\n",
      "11 months ago\n"
     ]
    },
    {
     "data": {
      "text/plain": [
       "104"
      ]
     },
     "execution_count": 37,
     "metadata": {},
     "output_type": "execute_result"
    },
    {
     "name": "stdout",
     "output_type": "stream",
     "text": [
      "BiggerNews: 2023 Housing Market Predictions and Beating a Bear Market\n",
      "otI6B6AWcpI\n",
      "82,479 views\n",
      "11 months ago\n"
     ]
    },
    {
     "data": {
      "text/plain": [
       "112"
      ]
     },
     "execution_count": 37,
     "metadata": {},
     "output_type": "execute_result"
    },
    {
     "name": "stdout",
     "output_type": "stream",
     "text": [
      "Passive Real Estate Investing in 2023: The RULES Have CHANGED\n",
      "ymw03zIZ-fM\n",
      "25,538 views\n",
      "11 months ago\n"
     ]
    },
    {
     "data": {
      "text/plain": [
       "104"
      ]
     },
     "execution_count": 37,
     "metadata": {},
     "output_type": "execute_result"
    },
    {
     "name": "stdout",
     "output_type": "stream",
     "text": [
      "Hoarder Houses, Tax Benefits, & How to Invest When Starting Late\n",
      "9TA5vtD1EYI\n",
      "18,357 views\n",
      "11 months ago\n"
     ]
    },
    {
     "data": {
      "text/plain": [
       "109"
      ]
     },
     "execution_count": 37,
     "metadata": {},
     "output_type": "execute_result"
    },
    {
     "name": "stdout",
     "output_type": "stream",
     "text": [
      "December?s Promising Inflation Report (But UGLY Housing Data)\n",
      "f9Xvjo0YwBU\n",
      "9,335 views\n",
      "11 months ago\n"
     ]
    },
    {
     "data": {
      "text/plain": [
       "103"
      ]
     },
     "execution_count": 37,
     "metadata": {},
     "output_type": "execute_result"
    },
    {
     "name": "stdout",
     "output_type": "stream",
     "text": [
      "FIRE by 27 Using the ?Chick-Fil-A Rule? of Real Estate\n",
      "gzbaiM1DwZQ\n",
      "74,355 views\n",
      "11 months ago\n"
     ]
    },
    {
     "data": {
      "text/plain": [
       "97"
      ]
     },
     "execution_count": 37,
     "metadata": {},
     "output_type": "execute_result"
    },
    {
     "name": "stdout",
     "output_type": "stream",
     "text": [
      "How to Demo a Bathroom, Kitchen, and Remove Walls (DIY)\n",
      "74gaUdAertE\n",
      "11,590 views\n",
      "1 year ago\n"
     ]
    },
    {
     "data": {
      "text/plain": [
       "97"
      ]
     },
     "execution_count": 37,
     "metadata": {},
     "output_type": "execute_result"
    },
    {
     "name": "stdout",
     "output_type": "stream",
     "text": [
      "How to Make PASSIVE INCOME through Real Estate in 2023\n",
      "bzlRfFHHK4Q\n",
      "36,333 views\n",
      "1 year ago\n"
     ]
    },
    {
     "data": {
      "text/plain": [
       "94"
      ]
     },
     "execution_count": 37,
     "metadata": {},
     "output_type": "execute_result"
    },
    {
     "name": "stdout",
     "output_type": "stream",
     "text": [
      "Apartment Investing Tips from Grant Cardone That Made Me Millions\n",
      "Xyc2DmnCT_g\n",
      "20,923 views\n",
      "1 year ago\n"
     ]
    },
    {
     "data": {
      "text/plain": [
       "105"
      ]
     },
     "execution_count": 37,
     "metadata": {},
     "output_type": "execute_result"
    },
    {
     "name": "stdout",
     "output_type": "stream",
     "text": [
      "HELOCs, Hard Markets, and The 10-Year Real Estate Retirement Plan\n",
      "F0x0HgMFWb8\n",
      "101,225 views\n",
      "1 year ago\n"
     ]
    },
    {
     "data": {
      "text/plain": [
       "108"
      ]
     },
     "execution_count": 37,
     "metadata": {},
     "output_type": "execute_result"
    },
    {
     "name": "stdout",
     "output_type": "stream",
     "text": [
      "Buyers Are in CONTROL: The 2023 Housing Market Correction is HERE\n",
      "9eOfvP80U28\n",
      "35,704 views\n",
      "1 year ago\n"
     ]
    },
    {
     "data": {
      "text/plain": [
       "105"
      ]
     },
     "execution_count": 37,
     "metadata": {},
     "output_type": "execute_result"
    },
    {
     "name": "stdout",
     "output_type": "stream",
     "text": [
      "Real Life ?Top Gun? Pilot on How to Become Elite at ANYTHING\n",
      "HJsEdgUUYac\n",
      "12,156 views\n",
      "1 year ago\n"
     ]
    },
    {
     "data": {
      "text/plain": [
       "100"
      ]
     },
     "execution_count": 37,
     "metadata": {},
     "output_type": "execute_result"
    },
    {
     "name": "stdout",
     "output_type": "stream",
     "text": [
      "How to BRRRR Real Estate (WITHOUT Getting Burnt) in 2023\n",
      "RyIjGFSC4Ec\n",
      "40,315 views\n",
      "1 year ago\n"
     ]
    },
    {
     "data": {
      "text/plain": [
       "96"
      ]
     },
     "execution_count": 37,
     "metadata": {},
     "output_type": "execute_result"
    },
    {
     "name": "stdout",
     "output_type": "stream",
     "text": [
      "The 2023 BnBust: Are Short-Term Rental Hosts in Trouble?\n",
      "MNkAHOwNzpk\n",
      "58,336 views\n",
      "1 year ago\n"
     ]
    },
    {
     "data": {
      "text/plain": [
       "96"
      ]
     },
     "execution_count": 37,
     "metadata": {},
     "output_type": "execute_result"
    },
    {
     "name": "stdout",
     "output_type": "stream",
     "text": [
      "How to Start a House Flipping Business from SCRATCH in 2023\n",
      "uLhXbpbOOcg\n",
      "14,360 views\n",
      "1 year ago\n"
     ]
    },
    {
     "data": {
      "text/plain": [
       "99"
      ]
     },
     "execution_count": 37,
     "metadata": {},
     "output_type": "execute_result"
    },
    {
     "name": "stdout",
     "output_type": "stream",
     "text": [
      "2023?s MASSIVE Opportunity for Multifamily Real Estate Investing?\n",
      "9MRaeb1OQII\n",
      "98,217 views\n",
      "1 year ago\n"
     ]
    },
    {
     "data": {
      "text/plain": [
       "105"
      ]
     },
     "execution_count": 37,
     "metadata": {},
     "output_type": "execute_result"
    },
    {
     "name": "stdout",
     "output_type": "stream",
     "text": [
      "2023 Housing Market: It?ll Get Worse Before It Gets Better\n",
      "y0ShNeJLkuA\n",
      "40,388 views\n",
      "1 year ago\n"
     ]
    },
    {
     "data": {
      "text/plain": [
       "98"
      ]
     },
     "execution_count": 37,
     "metadata": {},
     "output_type": "execute_result"
    },
    {
     "name": "stdout",
     "output_type": "stream",
     "text": [
      "How to TRIPLE Your Income with Assisted Living Investments\n",
      "5tqSY3Av0Ug\n",
      "63,798 views\n",
      "1 year ago\n"
     ]
    },
    {
     "data": {
      "text/plain": [
       "98"
      ]
     },
     "execution_count": 37,
     "metadata": {},
     "output_type": "execute_result"
    },
    {
     "name": "stdout",
     "output_type": "stream",
     "text": [
      "BOOST Your Passive Income with Rental Property Partnerships\n",
      "pA6KbMjMi5k\n",
      "10,433 views\n",
      "1 year ago\n"
     ]
    },
    {
     "data": {
      "text/plain": [
       "99"
      ]
     },
     "execution_count": 37,
     "metadata": {},
     "output_type": "execute_result"
    },
    {
     "name": "stdout",
     "output_type": "stream",
     "text": [
      "Everything You Should Know BEFORE Buying a Rental Property\n",
      "Q9z3xo6eVTU\n",
      "41,701 views\n",
      "1 year ago\n"
     ]
    },
    {
     "data": {
      "text/plain": [
       "98"
      ]
     },
     "execution_count": 37,
     "metadata": {},
     "output_type": "execute_result"
    },
    {
     "name": "stdout",
     "output_type": "stream",
     "text": [
      "How I Bought 31 Rental Properties in ONE Year (YOU Can Do it Too)| Real estate recap\n",
      "cVcgLIn04a4\n",
      "34,442 views\n",
      "1 year ago\n"
     ]
    },
    {
     "data": {
      "text/plain": [
       "124"
      ]
     },
     "execution_count": 37,
     "metadata": {},
     "output_type": "execute_result"
    },
    {
     "name": "stdout",
     "output_type": "stream",
     "text": [
      "Future Millionaires: How to Grow a Real Estate Portfolio in 90 Days\n",
      "gboHgmmCNgM\n",
      "33,434 views\n",
      "1 year ago\n"
     ]
    },
    {
     "data": {
      "text/plain": [
       "107"
      ]
     },
     "execution_count": 37,
     "metadata": {},
     "output_type": "execute_result"
    },
    {
     "name": "stdout",
     "output_type": "stream",
     "text": [
      "$60K Florida Flip vs. $70K Houston Home Renovation | Buy This, Not That\n",
      "BNMgRzdlJCg\n",
      "9,842 views\n",
      "1 year ago\n"
     ]
    },
    {
     "data": {
      "text/plain": [
       "112"
      ]
     },
     "execution_count": 37,
     "metadata": {},
     "output_type": "execute_result"
    },
    {
     "name": "stdout",
     "output_type": "stream",
     "text": [
      "Lower Taxes, More Passive Income with The 1031 Exchange\n",
      "-sBQflyOKeA\n",
      "14,108 views\n",
      "1 year ago\n"
     ]
    },
    {
     "data": {
      "text/plain": [
       "97"
      ]
     },
     "execution_count": 37,
     "metadata": {},
     "output_type": "execute_result"
    },
    {
     "name": "stdout",
     "output_type": "stream",
     "text": [
      "Do This BEFORE Buying a Property with Existing Tenants\n",
      "7sTLZhRn_Yg\n",
      "17,748 views\n",
      "1 year ago\n"
     ]
    },
    {
     "data": {
      "text/plain": [
       "94"
      ]
     },
     "execution_count": 37,
     "metadata": {},
     "output_type": "execute_result"
    },
    {
     "name": "stdout",
     "output_type": "stream",
     "text": [
      "How to Go From BROKE to Real Estate Millionaire\n",
      "f_tHal98RJQ\n",
      "26,201 views\n",
      "1 year ago\n"
     ]
    },
    {
     "data": {
      "text/plain": [
       "87"
      ]
     },
     "execution_count": 37,
     "metadata": {},
     "output_type": "execute_result"
    },
    {
     "name": "stdout",
     "output_type": "stream",
     "text": [
      "The Multifamily Market Has FLIPPED: How to Take Advantage in 2023\n",
      "YEGQNCqhHS4\n",
      "68,054 views\n",
      "1 year ago\n"
     ]
    },
    {
     "data": {
      "text/plain": [
       "105"
      ]
     },
     "execution_count": 37,
     "metadata": {},
     "output_type": "execute_result"
    },
    {
     "name": "stdout",
     "output_type": "stream",
     "text": [
      "How to Build a Real Estate Portfolio That Will Withstand Any CRASH\n",
      "zjHBxLxt7vU\n",
      "38,654 views\n",
      "1 year ago\n"
     ]
    },
    {
     "data": {
      "text/plain": [
       "106"
      ]
     },
     "execution_count": 37,
     "metadata": {},
     "output_type": "execute_result"
    },
    {
     "name": "stdout",
     "output_type": "stream",
     "text": [
      "What EVERY Real Estate Investor Wants for Christmas\n",
      "p76SHPVKLjc\n",
      "8,358 views\n",
      "1 year ago\n"
     ]
    },
    {
     "data": {
      "text/plain": [
       "90"
      ]
     },
     "execution_count": 37,
     "metadata": {},
     "output_type": "execute_result"
    },
    {
     "name": "stdout",
     "output_type": "stream",
     "text": [
      "Land Flipping: The Profits Behind Dealing Dirt\n",
      "_1z45gIch4s\n",
      "35,535 views\n",
      "1 year ago\n"
     ]
    },
    {
     "data": {
      "text/plain": [
       "86"
      ]
     },
     "execution_count": 37,
     "metadata": {},
     "output_type": "execute_result"
    },
    {
     "name": "stdout",
     "output_type": "stream",
     "text": [
      "2% Mortgage Rates Are HERE | Buy This, Not That\n",
      "QOI-jrqtlKo\n",
      "69,797 views\n",
      "1 year ago\n"
     ]
    },
    {
     "data": {
      "text/plain": [
       "89"
      ]
     },
     "execution_count": 37,
     "metadata": {},
     "output_type": "execute_result"
    },
    {
     "name": "stdout",
     "output_type": "stream",
     "text": [
      "How to Buy a Rental Property in 2023 (6 Beginner Steps)\n",
      "iD8WGgmj8QE\n",
      "331,152 views\n",
      "1 year ago\n"
     ]
    },
    {
     "data": {
      "text/plain": [
       "96"
      ]
     },
     "execution_count": 37,
     "metadata": {},
     "output_type": "execute_result"
    },
    {
     "name": "stdout",
     "output_type": "stream",
     "text": [
      "Sellers Are Desperate: 4 Tips to Wholesale Real Estate in 2023\n",
      "QqCEbxKPPyw\n",
      "19,994 views\n",
      "1 year ago\n"
     ]
    },
    {
     "data": {
      "text/plain": [
       "102"
      ]
     },
     "execution_count": 37,
     "metadata": {},
     "output_type": "execute_result"
    },
    {
     "name": "stdout",
     "output_type": "stream",
     "text": [
      "Renting vs. Buying a Home: An Obvious Choice in 2023?\n",
      "THySFMZctEA\n",
      "39,895 views\n",
      "1 year ago\n"
     ]
    },
    {
     "data": {
      "text/plain": [
       "93"
      ]
     },
     "execution_count": 37,
     "metadata": {},
     "output_type": "execute_result"
    },
    {
     "name": "stdout",
     "output_type": "stream",
     "text": [
      "Goals, Breaks, and Interest Rate Mistakes! | Real Estate Recap\n",
      "YXMDXo_WrRg\n",
      "6,094 views\n",
      "1 year ago\n"
     ]
    },
    {
     "data": {
      "text/plain": [
       "103"
      ]
     },
     "execution_count": 37,
     "metadata": {},
     "output_type": "execute_result"
    },
    {
     "name": "stdout",
     "output_type": "stream",
     "text": [
      "The Post-Crash Pivot You MUST Make in Today?s Wild Housing Market\n",
      "461KuJZdLp8\n",
      "44,296 views\n",
      "1 year ago\n"
     ]
    },
    {
     "data": {
      "text/plain": [
       "105"
      ]
     },
     "execution_count": 37,
     "metadata": {},
     "output_type": "execute_result"
    },
    {
     "name": "stdout",
     "output_type": "stream",
     "text": [
      "EASY Fix and Flip vs. CHEAP Motel | Buy This, Not That\n",
      "MiOyDoC2hDo\n",
      "14,406 views\n",
      "1 year ago\n"
     ]
    },
    {
     "data": {
      "text/plain": [
       "96"
      ]
     },
     "execution_count": 37,
     "metadata": {},
     "output_type": "execute_result"
    },
    {
     "name": "stdout",
     "output_type": "stream",
     "text": [
      "How Rob Dyrdek Made Hundreds of Millions by Tracking Every Minute\n",
      "wYJPGZGPStM\n",
      "64,272 views\n",
      "1 year ago\n"
     ]
    },
    {
     "data": {
      "text/plain": [
       "105"
      ]
     },
     "execution_count": 37,
     "metadata": {},
     "output_type": "execute_result"
    },
    {
     "name": "stdout",
     "output_type": "stream",
     "text": [
      "How to Build a Real Estate Portfolio from SCRATCH in 2023\n",
      "c_OwSqXjkg4\n",
      "200,448 views\n",
      "1 year ago\n"
     ]
    },
    {
     "data": {
      "text/plain": [
       "98"
      ]
     },
     "execution_count": 37,
     "metadata": {},
     "output_type": "execute_result"
    },
    {
     "name": "stdout",
     "output_type": "stream",
     "text": [
      "Avoid These Off-Market Real Estate ?Deals?\n",
      "BuFqoeUi2C8\n",
      "33,321 views\n",
      "1 year ago\n"
     ]
    },
    {
     "data": {
      "text/plain": [
       "82"
      ]
     },
     "execution_count": 37,
     "metadata": {},
     "output_type": "execute_result"
    },
    {
     "name": "stdout",
     "output_type": "stream",
     "text": [
      "What Went Wrong in the 2022 Housing Market | Real Estate Recap\n",
      "mAQqxnnbe4U\n",
      "9,880 views\n",
      "1 year ago\n"
     ]
    },
    {
     "data": {
      "text/plain": [
       "101"
      ]
     },
     "execution_count": 37,
     "metadata": {},
     "output_type": "execute_result"
    },
    {
     "name": "stdout",
     "output_type": "stream",
     "text": [
      "From Toxic Divorce to Rental-Fueled Financial Freedom in 2 Years\n",
      "uN6KgzIbPqY\n",
      "76,397 views\n",
      "1 year ago\n"
     ]
    },
    {
     "data": {
      "text/plain": [
       "104"
      ]
     },
     "execution_count": 37,
     "metadata": {},
     "output_type": "execute_result"
    },
    {
     "name": "stdout",
     "output_type": "stream",
     "text": [
      "This Type of Real Estate Agent Will GROW Your Rental Portfolio\n",
      "D06FeAKToj8\n",
      "5,706 views\n",
      "1 year ago\n"
     ]
    },
    {
     "data": {
      "text/plain": [
       "101"
      ]
     },
     "execution_count": 37,
     "metadata": {},
     "output_type": "execute_result"
    },
    {
     "name": "stdout",
     "output_type": "stream",
     "text": [
      "BiggerNews December: Which Real Estate Markets Will Win in 2023?\n",
      "w8WnPtykB9w\n",
      "27,690 views\n",
      "1 year ago\n"
     ]
    },
    {
     "data": {
      "text/plain": [
       "104"
      ]
     },
     "execution_count": 37,
     "metadata": {},
     "output_type": "execute_result"
    },
    {
     "name": "stdout",
     "output_type": "stream",
     "text": [
      "2023 House Flipping Tips | BEAT Rising Interest Rates & Recessions\n",
      "-ECZjktS3Nc\n",
      "21,777 views\n",
      "1 year ago\n"
     ]
    },
    {
     "data": {
      "text/plain": [
       "106"
      ]
     },
     "execution_count": 37,
     "metadata": {},
     "output_type": "execute_result"
    },
    {
     "name": "stdout",
     "output_type": "stream",
     "text": [
      "Don?t Fall for the ?More Doors? Trap | 2023 Goal Setting\n",
      "ueimwmvy42g\n",
      "25,922 views\n",
      "1 year ago\n"
     ]
    },
    {
     "data": {
      "text/plain": [
       "96"
      ]
     },
     "execution_count": 37,
     "metadata": {},
     "output_type": "execute_result"
    },
    {
     "name": "stdout",
     "output_type": "stream",
     "text": [
      "These Housing Markets Have HUGE Potential in 2023\n",
      "psdqRrUjJ9A\n",
      "70,880 views\n",
      "1 year ago\n"
     ]
    },
    {
     "data": {
      "text/plain": [
       "89"
      ]
     },
     "execution_count": 37,
     "metadata": {},
     "output_type": "execute_result"
    },
    {
     "name": "stdout",
     "output_type": "stream",
     "text": [
      "Advice From a Billionaire That Made a Farm Boy a FORTUNE in Real Estate\n",
      "dz3yE3d5bVg\n",
      "28,263 views\n",
      "1 year ago\n"
     ]
    },
    {
     "data": {
      "text/plain": [
       "111"
      ]
     },
     "execution_count": 37,
     "metadata": {},
     "output_type": "execute_result"
    },
    {
     "name": "stdout",
     "output_type": "stream",
     "text": [
      "Buyers Are in Control: What to Know Before Buying a Home in 2023\n",
      "sRfc6_5DJBk\n",
      "21,978 views\n",
      "1 year ago\n"
     ]
    },
    {
     "data": {
      "text/plain": [
       "104"
      ]
     },
     "execution_count": 37,
     "metadata": {},
     "output_type": "execute_result"
    },
    {
     "name": "stdout",
     "output_type": "stream",
     "text": [
      "Achieve Financial Freedom in 2023 w/ Small Multifamily Investing\n",
      "o_ma7Vq24-k\n",
      "207,062 views\n",
      "1 year ago\n"
     ]
    },
    {
     "data": {
      "text/plain": [
       "105"
      ]
     },
     "execution_count": 37,
     "metadata": {},
     "output_type": "execute_result"
    },
    {
     "name": "stdout",
     "output_type": "stream",
     "text": [
      "I Almost Lost $100K On This House Flip (DON?T Do This)\n",
      "UTakSnESk98\n",
      "9,724 views\n",
      "1 year ago\n"
     ]
    },
    {
     "data": {
      "text/plain": [
       "93"
      ]
     },
     "execution_count": 37,
     "metadata": {},
     "output_type": "execute_result"
    },
    {
     "name": "stdout",
     "output_type": "stream",
     "text": [
      "How to Convert Home Equity into Cash Flow for Financial Freedom\n",
      "1d5tVT59Dzw\n",
      "64,815 views\n",
      "1 year ago\n"
     ]
    },
    {
     "data": {
      "text/plain": [
       "103"
      ]
     },
     "execution_count": 37,
     "metadata": {},
     "output_type": "execute_result"
    },
    {
     "name": "stdout",
     "output_type": "stream",
     "text": [
      "It?s Over: Inflation Is About to DROP\n",
      "nto3B1tIDhw\n",
      "31,146 views\n",
      "1 year ago\n"
     ]
    },
    {
     "data": {
      "text/plain": [
       "77"
      ]
     },
     "execution_count": 37,
     "metadata": {},
     "output_type": "execute_result"
    },
    {
     "name": "stdout",
     "output_type": "stream",
     "text": [
      "Fighting Cancer, Financial Freedom, and 20 Rentals in 2 Years!\n",
      "H17U36qsi6M\n",
      "8,322 views\n",
      "1 year ago\n"
     ]
    },
    {
     "data": {
      "text/plain": [
       "103"
      ]
     },
     "execution_count": 37,
     "metadata": {},
     "output_type": "execute_result"
    },
    {
     "name": "stdout",
     "output_type": "stream",
     "text": [
      "Want a Mentor? Two Things You Need to Be Taken Seriously\n",
      "cT0PODN-J_w\n",
      "5,141 views\n",
      "1 year ago\n"
     ]
    },
    {
     "data": {
      "text/plain": [
       "95"
      ]
     },
     "execution_count": 37,
     "metadata": {},
     "output_type": "execute_result"
    },
    {
     "name": "stdout",
     "output_type": "stream",
     "text": [
      "What Painless Rental Property Management Looks Like\n",
      "QhcFzFDbXWY\n",
      "36,371 views\n",
      "1 year ago\n"
     ]
    },
    {
     "data": {
      "text/plain": [
       "91"
      ]
     },
     "execution_count": 37,
     "metadata": {},
     "output_type": "execute_result"
    },
    {
     "name": "stdout",
     "output_type": "stream",
     "text": [
      "How I Made My Vacation Rental Business 100% Passive\n",
      "Y448feXwQpE\n",
      "21,273 views\n",
      "1 year ago\n"
     ]
    },
    {
     "data": {
      "text/plain": [
       "91"
      ]
     },
     "execution_count": 37,
     "metadata": {},
     "output_type": "execute_result"
    },
    {
     "name": "stdout",
     "output_type": "stream",
     "text": [
      "My Rental Properties Won?t Cash Flow! What Should I Do?\n",
      "Tcux2678OZw\n",
      "24,171 views\n",
      "1 year ago\n"
     ]
    },
    {
     "data": {
      "text/plain": [
       "95"
      ]
     },
     "execution_count": 37,
     "metadata": {},
     "output_type": "execute_result"
    },
    {
     "name": "stdout",
     "output_type": "stream",
     "text": [
      "Back to 5% Rates!? | How Mortgage Rates Could Crash in 2023\n",
      "MYb5aEY-ejo\n",
      "101,553 views\n",
      "1 year ago\n"
     ]
    },
    {
     "data": {
      "text/plain": [
       "100"
      ]
     },
     "execution_count": 37,
     "metadata": {},
     "output_type": "execute_result"
    },
    {
     "name": "stdout",
     "output_type": "stream",
     "text": [
      "The #1 Real Estate Tax Loophole | Pay ZERO Taxes in 2022\n",
      "OAGIc3GWuEs\n",
      "86,262 views\n",
      "1 year ago\n"
     ]
    },
    {
     "data": {
      "text/plain": [
       "96"
      ]
     },
     "execution_count": 37,
     "metadata": {},
     "output_type": "execute_result"
    },
    {
     "name": "stdout",
     "output_type": "stream",
     "text": [
      "Brain Hacks the Wealthy Use to Get Rich\n",
      "ZhJcK9SZuvA\n",
      "12,357 views\n",
      "1 year ago\n"
     ]
    },
    {
     "data": {
      "text/plain": [
       "79"
      ]
     },
     "execution_count": 37,
     "metadata": {},
     "output_type": "execute_result"
    },
    {
     "name": "stdout",
     "output_type": "stream",
     "text": [
      "Scott Galloway: America is Self-Sabotaging Its Own Citizens\n",
      "KJg9SAraNVI\n",
      "28,305 views\n",
      "1 year ago\n"
     ]
    },
    {
     "data": {
      "text/plain": [
       "99"
      ]
     },
     "execution_count": 37,
     "metadata": {},
     "output_type": "execute_result"
    },
    {
     "name": "stdout",
     "output_type": "stream",
     "text": [
      "6 Mistakes That Will RUIN Your Short-Term Rental Investment\n",
      "zMzDtDi5msA\n",
      "12,189 views\n",
      "1 year ago\n"
     ]
    },
    {
     "data": {
      "text/plain": [
       "99"
      ]
     },
     "execution_count": 37,
     "metadata": {},
     "output_type": "execute_result"
    },
    {
     "name": "stdout",
     "output_type": "stream",
     "text": [
      "How to Buy a Rental Property Even if You?re Strapped for Cash\n",
      "b436GANEtuo\n",
      "50,013 views\n",
      "1 year ago\n"
     ]
    },
    {
     "data": {
      "text/plain": [
       "101"
      ]
     },
     "execution_count": 37,
     "metadata": {},
     "output_type": "execute_result"
    },
    {
     "name": "stdout",
     "output_type": "stream",
     "text": [
      "Home Sales TANK as the Housing Market Correction Continues\n",
      "LD8Nhxub0iY\n",
      "32,229 views\n",
      "1 year ago\n"
     ]
    },
    {
     "data": {
      "text/plain": [
       "98"
      ]
     },
     "execution_count": 37,
     "metadata": {},
     "output_type": "execute_result"
    },
    {
     "name": "stdout",
     "output_type": "stream",
     "text": [
      "Turning an NBA Salary into 7-Figure House Flips w/Evan Turner\n",
      "CnARQ6n-sFg\n",
      "9,281 views\n",
      "1 year ago\n"
     ]
    },
    {
     "data": {
      "text/plain": [
       "100"
      ]
     },
     "execution_count": 37,
     "metadata": {},
     "output_type": "execute_result"
    },
    {
     "name": "stdout",
     "output_type": "stream",
     "text": [
      "The Secret to 10x-ing Your 2023 Goals | How to Set Goals\n",
      "POh7O8Md3F4\n",
      "10,083 views\n",
      "1 year ago\n"
     ]
    },
    {
     "data": {
      "text/plain": [
       "96"
      ]
     },
     "execution_count": 37,
     "metadata": {},
     "output_type": "execute_result"
    },
    {
     "name": "stdout",
     "output_type": "stream",
     "text": [
      "The EASIEST Way to Find Off-Market Properties in 2023\n",
      "kWpvuARo1KQ\n",
      "28,899 views\n",
      "1 year ago\n"
     ]
    },
    {
     "data": {
      "text/plain": [
       "93"
      ]
     },
     "execution_count": 37,
     "metadata": {},
     "output_type": "execute_result"
    },
    {
     "name": "stdout",
     "output_type": "stream",
     "text": [
      "Garage Converted into BEAUTIFUL 1-Bed/1-Bath for $30,000\n",
      "IGm0ps7TGVE\n",
      "58,036 views\n",
      "1 year ago\n"
     ]
    },
    {
     "data": {
      "text/plain": [
       "98"
      ]
     },
     "execution_count": 37,
     "metadata": {},
     "output_type": "execute_result"
    },
    {
     "name": "stdout",
     "output_type": "stream",
     "text": [
      "Interest Rates, ?Ego?, and Why You WANT to Get More Debt\n",
      "zNobGZ4fwDQ\n",
      "48,181 views\n",
      "1 year ago\n"
     ]
    },
    {
     "data": {
      "text/plain": [
       "98"
      ]
     },
     "execution_count": 37,
     "metadata": {},
     "output_type": "execute_result"
    },
    {
     "name": "stdout",
     "output_type": "stream",
     "text": [
      "How to Find Real Estate Agents (For Investors)\n",
      "UonGC19fsoI\n",
      "6,578 views\n",
      "1 year ago\n"
     ]
    },
    {
     "data": {
      "text/plain": [
       "85"
      ]
     },
     "execution_count": 37,
     "metadata": {},
     "output_type": "execute_result"
    },
    {
     "name": "stdout",
     "output_type": "stream",
     "text": [
      "Rent Prices Drop as Landlords Brace for a Recession\n",
      "7tXwyl4q0Dk\n",
      "32,112 views\n",
      "1 year ago\n"
     ]
    },
    {
     "data": {
      "text/plain": [
       "91"
      ]
     },
     "execution_count": 37,
     "metadata": {},
     "output_type": "execute_result"
    },
    {
     "name": "stdout",
     "output_type": "stream",
     "text": [
      "Real Estate Tips, Deal Reviews, and BiggerPockets Behind the Scenes\n",
      "dLrAxa6T_II\n",
      "7,289 views\n",
      "1 year ago\n"
     ]
    },
    {
     "data": {
      "text/plain": [
       "108"
      ]
     },
     "execution_count": 37,
     "metadata": {},
     "output_type": "execute_result"
    },
    {
     "name": "stdout",
     "output_type": "stream",
     "text": [
      "Chris Voss on Why You Want a Seller/Buyer to Say ?NO?\n",
      "a1QPepBhl_Q\n",
      "19,632 views\n",
      "1 year ago\n"
     ]
    },
    {
     "data": {
      "text/plain": [
       "93"
      ]
     },
     "execution_count": 37,
     "metadata": {},
     "output_type": "execute_result"
    },
    {
     "name": "stdout",
     "output_type": "stream",
     "text": [
      "The 5-Minute House Flipping Spreadsheet That Saves WEEKS of Time\n",
      "3FTpW8rAEfU\n",
      "16,278 views\n",
      "1 year ago\n"
     ]
    },
    {
     "data": {
      "text/plain": [
       "104"
      ]
     },
     "execution_count": 37,
     "metadata": {},
     "output_type": "execute_result"
    },
    {
     "name": "stdout",
     "output_type": "stream",
     "text": [
      "The Office Investment ?Apocalypse? That Never Happened | BiggerNews November\n",
      "4UGgUYsRJJU\n",
      "7,199 views\n",
      "1 year ago\n"
     ]
    },
    {
     "data": {
      "text/plain": [
       "115"
      ]
     },
     "execution_count": 37,
     "metadata": {},
     "output_type": "execute_result"
    },
    {
     "name": "stdout",
     "output_type": "stream",
     "text": [
      "The \"Dead Body\" Real Estate Deal and How an Entity Stole My Equity\n",
      "uMRgMxHGiH4\n",
      "4,219 views\n",
      "1 year ago\n"
     ]
    },
    {
     "data": {
      "text/plain": [
       "109"
      ]
     },
     "execution_count": 37,
     "metadata": {},
     "output_type": "execute_result"
    },
    {
     "name": "stdout",
     "output_type": "stream",
     "text": [
      "Stabbings, Six-Figure Losses, and the Dark Side of Real Estate\n",
      "e9mromXuDCw\n",
      "9,967 views\n",
      "1 year ago\n"
     ]
    },
    {
     "data": {
      "text/plain": [
       "103"
      ]
     },
     "execution_count": 37,
     "metadata": {},
     "output_type": "execute_result"
    },
    {
     "name": "stdout",
     "output_type": "stream",
     "text": [
      "11 Ways to Invest During a Housing Correction (or Market Crash!)\n",
      "S922phfEdE4\n",
      "48,767 views\n",
      "1 year ago\n"
     ]
    },
    {
     "data": {
      "text/plain": [
       "104"
      ]
     },
     "execution_count": 37,
     "metadata": {},
     "output_type": "execute_result"
    },
    {
     "name": "stdout",
     "output_type": "stream",
     "text": [
      "The Danger of Hosting Your Short-Term Rentals on The \"Big\" Sites\n",
      "BXdUyQMfQBU\n",
      "15,137 views\n",
      "1 year ago\n"
     ]
    },
    {
     "data": {
      "text/plain": [
       "108"
      ]
     },
     "execution_count": 37,
     "metadata": {},
     "output_type": "execute_result"
    },
    {
     "name": "stdout",
     "output_type": "stream",
     "text": [
      "What NOT to Do When Buying a House: 5 Crucial Mistakes\n",
      "Gjwa4DNmTmE\n",
      "11,553 views\n",
      "1 year ago\n"
     ]
    },
    {
     "data": {
      "text/plain": [
       "94"
      ]
     },
     "execution_count": 37,
     "metadata": {},
     "output_type": "execute_result"
    },
    {
     "name": "stdout",
     "output_type": "stream",
     "text": [
      "Are Medium-Term Rentals the Easiest Real Estate Investment of 2023?\n",
      "cCJlma1vjTc\n",
      "59,361 views\n",
      "1 year ago\n"
     ]
    },
    {
     "data": {
      "text/plain": [
       "107"
      ]
     },
     "execution_count": 37,
     "metadata": {},
     "output_type": "execute_result"
    },
    {
     "name": "stdout",
     "output_type": "stream",
     "text": [
      "The $70K House Flipping Fail | Before and After, Final Numbers\n",
      "RJzIOMXv-qM\n",
      "16,017 views\n",
      "1 year ago\n"
     ]
    },
    {
     "data": {
      "text/plain": [
       "104"
      ]
     },
     "execution_count": 37,
     "metadata": {},
     "output_type": "execute_result"
    },
    {
     "name": "stdout",
     "output_type": "stream",
     "text": [
      "How to Find Housing Market Steals as Sellers Get Realistic\n",
      "CTNZCwNLVJQ\n",
      "59,376 views\n",
      "1 year ago\n"
     ]
    },
    {
     "data": {
      "text/plain": [
       "98"
      ]
     },
     "execution_count": 37,
     "metadata": {},
     "output_type": "execute_result"
    },
    {
     "name": "stdout",
     "output_type": "stream",
     "text": [
      "Double-Digit Price Drops Ahead? | 2023 Housing Market Forecast\n",
      "XuO2qZFJKDk\n",
      "101,681 views\n",
      "1 year ago\n"
     ]
    },
    {
     "data": {
      "text/plain": [
       "103"
      ]
     },
     "execution_count": 37,
     "metadata": {},
     "output_type": "execute_result"
    },
    {
     "name": "stdout",
     "output_type": "stream",
     "text": [
      "Financial Freedom in 2 Years By ONLY Buying Off-Market Rentals\n",
      "Ql-fRFvI6hk\n",
      "136,096 views\n",
      "1 year ago\n"
     ]
    },
    {
     "data": {
      "text/plain": [
       "103"
      ]
     },
     "execution_count": 37,
     "metadata": {},
     "output_type": "execute_result"
    },
    {
     "name": "stdout",
     "output_type": "stream",
     "text": [
      "How to Become a ?Hands-Off? Medium-Term Rental Property Investor\n",
      "d7n-vdcHG5M\n",
      "15,905 views\n",
      "1 year ago\n"
     ]
    },
    {
     "data": {
      "text/plain": [
       "104"
      ]
     },
     "execution_count": 37,
     "metadata": {},
     "output_type": "execute_result"
    },
    {
     "name": "stdout",
     "output_type": "stream",
     "text": [
      "What Went Wrong in 1 Week of Self-Managing My Short-Term Rentals\n",
      "xPn4VkuZuWM\n",
      "12,171 views\n",
      "1 year ago\n"
     ]
    },
    {
     "data": {
      "text/plain": [
       "104"
      ]
     },
     "execution_count": 37,
     "metadata": {},
     "output_type": "execute_result"
    },
    {
     "name": "stdout",
     "output_type": "stream",
     "text": [
      "The No/Low-Cost Way to Grow Your Real Estate Investing Team\n",
      "Cu5JDn7pxnE\n",
      "12,602 views\n",
      "1 year ago\n"
     ]
    },
    {
     "data": {
      "text/plain": [
       "99"
      ]
     },
     "execution_count": 37,
     "metadata": {},
     "output_type": "execute_result"
    },
    {
     "name": "stdout",
     "output_type": "stream",
     "text": [
      "Is Refinancing a Smart Move with Rising Mortgage Rates?\n",
      "-_EvkKGSCfg\n",
      "21,415 views\n",
      "1 year ago\n"
     ]
    },
    {
     "data": {
      "text/plain": [
       "95"
      ]
     },
     "execution_count": 37,
     "metadata": {},
     "output_type": "execute_result"
    },
    {
     "name": "stdout",
     "output_type": "stream",
     "text": [
      "How to Calculate Rental Property Returns Using The \"Metric Matrix\"\n",
      "TlO3pHTk124\n",
      "12,924 views\n",
      "1 year ago\n"
     ]
    },
    {
     "data": {
      "text/plain": [
       "110"
      ]
     },
     "execution_count": 37,
     "metadata": {},
     "output_type": "execute_result"
    },
    {
     "name": "stdout",
     "output_type": "stream",
     "text": [
      "Single Mom to 60+ Unit Landlord and an Update From Ashley Hamilton\n",
      "ZC-alkT7lg8\n",
      "63,286 views\n",
      "1 year ago\n"
     ]
    },
    {
     "data": {
      "text/plain": [
       "106"
      ]
     },
     "execution_count": 37,
     "metadata": {},
     "output_type": "execute_result"
    },
    {
     "name": "stdout",
     "output_type": "stream",
     "text": [
      "Best Real Estate Markets for Mid-Term Rental Properties (Travel Nurses)\n",
      "VHBfRiM13Ho\n",
      "30,677 views\n",
      "1 year ago\n"
     ]
    },
    {
     "data": {
      "text/plain": [
       "111"
      ]
     },
     "execution_count": 37,
     "metadata": {},
     "output_type": "execute_result"
    },
    {
     "name": "stdout",
     "output_type": "stream",
     "text": [
      "Why Expert Real Estate Investors Think About More Than Cash Flow\n",
      "2xxAd1amNd4\n",
      "22,135 views\n",
      "1 year ago\n"
     ]
    },
    {
     "data": {
      "text/plain": [
       "104"
      ]
     },
     "execution_count": 37,
     "metadata": {},
     "output_type": "execute_result"
    },
    {
     "name": "stdout",
     "output_type": "stream",
     "text": [
      "If I Had to Start Over in Real Estate in 2022, Here's What I'd Do\n",
      "4YHDPzL25Sw\n",
      "97,986 views\n",
      "1 year ago\n"
     ]
    },
    {
     "data": {
      "text/plain": [
       "107"
      ]
     },
     "execution_count": 37,
     "metadata": {},
     "output_type": "execute_result"
    },
    {
     "name": "stdout",
     "output_type": "stream",
     "text": [
      "Why Rising Interest Rates Are Good for Real Estate Investing\n",
      "17UryqgQ_uI\n",
      "75,443 views\n",
      "1 year ago\n"
     ]
    },
    {
     "data": {
      "text/plain": [
       "100"
      ]
     },
     "execution_count": 37,
     "metadata": {},
     "output_type": "execute_result"
    },
    {
     "name": "stdout",
     "output_type": "stream",
     "text": [
      "4 Ways Real Estate Investing Will Make You Rich\n",
      "WdNEnBbRm4A\n",
      "16,219 views\n",
      "1 year ago\n"
     ]
    },
    {
     "data": {
      "text/plain": [
       "87"
      ]
     },
     "execution_count": 37,
     "metadata": {},
     "output_type": "execute_result"
    },
    {
     "name": "stdout",
     "output_type": "stream",
     "text": [
      "Making $12K/Month (Per Property!) With Assisted Living Investing\n",
      "TG7zIu1WaNo\n",
      "127,687 views\n",
      "1 year ago\n"
     ]
    },
    {
     "data": {
      "text/plain": [
       "105"
      ]
     },
     "execution_count": 37,
     "metadata": {},
     "output_type": "execute_result"
    },
    {
     "name": "stdout",
     "output_type": "stream",
     "text": [
      "Medium-Term Rentals 101: A Better Bet Than Vacation Rentals?\n",
      "OH611iLDBKs\n",
      "33,625 views\n",
      "1 year ago\n"
     ]
    },
    {
     "data": {
      "text/plain": [
       "100"
      ]
     },
     "execution_count": 37,
     "metadata": {},
     "output_type": "execute_result"
    },
    {
     "name": "stdout",
     "output_type": "stream",
     "text": [
      "BiggerNews October: How to Win in a ?Manipulated? Housing Market\n",
      "MQ3iIIaH-Hg\n",
      "24,170 views\n",
      "1 year ago\n"
     ]
    },
    {
     "data": {
      "text/plain": [
       "104"
      ]
     },
     "execution_count": 37,
     "metadata": {},
     "output_type": "execute_result"
    },
    {
     "name": "stdout",
     "output_type": "stream",
     "text": [
      "5 Properties in 5 Years by \"Stacking\" Your House Hacks\n",
      "NtLGDnS6_Mg\n",
      "20,868 views\n",
      "1 year ago\n"
     ]
    },
    {
     "data": {
      "text/plain": [
       "98"
      ]
     },
     "execution_count": 37,
     "metadata": {},
     "output_type": "execute_result"
    },
    {
     "name": "stdout",
     "output_type": "stream",
     "text": [
      "BRRRR Investing Just Got Easier\n",
      "Yny5kXLIb98\n",
      "62,927 views\n",
      "1 year ago\n"
     ]
    },
    {
     "data": {
      "text/plain": [
       "71"
      ]
     },
     "execution_count": 37,
     "metadata": {},
     "output_type": "execute_result"
    },
    {
     "name": "stdout",
     "output_type": "stream",
     "text": [
      "3 Steps to Push Past Fear and Buy Your First Rental Property\n",
      "t24DEQfVzNU\n",
      "13,346 views\n",
      "1 year ago\n"
     ]
    },
    {
     "data": {
      "text/plain": [
       "100"
      ]
     },
     "execution_count": 37,
     "metadata": {},
     "output_type": "execute_result"
    },
    {
     "name": "stdout",
     "output_type": "stream",
     "text": [
      "Financial Freedom in 3 Years by Making Housing Affordable in Hawaii\n",
      "UDm6BHfhF-8\n",
      "38,013 views\n",
      "1 year ago\n"
     ]
    },
    {
     "data": {
      "text/plain": [
       "107"
      ]
     },
     "execution_count": 37,
     "metadata": {},
     "output_type": "execute_result"
    },
    {
     "name": "stdout",
     "output_type": "stream",
     "text": [
      "Why Going $100K Over Budget On This House Flip Was Worth It\n",
      "SS8X27q4d3A\n",
      "9,829 views\n",
      "1 year ago\n"
     ]
    },
    {
     "data": {
      "text/plain": [
       "98"
      ]
     },
     "execution_count": 37,
     "metadata": {},
     "output_type": "execute_result"
    },
    {
     "name": "stdout",
     "output_type": "stream",
     "text": [
      "Where to Find Deeply-Discounted Investment Properties on the MLS\n",
      "pSNoQXAecAg\n",
      "48,259 views\n",
      "1 year ago\n"
     ]
    },
    {
     "data": {
      "text/plain": [
       "104"
      ]
     },
     "execution_count": 37,
     "metadata": {},
     "output_type": "execute_result"
    },
    {
     "name": "stdout",
     "output_type": "stream",
     "text": [
      "Buying Your ?Dream Home? Will Make You Broke\n",
      "2H8IREnkzEM\n",
      "11,612 views\n",
      "1 year ago\n"
     ]
    },
    {
     "data": {
      "text/plain": [
       "84"
      ]
     },
     "execution_count": 37,
     "metadata": {},
     "output_type": "execute_result"
    },
    {
     "name": "stdout",
     "output_type": "stream",
     "text": [
      "A Faster Way to Invest in Real Estate WITHOUT a W2 (Investment Loans)\n",
      "F8vYFEOAHSY\n",
      "32,270 views\n",
      "1 year ago\n"
     ]
    },
    {
     "data": {
      "text/plain": [
       "109"
      ]
     },
     "execution_count": 37,
     "metadata": {},
     "output_type": "execute_result"
    },
    {
     "name": "stdout",
     "output_type": "stream",
     "text": [
      "Million-Dollar Miami Apartments vs. $60K House Flips in Ohio | Buy This, Not That\n",
      "_3jRcT4uuYY\n",
      "30,727 views\n",
      "1 year ago\n"
     ]
    },
    {
     "data": {
      "text/plain": [
       "123"
      ]
     },
     "execution_count": 37,
     "metadata": {},
     "output_type": "execute_result"
    },
    {
     "name": "stdout",
     "output_type": "stream",
     "text": [
      "Building a 150-Unit Short-Term Rental Arbitrage Empire\n",
      "BSp9YgLNwVY\n",
      "21,225 views\n",
      "1 year ago\n"
     ]
    },
    {
     "data": {
      "text/plain": [
       "94"
      ]
     },
     "execution_count": 37,
     "metadata": {},
     "output_type": "execute_result"
    },
    {
     "name": "stdout",
     "output_type": "stream",
     "text": [
      "Get On the Off-Market Deal List & Making a Fortune Wholesaling\n",
      "dyHmWzRYm1M\n",
      "8,097 views\n",
      "1 year ago\n"
     ]
    },
    {
     "data": {
      "text/plain": [
       "101"
      ]
     },
     "execution_count": 37,
     "metadata": {},
     "output_type": "execute_result"
    },
    {
     "name": "stdout",
     "output_type": "stream",
     "text": [
      "Bypass the Brain, Pitch Anything, and Get What You Want w/Oren Klaff\n",
      "FYw_6ovoxt8\n",
      "16,766 views\n",
      "1 year ago\n"
     ]
    },
    {
     "data": {
      "text/plain": [
       "110"
      ]
     },
     "execution_count": 37,
     "metadata": {},
     "output_type": "execute_result"
    },
    {
     "name": "stdout",
     "output_type": "stream",
     "text": [
      "Is Renting to Friends a Huge House Hacking Mistake?\n",
      "UNZAwcF1Hng\n",
      "6,095 views\n",
      "1 year ago\n"
     ]
    },
    {
     "data": {
      "text/plain": [
       "90"
      ]
     },
     "execution_count": 37,
     "metadata": {},
     "output_type": "execute_result"
    },
    {
     "name": "stdout",
     "output_type": "stream",
     "text": [
      "Win Any Pitch, Control Every Deal, and Become the \"Alpha\" w/ Oren Klaff\n",
      "wFIE7ObhoHg\n",
      "12,661 views\n",
      "1 year ago\n"
     ]
    },
    {
     "data": {
      "text/plain": [
       "115"
      ]
     },
     "execution_count": 37,
     "metadata": {},
     "output_type": "execute_result"
    },
    {
     "name": "stdout",
     "output_type": "stream",
     "text": [
      "Cash Flow in Florida, Buyer's Market in Maricopa, and \"Phantom\" Flips\n",
      "lTzIGoZAcG8\n",
      "20,399 views\n",
      "1 year ago\n"
     ]
    },
    {
     "data": {
      "text/plain": [
       "113"
      ]
     },
     "execution_count": 37,
     "metadata": {},
     "output_type": "execute_result"
    },
    {
     "name": "stdout",
     "output_type": "stream",
     "text": [
      "Cash Flow IS NOT the Key and Why ROE Beats ROI\n",
      "ssjG55V3PIU\n",
      "30,301 views\n",
      "1 year ago\n"
     ]
    },
    {
     "data": {
      "text/plain": [
       "86"
      ]
     },
     "execution_count": 37,
     "metadata": {},
     "output_type": "execute_result"
    },
    {
     "name": "stdout",
     "output_type": "stream",
     "text": [
      "Today?s Shaky Housing Market and 6 Ways NOT to Get Burnt\n",
      "kD642To8rk4\n",
      "33,775 views\n",
      "1 year ago\n"
     ]
    },
    {
     "data": {
      "text/plain": [
       "96"
      ]
     },
     "execution_count": 37,
     "metadata": {},
     "output_type": "execute_result"
    },
    {
     "name": "stdout",
     "output_type": "stream",
     "text": [
      "Beginner Steps to Invest in Today?s ?Fearful? Multifamily Market\n",
      "4IOB717Adbc\n",
      "43,130 views\n",
      "1 year ago\n"
     ]
    },
    {
     "data": {
      "text/plain": [
       "104"
      ]
     },
     "execution_count": 37,
     "metadata": {},
     "output_type": "execute_result"
    },
    {
     "name": "stdout",
     "output_type": "stream",
     "text": [
      "The 150 SQFT ?House Hack-Bnb? Making $2,500/Month (Full Tour)\n",
      "3JWpNzV-Xzg\n",
      "12,307 views\n",
      "1 year ago\n"
     ]
    },
    {
     "data": {
      "text/plain": [
       "103"
      ]
     },
     "execution_count": 37,
     "metadata": {},
     "output_type": "execute_result"
    },
    {
     "name": "stdout",
     "output_type": "stream",
     "text": [
      "The 20-Unit Hotel BRRRR That Makes $750K Per Year\n",
      "4rJ9okp9dig\n",
      "24,714 views\n",
      "1 year ago\n"
     ]
    },
    {
     "data": {
      "text/plain": [
       "89"
      ]
     },
     "execution_count": 37,
     "metadata": {},
     "output_type": "execute_result"
    },
    {
     "name": "stdout",
     "output_type": "stream",
     "text": [
      "5 Things I Would NEVER Do When Buying a Rental Property\n",
      "Fz98jcvKKbA\n",
      "22,019 views\n",
      "1 year ago\n"
     ]
    },
    {
     "data": {
      "text/plain": [
       "95"
      ]
     },
     "execution_count": 37,
     "metadata": {},
     "output_type": "execute_result"
    },
    {
     "name": "stdout",
     "output_type": "stream",
     "text": [
      "The $500/Hour Cold Calling ?Game? That Makes Real Estate Easy\n",
      "zLrDsRjEZ1k\n",
      "17,954 views\n",
      "1 year ago\n"
     ]
    },
    {
     "data": {
      "text/plain": [
       "101"
      ]
     },
     "execution_count": 37,
     "metadata": {},
     "output_type": "execute_result"
    },
    {
     "name": "stdout",
     "output_type": "stream",
     "text": [
      "6 Guaranteed Ways to Lose Money When Hiring Contractors\n",
      "YHFHCXiWOr4\n",
      "21,048 views\n",
      "1 year ago\n"
     ]
    },
    {
     "data": {
      "text/plain": [
       "95"
      ]
     },
     "execution_count": 37,
     "metadata": {},
     "output_type": "execute_result"
    },
    {
     "name": "stdout",
     "output_type": "stream",
     "text": [
      "How High Will Mortgage Rates Get in 2022? | BiggerNews September\n",
      "Oeup835Ir7w\n",
      "25,223 views\n",
      "1 year ago\n"
     ]
    },
    {
     "data": {
      "text/plain": [
       "104"
      ]
     },
     "execution_count": 37,
     "metadata": {},
     "output_type": "execute_result"
    },
    {
     "name": "stdout",
     "output_type": "stream",
     "text": [
      "The House Hack From Hell That Made Me $1,000,000\n",
      "eCbrEk4nnZc\n",
      "14,031 views\n",
      "1 year ago\n"
     ]
    },
    {
     "data": {
      "text/plain": [
       "90"
      ]
     },
     "execution_count": 37,
     "metadata": {},
     "output_type": "execute_result"
    },
    {
     "name": "stdout",
     "output_type": "stream",
     "text": [
      "What?s the Best Way to Build Wealth? (In 10 Years or Less)\n",
      "y4pAFBRvXzM\n",
      "71,540 views\n",
      "1 year ago\n"
     ]
    },
    {
     "data": {
      "text/plain": [
       "98"
      ]
     },
     "execution_count": 37,
     "metadata": {},
     "output_type": "execute_result"
    },
    {
     "name": "stdout",
     "output_type": "stream",
     "text": [
      "The Housing Market ?Splits? As a Correction Takes Shape\n",
      "V_4zGE5nXTA\n",
      "73,315 views\n",
      "1 year ago\n"
     ]
    },
    {
     "data": {
      "text/plain": [
       "95"
      ]
     },
     "execution_count": 37,
     "metadata": {},
     "output_type": "execute_result"
    },
    {
     "name": "stdout",
     "output_type": "stream",
     "text": [
      "Wholesaling a Church and Reviving a \"Dead\" Real Estate Deal\n",
      "YGfp061JBQg\n",
      "7,473 views\n",
      "1 year ago\n"
     ]
    },
    {
     "data": {
      "text/plain": [
       "102"
      ]
     },
     "execution_count": 37,
     "metadata": {},
     "output_type": "execute_result"
    },
    {
     "name": "stdout",
     "output_type": "stream",
     "text": [
      "\"Buying More Rentals\" is the WRONG Way to Scale Real Estate\n",
      "_-CzQEgChK8\n",
      "39,177 views\n",
      "1 year ago\n"
     ]
    },
    {
     "data": {
      "text/plain": [
       "103"
      ]
     },
     "execution_count": 37,
     "metadata": {},
     "output_type": "execute_result"
    },
    {
     "name": "stdout",
     "output_type": "stream",
     "text": [
      "Interest Rates, Returns, and Private Money Red Flags\n",
      "nVPPwx__Tk4\n",
      "15,038 views\n",
      "1 year ago\n"
     ]
    },
    {
     "data": {
      "text/plain": [
       "94"
      ]
     },
     "execution_count": 37,
     "metadata": {},
     "output_type": "execute_result"
    },
    {
     "name": "stdout",
     "output_type": "stream",
     "text": [
      "Become a Rent-By-The-Room Millionaire with The House Hack \"Stack\"\n",
      "EqG6rCzTB8w\n",
      "44,672 views\n",
      "1 year ago\n"
     ]
    },
    {
     "data": {
      "text/plain": [
       "109"
      ]
     },
     "execution_count": 37,
     "metadata": {},
     "output_type": "execute_result"
    },
    {
     "name": "stdout",
     "output_type": "stream",
     "text": [
      "How ?The Pool Guy? Found Private Money for Real Estate Deals\n",
      "BR-gqaKS2i8\n",
      "14,774 views\n",
      "1 year ago\n"
     ]
    },
    {
     "data": {
      "text/plain": [
       "100"
      ]
     },
     "execution_count": 37,
     "metadata": {},
     "output_type": "execute_result"
    },
    {
     "name": "stdout",
     "output_type": "stream",
     "text": [
      "Housing Market Power Shifts Back to Buyers as Days on Market Rise\n",
      "6ZqUxzm0F9E\n",
      "53,457 views\n",
      "1 year ago\n"
     ]
    },
    {
     "data": {
      "text/plain": [
       "105"
      ]
     },
     "execution_count": 37,
     "metadata": {},
     "output_type": "execute_result"
    },
    {
     "name": "stdout",
     "output_type": "stream",
     "text": [
      "The #1 Tip from Flip or Flop Star Tarek El Moussa? Lose More Money!\n",
      "gJJ0FZ4FGdQ\n",
      "38,250 views\n",
      "1 year ago\n"
     ]
    },
    {
     "data": {
      "text/plain": [
       "107"
      ]
     },
     "execution_count": 37,
     "metadata": {},
     "output_type": "execute_result"
    },
    {
     "name": "stdout",
     "output_type": "stream",
     "text": [
      "5 ?No Cash Needed? Ways to Buy Rental Properties\n",
      "hgzXKirJKIU\n",
      "27,913 views\n",
      "1 year ago\n"
     ]
    },
    {
     "data": {
      "text/plain": [
       "88"
      ]
     },
     "execution_count": 37,
     "metadata": {},
     "output_type": "execute_result"
    },
    {
     "name": "stdout",
     "output_type": "stream",
     "text": [
      "The Landlord Lowdown: Tenant Credits, Room Rentals, and More\n",
      "dc3GjxtNzSY\n",
      "23,261 views\n",
      "1 year ago\n"
     ]
    },
    {
     "data": {
      "text/plain": [
       "102"
      ]
     },
     "execution_count": 37,
     "metadata": {},
     "output_type": "execute_result"
    },
    {
     "name": "stdout",
     "output_type": "stream",
     "text": [
      "High Interest Rates Can't Touch House Hacking\n",
      "7qAtVYWazB8\n",
      "48,591 views\n",
      "1 year ago\n"
     ]
    },
    {
     "data": {
      "text/plain": [
       "85"
      ]
     },
     "execution_count": 37,
     "metadata": {},
     "output_type": "execute_result"
    },
    {
     "name": "stdout",
     "output_type": "stream",
     "text": [
      "Recession Risk, Renting to Family, and Real Estate Markets\n",
      "5JOnELTQ-8I\n",
      "32,013 views\n",
      "1 year ago\n"
     ]
    },
    {
     "data": {
      "text/plain": [
       "100"
      ]
     },
     "execution_count": 37,
     "metadata": {},
     "output_type": "execute_result"
    },
    {
     "name": "stdout",
     "output_type": "stream",
     "text": [
      "Legit or Quit? Signs You Should Quit Your Job ASAP\n",
      "1jMU1qGN0Yk\n",
      "7,922 views\n",
      "1 year ago\n"
     ]
    },
    {
     "data": {
      "text/plain": [
       "89"
      ]
     },
     "execution_count": 37,
     "metadata": {},
     "output_type": "execute_result"
    },
    {
     "name": "stdout",
     "output_type": "stream",
     "text": [
      "Million Dollar Tips For Your Real Estate Business (Wholesaling)\n",
      "xXofCO-WvII\n",
      "7,543 views\n",
      "1 year ago\n"
     ]
    },
    {
     "data": {
      "text/plain": [
       "102"
      ]
     },
     "execution_count": 37,
     "metadata": {},
     "output_type": "execute_result"
    },
    {
     "name": "stdout",
     "output_type": "stream",
     "text": [
      "Glamping, Camping, & Making $2.5M/Year with One RV Park Investment\n",
      "5KEzEUe4ykc\n",
      "37,290 views\n",
      "1 year ago\n"
     ]
    },
    {
     "data": {
      "text/plain": [
       "108"
      ]
     },
     "execution_count": 37,
     "metadata": {},
     "output_type": "execute_result"
    },
    {
     "name": "stdout",
     "output_type": "stream",
     "text": [
      "Underwriting Multifamily Properties: 7 Things You NEED to Know\n",
      "D_-oEJ4OnYM\n",
      "11,939 views\n",
      "1 year ago\n"
     ]
    },
    {
     "data": {
      "text/plain": [
       "102"
      ]
     },
     "execution_count": 37,
     "metadata": {},
     "output_type": "execute_result"
    },
    {
     "name": "stdout",
     "output_type": "stream",
     "text": [
      "Alex Hormozi on The One Investment That'll Make You a Millionaire\n",
      "EMs0sxYdG2I\n",
      "300,778 views\n",
      "1 year ago\n"
     ]
    },
    {
     "data": {
      "text/plain": [
       "106"
      ]
     },
     "execution_count": 37,
     "metadata": {},
     "output_type": "execute_result"
    },
    {
     "name": "stdout",
     "output_type": "stream",
     "text": [
      "10 ?High Cash Flow? Real Estate Markets of 2022\n",
      "aIO47rn15GE\n",
      "42,911 views\n",
      "1 year ago\n"
     ]
    },
    {
     "data": {
      "text/plain": [
       "87"
      ]
     },
     "execution_count": 37,
     "metadata": {},
     "output_type": "execute_result"
    },
    {
     "name": "stdout",
     "output_type": "stream",
     "text": [
      "Why Quitting Your Job Could Make You a Millionaire\n",
      "78By_Z2nhHk\n",
      "33,560 views\n",
      "1 year ago\n"
     ]
    },
    {
     "data": {
      "text/plain": [
       "90"
      ]
     },
     "execution_count": 37,
     "metadata": {},
     "output_type": "execute_result"
    },
    {
     "name": "stdout",
     "output_type": "stream",
     "text": [
      "Buy Your First Real Estate Deal Faster | BiggerPockets Bootcamps\n",
      "HWpdxjAuOkE\n",
      "6,849 views\n",
      "1 year ago\n"
     ]
    },
    {
     "data": {
      "text/plain": [
       "103"
      ]
     },
     "execution_count": 37,
     "metadata": {},
     "output_type": "execute_result"
    },
    {
     "name": "stdout",
     "output_type": "stream",
     "text": [
      "New Real Estate Investor Home Loans DON?T Require a W2\n",
      "UMbDLoRCao0\n",
      "83,264 views\n",
      "1 year ago\n"
     ]
    },
    {
     "data": {
      "text/plain": [
       "94"
      ]
     },
     "execution_count": 37,
     "metadata": {},
     "output_type": "execute_result"
    },
    {
     "name": "stdout",
     "output_type": "stream",
     "text": [
      "Why Tweaking Your \"Tone\" Will Boost Your Real Estate Leads\n",
      "ghUxkz9Oj-Y\n",
      "10,182 views\n",
      "1 year ago\n"
     ]
    },
    {
     "data": {
      "text/plain": [
       "102"
      ]
     },
     "execution_count": 37,
     "metadata": {},
     "output_type": "execute_result"
    },
    {
     "name": "stdout",
     "output_type": "stream",
     "text": [
      "Getting Paid $50K to Buy Rental Properties (BRRRR Investing)\n",
      "Dh4qbiYJm78\n",
      "12,597 views\n",
      "1 year ago\n"
     ]
    },
    {
     "data": {
      "text/plain": [
       "100"
      ]
     },
     "execution_count": 37,
     "metadata": {},
     "output_type": "execute_result"
    },
    {
     "name": "stdout",
     "output_type": "stream",
     "text": [
      "How to Invest Like Warren Buffett as Asset Prices Plummet\n",
      "csNIygFcb4o\n",
      "23,078 views\n",
      "1 year ago\n"
     ]
    },
    {
     "data": {
      "text/plain": [
       "97"
      ]
     },
     "execution_count": 37,
     "metadata": {},
     "output_type": "execute_result"
    },
    {
     "name": "stdout",
     "output_type": "stream",
     "text": [
      "How to Run Comps on a House (Value ANY Property)\n",
      "zEXQ7uaiGfA\n",
      "63,142 views\n",
      "1 year ago\n"
     ]
    },
    {
     "data": {
      "text/plain": [
       "88"
      ]
     },
     "execution_count": 37,
     "metadata": {},
     "output_type": "execute_result"
    },
    {
     "name": "stdout",
     "output_type": "stream",
     "text": [
      "The Dangers of Raising Debt vs. Equity to Buy Real Estate\n",
      "gTYFmxVpWPI\n",
      "18,753 views\n",
      "1 year ago\n"
     ]
    },
    {
     "data": {
      "text/plain": [
       "97"
      ]
     },
     "execution_count": 37,
     "metadata": {},
     "output_type": "execute_result"
    },
    {
     "name": "stdout",
     "output_type": "stream",
     "text": [
      "The Housing Market Sees ?Soft Spots? as Rents Continue to Rise\n",
      "-lvPBB2xHt8\n",
      "64,432 views\n",
      "1 year ago\n"
     ]
    },
    {
     "data": {
      "text/plain": [
       "102"
      ]
     },
     "execution_count": 37,
     "metadata": {},
     "output_type": "execute_result"
    },
    {
     "name": "stdout",
     "output_type": "stream",
     "text": [
      "50 Rental Properties in 6 Months Using a Supercharged BRRRR Method\n",
      "o40Lo-duyo4\n",
      "75,440 views\n",
      "1 year ago\n"
     ]
    },
    {
     "data": {
      "text/plain": [
       "106"
      ]
     },
     "execution_count": 37,
     "metadata": {},
     "output_type": "execute_result"
    },
    {
     "name": "stdout",
     "output_type": "stream",
     "text": [
      "The 6-Figure House Flipping Formula ($272K Profit Example)\n",
      "sD5YNMhMOA0\n",
      "14,585 views\n",
      "1 year ago\n"
     ]
    },
    {
     "data": {
      "text/plain": [
       "98"
      ]
     },
     "execution_count": 37,
     "metadata": {},
     "output_type": "execute_result"
    },
    {
     "name": "stdout",
     "output_type": "stream",
     "text": [
      "BiggerNews August: Will 3D Printed Houses Wipe Out Landlords in 2022?\n",
      "lPlV8D6vlMo\n",
      "10,654 views\n",
      "1 year ago\n"
     ]
    },
    {
     "data": {
      "text/plain": [
       "109"
      ]
     },
     "execution_count": 37,
     "metadata": {},
     "output_type": "execute_result"
    },
    {
     "name": "stdout",
     "output_type": "stream",
     "text": [
      "How to Start Wholesaling Houses (From Start to Finish)\n",
      "EH0Myr0nOYY\n",
      "43,927 views\n",
      "1 year ago\n"
     ]
    },
    {
     "data": {
      "text/plain": [
       "94"
      ]
     },
     "execution_count": 37,
     "metadata": {},
     "output_type": "execute_result"
    },
    {
     "name": "stdout",
     "output_type": "stream",
     "text": [
      "What the Experts Warn Against When Using Private Money Lending\n",
      "NZRZM--4aVs\n",
      "24,977 views\n",
      "1 year ago\n"
     ]
    },
    {
     "data": {
      "text/plain": [
       "102"
      ]
     },
     "execution_count": 37,
     "metadata": {},
     "output_type": "execute_result"
    },
    {
     "name": "stdout",
     "output_type": "stream",
     "text": [
      "Don?t Buy Traditional Short-Term Rentals (Buy These Instead)\n",
      "iQ9RzGM_2C8\n",
      "50,677 views\n",
      "1 year ago\n"
     ]
    },
    {
     "data": {
      "text/plain": [
       "100"
      ]
     },
     "execution_count": 37,
     "metadata": {},
     "output_type": "execute_result"
    },
    {
     "name": "stdout",
     "output_type": "stream",
     "text": [
      "Buying 15 Vacation Rentals in 1 Year by Making Every Minute Count\n",
      "Bu2Wd6FN9lw\n",
      "23,261 views\n",
      "1 year ago\n"
     ]
    },
    {
     "data": {
      "text/plain": [
       "105"
      ]
     },
     "execution_count": 37,
     "metadata": {},
     "output_type": "execute_result"
    },
    {
     "name": "stdout",
     "output_type": "stream",
     "text": [
      "Real Estate Underwriting Explained (How to Analyze Real Estate)\n",
      "dIY99CBOfgs\n",
      "14,067 views\n",
      "1 year ago\n"
     ]
    },
    {
     "data": {
      "text/plain": [
       "103"
      ]
     },
     "execution_count": 37,
     "metadata": {},
     "output_type": "execute_result"
    },
    {
     "name": "stdout",
     "output_type": "stream",
     "text": [
      "How to Buy Your First Rental Property in 365 Days (Or Less!)\n",
      "m4BC74qjszc\n",
      "68,029 views\n",
      "1 year ago\n"
     ]
    },
    {
     "data": {
      "text/plain": [
       "100"
      ]
     },
     "execution_count": 37,
     "metadata": {},
     "output_type": "execute_result"
    },
    {
     "name": "stdout",
     "output_type": "stream",
     "text": [
      "Want TRULY Passive Income? Here?s Why REITs Beat Rentals\n",
      "WawZFVT7_iQ\n",
      "109,293 views\n",
      "1 year ago\n"
     ]
    },
    {
     "data": {
      "text/plain": [
       "97"
      ]
     },
     "execution_count": 37,
     "metadata": {},
     "output_type": "execute_result"
    },
    {
     "name": "stdout",
     "output_type": "stream",
     "text": [
      "Lower Home Prices & No Closing Costs as The Housing Market Stalls\n",
      "jOYTTexqp3Q\n",
      "63,865 views\n",
      "1 year ago\n"
     ]
    },
    {
     "data": {
      "text/plain": [
       "105"
      ]
     },
     "execution_count": 37,
     "metadata": {},
     "output_type": "execute_result"
    },
    {
     "name": "stdout",
     "output_type": "stream",
     "text": [
      "Why You Should Give Up ?Regular? Rental Property Investing in 2022\n",
      "f1C1ckWBxx8\n",
      "72,116 views\n",
      "1 year ago\n"
     ]
    },
    {
     "data": {
      "text/plain": [
       "106"
      ]
     },
     "execution_count": 37,
     "metadata": {},
     "output_type": "execute_result"
    },
    {
     "name": "stdout",
     "output_type": "stream",
     "text": [
      "How to Fail in Today?s Housing Market | 8 Mistakes to Avoid\n",
      "f_BXVMumN_0\n",
      "24,359 views\n",
      "1 year ago\n"
     ]
    },
    {
     "data": {
      "text/plain": [
       "99"
      ]
     },
     "execution_count": 37,
     "metadata": {},
     "output_type": "execute_result"
    },
    {
     "name": "stdout",
     "output_type": "stream",
     "text": [
      "How to Find Private Money for Real Estate (5 Strategies)\n",
      "oOCUirIz4DY\n",
      "19,161 views\n",
      "1 year ago\n"
     ]
    },
    {
     "data": {
      "text/plain": [
       "96"
      ]
     },
     "execution_count": 37,
     "metadata": {},
     "output_type": "execute_result"
    },
    {
     "name": "stdout",
     "output_type": "stream",
     "text": [
      "Investing in Bitcoin vs. Real Estate: Does Crypto Beat Cash Flow?\n",
      "mHl3SMNj7xA\n",
      "6,172 views\n",
      "1 year ago\n"
     ]
    },
    {
     "data": {
      "text/plain": [
       "104"
      ]
     },
     "execution_count": 37,
     "metadata": {},
     "output_type": "execute_result"
    },
    {
     "name": "stdout",
     "output_type": "stream",
     "text": [
      "The 4-Second ?Power Pitch? for Raising Capital for Real Estate\n",
      "l7HAYY6cMxA\n",
      "28,688 views\n",
      "1 year ago\n"
     ]
    },
    {
     "data": {
      "text/plain": [
       "102"
      ]
     },
     "execution_count": 37,
     "metadata": {},
     "output_type": "execute_result"
    },
    {
     "name": "stdout",
     "output_type": "stream",
     "text": [
      "Will High Interest Rates and New Laws Change the Way You Invest?\n",
      "eV6OpxD-9cw\n",
      "23,207 views\n",
      "1 year ago\n"
     ]
    },
    {
     "data": {
      "text/plain": [
       "104"
      ]
     },
     "execution_count": 37,
     "metadata": {},
     "output_type": "execute_result"
    },
    {
     "name": "stdout",
     "output_type": "stream",
     "text": [
      "The Average Joe?s Guide to Rental Property Riches in Under 10 Years\n",
      "jZ-zPzGwrno\n",
      "39,762 views\n",
      "1 year ago\n"
     ]
    },
    {
     "data": {
      "text/plain": [
       "107"
      ]
     },
     "execution_count": 37,
     "metadata": {},
     "output_type": "execute_result"
    },
    {
     "name": "stdout",
     "output_type": "stream",
     "text": [
      "The 5 Formulas You Need to Analyze Any Real Estate Investment\n",
      "GdWtleyT-s4\n",
      "33,543 views\n",
      "1 year ago\n"
     ]
    },
    {
     "data": {
      "text/plain": [
       "101"
      ]
     },
     "execution_count": 37,
     "metadata": {},
     "output_type": "execute_result"
    },
    {
     "name": "stdout",
     "output_type": "stream",
     "text": [
      "Why Investing in Apartment Buildings Just Got Much Easier\n",
      "kleOKyg6Kb8\n",
      "85,079 views\n",
      "1 year ago\n"
     ]
    },
    {
     "data": {
      "text/plain": [
       "97"
      ]
     },
     "execution_count": 37,
     "metadata": {},
     "output_type": "execute_result"
    },
    {
     "name": "stdout",
     "output_type": "stream",
     "text": [
      "What to Know Before You Invest in Someone Else's Real Estate Deal\n",
      "pX7EdD4yd8s\n",
      "6,126 views\n",
      "1 year ago\n"
     ]
    },
    {
     "data": {
      "text/plain": [
       "104"
      ]
     },
     "execution_count": 37,
     "metadata": {},
     "output_type": "execute_result"
    },
    {
     "name": "stdout",
     "output_type": "stream",
     "text": [
      "Don't Ignore Low Cash Flow Rental Properties\n",
      "BhXJgK8hba4\n",
      "41,905 views\n",
      "1 year ago\n"
     ]
    },
    {
     "data": {
      "text/plain": [
       "84"
      ]
     },
     "execution_count": 37,
     "metadata": {},
     "output_type": "execute_result"
    },
    {
     "name": "stdout",
     "output_type": "stream",
     "text": [
      "Buying Opportunities & Low Interest Rate Rental Property Loans\n",
      "T5CzGXOK1JU\n",
      "72,871 views\n",
      "1 year ago\n"
     ]
    },
    {
     "data": {
      "text/plain": [
       "102"
      ]
     },
     "execution_count": 37,
     "metadata": {},
     "output_type": "execute_result"
    },
    {
     "name": "stdout",
     "output_type": "stream",
     "text": [
      "Are We In The Perfect Market Cycle for Multifamily Investing?\n",
      "ymU_hpxAVqI\n",
      "60,535 views\n",
      "1 year ago\n"
     ]
    },
    {
     "data": {
      "text/plain": [
       "101"
      ]
     },
     "execution_count": 37,
     "metadata": {},
     "output_type": "execute_result"
    },
    {
     "name": "stdout",
     "output_type": "stream",
     "text": [
      "3 House Flipping Mistakes EVERY Real Estate Investor Should Avoid\n",
      "isPlKXT8-DM\n",
      "31,640 views\n",
      "1 year ago\n"
     ]
    },
    {
     "data": {
      "text/plain": [
       "105"
      ]
     },
     "execution_count": 37,
     "metadata": {},
     "output_type": "execute_result"
    },
    {
     "name": "stdout",
     "output_type": "stream",
     "text": [
      "BiggerNews July: How The Rich Avoid Taxes by Buying Real Estate\n",
      "3ibyzhK0qkE\n",
      "41,645 views\n",
      "1 year ago\n"
     ]
    },
    {
     "data": {
      "text/plain": [
       "103"
      ]
     },
     "execution_count": 37,
     "metadata": {},
     "output_type": "execute_result"
    },
    {
     "name": "stdout",
     "output_type": "stream",
     "text": [
      "How Rising Interest Rates Affect Your Real Estate Investments\n",
      "YSgyPyzu_xc\n",
      "15,502 views\n",
      "1 year ago\n"
     ]
    },
    {
     "data": {
      "text/plain": [
       "101"
      ]
     },
     "execution_count": 37,
     "metadata": {},
     "output_type": "execute_result"
    },
    {
     "name": "stdout",
     "output_type": "stream",
     "text": [
      "How to Retire Early by ?Amplifying? Your Rental's Cash Flow\n",
      "Sufhm8TGkeM\n",
      "19,241 views\n",
      "1 year ago\n"
     ]
    },
    {
     "data": {
      "text/plain": [
       "99"
      ]
     },
     "execution_count": 37,
     "metadata": {},
     "output_type": "execute_result"
    },
    {
     "name": "stdout",
     "output_type": "stream",
     "text": [
      "Boost Your Vacation Rental Bookings (Property Listing Tweaks)\n",
      "OZCoLVgnYNA\n",
      "5,139 views\n",
      "1 year ago\n"
     ]
    },
    {
     "data": {
      "text/plain": [
       "100"
      ]
     },
     "execution_count": 37,
     "metadata": {},
     "output_type": "execute_result"
    },
    {
     "name": "stdout",
     "output_type": "stream",
     "text": [
      "How to Invest During a Recession (or a Housing Market Crash)\n",
      "AnvL8tVujEg\n",
      "107,431 views\n",
      "1 year ago\n"
     ]
    },
    {
     "data": {
      "text/plain": [
       "101"
      ]
     },
     "execution_count": 37,
     "metadata": {},
     "output_type": "execute_result"
    },
    {
     "name": "stdout",
     "output_type": "stream",
     "text": [
      "Why Most Won?t Succeed in Real Estate Investing w/Brandon Turner\n",
      "NcMvD6-aIsM\n",
      "136,746 views\n",
      "1 year ago\n"
     ]
    },
    {
     "data": {
      "text/plain": [
       "105"
      ]
     },
     "execution_count": 37,
     "metadata": {},
     "output_type": "execute_result"
    },
    {
     "name": "stdout",
     "output_type": "stream",
     "text": [
      "How to Get Started in Out-of-State Real Estate Investing\n",
      "5vg9N-5_NGs\n",
      "14,639 views\n",
      "1 year ago\n"
     ]
    },
    {
     "data": {
      "text/plain": [
       "96"
      ]
     },
     "execution_count": 37,
     "metadata": {},
     "output_type": "execute_result"
    },
    {
     "name": "stdout",
     "output_type": "stream",
     "text": [
      "Do This BEFORE You Quit Your Job (4 Steps)\n",
      "DXBMHyeW_0U\n",
      "17,129 views\n",
      "1 year ago\n"
     ]
    },
    {
     "data": {
      "text/plain": [
       "82"
      ]
     },
     "execution_count": 37,
     "metadata": {},
     "output_type": "execute_result"
    },
    {
     "name": "stdout",
     "output_type": "stream",
     "text": [
      "4 Smarter Ways to Invest in Real Estate as Interest Rates Rise\n",
      "jT9xyKzVTr0\n",
      "48,480 views\n",
      "1 year ago\n"
     ]
    },
    {
     "data": {
      "text/plain": [
       "102"
      ]
     },
     "execution_count": 37,
     "metadata": {},
     "output_type": "execute_result"
    },
    {
     "name": "stdout",
     "output_type": "stream",
     "text": [
      "Housing Market Crash Predictions (How to Survive 2022)\n",
      "Bs_PpZiw60E\n",
      "48,577 views\n",
      "1 year ago\n"
     ]
    },
    {
     "data": {
      "text/plain": [
       "94"
      ]
     },
     "execution_count": 37,
     "metadata": {},
     "output_type": "execute_result"
    },
    {
     "name": "stdout",
     "output_type": "stream",
     "text": [
      "Why You Should Buy \"Bad BRRRR Deals\"\n",
      "VxoKQXoLhvM\n",
      "23,560 views\n",
      "1 year ago\n"
     ]
    },
    {
     "data": {
      "text/plain": [
       "80"
      ]
     },
     "execution_count": 37,
     "metadata": {},
     "output_type": "execute_result"
    },
    {
     "name": "stdout",
     "output_type": "stream",
     "text": [
      "Quitting Optometry to Build a 70+ Unit Turnkey Rental Empire\n",
      "2BWpXfNWKc0\n",
      "21,935 views\n",
      "1 year ago\n"
     ]
    },
    {
     "data": {
      "text/plain": [
       "100"
      ]
     },
     "execution_count": 37,
     "metadata": {},
     "output_type": "execute_result"
    },
    {
     "name": "stdout",
     "output_type": "stream",
     "text": [
      "How to Get a Lower Interest Rate on Your Mortgage (For Free!)\n",
      "R_Hwxpm62xc\n",
      "14,079 views\n",
      "1 year ago\n"
     ]
    },
    {
     "data": {
      "text/plain": [
       "101"
      ]
     },
     "execution_count": 37,
     "metadata": {},
     "output_type": "execute_result"
    },
    {
     "name": "stdout",
     "output_type": "stream",
     "text": [
      "How To Avoid Taxes by ?Buying? Rental Property Write-Offs\n",
      "sKyXpgwVa3Q\n",
      "33,299 views\n",
      "1 year ago\n"
     ]
    },
    {
     "data": {
      "text/plain": [
       "97"
      ]
     },
     "execution_count": 37,
     "metadata": {},
     "output_type": "execute_result"
    },
    {
     "name": "stdout",
     "output_type": "stream",
     "text": [
      "How to Make ?Bulletproof? Passive Income by Lending Private Money\n",
      "dIoeSo5KOVE\n",
      "19,134 views\n",
      "1 year ago\n"
     ]
    },
    {
     "data": {
      "text/plain": [
       "105"
      ]
     },
     "execution_count": 37,
     "metadata": {},
     "output_type": "execute_result"
    },
    {
     "name": "stdout",
     "output_type": "stream",
     "text": [
      "Retiring with Real Estate, Agent Tips, and The \"20% Down\" Myth\n",
      "cLYuESP_Ywg\n",
      "52,161 views\n",
      "1 year ago\n"
     ]
    },
    {
     "data": {
      "text/plain": [
       "106"
      ]
     },
     "execution_count": 37,
     "metadata": {},
     "output_type": "execute_result"
    },
    {
     "name": "stdout",
     "output_type": "stream",
     "text": [
      "Will Short-Term Rental Ordinances Cut Your Cash Flow?\n",
      "kAehB_M6RNU\n",
      "8,011 views\n",
      "1 year ago\n"
     ]
    },
    {
     "data": {
      "text/plain": [
       "92"
      ]
     },
     "execution_count": 37,
     "metadata": {},
     "output_type": "execute_result"
    },
    {
     "name": "stdout",
     "output_type": "stream",
     "text": [
      "10th Grade Dropout to 2,500 Rentals Using \"Core Deal\" Multifamily\n",
      "Io_xsss7k94\n",
      "30,010 views\n",
      "1 year ago\n"
     ]
    },
    {
     "data": {
      "text/plain": [
       "109"
      ]
     },
     "execution_count": 37,
     "metadata": {},
     "output_type": "execute_result"
    },
    {
     "name": "stdout",
     "output_type": "stream",
     "text": [
      "BIG Inflation Update: Where Do We Go From Here?\n",
      "DuFKPqOTOYU\n",
      "23,595 views\n",
      "1 year ago\n"
     ]
    },
    {
     "data": {
      "text/plain": [
       "87"
      ]
     },
     "execution_count": 37,
     "metadata": {},
     "output_type": "execute_result"
    },
    {
     "name": "stdout",
     "output_type": "stream",
     "text": [
      "7 Negotiation Secrets You Can Use to Win Over ANY Opponent\n",
      "lUtzrRJiSJc\n",
      "16,697 views\n",
      "1 year ago\n"
     ]
    },
    {
     "data": {
      "text/plain": [
       "98"
      ]
     },
     "execution_count": 37,
     "metadata": {},
     "output_type": "execute_result"
    },
    {
     "name": "stdout",
     "output_type": "stream",
     "text": [
      "How to 4x Your House Flipping Profits Using \"DADU\" Units\n",
      "PhlI4Y6O21w\n",
      "14,723 views\n",
      "1 year ago\n"
     ]
    },
    {
     "data": {
      "text/plain": [
       "100"
      ]
     },
     "execution_count": 37,
     "metadata": {},
     "output_type": "execute_result"
    },
    {
     "name": "stdout",
     "output_type": "stream",
     "text": [
      "Is Paying Off Your Mortgage Early a BIG Mistake?\n",
      "r-wwK2cLnI4\n",
      "44,103 views\n",
      "1 year ago\n"
     ]
    },
    {
     "data": {
      "text/plain": [
       "88"
      ]
     },
     "execution_count": 37,
     "metadata": {},
     "output_type": "execute_result"
    },
    {
     "name": "stdout",
     "output_type": "stream",
     "text": [
      "Have Rising Interest Rates Killed the BRRRR Method?\n",
      "myax52v6PWg\n",
      "53,614 views\n",
      "1 year ago\n"
     ]
    },
    {
     "data": {
      "text/plain": [
       "91"
      ]
     },
     "execution_count": 37,
     "metadata": {},
     "output_type": "execute_result"
    },
    {
     "name": "stdout",
     "output_type": "stream",
     "text": [
      "Why 2022 is a HUGE Opportunity for Small Investors w/Ed Mylett\n",
      "-H-GZgPyqI8\n",
      "145,320 views\n",
      "1 year ago\n"
     ]
    },
    {
     "data": {
      "text/plain": [
       "103"
      ]
     },
     "execution_count": 37,
     "metadata": {},
     "output_type": "execute_result"
    },
    {
     "name": "stdout",
     "output_type": "stream",
     "text": [
      "How to Find Real Estate Deals at a Discount (4 Tips)\n",
      "TSMfEniuRBw\n",
      "9,208 views\n",
      "1 year ago\n"
     ]
    },
    {
     "data": {
      "text/plain": [
       "91"
      ]
     },
     "execution_count": 37,
     "metadata": {},
     "output_type": "execute_result"
    },
    {
     "name": "stdout",
     "output_type": "stream",
     "text": [
      "BiggerNews June: Will 2022's High Inflation Halt Your Rent Checks?\n",
      "UMYb2Hbd1vI\n",
      "18,248 views\n",
      "1 year ago\n"
     ]
    },
    {
     "data": {
      "text/plain": [
       "106"
      ]
     },
     "execution_count": 37,
     "metadata": {},
     "output_type": "execute_result"
    },
    {
     "name": "stdout",
     "output_type": "stream",
     "text": [
      "Sell Your Home for More Money Using This ?Rehab Punch List?\n",
      "TXcgQx9fCyo\n",
      "7,504 views\n",
      "1 year ago\n"
     ]
    },
    {
     "data": {
      "text/plain": [
       "98"
      ]
     },
     "execution_count": 37,
     "metadata": {},
     "output_type": "execute_result"
    },
    {
     "name": "stdout",
     "output_type": "stream",
     "text": [
      "Is My Property Management Company Stealing My Rent?\n",
      "Ttl1yieH6ko\n",
      "17,619 views\n",
      "1 year ago\n"
     ]
    },
    {
     "data": {
      "text/plain": [
       "91"
      ]
     },
     "execution_count": 37,
     "metadata": {},
     "output_type": "execute_result"
    },
    {
     "name": "stdout",
     "output_type": "stream",
     "text": [
      "5 Cheap Ways to Get Real Estate Leads (Real Estate Lead Generation)\n",
      "-o5EiTxPHno\n",
      "7,721 views\n",
      "1 year ago\n"
     ]
    },
    {
     "data": {
      "text/plain": [
       "106"
      ]
     },
     "execution_count": 37,
     "metadata": {},
     "output_type": "execute_result"
    },
    {
     "name": "stdout",
     "output_type": "stream",
     "text": [
      "How to Be a Successful Real Estate Agent in 2022\n",
      "oZexOsCSd_8\n",
      "4,881 views\n",
      "1 year ago\n"
     ]
    },
    {
     "data": {
      "text/plain": [
       "87"
      ]
     },
     "execution_count": 37,
     "metadata": {},
     "output_type": "execute_result"
    },
    {
     "name": "stdout",
     "output_type": "stream",
     "text": [
      "How to Go From Single-Family Rentals to Multimillion-Dollar Deals\n",
      "Uy9wTzBT6bY\n",
      "18,090 views\n",
      "1 year ago\n"
     ]
    },
    {
     "data": {
      "text/plain": [
       "105"
      ]
     },
     "execution_count": 37,
     "metadata": {},
     "output_type": "execute_result"
    },
    {
     "name": "stdout",
     "output_type": "stream",
     "text": [
      "How to Lower Your ADU Costs Using Simple Zoning Tips\n",
      "xXqB03a_rPk\n",
      "12,496 views\n",
      "1 year ago\n"
     ]
    },
    {
     "data": {
      "text/plain": [
       "92"
      ]
     },
     "execution_count": 37,
     "metadata": {},
     "output_type": "execute_result"
    },
    {
     "name": "stdout",
     "output_type": "stream",
     "text": [
      "How Digital Real Estate Will Change the Housing Market w/Ryan Pineda\n",
      "tPYo9NS3ngY\n",
      "36,392 views\n",
      "1 year ago\n"
     ]
    },
    {
     "data": {
      "text/plain": [
       "108"
      ]
     },
     "execution_count": 37,
     "metadata": {},
     "output_type": "execute_result"
    },
    {
     "name": "stdout",
     "output_type": "stream",
     "text": [
      "Stop Looking for \"Undervalued\" Rental Properties\n",
      "jtg2JeRn1kk\n",
      "29,318 views\n",
      "1 year ago\n"
     ]
    },
    {
     "data": {
      "text/plain": [
       "92"
      ]
     },
     "execution_count": 37,
     "metadata": {},
     "output_type": "execute_result"
    },
    {
     "name": "stdout",
     "output_type": "stream",
     "text": [
      "Will Biden?s Housing Plan Solve The US Housing Shortage?\n",
      "9-iUEMoJkV0\n",
      "24,323 views\n",
      "1 year ago\n"
     ]
    },
    {
     "data": {
      "text/plain": [
       "96"
      ]
     },
     "execution_count": 37,
     "metadata": {},
     "output_type": "execute_result"
    },
    {
     "name": "stdout",
     "output_type": "stream",
     "text": [
      "How to Buy a Business That Will Cash Flow From Day 1\n",
      "dmzeVHbnPfg\n",
      "490,984 views\n",
      "1 year ago\n"
     ]
    },
    {
     "data": {
      "text/plain": [
       "93"
      ]
     },
     "execution_count": 37,
     "metadata": {},
     "output_type": "execute_result"
    },
    {
     "name": "stdout",
     "output_type": "stream",
     "text": [
      "ADU Design Ideas That?ll Make You $1,000+ Per Month\n",
      "k9KRB_Yc9N8\n",
      "53,042 views\n",
      "1 year ago\n"
     ]
    },
    {
     "data": {
      "text/plain": [
       "93"
      ]
     },
     "execution_count": 37,
     "metadata": {},
     "output_type": "execute_result"
    },
    {
     "name": "stdout",
     "output_type": "stream",
     "text": [
      "6 Bite-Sized Steps to Buying an Investment Property\n",
      "eNQ_1TJrIPE\n",
      "34,546 views\n",
      "1 year ago\n"
     ]
    },
    {
     "data": {
      "text/plain": [
       "91"
      ]
     },
     "execution_count": 37,
     "metadata": {},
     "output_type": "execute_result"
    },
    {
     "name": "stdout",
     "output_type": "stream",
     "text": [
      "Stop Being Scared of ?Seasonality? When Analyzing Vacation Rentals\n",
      "VHXJlCGuNm8\n",
      "5,649 views\n",
      "1 year ago\n"
     ]
    },
    {
     "data": {
      "text/plain": [
       "105"
      ]
     },
     "execution_count": 37,
     "metadata": {},
     "output_type": "execute_result"
    },
    {
     "name": "stdout",
     "output_type": "stream",
     "text": [
      "How to Combine Cash Flow AND Appreciation When Buying Rentals\n",
      "a3Re3-AGfpo\n",
      "15,868 views\n",
      "1 year ago\n"
     ]
    },
    {
     "data": {
      "text/plain": [
       "101"
      ]
     },
     "execution_count": 37,
     "metadata": {},
     "output_type": "execute_result"
    },
    {
     "name": "stdout",
     "output_type": "stream",
     "text": [
      "The 6-Step Checklist for Passive Income Investing\n",
      "IKSBF8tRxik\n",
      "10,875 views\n",
      "1 year ago\n"
     ]
    },
    {
     "data": {
      "text/plain": [
       "89"
      ]
     },
     "execution_count": 37,
     "metadata": {},
     "output_type": "execute_result"
    },
    {
     "name": "stdout",
     "output_type": "stream",
     "text": [
      "How the \"Lock-in Effect\" Will Impact the Housing Market for Decades\n",
      "59QrMYcNcWE\n",
      "52,087 views\n",
      "1 year ago\n"
     ]
    },
    {
     "data": {
      "text/plain": [
       "111"
      ]
     },
     "execution_count": 37,
     "metadata": {},
     "output_type": "execute_result"
    },
    {
     "name": "stdout",
     "output_type": "stream",
     "text": [
      "From \"Miserable\" Salesman to House Flipping w/83 Rentals\n",
      "z8WIwGKeDps\n",
      "18,662 views\n",
      "1 year ago\n"
     ]
    },
    {
     "data": {
      "text/plain": [
       "100"
      ]
     },
     "execution_count": 37,
     "metadata": {},
     "output_type": "execute_result"
    },
    {
     "name": "stdout",
     "output_type": "stream",
     "text": [
      "The Beginner's Guide to ADU Investing (Accessory Dwelling Units)\n",
      "e_BNaKxoiFM\n",
      "51,599 views\n",
      "1 year ago\n"
     ]
    },
    {
     "data": {
      "text/plain": [
       "104"
      ]
     },
     "execution_count": 37,
     "metadata": {},
     "output_type": "execute_result"
    },
    {
     "name": "stdout",
     "output_type": "stream",
     "text": [
      "Building a House vs. Buying and When Is It \"Too Late\" To Invest?\n",
      "ouWbIyUwf9M\n",
      "27,306 views\n",
      "1 year ago\n"
     ]
    },
    {
     "data": {
      "text/plain": [
       "108"
      ]
     },
     "execution_count": 37,
     "metadata": {},
     "output_type": "execute_result"
    },
    {
     "name": "stdout",
     "output_type": "stream",
     "text": [
      "BPCon 2022: The Real Estate Investing Event of The Year\n",
      "0X9YeROP-qQ\n",
      "5,424 views\n",
      "1 year ago\n"
     ]
    },
    {
     "data": {
      "text/plain": [
       "94"
      ]
     },
     "execution_count": 37,
     "metadata": {},
     "output_type": "execute_result"
    },
    {
     "name": "stdout",
     "output_type": "stream",
     "text": [
      "Down Payment Gift Funds, Crash Indicators, & Partnership Problems\n",
      "rSgRGrNozdk\n",
      "14,426 views\n",
      "1 year ago\n"
     ]
    },
    {
     "data": {
      "text/plain": [
       "107"
      ]
     },
     "execution_count": 37,
     "metadata": {},
     "output_type": "execute_result"
    },
    {
     "name": "stdout",
     "output_type": "stream",
     "text": [
      "What Will Cause the Next Housing Market Crash?\n",
      "tL_QkKPTvyE\n",
      "35,493 views\n",
      "1 year ago\n"
     ]
    },
    {
     "data": {
      "text/plain": [
       "86"
      ]
     },
     "execution_count": 37,
     "metadata": {},
     "output_type": "execute_result"
    },
    {
     "name": "stdout",
     "output_type": "stream",
     "text": [
      "Make More Money, Do Fewer Deals, and ?Profit First?\n",
      "328gSUJImAo\n",
      "15,196 views\n",
      "1 year ago\n"
     ]
    },
    {
     "data": {
      "text/plain": [
       "93"
      ]
     },
     "execution_count": 37,
     "metadata": {},
     "output_type": "execute_result"
    },
    {
     "name": "stdout",
     "output_type": "stream",
     "text": [
      "The #1 Rental Property Mistake That Could Cost You $100k+\n",
      "_G2DLua6N6s\n",
      "18,740 views\n",
      "1 year ago\n"
     ]
    },
    {
     "data": {
      "text/plain": [
       "97"
      ]
     },
     "execution_count": 37,
     "metadata": {},
     "output_type": "execute_result"
    },
    {
     "name": "stdout",
     "output_type": "stream",
     "text": [
      "Multifamily Q&A: How to Start, Scale, and Succeed in Apartment Investing w/Andrew Cushman\n",
      "aXZ4uwSD0yg\n",
      "70,526 views\n",
      "1 year ago\n"
     ]
    },
    {
     "data": {
      "text/plain": [
       "131"
      ]
     },
     "execution_count": 37,
     "metadata": {},
     "output_type": "execute_result"
    },
    {
     "name": "stdout",
     "output_type": "stream",
     "text": [
      "How to Analyze Real Estate Deals (SUPER Simple Calculations)\n",
      "Q9lt9Qum6D8\n",
      "23,630 views\n",
      "1 year ago\n"
     ]
    },
    {
     "data": {
      "text/plain": [
       "100"
      ]
     },
     "execution_count": 37,
     "metadata": {},
     "output_type": "execute_result"
    },
    {
     "name": "stdout",
     "output_type": "stream",
     "text": [
      "The ?Base Hit? Rental Properties That Will Make You Rich\n",
      "BAPWpb6-WFs\n",
      "65,399 views\n",
      "1 year ago\n"
     ]
    },
    {
     "data": {
      "text/plain": [
       "96"
      ]
     },
     "execution_count": 37,
     "metadata": {},
     "output_type": "execute_result"
    },
    {
     "name": "stdout",
     "output_type": "stream",
     "text": [
      "How to Get Ahead of the Housing Market with Real Estate Data\n",
      "8VwgOot-do0\n",
      "18,547 views\n",
      "1 year ago\n"
     ]
    },
    {
     "data": {
      "text/plain": [
       "100"
      ]
     },
     "execution_count": 37,
     "metadata": {},
     "output_type": "execute_result"
    },
    {
     "name": "stdout",
     "output_type": "stream",
     "text": [
      "30+ Rental Units Before 30 Years Old by Building New Problems\n",
      "QdlJ9yz7GyA\n",
      "26,519 views\n",
      "1 year ago\n"
     ]
    },
    {
     "data": {
      "text/plain": [
       "101"
      ]
     },
     "execution_count": 37,
     "metadata": {},
     "output_type": "execute_result"
    },
    {
     "name": "stdout",
     "output_type": "stream",
     "text": [
      "Are Cash-Flowing Condos the Perfect Short-Term Rental Investment?\n",
      "uZVTdk1yCCc\n",
      "16,911 views\n",
      "1 year ago\n"
     ]
    },
    {
     "data": {
      "text/plain": [
       "105"
      ]
     },
     "execution_count": 37,
     "metadata": {},
     "output_type": "execute_result"
    },
    {
     "name": "stdout",
     "output_type": "stream",
     "text": [
      "BiggerNews May: Why We Haven?t Had a Housing Market Crash Yet\n",
      "PT483TIaFHc\n",
      "54,305 views\n",
      "1 year ago\n"
     ]
    },
    {
     "data": {
      "text/plain": [
       "101"
      ]
     },
     "execution_count": 37,
     "metadata": {},
     "output_type": "execute_result"
    },
    {
     "name": "stdout",
     "output_type": "stream",
     "text": [
      "Why \"Smart Money\" is Buying Real Estate as Interest Rates Rise\n",
      "tNqNkpy5gjI\n",
      "99,208 views\n",
      "1 year ago\n"
     ]
    },
    {
     "data": {
      "text/plain": [
       "106"
      ]
     },
     "execution_count": 37,
     "metadata": {},
     "output_type": "execute_result"
    },
    {
     "name": "stdout",
     "output_type": "stream",
     "text": [
      "Why Rental Property ROI Isn't As Important As You Think\n",
      "qp49N78_TIs\n",
      "53,143 views\n",
      "1 year ago\n"
     ]
    },
    {
     "data": {
      "text/plain": [
       "95"
      ]
     },
     "execution_count": 37,
     "metadata": {},
     "output_type": "execute_result"
    },
    {
     "name": "stdout",
     "output_type": "stream",
     "text": [
      "How Real Estate Investors Avoid Paying Taxes (Forever!)\n",
      "IdzSxCHmbBs\n",
      "31,868 views\n",
      "1 year ago\n"
     ]
    },
    {
     "data": {
      "text/plain": [
       "95"
      ]
     },
     "execution_count": 37,
     "metadata": {},
     "output_type": "execute_result"
    },
    {
     "name": "stdout",
     "output_type": "stream",
     "text": [
      "5 Ways to Keep Home Renovation Costs Down (Inflation Edition)\n",
      "EWAUvnJKGP8\n",
      "9,572 views\n",
      "1 year ago\n"
     ]
    },
    {
     "data": {
      "text/plain": [
       "100"
      ]
     },
     "execution_count": 37,
     "metadata": {},
     "output_type": "execute_result"
    },
    {
     "name": "stdout",
     "output_type": "stream",
     "text": [
      "Why The ?Right Way\" to Invest in Real Estate is Wrong\n",
      "elbUOawJS1o\n",
      "27,780 views\n",
      "1 year ago\n"
     ]
    },
    {
     "data": {
      "text/plain": [
       "96"
      ]
     },
     "execution_count": 37,
     "metadata": {},
     "output_type": "execute_result"
    },
    {
     "name": "stdout",
     "output_type": "stream",
     "text": [
      "Make House Flipping Profits WITHOUT Rehabs/Repairs (Wholetailing)\n",
      "4K2BnL322HE\n",
      "14,285 views\n",
      "1 year ago\n"
     ]
    },
    {
     "data": {
      "text/plain": [
       "105"
      ]
     },
     "execution_count": 37,
     "metadata": {},
     "output_type": "execute_result"
    },
    {
     "name": "stdout",
     "output_type": "stream",
     "text": [
      "Dissecting the Millionaire Mindset by \"Framing\" the Impossible\n",
      "2W45i0Uy3y8\n",
      "24,049 views\n",
      "1 year ago\n"
     ]
    },
    {
     "data": {
      "text/plain": [
       "106"
      ]
     },
     "execution_count": 37,
     "metadata": {},
     "output_type": "execute_result"
    },
    {
     "name": "stdout",
     "output_type": "stream",
     "text": [
      "Episode 600: Answering Investing Questions from Real Estate Royalty\n",
      "BIwaiiSl0ZQ\n",
      "13,435 views\n",
      "1 year ago\n"
     ]
    },
    {
     "data": {
      "text/plain": [
       "107"
      ]
     },
     "execution_count": 37,
     "metadata": {},
     "output_type": "execute_result"
    },
    {
     "name": "stdout",
     "output_type": "stream",
     "text": [
      "The ?S.A.F.E.? Way to Buy Real Estate in ANY Housing Market Cycle\n",
      "pYONUgNne18\n",
      "37,994 views\n",
      "1 year ago\n"
     ]
    },
    {
     "data": {
      "text/plain": [
       "105"
      ]
     },
     "execution_count": 37,
     "metadata": {},
     "output_type": "execute_result"
    },
    {
     "name": "stdout",
     "output_type": "stream",
     "text": [
      "Opportunity Zone Investing: Real Estate's Tax-Free \"Cheat Code\"\n",
      "Zf9CUSMtDH8\n",
      "128,309 views\n",
      "1 year ago\n"
     ]
    },
    {
     "data": {
      "text/plain": [
       "108"
      ]
     },
     "execution_count": 37,
     "metadata": {},
     "output_type": "execute_result"
    },
    {
     "name": "stdout",
     "output_type": "stream",
     "text": [
      "7 Methods I Used to Find $35M+ in Commercial Real Estate Deals\n",
      "DKQKwhxNJoQ\n",
      "6,770 views\n",
      "1 year ago\n"
     ]
    },
    {
     "data": {
      "text/plain": [
       "101"
      ]
     },
     "execution_count": 37,
     "metadata": {},
     "output_type": "execute_result"
    },
    {
     "name": "stdout",
     "output_type": "stream",
     "text": [
      "The BRRRR Method for Beginners (FULL BRRRR Deal Walkthrough)\n",
      "4Wj9jpufTqo\n",
      "220,492 views\n",
      "1 year ago\n"
     ]
    },
    {
     "data": {
      "text/plain": [
       "101"
      ]
     },
     "execution_count": 37,
     "metadata": {},
     "output_type": "execute_result"
    },
    {
     "name": "stdout",
     "output_type": "stream",
     "text": [
      "The Beginner?s Guide to Financing Rental Properties\n",
      "u2A4znB7Dfk\n",
      "85,905 views\n",
      "1 year ago\n"
     ]
    },
    {
     "data": {
      "text/plain": [
       "91"
      ]
     },
     "execution_count": 37,
     "metadata": {},
     "output_type": "execute_result"
    },
    {
     "name": "stdout",
     "output_type": "stream",
     "text": [
      "Should You Pay Off Debt or Invest in Real Estate in 2022?\n",
      "dpEYltCOj5M\n",
      "36,278 views\n",
      "1 year ago\n"
     ]
    },
    {
     "data": {
      "text/plain": [
       "97"
      ]
     },
     "execution_count": 37,
     "metadata": {},
     "output_type": "execute_result"
    },
    {
     "name": "stdout",
     "output_type": "stream",
     "text": [
      "Buy Before Interest Rates Rise or Wait for a Housing Market Crash?\n",
      "tPNuKlH_7-Y\n",
      "102,758 views\n",
      "1 year ago\n"
     ]
    },
    {
     "data": {
      "text/plain": [
       "107"
      ]
     },
     "execution_count": 37,
     "metadata": {},
     "output_type": "execute_result"
    },
    {
     "name": "stdout",
     "output_type": "stream",
     "text": [
      "80 Units with Mobile Home Park Investing & Beating Big Buyers\n",
      "g1asExijAzs\n",
      "26,013 views\n",
      "1 year ago\n"
     ]
    },
    {
     "data": {
      "text/plain": [
       "101"
      ]
     },
     "execution_count": 37,
     "metadata": {},
     "output_type": "execute_result"
    },
    {
     "name": "stdout",
     "output_type": "stream",
     "text": [
      "LLCs for Rental Properties & Bulletproof Asset Protection\n",
      "OAlTPxYJWh0\n",
      "59,521 views\n",
      "1 year ago\n"
     ]
    },
    {
     "data": {
      "text/plain": [
       "97"
      ]
     },
     "execution_count": 37,
     "metadata": {},
     "output_type": "execute_result"
    },
    {
     "name": "stdout",
     "output_type": "stream",
     "text": [
      "How to Find Off-Market Properties WITHOUT Breaking the Bank\n",
      "abDHqTn1Uj0\n",
      "16,349 views\n",
      "1 year ago\n"
     ]
    },
    {
     "data": {
      "text/plain": [
       "99"
      ]
     },
     "execution_count": 37,
     "metadata": {},
     "output_type": "execute_result"
    },
    {
     "name": "stdout",
     "output_type": "stream",
     "text": [
      "Inflation vs. Cash Flow, FHA Loans, and Bidding Over Asking\n",
      "U9_sF4KlLQw\n",
      "35,815 views\n",
      "1 year ago\n"
     ]
    },
    {
     "data": {
      "text/plain": [
       "101"
      ]
     },
     "execution_count": 37,
     "metadata": {},
     "output_type": "execute_result"
    },
    {
     "name": "stdout",
     "output_type": "stream",
     "text": [
      "The Fed: \"Sorry, Party?s Over\" (Interest Rates Update)\n",
      "LCr6qtphnhg\n",
      "24,077 views\n",
      "1 year ago\n"
     ]
    },
    {
     "data": {
      "text/plain": [
       "98"
      ]
     },
     "execution_count": 37,
     "metadata": {},
     "output_type": "execute_result"
    },
    {
     "name": "stdout",
     "output_type": "stream",
     "text": [
      "Ethical Wholesaling and Making $47K Off One Phone Call\n",
      "F7rMJPDrLWY\n",
      "25,400 views\n",
      "1 year ago\n"
     ]
    },
    {
     "data": {
      "text/plain": [
       "94"
      ]
     },
     "execution_count": 37,
     "metadata": {},
     "output_type": "execute_result"
    },
    {
     "name": "stdout",
     "output_type": "stream",
     "text": [
      "Do This BEFORE Buying Commercial Real Estate (5 Tips)\n",
      "yTyUO_MVq6g\n",
      "8,604 views\n",
      "1 year ago\n"
     ]
    },
    {
     "data": {
      "text/plain": [
       "92"
      ]
     },
     "execution_count": 37,
     "metadata": {},
     "output_type": "execute_result"
    },
    {
     "name": "stdout",
     "output_type": "stream",
     "text": [
      "BiggerNews April: 2022's Hidden Housing Market Investor Trap\n",
      "WbzL34Nl_Cs\n",
      "72,780 views\n",
      "1 year ago\n"
     ]
    },
    {
     "data": {
      "text/plain": [
       "100"
      ]
     },
     "execution_count": 37,
     "metadata": {},
     "output_type": "execute_result"
    },
    {
     "name": "stdout",
     "output_type": "stream",
     "text": [
      "4 Overlooked Ways to Find Off-Market Real Estate Deals\n",
      "609-fs65pY4\n",
      "41,497 views\n",
      "1 year ago\n"
     ]
    },
    {
     "data": {
      "text/plain": [
       "94"
      ]
     },
     "execution_count": 37,
     "metadata": {},
     "output_type": "execute_result"
    },
    {
     "name": "stdout",
     "output_type": "stream",
     "text": [
      "The Cash Flow Market ?Mirages? To Avoid in 2022\n",
      "Pd9TbyEALQQ\n",
      "41,039 views\n",
      "1 year ago\n"
     ]
    },
    {
     "data": {
      "text/plain": [
       "87"
      ]
     },
     "execution_count": 37,
     "metadata": {},
     "output_type": "execute_result"
    },
    {
     "name": "stdout",
     "output_type": "stream",
     "text": [
      "That Wasn't Supposed to Happen | April Housing Market Forecast\n",
      "mNS33wFRvZg\n",
      "56,251 views\n",
      "1 year ago\n"
     ]
    },
    {
     "data": {
      "text/plain": [
       "102"
      ]
     },
     "execution_count": 37,
     "metadata": {},
     "output_type": "execute_result"
    },
    {
     "name": "stdout",
     "output_type": "stream",
     "text": [
      "Poverty to $1M+ in Property Using No Money Down Real Estate\n",
      "gSz7IfAv43c\n",
      "28,453 views\n",
      "1 year ago\n"
     ]
    },
    {
     "data": {
      "text/plain": [
       "99"
      ]
     },
     "execution_count": 37,
     "metadata": {},
     "output_type": "execute_result"
    },
    {
     "name": "stdout",
     "output_type": "stream",
     "text": [
      "14 Commercial Real Estate Terms Every Investor MUST Know\n",
      "SZ4yKJFjrQk\n",
      "21,191 views\n",
      "1 year ago\n"
     ]
    },
    {
     "data": {
      "text/plain": [
       "96"
      ]
     },
     "execution_count": 37,
     "metadata": {},
     "output_type": "execute_result"
    },
    {
     "name": "stdout",
     "output_type": "stream",
     "text": [
      "What Makes a \"Good\" Real Estate Deal? (4 Ways to Find Out)\n",
      "QWbRSFOmbLk\n",
      "22,928 views\n",
      "1 year ago\n"
     ]
    },
    {
     "data": {
      "text/plain": [
       "102"
      ]
     },
     "execution_count": 37,
     "metadata": {},
     "output_type": "execute_result"
    },
    {
     "name": "stdout",
     "output_type": "stream",
     "text": [
      "How to Buy a Rental Property in 10 Steps (Anyone Can Do It!)\n",
      "PMwuh4Dj8mc\n",
      "65,984 views\n",
      "1 year ago\n"
     ]
    },
    {
     "data": {
      "text/plain": [
       "100"
      ]
     },
     "execution_count": 37,
     "metadata": {},
     "output_type": "execute_result"
    },
    {
     "name": "stdout",
     "output_type": "stream",
     "text": [
      "Retiring with Rentals, ADU Investing, & Down Payment Options\n",
      "MJY5NbQ-Blc\n",
      "41,194 views\n",
      "1 year ago\n"
     ]
    },
    {
     "data": {
      "text/plain": [
       "102"
      ]
     },
     "execution_count": 37,
     "metadata": {},
     "output_type": "execute_result"
    },
    {
     "name": "stdout",
     "output_type": "stream",
     "text": [
      "Why Are There No Houses On The Market?\n",
      "RM3RhzdJu08\n",
      "36,632 views\n",
      "1 year ago\n"
     ]
    },
    {
     "data": {
      "text/plain": [
       "78"
      ]
     },
     "execution_count": 37,
     "metadata": {},
     "output_type": "execute_result"
    },
    {
     "name": "stdout",
     "output_type": "stream",
     "text": [
      "Turning an $800K Mistake into a $1.9B Multifamily Portfolio\n",
      "ld6WwvFfGwo\n",
      "16,460 views\n",
      "1 year ago\n"
     ]
    },
    {
     "data": {
      "text/plain": [
       "99"
      ]
     },
     "execution_count": 37,
     "metadata": {},
     "output_type": "execute_result"
    },
    {
     "name": "stdout",
     "output_type": "stream",
     "text": [
      "45 Real Estate Deals at Age 19 by Embracing Failure Fast\n",
      "nF0rrDxgMHU\n",
      "40,586 views\n",
      "1 year ago\n"
     ]
    },
    {
     "data": {
      "text/plain": [
       "96"
      ]
     },
     "execution_count": 37,
     "metadata": {},
     "output_type": "execute_result"
    },
    {
     "name": "stdout",
     "output_type": "stream",
     "text": [
      "How to Buy Commercial Property with NO Money (100% Financing)\n",
      "yU6_-5__M24\n",
      "66,806 views\n",
      "1 year ago\n"
     ]
    },
    {
     "data": {
      "text/plain": [
       "101"
      ]
     },
     "execution_count": 37,
     "metadata": {},
     "output_type": "execute_result"
    },
    {
     "name": "stdout",
     "output_type": "stream",
     "text": [
      "How to Analyze a Multifamily Property & What Could Kill a Deal\n",
      "Shyno3hqSVk\n",
      "50,279 views\n",
      "1 year ago\n"
     ]
    },
    {
     "data": {
      "text/plain": [
       "102"
      ]
     },
     "execution_count": 37,
     "metadata": {},
     "output_type": "execute_result"
    },
    {
     "name": "stdout",
     "output_type": "stream",
     "text": [
      "How to Buy Houses with No Money Down (5 Ways)\n",
      "mZ-Pc-kG5kc\n",
      "50,229 views\n",
      "1 year ago\n"
     ]
    },
    {
     "data": {
      "text/plain": [
       "85"
      ]
     },
     "execution_count": 37,
     "metadata": {},
     "output_type": "execute_result"
    },
    {
     "name": "stdout",
     "output_type": "stream",
     "text": [
      "Backward BRRRRs, Property Classes, & Risks of Raising Capital\n",
      "77U5kJCyNzE\n",
      "16,792 views\n",
      "1 year ago\n"
     ]
    },
    {
     "data": {
      "text/plain": [
       "103"
      ]
     },
     "execution_count": 37,
     "metadata": {},
     "output_type": "execute_result"
    },
    {
     "name": "stdout",
     "output_type": "stream",
     "text": [
      "The Fed?s New Interest Rate Hike Explained\n",
      "JQcgCf216D4\n",
      "32,462 views\n",
      "1 year ago\n"
     ]
    },
    {
     "data": {
      "text/plain": [
       "82"
      ]
     },
     "execution_count": 37,
     "metadata": {},
     "output_type": "execute_result"
    },
    {
     "name": "stdout",
     "output_type": "stream",
     "text": [
      "Marriage & Millions: The Secret to Investing with Your Spouse\n",
      "vOu3YF1vp_0\n",
      "9,834 views\n",
      "1 year ago\n"
     ]
    },
    {
     "data": {
      "text/plain": [
       "100"
      ]
     },
     "execution_count": 37,
     "metadata": {},
     "output_type": "execute_result"
    },
    {
     "name": "stdout",
     "output_type": "stream",
     "text": [
      "Escaping Spreadsheet Prison When Investing in Real Estate\n",
      "-lP8CBKnepI\n",
      "24,308 views\n",
      "1 year ago\n"
     ]
    },
    {
     "data": {
      "text/plain": [
       "97"
      ]
     },
     "execution_count": 37,
     "metadata": {},
     "output_type": "execute_result"
    },
    {
     "name": "stdout",
     "output_type": "stream",
     "text": [
      "How to Get Into Commercial Real Estate (4 Tips)\n",
      "FekWp1djlOM\n",
      "59,096 views\n",
      "1 year ago\n"
     ]
    },
    {
     "data": {
      "text/plain": [
       "87"
      ]
     },
     "execution_count": 37,
     "metadata": {},
     "output_type": "execute_result"
    },
    {
     "name": "stdout",
     "output_type": "stream",
     "text": [
      "7 Signs of a Bad Real Estate Agent & Finding Rockstar Realtors\n",
      "njXjCYcYQNo\n",
      "11,926 views\n",
      "1 year ago\n"
     ]
    },
    {
     "data": {
      "text/plain": [
       "102"
      ]
     },
     "execution_count": 37,
     "metadata": {},
     "output_type": "execute_result"
    },
    {
     "name": "stdout",
     "output_type": "stream",
     "text": [
      "How to Pay ZERO Taxes on Real Estate Profits w/Income Shifting\n",
      "itqgqtvVCGg\n",
      "12,748 views\n",
      "1 year ago\n"
     ]
    },
    {
     "data": {
      "text/plain": [
       "102"
      ]
     },
     "execution_count": 37,
     "metadata": {},
     "output_type": "execute_result"
    },
    {
     "name": "stdout",
     "output_type": "stream",
     "text": [
      "Cash Flow Concerns & Should I Invest Now or Wait?\n",
      "6qu31rSYGl0\n",
      "23,593 views\n",
      "1 year ago\n"
     ]
    },
    {
     "data": {
      "text/plain": [
       "89"
      ]
     },
     "execution_count": 37,
     "metadata": {},
     "output_type": "execute_result"
    },
    {
     "name": "stdout",
     "output_type": "stream",
     "text": [
      "4 Reasons Why Rentals Remain Bulletproof In Uncertain Times\n",
      "mdpphGkGP2s\n",
      "19,079 views\n",
      "1 year ago\n"
     ]
    },
    {
     "data": {
      "text/plain": [
       "99"
      ]
     },
     "execution_count": 37,
     "metadata": {},
     "output_type": "execute_result"
    },
    {
     "name": "stdout",
     "output_type": "stream",
     "text": [
      "From Pizzeria Owner to 1,500 Rental Units by \"Buying Right\"\n",
      "MGh3C7Pnuao\n",
      "10,532 views\n",
      "1 year ago\n"
     ]
    },
    {
     "data": {
      "text/plain": [
       "103"
      ]
     },
     "execution_count": 37,
     "metadata": {},
     "output_type": "execute_result"
    },
    {
     "name": "stdout",
     "output_type": "stream",
     "text": [
      "Your Home's Hidden Passive Income Stream (ADUs Explained)\n",
      "Q5hhTxlWJ8g\n",
      "43,977 views\n",
      "1 year ago\n"
     ]
    },
    {
     "data": {
      "text/plain": [
       "97"
      ]
     },
     "execution_count": 37,
     "metadata": {},
     "output_type": "execute_result"
    },
    {
     "name": "stdout",
     "output_type": "stream",
     "text": [
      "The New BiggerPockets Podcast Host Is?\n",
      "8FNfvB8096c\n",
      "8,017 views\n",
      "1 year ago\n"
     ]
    },
    {
     "data": {
      "text/plain": [
       "77"
      ]
     },
     "execution_count": 37,
     "metadata": {},
     "output_type": "execute_result"
    },
    {
     "name": "stdout",
     "output_type": "stream",
     "text": [
      "BiggerNews March: Foreclosures Up 97% (with More On The Way)\n",
      "zrfh5ZIXfMo\n",
      "70,979 views\n",
      "1 year ago\n"
     ]
    },
    {
     "data": {
      "text/plain": [
       "100"
      ]
     },
     "execution_count": 37,
     "metadata": {},
     "output_type": "execute_result"
    },
    {
     "name": "stdout",
     "output_type": "stream",
     "text": [
      "The Best Entity for Real Estate Investing (LLC or S-Corp?)\n",
      "HomgxEZ9yZ4\n",
      "23,333 views\n",
      "1 year ago\n"
     ]
    },
    {
     "data": {
      "text/plain": [
       "98"
      ]
     },
     "execution_count": 37,
     "metadata": {},
     "output_type": "execute_result"
    },
    {
     "name": "stdout",
     "output_type": "stream",
     "text": [
      "Building Massive Wealth w/ Short-Term Rental Investing (Part 2)\n",
      "6HzcblwB-MM\n",
      "44,424 views\n",
      "1 year ago\n"
     ]
    },
    {
     "data": {
      "text/plain": [
       "103"
      ]
     },
     "execution_count": 37,
     "metadata": {},
     "output_type": "execute_result"
    },
    {
     "name": "stdout",
     "output_type": "stream",
     "text": [
      "4 Types of Real Estate Markets to Pay Attention to in 2022\n",
      "ClWllG1DpBc\n",
      "19,616 views\n",
      "1 year ago\n"
     ]
    },
    {
     "data": {
      "text/plain": [
       "98"
      ]
     },
     "execution_count": 37,
     "metadata": {},
     "output_type": "execute_result"
    },
    {
     "name": "stdout",
     "output_type": "stream",
     "text": [
      "The 3 Phases of Value Add Real Estate Investing\n",
      "nxlPCowMRI4\n",
      "18,757 views\n",
      "1 year ago\n"
     ]
    },
    {
     "data": {
      "text/plain": [
       "87"
      ]
     },
     "execution_count": 37,
     "metadata": {},
     "output_type": "execute_result"
    },
    {
     "name": "stdout",
     "output_type": "stream",
     "text": [
      "The 5 Steps to Making Short-Term Rental Millions (Part 1)\n",
      "g3wsAl8EPIY\n",
      "94,161 views\n",
      "1 year ago\n"
     ]
    },
    {
     "data": {
      "text/plain": [
       "97"
      ]
     },
     "execution_count": 37,
     "metadata": {},
     "output_type": "execute_result"
    },
    {
     "name": "stdout",
     "output_type": "stream",
     "text": [
      "What Real Estate Code Words Actually Mean on the MLS\n",
      "EeA0NjSbb0g\n",
      "9,671 views\n",
      "1 year ago\n"
     ]
    },
    {
     "data": {
      "text/plain": [
       "91"
      ]
     },
     "execution_count": 37,
     "metadata": {},
     "output_type": "execute_result"
    },
    {
     "name": "stdout",
     "output_type": "stream",
     "text": [
      "Is Investing in Multiple Real Estate Markets Worth the Hassle?\n",
      "mpkvx8S5SdM\n",
      "12,529 views\n",
      "1 year ago\n"
     ]
    },
    {
     "data": {
      "text/plain": [
       "102"
      ]
     },
     "execution_count": 37,
     "metadata": {},
     "output_type": "execute_result"
    },
    {
     "name": "stdout",
     "output_type": "stream",
     "text": [
      "The Best Short-Term Rental Tax Write-offs\n",
      "p680EfajILY\n",
      "17,143 views\n",
      "1 year ago\n"
     ]
    },
    {
     "data": {
      "text/plain": [
       "81"
      ]
     },
     "execution_count": 37,
     "metadata": {},
     "output_type": "execute_result"
    },
    {
     "name": "stdout",
     "output_type": "stream",
     "text": [
      "Is it Too Late to Invest in Short-Term Rentals?\n",
      "vr3_ArqiczI\n",
      "31,945 views\n",
      "1 year ago\n"
     ]
    },
    {
     "data": {
      "text/plain": [
       "87"
      ]
     },
     "execution_count": 37,
     "metadata": {},
     "output_type": "execute_result"
    },
    {
     "name": "stdout",
     "output_type": "stream",
     "text": [
      "A WAY Better Metric than Cash on Cash Return\n",
      "pn_o59mVoMk\n",
      "36,070 views\n",
      "1 year ago\n"
     ]
    },
    {
     "data": {
      "text/plain": [
       "84"
      ]
     },
     "execution_count": 37,
     "metadata": {},
     "output_type": "execute_result"
    },
    {
     "name": "stdout",
     "output_type": "stream",
     "text": [
      "Giving Up Flipping to Build a 1,000+ Unit Multifamily Empire\n",
      "6cMyzURZCgA\n",
      "19,026 views\n",
      "1 year ago\n"
     ]
    },
    {
     "data": {
      "text/plain": [
       "102"
      ]
     },
     "execution_count": 37,
     "metadata": {},
     "output_type": "execute_result"
    },
    {
     "name": "stdout",
     "output_type": "stream",
     "text": [
      "The Section 8 BRRRR Strategy That Beats Regular Rentals\n",
      "_AST-i2d95o\n",
      "90,703 views\n",
      "1 year ago\n"
     ]
    },
    {
     "data": {
      "text/plain": [
       "95"
      ]
     },
     "execution_count": 37,
     "metadata": {},
     "output_type": "execute_result"
    },
    {
     "name": "stdout",
     "output_type": "stream",
     "text": [
      "The (Almost) Perfect BRRRR Deal | Cash Flow, Loans, & More\n",
      "XBYy1PwfG5I\n",
      "20,321 views\n",
      "1 year ago\n"
     ]
    },
    {
     "data": {
      "text/plain": [
       "100"
      ]
     },
     "execution_count": 37,
     "metadata": {},
     "output_type": "execute_result"
    },
    {
     "name": "stdout",
     "output_type": "stream",
     "text": [
      "Rising Rates, Rentals vs. Primary Residences, and Common Crash Indicators | Coaching Calls\n",
      "hkbQkEKveIE\n",
      "55,886 views\n",
      "1 year ago\n"
     ]
    },
    {
     "data": {
      "text/plain": [
       "132"
      ]
     },
     "execution_count": 37,
     "metadata": {},
     "output_type": "execute_result"
    },
    {
     "name": "stdout",
     "output_type": "stream",
     "text": [
      "2022 Real Estate Tax Strategies for Fewer Taxes & More Cash\n",
      "tYR0PlzwyhM\n",
      "11,716 views\n",
      "1 year ago\n"
     ]
    },
    {
     "data": {
      "text/plain": [
       "99"
      ]
     },
     "execution_count": 37,
     "metadata": {},
     "output_type": "execute_result"
    },
    {
     "name": "stdout",
     "output_type": "stream",
     "text": [
      "Is \"Financial Freedom? a Curse for Real Estate Investors?\n",
      "rJbWRdpIfTo\n",
      "23,100 views\n",
      "1 year ago\n"
     ]
    },
    {
     "data": {
      "text/plain": [
       "100"
      ]
     },
     "execution_count": 37,
     "metadata": {},
     "output_type": "execute_result"
    },
    {
     "name": "stdout",
     "output_type": "stream",
     "text": [
      "The 2022 Housing Market Just Got Even Wilder\n",
      "OW1rcvcXoS8\n",
      "75,853 views\n",
      "1 year ago\n"
     ]
    },
    {
     "data": {
      "text/plain": [
       "84"
      ]
     },
     "execution_count": 37,
     "metadata": {},
     "output_type": "execute_result"
    },
    {
     "name": "stdout",
     "output_type": "stream",
     "text": [
      "How to Get In On Multi-Million Dollar Real Estate Deals\n",
      "I_ByjHto-Kw\n",
      "13,150 views\n",
      "1 year ago\n"
     ]
    },
    {
     "data": {
      "text/plain": [
       "95"
      ]
     },
     "execution_count": 37,
     "metadata": {},
     "output_type": "execute_result"
    },
    {
     "name": "stdout",
     "output_type": "stream",
     "text": [
      "From Poor Beginnings to Rental Property Powerhouse\n",
      "MWBIlfmvr4M\n",
      "37,263 views\n",
      "1 year ago\n"
     ]
    },
    {
     "data": {
      "text/plain": [
       "90"
      ]
     },
     "execution_count": 37,
     "metadata": {},
     "output_type": "execute_result"
    },
    {
     "name": "stdout",
     "output_type": "stream",
     "text": [
      "Is Investing FOMO Ruining Your Chance at Wealth?\n",
      "WG7DNHDIRTI\n",
      "20,731 views\n",
      "1 year ago\n"
     ]
    },
    {
     "data": {
      "text/plain": [
       "88"
      ]
     },
     "execution_count": 37,
     "metadata": {},
     "output_type": "execute_result"
    },
    {
     "name": "stdout",
     "output_type": "stream",
     "text": [
      "The 6 Steps to (Almost) Perfect Multifamily Underwriting\n",
      "wFVfl9pDGTc\n",
      "44,847 views\n",
      "1 year ago\n"
     ]
    },
    {
     "data": {
      "text/plain": [
       "96"
      ]
     },
     "execution_count": 37,
     "metadata": {},
     "output_type": "execute_result"
    },
    {
     "name": "stdout",
     "output_type": "stream",
     "text": [
      "6 Real Estate Tax Mistakes That Could Cost You Thousands\n",
      "x1nfC6Yi7UM\n",
      "12,697 views\n",
      "1 year ago\n"
     ]
    },
    {
     "data": {
      "text/plain": [
       "96"
      ]
     },
     "execution_count": 37,
     "metadata": {},
     "output_type": "execute_result"
    },
    {
     "name": "stdout",
     "output_type": "stream",
     "text": [
      "How to 10x Your Rental Portfolio (Without 10x-ing Stress)\n",
      "Ygt7d6eynDY\n",
      "55,872 views\n",
      "1 year ago\n"
     ]
    },
    {
     "data": {
      "text/plain": [
       "97"
      ]
     },
     "execution_count": 37,
     "metadata": {},
     "output_type": "execute_result"
    },
    {
     "name": "stdout",
     "output_type": "stream",
     "text": [
      "Stop Waiting for a Housing Crash (Do This Instead)\n",
      "Ni0JbB_Rr0I\n",
      "43,193 views\n",
      "1 year ago\n"
     ]
    },
    {
     "data": {
      "text/plain": [
       "90"
      ]
     },
     "execution_count": 37,
     "metadata": {},
     "output_type": "execute_result"
    },
    {
     "name": "stdout",
     "output_type": "stream",
     "text": [
      "Zero Experience to $500M in Commercial Real Estate in 4 Years\n",
      "3eoWT1ziHw8\n",
      "14,946 views\n",
      "1 year ago\n"
     ]
    },
    {
     "data": {
      "text/plain": [
       "101"
      ]
     },
     "execution_count": 37,
     "metadata": {},
     "output_type": "execute_result"
    },
    {
     "name": "stdout",
     "output_type": "stream",
     "text": [
      "How To Avoid Taxes (Legally) as a Real Estate Investor\n",
      "MdFae0JoPIE\n",
      "435,159 views\n",
      "1 year ago\n"
     ]
    },
    {
     "data": {
      "text/plain": [
       "95"
      ]
     },
     "execution_count": 37,
     "metadata": {},
     "output_type": "execute_result"
    },
    {
     "name": "stdout",
     "output_type": "stream",
     "text": [
      "How to Fail at The BRRRR Method | 4 Steps to Avoid\n",
      "a1HAJuDroeQ\n",
      "83,604 views\n",
      "1 year ago\n"
     ]
    },
    {
     "data": {
      "text/plain": [
       "90"
      ]
     },
     "execution_count": 37,
     "metadata": {},
     "output_type": "execute_result"
    },
    {
     "name": "stdout",
     "output_type": "stream",
     "text": [
      "BiggerNews February: Housing Market \"Yellow Flags\" to Watch\n",
      "zZzAk0qnF8k\n",
      "258,579 views\n",
      "1 year ago\n"
     ]
    },
    {
     "data": {
      "text/plain": [
       "104"
      ]
     },
     "execution_count": 37,
     "metadata": {},
     "output_type": "execute_result"
    },
    {
     "name": "stdout",
     "output_type": "stream",
     "text": [
      "3 Overlooked Tax Deductions for Real Estate Investors\n",
      "SFTiG_x3TR4\n",
      "24,386 views\n",
      "1 year ago\n"
     ]
    },
    {
     "data": {
      "text/plain": [
       "93"
      ]
     },
     "execution_count": 37,
     "metadata": {},
     "output_type": "execute_result"
    },
    {
     "name": "stdout",
     "output_type": "stream",
     "text": [
      "Is The 1% Rule Ruining Real Estate Investing?\n",
      "tDZqYtZv_Is\n",
      "50,206 views\n",
      "1 year ago\n"
     ]
    },
    {
     "data": {
      "text/plain": [
       "85"
      ]
     },
     "execution_count": 37,
     "metadata": {},
     "output_type": "execute_result"
    },
    {
     "name": "stdout",
     "output_type": "stream",
     "text": [
      "The 7 Signs of a Great Real Estate Market (2022)\n",
      "hZY1GXtGy94\n",
      "19,241 views\n",
      "1 year ago\n"
     ]
    },
    {
     "data": {
      "text/plain": [
       "88"
      ]
     },
     "execution_count": 37,
     "metadata": {},
     "output_type": "execute_result"
    },
    {
     "name": "stdout",
     "output_type": "stream",
     "text": [
      "3 Genius Multifamily Financing Strategies for ANY Size Deal\n",
      "Z-8WtculRKE\n",
      "24,243 views\n",
      "1 year ago\n"
     ]
    },
    {
     "data": {
      "text/plain": [
       "99"
      ]
     },
     "execution_count": 37,
     "metadata": {},
     "output_type": "execute_result"
    },
    {
     "name": "stdout",
     "output_type": "stream",
     "text": [
      "10 Rental Properties in 8 Months and The Power of Saying \"No\"\n",
      "Y4LL2PJE7FM\n",
      "103,173 views\n",
      "1 year ago\n"
     ]
    },
    {
     "data": {
      "text/plain": [
       "106"
      ]
     },
     "execution_count": 37,
     "metadata": {},
     "output_type": "execute_result"
    },
    {
     "name": "stdout",
     "output_type": "stream",
     "text": [
      "The 4-Step Cure to Investing-Induced Analysis Paralysis\n",
      "-aYpfCAG6Nc\n",
      "15,075 views\n",
      "1 year ago\n"
     ]
    },
    {
     "data": {
      "text/plain": [
       "95"
      ]
     },
     "execution_count": 37,
     "metadata": {},
     "output_type": "execute_result"
    },
    {
     "name": "stdout",
     "output_type": "stream",
     "text": [
      "When House Flipping Goes WAY Over Budget (Before & After)\n",
      "2DCh2-dN1Nw\n",
      "61,252 views\n",
      "1 year ago\n"
     ]
    },
    {
     "data": {
      "text/plain": [
       "97"
      ]
     },
     "execution_count": 37,
     "metadata": {},
     "output_type": "execute_result"
    },
    {
     "name": "stdout",
     "output_type": "stream",
     "text": [
      "Difficult Tenants, Funding Rehabs, & When to Quit Your Job\n",
      "fCAQDGDFw4o\n",
      "31,215 views\n",
      "1 year ago\n"
     ]
    },
    {
     "data": {
      "text/plain": [
       "100"
      ]
     },
     "execution_count": 37,
     "metadata": {},
     "output_type": "execute_result"
    },
    {
     "name": "stdout",
     "output_type": "stream",
     "text": [
      "Housing Affordability Just Crossed a Dangerous Line\n",
      "EaQe5odNXxQ\n",
      "30,332 views\n",
      "1 year ago\n"
     ]
    },
    {
     "data": {
      "text/plain": [
       "91"
      ]
     },
     "execution_count": 37,
     "metadata": {},
     "output_type": "execute_result"
    },
    {
     "name": "stdout",
     "output_type": "stream",
     "text": [
      "From 3 Units to 300 Using This Simple Off-Market Strategy\n",
      "2Q64X0YGgP8\n",
      "30,527 views\n",
      "1 year ago\n"
     ]
    },
    {
     "data": {
      "text/plain": [
       "97"
      ]
     },
     "execution_count": 37,
     "metadata": {},
     "output_type": "execute_result"
    },
    {
     "name": "stdout",
     "output_type": "stream",
     "text": [
      "Retired as a 'Digital Nomad Landlord' with 15 Rentals\n",
      "nz5apdyCpao\n",
      "46,457 views\n",
      "1 year ago\n"
     ]
    },
    {
     "data": {
      "text/plain": [
       "93"
      ]
     },
     "execution_count": 37,
     "metadata": {},
     "output_type": "execute_result"
    },
    {
     "name": "stdout",
     "output_type": "stream",
     "text": [
      "How to Invest in Real Estate in 2022 (Step-by-Step)\n",
      "p1oDUoNY7bk\n",
      "101,306 views\n",
      "1 year ago\n"
     ]
    },
    {
     "data": {
      "text/plain": [
       "92"
      ]
     },
     "execution_count": 37,
     "metadata": {},
     "output_type": "execute_result"
    },
    {
     "name": "stdout",
     "output_type": "stream",
     "text": [
      "Why \"Level Jumping\" is CRUCIAL to Your Real Estate Business\n",
      "-N6AwHHg_CE\n",
      "13,173 views\n",
      "1 year ago\n"
     ]
    },
    {
     "data": {
      "text/plain": [
       "103"
      ]
     },
     "execution_count": 37,
     "metadata": {},
     "output_type": "execute_result"
    },
    {
     "name": "stdout",
     "output_type": "stream",
     "text": [
      "Renting in The Winter, Investor Loans, & House Hacking Q&A\n",
      "LQctPyvJfzQ\n",
      "15,108 views\n",
      "1 year ago\n"
     ]
    },
    {
     "data": {
      "text/plain": [
       "100"
      ]
     },
     "execution_count": 37,
     "metadata": {},
     "output_type": "execute_result"
    },
    {
     "name": "stdout",
     "output_type": "stream",
     "text": [
      "Why Is The Housing Market So Hot This Winter?\n",
      "ywgNjoNABzA\n",
      "14,909 views\n",
      "1 year ago\n"
     ]
    },
    {
     "data": {
      "text/plain": [
       "85"
      ]
     },
     "execution_count": 37,
     "metadata": {},
     "output_type": "execute_result"
    },
    {
     "name": "stdout",
     "output_type": "stream",
     "text": [
      "How to Find a Mentor That Will Change Your Life (3 Steps)\n",
      "_pK6lvNxzX0\n",
      "8,842 views\n",
      "1 year ago\n"
     ]
    },
    {
     "data": {
      "text/plain": [
       "96"
      ]
     },
     "execution_count": 37,
     "metadata": {},
     "output_type": "execute_result"
    },
    {
     "name": "stdout",
     "output_type": "stream",
     "text": [
      "150+ Tenants & Zero Stress w/ Coliving Black Belt Sam Wegert\n",
      "bhSdXieLZKQ\n",
      "16,925 views\n",
      "1 year ago\n"
     ]
    },
    {
     "data": {
      "text/plain": [
       "100"
      ]
     },
     "execution_count": 37,
     "metadata": {},
     "output_type": "execute_result"
    },
    {
     "name": "stdout",
     "output_type": "stream",
     "text": [
      "1,000 Units as a Part-Time Nurse Using This Real Estate CRM\n",
      "BEcRdF3kvBg\n",
      "42,223 views\n",
      "2 years ago\n"
     ]
    },
    {
     "data": {
      "text/plain": [
       "102"
      ]
     },
     "execution_count": 37,
     "metadata": {},
     "output_type": "execute_result"
    },
    {
     "name": "stdout",
     "output_type": "stream",
     "text": [
      "My Real Estate Agent Sold Me the WRONG House\n",
      "xJC8KwUoHuw\n",
      "8,459 views\n",
      "2 years ago\n"
     ]
    },
    {
     "data": {
      "text/plain": [
       "84"
      ]
     },
     "execution_count": 37,
     "metadata": {},
     "output_type": "execute_result"
    },
    {
     "name": "stdout",
     "output_type": "stream",
     "text": [
      "Is ?Cash Flow Obsession? Blocking Your Wealth Building?\n",
      "Clwmmf_UHiw\n",
      "37,460 views\n",
      "2 years ago\n"
     ]
    },
    {
     "data": {
      "text/plain": [
       "96"
      ]
     },
     "execution_count": 37,
     "metadata": {},
     "output_type": "execute_result"
    },
    {
     "name": "stdout",
     "output_type": "stream",
     "text": [
      "3 Things That Will Impact Your 2022 Investment Strategy\n",
      "kkvSKSTUmIg\n",
      "12,862 views\n",
      "2 years ago\n"
     ]
    },
    {
     "data": {
      "text/plain": [
       "96"
      ]
     },
     "execution_count": 37,
     "metadata": {},
     "output_type": "execute_result"
    },
    {
     "name": "stdout",
     "output_type": "stream",
     "text": [
      "Structuring a $13M+ Real Estate Syndication Deal at Age 20\n",
      "HUSI4wlOJnI\n",
      "8,808 views\n",
      "2 years ago\n"
     ]
    },
    {
     "data": {
      "text/plain": [
       "98"
      ]
     },
     "execution_count": 37,
     "metadata": {},
     "output_type": "execute_result"
    },
    {
     "name": "stdout",
     "output_type": "stream",
     "text": [
      "From Speech Therapist to Million Dollar \"Capital Connector\"\n",
      "mhX5OlmvJ4Y\n",
      "9,587 views\n",
      "2 years ago\n"
     ]
    },
    {
     "data": {
      "text/plain": [
       "103"
      ]
     },
     "execution_count": 37,
     "metadata": {},
     "output_type": "execute_result"
    },
    {
     "name": "stdout",
     "output_type": "stream",
     "text": [
      "3 Things You Need to Start Investing in Real Estate\n",
      "Y7vAOHJRSSg\n",
      "25,815 views\n",
      "2 years ago\n"
     ]
    },
    {
     "data": {
      "text/plain": [
       "92"
      ]
     },
     "execution_count": 37,
     "metadata": {},
     "output_type": "execute_result"
    },
    {
     "name": "stdout",
     "output_type": "stream",
     "text": [
      "What Can/Will Go Wrong in a BRRRR? + Mitigating Your Risk\n",
      "aMRD00BnpH4\n",
      "29,780 views\n",
      "2 years ago\n"
     ]
    },
    {
     "data": {
      "text/plain": [
       "98"
      ]
     },
     "execution_count": 37,
     "metadata": {},
     "output_type": "execute_result"
    },
    {
     "name": "stdout",
     "output_type": "stream",
     "text": [
      "Where NOT to Buy Real Estate in 2022's Housing Market\n",
      "55Yfcuul0Kw\n",
      "86,633 views\n",
      "2 years ago\n"
     ]
    },
    {
     "data": {
      "text/plain": [
       "94"
      ]
     },
     "execution_count": 37,
     "metadata": {},
     "output_type": "execute_result"
    },
    {
     "name": "stdout",
     "output_type": "stream",
     "text": [
      "Answering 8 Top Real Estate Investing Questions\n",
      "ey3P7oNPjJc\n",
      "19,793 views\n",
      "2 years ago\n"
     ]
    },
    {
     "data": {
      "text/plain": [
       "88"
      ]
     },
     "execution_count": 37,
     "metadata": {},
     "output_type": "execute_result"
    },
    {
     "name": "stdout",
     "output_type": "stream",
     "text": [
      "5 'Under the Radar? Real Estate Markets for 2022\n",
      "0L8FaLLeNy4\n",
      "60,548 views\n",
      "2 years ago\n"
     ]
    },
    {
     "data": {
      "text/plain": [
       "89"
      ]
     },
     "execution_count": 37,
     "metadata": {},
     "output_type": "execute_result"
    },
    {
     "name": "stdout",
     "output_type": "stream",
     "text": [
      "The Easiest Way to Find Areas Worth Investing In\n",
      "nCeXOedHJvk\n",
      "29,298 views\n",
      "2 years ago\n"
     ]
    },
    {
     "data": {
      "text/plain": [
       "89"
      ]
     },
     "execution_count": 37,
     "metadata": {},
     "output_type": "execute_result"
    },
    {
     "name": "stdout",
     "output_type": "stream",
     "text": [
      "81 Rental Units at 21 by Doing What 99% of Investors Won?t\n",
      "P2L3NklcU1k\n",
      "1,214,833 views\n",
      "2 years ago\n"
     ]
    },
    {
     "data": {
      "text/plain": [
       "102"
      ]
     },
     "execution_count": 37,
     "metadata": {},
     "output_type": "execute_result"
    },
    {
     "name": "stdout",
     "output_type": "stream",
     "text": [
      "Multifamily Investing for Beginners | Brand New Bootcamp!\n",
      "ecYsiT7e1ek\n",
      "9,546 views\n",
      "2 years ago\n"
     ]
    },
    {
     "data": {
      "text/plain": [
       "97"
      ]
     },
     "execution_count": 37,
     "metadata": {},
     "output_type": "execute_result"
    },
    {
     "name": "stdout",
     "output_type": "stream",
     "text": [
      "BiggerNews January: Our Top 2022 Housing Market Predictions\n",
      "BZSZmNBVUYU\n",
      "37,083 views\n",
      "2 years ago\n"
     ]
    },
    {
     "data": {
      "text/plain": [
       "100"
      ]
     },
     "execution_count": 37,
     "metadata": {},
     "output_type": "execute_result"
    },
    {
     "name": "stdout",
     "output_type": "stream",
     "text": [
      "6 Tips for Viewing a House (Investors & Agents: Watch Out!)\n",
      "GWZfw7dPCjc\n",
      "28,657 views\n",
      "2 years ago\n"
     ]
    },
    {
     "data": {
      "text/plain": [
       "100"
      ]
     },
     "execution_count": 37,
     "metadata": {},
     "output_type": "execute_result"
    },
    {
     "name": "stdout",
     "output_type": "stream",
     "text": [
      "Crushing Your 2022 Goals w/David Greene (+Live Q&A)\n",
      "4TAp8yNpqLA\n",
      "21,935 views\n",
      "2 years ago\n"
     ]
    },
    {
     "data": {
      "text/plain": [
       "92"
      ]
     },
     "execution_count": 37,
     "metadata": {},
     "output_type": "execute_result"
    },
    {
     "name": "stdout",
     "output_type": "stream",
     "text": [
      "The Perfect Multifamily BRRRR (23 Units, ZERO Work)\n",
      "bNMzivARv8A\n",
      "17,107 views\n",
      "2 years ago\n"
     ]
    },
    {
     "data": {
      "text/plain": [
       "94"
      ]
     },
     "execution_count": 37,
     "metadata": {},
     "output_type": "execute_result"
    },
    {
     "name": "stdout",
     "output_type": "stream",
     "text": [
      "Brandon Turner's Final Episode: Life Beyond Real Estate\n",
      "0mujR0kzWPQ\n",
      "60,520 views\n",
      "2 years ago\n"
     ]
    },
    {
     "data": {
      "text/plain": [
       "96"
      ]
     },
     "execution_count": 37,
     "metadata": {},
     "output_type": "execute_result"
    },
    {
     "name": "stdout",
     "output_type": "stream",
     "text": [
      "2,700 Rentals & Feeding a \"Rental Property Addiction\"\n",
      "IMTIcgxN_i0\n",
      "19,559 views\n",
      "2 years ago\n"
     ]
    },
    {
     "data": {
      "text/plain": [
       "98"
      ]
     },
     "execution_count": 37,
     "metadata": {},
     "output_type": "execute_result"
    },
    {
     "name": "stdout",
     "output_type": "stream",
     "text": [
      "Why Commercial Real Estate Isn't as Stressful As You Think\n",
      "QrqWCdaRtJY\n",
      "14,740 views\n",
      "2 years ago\n"
     ]
    },
    {
     "data": {
      "text/plain": [
       "99"
      ]
     },
     "execution_count": 37,
     "metadata": {},
     "output_type": "execute_result"
    },
    {
     "name": "stdout",
     "output_type": "stream",
     "text": [
      "Building a $2M Real Estate Portfolio (While Raising 2 Kids!)\n",
      "p5UoFRfoeE0\n",
      "15,647 views\n",
      "2 years ago\n"
     ]
    },
    {
     "data": {
      "text/plain": [
       "101"
      ]
     },
     "execution_count": 37,
     "metadata": {},
     "output_type": "execute_result"
    },
    {
     "name": "stdout",
     "output_type": "stream",
     "text": [
      "How Much Should I Invest in 2022? (Real Estate & Stocks)\n",
      "vhzgOOoQr3U\n",
      "12,620 views\n",
      "2 years ago\n"
     ]
    },
    {
     "data": {
      "text/plain": [
       "97"
      ]
     },
     "execution_count": 37,
     "metadata": {},
     "output_type": "execute_result"
    },
    {
     "name": "stdout",
     "output_type": "stream",
     "text": [
      "Cost Segregation Walkthrough on a 276-Unit (HUGE Tax Savings)\n",
      "6SxCwQAVetE\n",
      "19,624 views\n",
      "2 years ago\n"
     ]
    },
    {
     "data": {
      "text/plain": [
       "102"
      ]
     },
     "execution_count": 37,
     "metadata": {},
     "output_type": "execute_result"
    },
    {
     "name": "stdout",
     "output_type": "stream",
     "text": [
      "5 Things I Wish I Knew Before Investing in Short-Term Rentals\n",
      "hQYyoWq5QhA\n",
      "12,515 views\n",
      "2 years ago\n"
     ]
    },
    {
     "data": {
      "text/plain": [
       "102"
      ]
     },
     "execution_count": 37,
     "metadata": {},
     "output_type": "execute_result"
    },
    {
     "name": "stdout",
     "output_type": "stream",
     "text": [
      "Real Estate Scams, Schemes, and Seller Financing\n",
      "Z8Ok7df4U-k\n",
      "22,389 views\n",
      "2 years ago\n"
     ]
    },
    {
     "data": {
      "text/plain": [
       "91"
      ]
     },
     "execution_count": 37,
     "metadata": {},
     "output_type": "execute_result"
    },
    {
     "name": "stdout",
     "output_type": "stream",
     "text": [
      "Buying a Rental Property Every Single Week w/ Omni Casey\n",
      "8zMnNvUkWd4\n",
      "47,446 views\n",
      "2 years ago\n"
     ]
    },
    {
     "data": {
      "text/plain": [
       "97"
      ]
     },
     "execution_count": 37,
     "metadata": {},
     "output_type": "execute_result"
    },
    {
     "name": "stdout",
     "output_type": "stream",
     "text": [
      "Tiny Houses, Interior Design, & Drunk Locksmiths w/ Robuilt\n",
      "wWhZqTgKxtg\n",
      "5,953 views\n",
      "2 years ago\n"
     ]
    },
    {
     "data": {
      "text/plain": [
       "101"
      ]
     },
     "execution_count": 37,
     "metadata": {},
     "output_type": "execute_result"
    },
    {
     "name": "stdout",
     "output_type": "stream",
     "text": [
      "Scrappy Hustlers Turned Fix and Flip Masters (30 Flips/Year!)\n",
      "6-mUh23nAbY\n",
      "10,359 views\n",
      "2 years ago\n"
     ]
    },
    {
     "data": {
      "text/plain": [
       "102"
      ]
     },
     "execution_count": 37,
     "metadata": {},
     "output_type": "execute_result"
    },
    {
     "name": "stdout",
     "output_type": "stream",
     "text": [
      "Investing in Virtual Real Estate (The Metaverse Explained)\n",
      "1v__OyO-efk\n",
      "40,847 views\n",
      "2 years ago\n"
     ]
    },
    {
     "data": {
      "text/plain": [
       "99"
      ]
     },
     "execution_count": 37,
     "metadata": {},
     "output_type": "execute_result"
    },
    {
     "name": "stdout",
     "output_type": "stream",
     "text": [
      "Tax-Free Millions w/ Cost Segregation Study Expert Yonah Weiss\n",
      "TfAvUdNm1u8\n",
      "67,488 views\n",
      "2 years ago\n"
     ]
    },
    {
     "data": {
      "text/plain": [
       "103"
      ]
     },
     "execution_count": 37,
     "metadata": {},
     "output_type": "execute_result"
    },
    {
     "name": "stdout",
     "output_type": "stream",
     "text": [
      "From Fourplexes to $40M in Self Storage Investments\n",
      "cTBgVzWvP20\n",
      "31,013 views\n",
      "2 years ago\n"
     ]
    },
    {
     "data": {
      "text/plain": [
       "92"
      ]
     },
     "execution_count": 37,
     "metadata": {},
     "output_type": "execute_result"
    },
    {
     "name": "stdout",
     "output_type": "stream",
     "text": [
      "4 Ways to Build Your Self Storage Portfolio\n",
      "ycK5tIl1Apo\n",
      "8,379 views\n",
      "2 years ago\n"
     ]
    },
    {
     "data": {
      "text/plain": [
       "83"
      ]
     },
     "execution_count": 37,
     "metadata": {},
     "output_type": "execute_result"
    },
    {
     "name": "stdout",
     "output_type": "stream",
     "text": [
      "1,000+ Units w/ Help From Vivid Vision's Cameron Herold\n",
      "zJCsPG69p8A\n",
      "9,709 views\n",
      "2 years ago\n"
     ]
    },
    {
     "data": {
      "text/plain": [
       "97"
      ]
     },
     "execution_count": 37,
     "metadata": {},
     "output_type": "execute_result"
    },
    {
     "name": "stdout",
     "output_type": "stream",
     "text": [
      "How to Find a GREAT Real Estate Agent (3 Key Factors)\n",
      "hijp3MkWfso\n",
      "5,422 views\n",
      "2 years ago\n"
     ]
    },
    {
     "data": {
      "text/plain": [
       "93"
      ]
     },
     "execution_count": 37,
     "metadata": {},
     "output_type": "execute_result"
    },
    {
     "name": "stdout",
     "output_type": "stream",
     "text": [
      "Unlock Your $1,000/hr Tasks w/ \"Traction\" Author Gino Wickman\n",
      "bl_KIv6ob4g\n",
      "14,435 views\n",
      "2 years ago\n"
     ]
    },
    {
     "data": {
      "text/plain": [
       "106"
      ]
     },
     "execution_count": 37,
     "metadata": {},
     "output_type": "execute_result"
    },
    {
     "name": "stdout",
     "output_type": "stream",
     "text": [
      "2021 Housing Market Recap (& What To Watch for in 2022)\n",
      "fW-Ry9b4lYM\n",
      "13,561 views\n",
      "2 years ago\n"
     ]
    },
    {
     "data": {
      "text/plain": [
       "96"
      ]
     },
     "execution_count": 37,
     "metadata": {},
     "output_type": "execute_result"
    },
    {
     "name": "stdout",
     "output_type": "stream",
     "text": [
      "Multifamily Underwriting in 7 Steps (14-Unit Example)\n",
      "9ti8qqYIBNs\n",
      "41,090 views\n",
      "2 years ago\n"
     ]
    },
    {
     "data": {
      "text/plain": [
       "94"
      ]
     },
     "execution_count": 37,
     "metadata": {},
     "output_type": "execute_result"
    },
    {
     "name": "stdout",
     "output_type": "stream",
     "text": [
      "22 Doors and Creating Generational Wealth w/Billy Dha Kidd\n",
      "oV58_CPpQ6s\n",
      "12,124 views\n",
      "2 years ago\n"
     ]
    },
    {
     "data": {
      "text/plain": [
       "99"
      ]
     },
     "execution_count": 37,
     "metadata": {},
     "output_type": "execute_result"
    },
    {
     "name": "stdout",
     "output_type": "stream",
     "text": [
      "7 Ways to Buy Your First Self Storage Investment\n",
      "OUM14RbphGk\n",
      "45,752 views\n",
      "2 years ago\n"
     ]
    },
    {
     "data": {
      "text/plain": [
       "89"
      ]
     },
     "execution_count": 37,
     "metadata": {},
     "output_type": "execute_result"
    },
    {
     "name": "stdout",
     "output_type": "stream",
     "text": [
      "BiggerNews December: Zillow Crash, Inflation, & Power Buyers\n",
      "MZmQ1WEc_jc\n",
      "14,663 views\n",
      "2 years ago\n"
     ]
    },
    {
     "data": {
      "text/plain": [
       "103"
      ]
     },
     "execution_count": 37,
     "metadata": {},
     "output_type": "execute_result"
    },
    {
     "name": "stdout",
     "output_type": "stream",
     "text": [
      "3 Questions to Ask a Real Estate Agent (STR Edition)\n",
      "N_aiKuw0SgA\n",
      "9,575 views\n",
      "2 years ago\n"
     ]
    },
    {
     "data": {
      "text/plain": [
       "92"
      ]
     },
     "execution_count": 37,
     "metadata": {},
     "output_type": "execute_result"
    },
    {
     "name": "stdout",
     "output_type": "stream",
     "text": [
      "$35k/yr Cop to $300,000,000 in Real Estate w/ Whitney Sewell\n",
      "zEmkgH1qwfc\n",
      "28,313 views\n",
      "2 years ago\n"
     ]
    },
    {
     "data": {
      "text/plain": [
       "103"
      ]
     },
     "execution_count": 37,
     "metadata": {},
     "output_type": "execute_result"
    },
    {
     "name": "stdout",
     "output_type": "stream",
     "text": [
      "How to 15x Your Real Estate Agent Commissions\n",
      "NNpa1Bo96rw\n",
      "3,394 views\n",
      "2 years ago\n"
     ]
    },
    {
     "data": {
      "text/plain": [
       "85"
      ]
     },
     "execution_count": 37,
     "metadata": {},
     "output_type": "execute_result"
    },
    {
     "name": "stdout",
     "output_type": "stream",
     "text": [
      "Good Debt vs. Bad Debt (& When to Use Both)\n",
      "tVUwSDvHVzI\n",
      "6,637 views\n",
      "2 years ago\n"
     ]
    },
    {
     "data": {
      "text/plain": [
       "83"
      ]
     },
     "execution_count": 37,
     "metadata": {},
     "output_type": "execute_result"
    },
    {
     "name": "stdout",
     "output_type": "stream",
     "text": [
      "100+ Units at 25 and How to Find a Mentor in Multifamily\n",
      "TEf_95V8-vg\n",
      "24,564 views\n",
      "2 years ago\n"
     ]
    },
    {
     "data": {
      "text/plain": [
       "97"
      ]
     },
     "execution_count": 37,
     "metadata": {},
     "output_type": "execute_result"
    },
    {
     "name": "stdout",
     "output_type": "stream",
     "text": [
      "How to Invest in Real Estate (Beginner's Guide)\n",
      "KQTFBfaTYX0\n",
      "390,914 views\n",
      "2 years ago\n"
     ]
    },
    {
     "data": {
      "text/plain": [
       "89"
      ]
     },
     "execution_count": 37,
     "metadata": {},
     "output_type": "execute_result"
    },
    {
     "name": "stdout",
     "output_type": "stream",
     "text": [
      "10 Ways to Make Millions in Self Storage Investing\n",
      "9MdGwJAM7Vw\n",
      "6,084 views\n",
      "2 years ago\n"
     ]
    },
    {
     "data": {
      "text/plain": [
       "90"
      ]
     },
     "execution_count": 37,
     "metadata": {},
     "output_type": "execute_result"
    },
    {
     "name": "stdout",
     "output_type": "stream",
     "text": [
      "Revitalizing a Texas Downtown by Creating Equity & Cash Flow\n",
      "Wx9W_znpik0\n",
      "8,271 views\n",
      "2 years ago\n"
     ]
    },
    {
     "data": {
      "text/plain": [
       "100"
      ]
     },
     "execution_count": 37,
     "metadata": {},
     "output_type": "execute_result"
    },
    {
     "name": "stdout",
     "output_type": "stream",
     "text": [
      "5 Tools Every Vacation Rental Host Needs\n",
      "S8XgqX4pjLw\n",
      "19,206 views\n",
      "2 years ago\n"
     ]
    },
    {
     "data": {
      "text/plain": [
       "81"
      ]
     },
     "execution_count": 37,
     "metadata": {},
     "output_type": "execute_result"
    },
    {
     "name": "stdout",
     "output_type": "stream",
     "text": [
      "10 Best Real Estate Books (For EVERY Investor)\n",
      "rAsdEvB-KGA\n",
      "24,645 views\n",
      "2 years ago\n"
     ]
    },
    {
     "data": {
      "text/plain": [
       "87"
      ]
     },
     "execution_count": 37,
     "metadata": {},
     "output_type": "execute_result"
    },
    {
     "name": "stdout",
     "output_type": "stream",
     "text": [
      "3 Reasons Why You Should Be Working With a Real Estate Agent\n",
      "u4cB7QWT0eY\n",
      "5,514 views\n",
      "2 years ago\n"
     ]
    },
    {
     "data": {
      "text/plain": [
       "100"
      ]
     },
     "execution_count": 37,
     "metadata": {},
     "output_type": "execute_result"
    },
    {
     "name": "stdout",
     "output_type": "stream",
     "text": [
      "Why Investors Are Betting on the Housing Market (Q3 Update)\n",
      "rT3BB415FQE\n",
      "17,650 views\n",
      "2 years ago\n"
     ]
    },
    {
     "data": {
      "text/plain": [
       "100"
      ]
     },
     "execution_count": 37,
     "metadata": {},
     "output_type": "execute_result"
    },
    {
     "name": "stdout",
     "output_type": "stream",
     "text": [
      "Pitching Private Equity Investors on a $4M Deal (Live!)\n",
      "dd4Q5qWQLKY\n",
      "79,196 views\n",
      "2 years ago\n"
     ]
    },
    {
     "data": {
      "text/plain": [
       "96"
      ]
     },
     "execution_count": 37,
     "metadata": {},
     "output_type": "execute_result"
    },
    {
     "name": "stdout",
     "output_type": "stream",
     "text": [
      "Fighting Analysis Paralysis & Becoming ?The General?\n",
      "DF37palKqRc\n",
      "14,835 views\n",
      "2 years ago\n"
     ]
    },
    {
     "data": {
      "text/plain": [
       "93"
      ]
     },
     "execution_count": 37,
     "metadata": {},
     "output_type": "execute_result"
    },
    {
     "name": "stdout",
     "output_type": "stream",
     "text": [
      "How to Calculate Vacation Rental Profits (In 5 Minutes)\n",
      "Ss2cKoC5YhY\n",
      "50,545 views\n",
      "2 years ago\n"
     ]
    },
    {
     "data": {
      "text/plain": [
       "96"
      ]
     },
     "execution_count": 37,
     "metadata": {},
     "output_type": "execute_result"
    },
    {
     "name": "stdout",
     "output_type": "stream",
     "text": [
      "When To Keep, Sell, or Cash Out Refinance Rental Properties\n",
      "gI-iRUPauiw\n",
      "13,909 views\n",
      "2 years ago\n"
     ]
    },
    {
     "data": {
      "text/plain": [
       "102"
      ]
     },
     "execution_count": 37,
     "metadata": {},
     "output_type": "execute_result"
    },
    {
     "name": "stdout",
     "output_type": "stream",
     "text": [
      "Why Self Storage Investments Beat Most Other Real Estate\n",
      "Hk05aIN6inI\n",
      "117,759 views\n",
      "2 years ago\n"
     ]
    },
    {
     "data": {
      "text/plain": [
       "98"
      ]
     },
     "execution_count": 37,
     "metadata": {},
     "output_type": "execute_result"
    },
    {
     "name": "stdout",
     "output_type": "stream",
     "text": [
      "Cash Flow vs. Appreciation & Buying in Today?s Housing Market\n",
      "lyy1o6VzPnI\n",
      "43,448 views\n",
      "2 years ago\n"
     ]
    },
    {
     "data": {
      "text/plain": [
       "102"
      ]
     },
     "execution_count": 37,
     "metadata": {},
     "output_type": "execute_result"
    },
    {
     "name": "stdout",
     "output_type": "stream",
     "text": [
      "Will Rising Interest Rates Tank the Housing Market?\n",
      "b82yR9eEdmM\n",
      "26,268 views\n",
      "2 years ago\n"
     ]
    },
    {
     "data": {
      "text/plain": [
       "92"
      ]
     },
     "execution_count": 37,
     "metadata": {},
     "output_type": "execute_result"
    },
    {
     "name": "stdout",
     "output_type": "stream",
     "text": [
      "Two College Dropouts & Their $4.7M Multifamily Syndication Deal\n",
      "3UJztPMDfnA\n",
      "8,487 views\n",
      "2 years ago\n"
     ]
    },
    {
     "data": {
      "text/plain": [
       "103"
      ]
     },
     "execution_count": 37,
     "metadata": {},
     "output_type": "execute_result"
    },
    {
     "name": "stdout",
     "output_type": "stream",
     "text": [
      "Self Storage Investing for Beginners with Paul Moore\n",
      "XIPXVLPf3bo\n",
      "48,132 views\n",
      "2 years ago\n"
     ]
    },
    {
     "data": {
      "text/plain": [
       "93"
      ]
     },
     "execution_count": 37,
     "metadata": {},
     "output_type": "execute_result"
    },
    {
     "name": "stdout",
     "output_type": "stream",
     "text": [
      "40 Tenants Under One Roof | Rooming & Boarding House Investing\n",
      "P-Vkz-iM-ak\n",
      "24,275 views\n",
      "2 years ago\n"
     ]
    },
    {
     "data": {
      "text/plain": [
       "103"
      ]
     },
     "execution_count": 37,
     "metadata": {},
     "output_type": "execute_result"
    },
    {
     "name": "stdout",
     "output_type": "stream",
     "text": [
      "Is 2022 THE Year to Get Into Multifamily Real Estate?\n",
      "VwrzYo-09yg\n",
      "55,727 views\n",
      "2 years ago\n"
     ]
    },
    {
     "data": {
      "text/plain": [
       "94"
      ]
     },
     "execution_count": 37,
     "metadata": {},
     "output_type": "execute_result"
    },
    {
     "name": "stdout",
     "output_type": "stream",
     "text": [
      "My Triplex Burnt Down (Now it Cash Flows More!) | Welby Accely\n",
      "HNxOTWch1dA\n",
      "14,745 views\n",
      "2 years ago\n"
     ]
    },
    {
     "data": {
      "text/plain": [
       "103"
      ]
     },
     "execution_count": 37,
     "metadata": {},
     "output_type": "execute_result"
    },
    {
     "name": "stdout",
     "output_type": "stream",
     "text": [
      "No Deals? Use Property Zoning to \"Make a Deal\"\n",
      "6toYSEPMnVo\n",
      "19,139 views\n",
      "2 years ago\n"
     ]
    },
    {
     "data": {
      "text/plain": [
       "91"
      ]
     },
     "execution_count": 37,
     "metadata": {},
     "output_type": "execute_result"
    },
    {
     "name": "stdout",
     "output_type": "stream",
     "text": [
      "Breaking Down the Zillow Disaster | w/ HGTV Star Ken Corsini\n",
      "7ILCEJj__cg\n",
      "9,451 views\n",
      "2 years ago\n"
     ]
    },
    {
     "data": {
      "text/plain": [
       "100"
      ]
     },
     "execution_count": 37,
     "metadata": {},
     "output_type": "execute_result"
    },
    {
     "name": "stdout",
     "output_type": "stream",
     "text": [
      "The Multifamily Mentors Show | Season 2 Trailer | BiggerPockets\n",
      "MoJanoF_ngc\n",
      "3,058 views\n",
      "2 years ago\n"
     ]
    },
    {
     "data": {
      "text/plain": [
       "103"
      ]
     },
     "execution_count": 37,
     "metadata": {},
     "output_type": "execute_result"
    },
    {
     "name": "stdout",
     "output_type": "stream",
     "text": [
      "Finding the ?Hidden Gold? Rental Properties Most Investors Miss\n",
      "tBfdeGhaLPg\n",
      "26,820 views\n",
      "2 years ago\n"
     ]
    },
    {
     "data": {
      "text/plain": [
       "104"
      ]
     },
     "execution_count": 37,
     "metadata": {},
     "output_type": "execute_result"
    },
    {
     "name": "stdout",
     "output_type": "stream",
     "text": [
      "9 'Bulletproof' Rental Property Improvements\n",
      "Msw_C_zb11M\n",
      "139,909 views\n",
      "2 years ago\n"
     ]
    },
    {
     "data": {
      "text/plain": [
       "86"
      ]
     },
     "execution_count": 37,
     "metadata": {},
     "output_type": "execute_result"
    },
    {
     "name": "stdout",
     "output_type": "stream",
     "text": [
      "5 Tips for Finding Short-Term Rental BRRRR Properties\n",
      "oUeSTVEn4mQ\n",
      "18,529 views\n",
      "2 years ago\n"
     ]
    },
    {
     "data": {
      "text/plain": [
       "94"
      ]
     },
     "execution_count": 37,
     "metadata": {},
     "output_type": "execute_result"
    },
    {
     "name": "stdout",
     "output_type": "stream",
     "text": [
      "Creative Financing Q&A: LLCs, Negotiations & More\n",
      "VWCxaDOR5HE\n",
      "71,283 views\n",
      "2 years ago\n"
     ]
    },
    {
     "data": {
      "text/plain": [
       "92"
      ]
     },
     "execution_count": 37,
     "metadata": {},
     "output_type": "execute_result"
    },
    {
     "name": "stdout",
     "output_type": "stream",
     "text": [
      "Pace Morby's 5 Questions That Led to 500+ Real Estate Deals\n",
      "-e37wZ1-2K0\n",
      "67,594 views\n",
      "2 years ago\n"
     ]
    },
    {
     "data": {
      "text/plain": [
       "100"
      ]
     },
     "execution_count": 37,
     "metadata": {},
     "output_type": "execute_result"
    },
    {
     "name": "stdout",
     "output_type": "stream",
     "text": [
      "What's Going On In The Housing Market | November 2021\n",
      "bKpGBPWPAqs\n",
      "93,930 views\n",
      "2 years ago\n"
     ]
    },
    {
     "data": {
      "text/plain": [
       "94"
      ]
     },
     "execution_count": 37,
     "metadata": {},
     "output_type": "execute_result"
    },
    {
     "name": "stdout",
     "output_type": "stream",
     "text": [
      "300 Doors ALL Through Creative Financing w/ Pace Morby\n",
      "FWdhsZEwQaM\n",
      "354,700 views\n",
      "2 years ago\n"
     ]
    },
    {
     "data": {
      "text/plain": [
       "96"
      ]
     },
     "execution_count": 37,
     "metadata": {},
     "output_type": "execute_result"
    },
    {
     "name": "stdout",
     "output_type": "stream",
     "text": [
      "Biggest Red Flags When Buying a House (Flips & Rentals)\n",
      "tJuK3LH_Bqg\n",
      "42,167 views\n",
      "2 years ago\n"
     ]
    },
    {
     "data": {
      "text/plain": [
       "96"
      ]
     },
     "execution_count": 37,
     "metadata": {},
     "output_type": "execute_result"
    },
    {
     "name": "stdout",
     "output_type": "stream",
     "text": [
      "BiggerNews November: Congress's $40B Sucker Punch to Real Estate Investors (See Update!)\n",
      "-dkMdBoZTyE\n",
      "33,425 views\n",
      "2 years ago\n"
     ]
    },
    {
     "data": {
      "text/plain": [
       "129"
      ]
     },
     "execution_count": 37,
     "metadata": {},
     "output_type": "execute_result"
    },
    {
     "name": "stdout",
     "output_type": "stream",
     "text": [
      "How to Analyze a Short Term Rental Investment (The Enemy Method)\n",
      "Noa_OLEKGQ4\n",
      "29,870 views\n",
      "2 years ago\n"
     ]
    },
    {
     "data": {
      "text/plain": [
       "105"
      ]
     },
     "execution_count": 37,
     "metadata": {},
     "output_type": "execute_result"
    },
    {
     "name": "stdout",
     "output_type": "stream",
     "text": [
      "Why You?re Not Achieving Goals You Set w/Geoff Woods\n",
      "wtQFYXfFo2g\n",
      "7,909 views\n",
      "2 years ago\n"
     ]
    },
    {
     "data": {
      "text/plain": [
       "92"
      ]
     },
     "execution_count": 37,
     "metadata": {},
     "output_type": "execute_result"
    },
    {
     "name": "stdout",
     "output_type": "stream",
     "text": [
      "Advice & Tips for New Real Estate Agents (or Investors)\n",
      "W47vvfE2sGo\n",
      "6,148 views\n",
      "2 years ago\n"
     ]
    },
    {
     "data": {
      "text/plain": [
       "95"
      ]
     },
     "execution_count": 37,
     "metadata": {},
     "output_type": "execute_result"
    },
    {
     "name": "stdout",
     "output_type": "stream",
     "text": [
      "Would You Invest in a Haunted House? ? (Asking Investors)\n",
      "V1pfxhsji3k\n",
      "3,186 views\n",
      "2 years ago\n"
     ]
    },
    {
     "data": {
      "text/plain": [
       "97"
      ]
     },
     "execution_count": 37,
     "metadata": {},
     "output_type": "execute_result"
    },
    {
     "name": "stdout",
     "output_type": "stream",
     "text": [
      "The 2021 Cash Flow Map | Find Your Next Real Estate Market\n",
      "3fZ1DIUH2Vw\n",
      "11,616 views\n",
      "2 years ago\n"
     ]
    },
    {
     "data": {
      "text/plain": [
       "99"
      ]
     },
     "execution_count": 37,
     "metadata": {},
     "output_type": "execute_result"
    },
    {
     "name": "stdout",
     "output_type": "stream",
     "text": [
      "300+ Units Using Chandler David Smith's 3-Step Sales Technique\n",
      "sRoC2Q33cLE\n",
      "16,749 views\n",
      "2 years ago\n"
     ]
    },
    {
     "data": {
      "text/plain": [
       "103"
      ]
     },
     "execution_count": 37,
     "metadata": {},
     "output_type": "execute_result"
    },
    {
     "name": "stdout",
     "output_type": "stream",
     "text": [
      "Building Wealth Through Goal Setting w/ Wendy & Jay Papasan\n",
      "0ggN_suijfE\n",
      "5,434 views\n",
      "2 years ago\n"
     ]
    },
    {
     "data": {
      "text/plain": [
       "99"
      ]
     },
     "execution_count": 37,
     "metadata": {},
     "output_type": "execute_result"
    },
    {
     "name": "stdout",
     "output_type": "stream",
     "text": [
      "Max Maxwell: Broke at 30, Wholesaling Millionaire at 33\n",
      "n5v9fk4jwpU\n",
      "25,609 views\n",
      "2 years ago\n"
     ]
    },
    {
     "data": {
      "text/plain": [
       "98"
      ]
     },
     "execution_count": 37,
     "metadata": {},
     "output_type": "execute_result"
    },
    {
     "name": "stdout",
     "output_type": "stream",
     "text": [
      "Should I Allow Dogs at My Vacation Rental? (3 Pros & Cons)\n",
      "u0zHCJpgOVw\n",
      "7,789 views\n",
      "2 years ago\n"
     ]
    },
    {
     "data": {
      "text/plain": [
       "98"
      ]
     },
     "execution_count": 37,
     "metadata": {},
     "output_type": "execute_result"
    },
    {
     "name": "stdout",
     "output_type": "stream",
     "text": [
      "Call Center Worker to 7-Figure Real Estate Business Owner\n",
      "GfSzWZvz_sI\n",
      "17,628 views\n",
      "2 years ago\n"
     ]
    },
    {
     "data": {
      "text/plain": [
       "98"
      ]
     },
     "execution_count": 37,
     "metadata": {},
     "output_type": "execute_result"
    },
    {
     "name": "stdout",
     "output_type": "stream",
     "text": [
      "A Housing Price Cooldown? | 2022 Housing Market Predictions\n",
      "70f0XhPRoC4\n",
      "227,517 views\n",
      "2 years ago\n"
     ]
    },
    {
     "data": {
      "text/plain": [
       "101"
      ]
     },
     "execution_count": 37,
     "metadata": {},
     "output_type": "execute_result"
    },
    {
     "name": "stdout",
     "output_type": "stream",
     "text": [
      "From Leukemia & Bankruptcy to Financial Freedom w/ 250 Units\n",
      "mZr1bN16L7A\n",
      "23,758 views\n",
      "2 years ago\n"
     ]
    },
    {
     "data": {
      "text/plain": [
       "101"
      ]
     },
     "execution_count": 37,
     "metadata": {},
     "output_type": "execute_result"
    },
    {
     "name": "stdout",
     "output_type": "stream",
     "text": [
      "Luxury Fix and Flip Walkthrough & Budget ($850k Rehab)\n",
      "103whaLWuv8\n",
      "10,479 views\n",
      "2 years ago\n"
     ]
    },
    {
     "data": {
      "text/plain": [
       "95"
      ]
     },
     "execution_count": 37,
     "metadata": {},
     "output_type": "execute_result"
    },
    {
     "name": "stdout",
     "output_type": "stream",
     "text": [
      "The BRRRR that Got Away (Million Dollar Flipping Mistake)\n",
      "ZuatWLUVENM\n",
      "6,354 views\n",
      "2 years ago\n"
     ]
    },
    {
     "data": {
      "text/plain": [
       "97"
      ]
     },
     "execution_count": 37,
     "metadata": {},
     "output_type": "execute_result"
    },
    {
     "name": "stdout",
     "output_type": "stream",
     "text": [
      "$47k/Month in Rent & 0 Doors Owned through Rental Arbitrage\n",
      "K96Y9JMBqyM\n",
      "106,963 views\n",
      "2 years ago\n"
     ]
    },
    {
     "data": {
      "text/plain": [
       "101"
      ]
     },
     "execution_count": 37,
     "metadata": {},
     "output_type": "execute_result"
    },
    {
     "name": "stdout",
     "output_type": "stream",
     "text": [
      "Buying a Short-Term Rental? Don't Fall for These \"Value Adds\"\n",
      "vl0WKl1r3Rk\n",
      "21,512 views\n",
      "2 years ago\n"
     ]
    },
    {
     "data": {
      "text/plain": [
       "106"
      ]
     },
     "execution_count": 37,
     "metadata": {},
     "output_type": "execute_result"
    },
    {
     "name": "stdout",
     "output_type": "stream",
     "text": [
      "How to Become a Millionaire on an Average Salary | 5 Keys\n",
      "EzWDfR1pjjo\n",
      "45,851 views\n",
      "2 years ago\n"
     ]
    },
    {
     "data": {
      "text/plain": [
       "98"
      ]
     },
     "execution_count": 37,
     "metadata": {},
     "output_type": "execute_result"
    },
    {
     "name": "stdout",
     "output_type": "stream",
     "text": [
      "How to Become a Real Estate Agent or Investor | Step-by-Step\n",
      "WlH8Y1hOsV4\n",
      "6,670 views\n",
      "2 years ago\n"
     ]
    },
    {
     "data": {
      "text/plain": [
       "100"
      ]
     },
     "execution_count": 37,
     "metadata": {},
     "output_type": "execute_result"
    },
    {
     "name": "stdout",
     "output_type": "stream",
     "text": [
      "How to Maximize Cashflow with a Cash-Out Refinance\n",
      "wnBuG5szZp4\n",
      "56,593 views\n",
      "2 years ago\n"
     ]
    },
    {
     "data": {
      "text/plain": [
       "91"
      ]
     },
     "execution_count": 37,
     "metadata": {},
     "output_type": "execute_result"
    },
    {
     "name": "stdout",
     "output_type": "stream",
     "text": [
      "Trends, Deals, and Today?s Real Estate Market | BPCon 21' LIVE\n",
      "AZuOt7zSnXE\n",
      "15,643 views\n",
      "2 years ago\n"
     ]
    },
    {
     "data": {
      "text/plain": [
       "105"
      ]
     },
     "execution_count": 37,
     "metadata": {},
     "output_type": "execute_result"
    },
    {
     "name": "stdout",
     "output_type": "stream",
     "text": [
      "The 1031 Exchange Explained | A Faster Way to Build Wealth\n",
      "ITpiqO_Ibm0\n",
      "43,985 views\n",
      "2 years ago\n"
     ]
    },
    {
     "data": {
      "text/plain": [
       "99"
      ]
     },
     "execution_count": 37,
     "metadata": {},
     "output_type": "execute_result"
    },
    {
     "name": "stdout",
     "output_type": "stream",
     "text": [
      "5 Pitfalls When Pursuing These ?Income-Replacing? Rentals\n",
      "7sYZasEFKE0\n",
      "75,606 views\n",
      "2 years ago\n"
     ]
    },
    {
     "data": {
      "text/plain": [
       "98"
      ]
     },
     "execution_count": 37,
     "metadata": {},
     "output_type": "execute_result"
    },
    {
     "name": "stdout",
     "output_type": "stream",
     "text": [
      "Vacation Rental Market Analysis in 4 Simple Steps\n",
      "wnOJO1Dm7LU\n",
      "34,166 views\n",
      "2 years ago\n"
     ]
    },
    {
     "data": {
      "text/plain": [
       "90"
      ]
     },
     "execution_count": 37,
     "metadata": {},
     "output_type": "execute_result"
    },
    {
     "name": "stdout",
     "output_type": "stream",
     "text": [
      "Are You an Asset or Liability to Those in Your Life? w/ Earn Your Leisure\n",
      "-54C7VyyaKs\n",
      "25,177 views\n",
      "2 years ago\n"
     ]
    },
    {
     "data": {
      "text/plain": [
       "114"
      ]
     },
     "execution_count": 37,
     "metadata": {},
     "output_type": "execute_result"
    },
    {
     "name": "stdout",
     "output_type": "stream",
     "text": [
      "Now is THE Best Time to Buy a Short-Term Rental Investment\n",
      "XArXwY0hOJ4\n",
      "14,553 views\n",
      "2 years ago\n"
     ]
    },
    {
     "data": {
      "text/plain": [
       "99"
      ]
     },
     "execution_count": 37,
     "metadata": {},
     "output_type": "execute_result"
    },
    {
     "name": "stdout",
     "output_type": "stream",
     "text": [
      "Your Step-by-Step Guide to Buying Out-of-State Investment Properties\n",
      "P2eGYQqj_qY\n",
      "164,073 views\n",
      "2 years ago\n"
     ]
    },
    {
     "data": {
      "text/plain": [
       "110"
      ]
     },
     "execution_count": 37,
     "metadata": {},
     "output_type": "execute_result"
    },
    {
     "name": "stdout",
     "output_type": "stream",
     "text": [
      "What to Do About the Hedge Fund Next Door | BiggerNews Oct 2021\n",
      "Vp85ULxgTDw\n",
      "5,348 views\n",
      "2 years ago\n"
     ]
    },
    {
     "data": {
      "text/plain": [
       "103"
      ]
     },
     "execution_count": 37,
     "metadata": {},
     "output_type": "execute_result"
    },
    {
     "name": "stdout",
     "output_type": "stream",
     "text": [
      "3 Reasons You (Probably) Don?t Need Property Management\n",
      "LcvvvJ0Phm0\n",
      "14,783 views\n",
      "2 years ago\n"
     ]
    },
    {
     "data": {
      "text/plain": [
       "96"
      ]
     },
     "execution_count": 37,
     "metadata": {},
     "output_type": "execute_result"
    },
    {
     "name": "stdout",
     "output_type": "stream",
     "text": [
      "The BRRRR Method: Financing, Deals, & More | Seeing Greene\n",
      "Wv1nxWErYao\n",
      "74,115 views\n",
      "2 years ago\n"
     ]
    },
    {
     "data": {
      "text/plain": [
       "101"
      ]
     },
     "execution_count": 37,
     "metadata": {},
     "output_type": "execute_result"
    },
    {
     "name": "stdout",
     "output_type": "stream",
     "text": [
      "Why Real Estate Agents Fail & Investors Give Up\n",
      "43ahzOND6s4\n",
      "6,186 views\n",
      "2 years ago\n"
     ]
    },
    {
     "data": {
      "text/plain": [
       "87"
      ]
     },
     "execution_count": 37,
     "metadata": {},
     "output_type": "execute_result"
    },
    {
     "name": "stdout",
     "output_type": "stream",
     "text": [
      "What is an iBuyer? | A Real Estate Investor?s New Challenger\n",
      "H9RTETfwU2Q\n",
      "9,723 views\n",
      "2 years ago\n"
     ]
    },
    {
     "data": {
      "text/plain": [
       "100"
      ]
     },
     "execution_count": 37,
     "metadata": {},
     "output_type": "execute_result"
    },
    {
     "name": "stdout",
     "output_type": "stream",
     "text": [
      "Turning a $150k Gambling Loss into Real Estate Millions\n",
      "qSNgPD6-jP8\n",
      "17,274 views\n",
      "2 years ago\n"
     ]
    },
    {
     "data": {
      "text/plain": [
       "96"
      ]
     },
     "execution_count": 37,
     "metadata": {},
     "output_type": "execute_result"
    },
    {
     "name": "stdout",
     "output_type": "stream",
     "text": [
      "Rough In Roundup: How Much Does it Cost to Flip a House?\n",
      "6m3Vuik5uMk\n",
      "17,338 views\n",
      "2 years ago\n"
     ]
    },
    {
     "data": {
      "text/plain": [
       "97"
      ]
     },
     "execution_count": 37,
     "metadata": {},
     "output_type": "execute_result"
    },
    {
     "name": "stdout",
     "output_type": "stream",
     "text": [
      "Markets, Money, and Mindset to Win | Real Estate Mentor Calls\n",
      "IHmosU3AkoM\n",
      "13,215 views\n",
      "2 years ago\n"
     ]
    },
    {
     "data": {
      "text/plain": [
       "104"
      ]
     },
     "execution_count": 37,
     "metadata": {},
     "output_type": "execute_result"
    },
    {
     "name": "stdout",
     "output_type": "stream",
     "text": [
      "3 Ways to Find Short-Term Rental Cleaners & Housekeepers\n",
      "MOSKLczqUsQ\n",
      "11,828 views\n",
      "2 years ago\n"
     ]
    },
    {
     "data": {
      "text/plain": [
       "97"
      ]
     },
     "execution_count": 37,
     "metadata": {},
     "output_type": "execute_result"
    },
    {
     "name": "stdout",
     "output_type": "stream",
     "text": [
      "How to ?Work the System? to Make More Money & Work Way Less\n",
      "gjXTVKmVJKE\n",
      "91,672 views\n",
      "2 years ago\n"
     ]
    },
    {
     "data": {
      "text/plain": [
       "100"
      ]
     },
     "execution_count": 37,
     "metadata": {},
     "output_type": "execute_result"
    },
    {
     "name": "stdout",
     "output_type": "stream",
     "text": [
      "3 Main Factors Affecting Today?s Housing Market\n",
      "yZ0tU5uUh60\n",
      "24,419 views\n",
      "2 years ago\n"
     ]
    },
    {
     "data": {
      "text/plain": [
       "88"
      ]
     },
     "execution_count": 37,
     "metadata": {},
     "output_type": "execute_result"
    },
    {
     "name": "stdout",
     "output_type": "stream",
     "text": [
      "Manny Khoshbin?s Bugatti, McLaren, and $1B Real Estate\n",
      "ijF6zfMhvKo\n",
      "123,027 views\n",
      "2 years ago\n"
     ]
    },
    {
     "data": {
      "text/plain": [
       "98"
      ]
     },
     "execution_count": 37,
     "metadata": {},
     "output_type": "execute_result"
    },
    {
     "name": "stdout",
     "output_type": "stream",
     "text": [
      "Hard Money Loans vs. Soft Money Loans | When to Use Each\n",
      "whhbd6GTO3s\n",
      "23,401 views\n",
      "2 years ago\n"
     ]
    },
    {
     "data": {
      "text/plain": [
       "97"
      ]
     },
     "execution_count": 37,
     "metadata": {},
     "output_type": "execute_result"
    },
    {
     "name": "stdout",
     "output_type": "stream",
     "text": [
      "5 Reasons Why Multifamily Real Estate ROCKS\n",
      "VZUOh5xpqMI\n",
      "96,850 views\n",
      "2 years ago\n"
     ]
    },
    {
     "data": {
      "text/plain": [
       "84"
      ]
     },
     "execution_count": 37,
     "metadata": {},
     "output_type": "execute_result"
    },
    {
     "name": "stdout",
     "output_type": "stream",
     "text": [
      "How to 10x Your Real Estate Deal Flow and Leads\n",
      "FVON6eMdr0s\n",
      "11,267 views\n",
      "2 years ago\n"
     ]
    },
    {
     "data": {
      "text/plain": [
       "88"
      ]
     },
     "execution_count": 37,
     "metadata": {},
     "output_type": "execute_result"
    },
    {
     "name": "stdout",
     "output_type": "stream",
     "text": [
      "Real Estate Agent Salary vs. Real Estate Investor Salary (2021)\n",
      "L5B_TOeNqKo\n",
      "27,691 views\n",
      "2 years ago\n"
     ]
    },
    {
     "data": {
      "text/plain": [
       "104"
      ]
     },
     "execution_count": 37,
     "metadata": {},
     "output_type": "execute_result"
    },
    {
     "name": "stdout",
     "output_type": "stream",
     "text": [
      "0 to 100: The Fastest Way to Fail w/The Iron Cowboy\n",
      "Ra1sPT1LDGg\n",
      "6,508 views\n",
      "2 years ago\n"
     ]
    },
    {
     "data": {
      "text/plain": [
       "91"
      ]
     },
     "execution_count": 37,
     "metadata": {},
     "output_type": "execute_result"
    },
    {
     "name": "stdout",
     "output_type": "stream",
     "text": [
      "4 Reasons to Start Investing in Short-Term Rentals\n",
      "sZGHPwgBtfo\n",
      "11,549 views\n",
      "2 years ago\n"
     ]
    },
    {
     "data": {
      "text/plain": [
       "91"
      ]
     },
     "execution_count": 37,
     "metadata": {},
     "output_type": "execute_result"
    },
    {
     "name": "stdout",
     "output_type": "stream",
     "text": [
      "Real Estate Cash Flow is Disappearing: What Can Investors Do?\n",
      "ncufAU6jtLc\n",
      "31,507 views\n",
      "2 years ago\n"
     ]
    },
    {
     "data": {
      "text/plain": [
       "102"
      ]
     },
     "execution_count": 37,
     "metadata": {},
     "output_type": "execute_result"
    },
    {
     "name": "stdout",
     "output_type": "stream",
     "text": [
      "The Guide to Massive Profits Through Small Multifamily Investing\n",
      "OkhUg-n0e2g\n",
      "534,082 views\n",
      "2 years ago\n"
     ]
    },
    {
     "data": {
      "text/plain": [
       "106"
      ]
     },
     "execution_count": 37,
     "metadata": {},
     "output_type": "execute_result"
    },
    {
     "name": "stdout",
     "output_type": "stream",
     "text": [
      "How to Analyze a Flip in 5 Steps | Real Estate Underwriting 101\n",
      "7QYY4dZrME8\n",
      "32,393 views\n",
      "2 years ago\n"
     ]
    },
    {
     "data": {
      "text/plain": [
       "104"
      ]
     },
     "execution_count": 37,
     "metadata": {},
     "output_type": "execute_result"
    },
    {
     "name": "stdout",
     "output_type": "stream",
     "text": [
      "3 Live Real Estate Coaching Calls with Brandon Turner\n",
      "eb3E2maEYuU\n",
      "16,122 views\n",
      "2 years ago\n"
     ]
    },
    {
     "data": {
      "text/plain": [
       "94"
      ]
     },
     "execution_count": 37,
     "metadata": {},
     "output_type": "execute_result"
    },
    {
     "name": "stdout",
     "output_type": "stream",
     "text": [
      "How to Find Foreclosed Homes (& Buy Them for CHEAP)\n",
      "XBHuNy9zzqo\n",
      "38,536 views\n",
      "2 years ago\n"
     ]
    },
    {
     "data": {
      "text/plain": [
       "92"
      ]
     },
     "execution_count": 37,
     "metadata": {},
     "output_type": "execute_result"
    },
    {
     "name": "stdout",
     "output_type": "stream",
     "text": [
      "How to Become a Real Estate Millionaire (Part. 2)\n",
      "mW1vJIepVCY\n",
      "35,831 views\n",
      "2 years ago\n"
     ]
    },
    {
     "data": {
      "text/plain": [
       "90"
      ]
     },
     "execution_count": 37,
     "metadata": {},
     "output_type": "execute_result"
    },
    {
     "name": "stdout",
     "output_type": "stream",
     "text": [
      "Wall Street's Hidden Plan to Buy Your Next Real Estate Deal\n",
      "qHdOxkjL0o8\n",
      "15,398 views\n",
      "2 years ago\n"
     ]
    },
    {
     "data": {
      "text/plain": [
       "100"
      ]
     },
     "execution_count": 37,
     "metadata": {},
     "output_type": "execute_result"
    },
    {
     "name": "stdout",
     "output_type": "stream",
     "text": [
      "Inside a $5 Million Dollar House Flip (7,000+ Sqft)\n",
      "sIsVmZmcZnw\n",
      "8,317 views\n",
      "2 years ago\n"
     ]
    },
    {
     "data": {
      "text/plain": [
       "93"
      ]
     },
     "execution_count": 37,
     "metadata": {},
     "output_type": "execute_result"
    },
    {
     "name": "stdout",
     "output_type": "stream",
     "text": [
      "How to Become a Millionaire in Real Estate (Part. 1)\n",
      "IC4cSNDFJPg\n",
      "65,278 views\n",
      "2 years ago\n"
     ]
    },
    {
     "data": {
      "text/plain": [
       "93"
      ]
     },
     "execution_count": 37,
     "metadata": {},
     "output_type": "execute_result"
    },
    {
     "name": "stdout",
     "output_type": "stream",
     "text": [
      "How Would You Invest $150k? Advice from a Real Estate Expert\n",
      "wpay8X6YjOQ\n",
      "30,732 views\n",
      "2 years ago\n"
     ]
    },
    {
     "data": {
      "text/plain": [
       "101"
      ]
     },
     "execution_count": 37,
     "metadata": {},
     "output_type": "execute_result"
    },
    {
     "name": "stdout",
     "output_type": "stream",
     "text": [
      "Flipping a Hoarder House | $61K Profit! (Before & After)\n",
      "lGtF-qbosrQ\n",
      "11,736 views\n",
      "2 years ago\n"
     ]
    },
    {
     "data": {
      "text/plain": [
       "97"
      ]
     },
     "execution_count": 37,
     "metadata": {},
     "output_type": "execute_result"
    },
    {
     "name": "stdout",
     "output_type": "stream",
     "text": [
      "BiggerNews: Will Anything Slow this Housing Market? (September)\n",
      "eUcaABFXFeg\n",
      "21,578 views\n",
      "2 years ago\n"
     ]
    },
    {
     "data": {
      "text/plain": [
       "104"
      ]
     },
     "execution_count": 37,
     "metadata": {},
     "output_type": "execute_result"
    },
    {
     "name": "stdout",
     "output_type": "stream",
     "text": [
      "When Can I Refi? +11 Frequently Asked Real Estate Questions\n",
      "Y-Y3SANgw6E\n",
      "26,339 views\n",
      "2 years ago\n"
     ]
    },
    {
     "data": {
      "text/plain": [
       "100"
      ]
     },
     "execution_count": 37,
     "metadata": {},
     "output_type": "execute_result"
    },
    {
     "name": "stdout",
     "output_type": "stream",
     "text": [
      "Real Estate Agent vs. Investor | 2021 Housing Market\n",
      "7L-6T4GkQLU\n",
      "7,069 views\n",
      "2 years ago\n"
     ]
    },
    {
     "data": {
      "text/plain": [
       "92"
      ]
     },
     "execution_count": 37,
     "metadata": {},
     "output_type": "execute_result"
    },
    {
     "name": "stdout",
     "output_type": "stream",
     "text": [
      "Is The \"Hot Housing Market\" Over? | Sept 2021 Predictions\n",
      "YKvZkvc-eW8\n",
      "49,045 views\n",
      "2 years ago\n"
     ]
    },
    {
     "data": {
      "text/plain": [
       "102"
      ]
     },
     "execution_count": 37,
     "metadata": {},
     "output_type": "execute_result"
    },
    {
     "name": "stdout",
     "output_type": "stream",
     "text": [
      "How to Remodel a Mid-Century Modern Home | Fix & Flip Tips\n",
      "8olmwXGrZZo\n",
      "7,377 views\n",
      "2 years ago\n"
     ]
    },
    {
     "data": {
      "text/plain": [
       "98"
      ]
     },
     "execution_count": 37,
     "metadata": {},
     "output_type": "execute_result"
    },
    {
     "name": "stdout",
     "output_type": "stream",
     "text": [
      "Robert Kiyosaki: \"Rich Dad Poor Dad\" Author Predicts a Crash\n",
      "4qU8n1xNp3k\n",
      "599,620 views\n",
      "2 years ago\n"
     ]
    },
    {
     "data": {
      "text/plain": [
       "106"
      ]
     },
     "execution_count": 37,
     "metadata": {},
     "output_type": "execute_result"
    },
    {
     "name": "stdout",
     "output_type": "stream",
     "text": [
      "The #1 Way to Find Reliable Contractors\n",
      "oaGULLrBs60\n",
      "19,122 views\n",
      "2 years ago\n"
     ]
    },
    {
     "data": {
      "text/plain": [
       "80"
      ]
     },
     "execution_count": 37,
     "metadata": {},
     "output_type": "execute_result"
    },
    {
     "name": "stdout",
     "output_type": "stream",
     "text": [
      "The Death of The \"Entrepreneur\" w/ 8-Figure CEO James Wedmore\n",
      "Kn7hBiqUHpo\n",
      "31,077 views\n",
      "2 years ago\n"
     ]
    },
    {
     "data": {
      "text/plain": [
       "106"
      ]
     },
     "execution_count": 37,
     "metadata": {},
     "output_type": "execute_result"
    },
    {
     "name": "stdout",
     "output_type": "stream",
     "text": [
      "The ?Infinite BRRRR Strategy? | $95k BRRRR Case Study\n",
      "m42nv7S2CLE\n",
      "52,512 views\n",
      "2 years ago\n"
     ]
    },
    {
     "data": {
      "text/plain": [
       "94"
      ]
     },
     "execution_count": 37,
     "metadata": {},
     "output_type": "execute_result"
    },
    {
     "name": "stdout",
     "output_type": "stream",
     "text": [
      "How to Buy Your First Rental for Only $15k | 5 Best Markets\n",
      "czQJqimsBAo\n",
      "22,157 views\n",
      "2 years ago\n"
     ]
    },
    {
     "data": {
      "text/plain": [
       "100"
      ]
     },
     "execution_count": 37,
     "metadata": {},
     "output_type": "execute_result"
    },
    {
     "name": "stdout",
     "output_type": "stream",
     "text": [
      "Multifamily BRRRR: Is It Worth it To Add Another Unit? | ProjectRE\n",
      "uyZxzsoeSQk\n",
      "14,305 views\n",
      "2 years ago\n"
     ]
    },
    {
     "data": {
      "text/plain": [
       "107"
      ]
     },
     "execution_count": 37,
     "metadata": {},
     "output_type": "execute_result"
    },
    {
     "name": "stdout",
     "output_type": "stream",
     "text": [
      "Big City BRRRR Deep Dive with Joe Asamoah (Part 1)\n",
      "0s4FWahBXbk\n",
      "37,927 views\n",
      "2 years ago\n"
     ]
    },
    {
     "data": {
      "text/plain": [
       "91"
      ]
     },
     "execution_count": 37,
     "metadata": {},
     "output_type": "execute_result"
    },
    {
     "name": "stdout",
     "output_type": "stream",
     "text": [
      "The Multifamily Millionaire, Volume I (Sneak Peek!)\n",
      "v6b1h2uDb3w\n",
      "10,311 views\n",
      "2 years ago\n"
     ]
    },
    {
     "data": {
      "text/plain": [
       "94"
      ]
     },
     "execution_count": 37,
     "metadata": {},
     "output_type": "execute_result"
    },
    {
     "name": "stdout",
     "output_type": "stream",
     "text": [
      "The MOST Important Question When Raising Capital for Real Estate\n",
      "mDIzH9V-qSM\n",
      "14,838 views\n",
      "2 years ago\n"
     ]
    },
    {
     "data": {
      "text/plain": [
       "105"
      ]
     },
     "execution_count": 37,
     "metadata": {},
     "output_type": "execute_result"
    },
    {
     "name": "stdout",
     "output_type": "stream",
     "text": [
      "10 Steps to Buy Your First BIG Real Estate Deal\n",
      "pcbLCLTg8jg\n",
      "37,929 views\n",
      "2 years ago\n"
     ]
    },
    {
     "data": {
      "text/plain": [
       "88"
      ]
     },
     "execution_count": 37,
     "metadata": {},
     "output_type": "execute_result"
    },
    {
     "name": "stdout",
     "output_type": "stream",
     "text": [
      "When Will Lumber Prices Go Down in 2021?\n",
      "CYk3hbqzmgw\n",
      "7,362 views\n",
      "2 years ago\n"
     ]
    },
    {
     "data": {
      "text/plain": [
       "80"
      ]
     },
     "execution_count": 37,
     "metadata": {},
     "output_type": "execute_result"
    },
    {
     "name": "stdout",
     "output_type": "stream",
     "text": [
      "The Infrastructure Bill: An Investor's Chance of a Lifetime?\n",
      "dr9SVDWpoFk\n",
      "25,700 views\n",
      "2 years ago\n"
     ]
    },
    {
     "data": {
      "text/plain": [
       "101"
      ]
     },
     "execution_count": 37,
     "metadata": {},
     "output_type": "execute_result"
    },
    {
     "name": "stdout",
     "output_type": "stream",
     "text": [
      "Commercial Lending 101: Bigger Deals & Better Financing\n",
      "GEtm8rTQR34\n",
      "34,853 views\n",
      "2 years ago\n"
     ]
    },
    {
     "data": {
      "text/plain": [
       "96"
      ]
     },
     "execution_count": 37,
     "metadata": {},
     "output_type": "execute_result"
    },
    {
     "name": "stdout",
     "output_type": "stream",
     "text": [
      "Become a (Small) Multifamily Millionaire in 7 Steps\n",
      "8LRW8IR0S9I\n",
      "223,693 views\n",
      "2 years ago\n"
     ]
    },
    {
     "data": {
      "text/plain": [
       "93"
      ]
     },
     "execution_count": 37,
     "metadata": {},
     "output_type": "execute_result"
    },
    {
     "name": "stdout",
     "output_type": "stream",
     "text": [
      "How to Get Rich in Real Estate Using The MFM Model\n",
      "HQxXCApAnBQ\n",
      "51,313 views\n",
      "2 years ago\n"
     ]
    },
    {
     "data": {
      "text/plain": [
       "91"
      ]
     },
     "execution_count": 37,
     "metadata": {},
     "output_type": "execute_result"
    },
    {
     "name": "stdout",
     "output_type": "stream",
     "text": [
      "The Science Behind Taking Risks w/ Sukhinder Singh Cassidy\n",
      "WMhklgHZdj0\n",
      "9,932 views\n",
      "2 years ago\n"
     ]
    },
    {
     "data": {
      "text/plain": [
       "98"
      ]
     },
     "execution_count": 37,
     "metadata": {},
     "output_type": "execute_result"
    },
    {
     "name": "stdout",
     "output_type": "stream",
     "text": [
      "The 2021 Housing Shortage: How Did We Get Here?\n",
      "7JVxcjURHjE\n",
      "7,309 views\n",
      "2 years ago\n"
     ]
    },
    {
     "data": {
      "text/plain": [
       "87"
      ]
     },
     "execution_count": 37,
     "metadata": {},
     "output_type": "execute_result"
    },
    {
     "name": "stdout",
     "output_type": "stream",
     "text": [
      "Using Online Poker Profits to Springboard a Real Estate Career\n",
      "ly8anUbyuzs\n",
      "4,611 views\n",
      "2 years ago\n"
     ]
    },
    {
     "data": {
      "text/plain": [
       "102"
      ]
     },
     "execution_count": 37,
     "metadata": {},
     "output_type": "execute_result"
    },
    {
     "name": "stdout",
     "output_type": "stream",
     "text": [
      "The 5 \"F-Words\" Every Real Estate Investor Needs to Master\n",
      "HakI-1n3jMQ\n",
      "11,270 views\n",
      "2 years ago\n"
     ]
    },
    {
     "data": {
      "text/plain": [
       "103"
      ]
     },
     "execution_count": 37,
     "metadata": {},
     "output_type": "execute_result"
    },
    {
     "name": "stdout",
     "output_type": "stream",
     "text": [
      "Find Off-Market Properties with Real Estate Lead Lists\n",
      "VP61_Pgp3ig\n",
      "40,966 views\n",
      "2 years ago\n"
     ]
    },
    {
     "data": {
      "text/plain": [
       "95"
      ]
     },
     "execution_count": 37,
     "metadata": {},
     "output_type": "execute_result"
    },
    {
     "name": "stdout",
     "output_type": "stream",
     "text": [
      "Ken McElroy On How COVID Changed Real Estate Investing Forever\n",
      "MCjO7roGXjw\n",
      "144,272 views\n",
      "2 years ago\n"
     ]
    },
    {
     "data": {
      "text/plain": [
       "104"
      ]
     },
     "execution_count": 37,
     "metadata": {},
     "output_type": "execute_result"
    },
    {
     "name": "stdout",
     "output_type": "stream",
     "text": [
      "$60K Profit! House Flip Case Study & Walkthrough\n",
      "BG-NfmO_JmI\n",
      "14,641 views\n",
      "2 years ago\n"
     ]
    },
    {
     "data": {
      "text/plain": [
       "89"
      ]
     },
     "execution_count": 37,
     "metadata": {},
     "output_type": "execute_result"
    },
    {
     "name": "stdout",
     "output_type": "stream",
     "text": [
      "Eviction Moratorium Extensions Disrupt The Rental Market (August 2021)\n",
      "l5x15XI6aJs\n",
      "17,653 views\n",
      "2 years ago\n"
     ]
    },
    {
     "data": {
      "text/plain": [
       "111"
      ]
     },
     "execution_count": 37,
     "metadata": {},
     "output_type": "execute_result"
    },
    {
     "name": "stdout",
     "output_type": "stream",
     "text": [
      "From \"Ski Bum\" to Veteran Commercial Real Estate Broker\n",
      "I4MuVD3CI18\n",
      "8,141 views\n",
      "2 years ago\n"
     ]
    },
    {
     "data": {
      "text/plain": [
       "99"
      ]
     },
     "execution_count": 37,
     "metadata": {},
     "output_type": "execute_result"
    },
    {
     "name": "stdout",
     "output_type": "stream",
     "text": [
      "Robuilt?s Tiny Houses That are Cashing in MASSIVE Profits\n",
      "Y-f1QBr_Ap0\n",
      "52,976 views\n",
      "2 years ago\n"
     ]
    },
    {
     "data": {
      "text/plain": [
       "98"
      ]
     },
     "execution_count": 37,
     "metadata": {},
     "output_type": "execute_result"
    },
    {
     "name": "stdout",
     "output_type": "stream",
     "text": [
      "No Cash? No Problem! Raising Private Capital for Real Estate Deals\n",
      "x6PONQm5hSw\n",
      "12,671 views\n",
      "2 years ago\n"
     ]
    },
    {
     "data": {
      "text/plain": [
       "107"
      ]
     },
     "execution_count": 37,
     "metadata": {},
     "output_type": "execute_result"
    },
    {
     "name": "stdout",
     "output_type": "stream",
     "text": [
      "5 Rules of Health & Wealth to Become the Millionaire with a Six Pack\n",
      "jbnZeSPTpBA\n",
      "10,918 views\n",
      "2 years ago\n"
     ]
    },
    {
     "data": {
      "text/plain": [
       "109"
      ]
     },
     "execution_count": 37,
     "metadata": {},
     "output_type": "execute_result"
    },
    {
     "name": "stdout",
     "output_type": "stream",
     "text": [
      "Work Less, Earn More: Scale & Grow Your Real Estate Business\n",
      "3LwsNm2Vn5U\n",
      "7,331 views\n",
      "2 years ago\n"
     ]
    },
    {
     "data": {
      "text/plain": [
       "102"
      ]
     },
     "execution_count": 37,
     "metadata": {},
     "output_type": "execute_result"
    },
    {
     "name": "stdout",
     "output_type": "stream",
     "text": [
      "Should I Invest in Real Estate Now or Wait? (2021 Edition)\n",
      "7bVyTzM1cLA\n",
      "38,054 views\n",
      "2 years ago\n"
     ]
    },
    {
     "data": {
      "text/plain": [
       "99"
      ]
     },
     "execution_count": 37,
     "metadata": {},
     "output_type": "execute_result"
    },
    {
     "name": "stdout",
     "output_type": "stream",
     "text": [
      "How an Immigrant Investor Went from 1 Triplex to $350M in 9 Years\n",
      "00TmIeKy1Zw\n",
      "26,699 views\n",
      "2 years ago\n"
     ]
    },
    {
     "data": {
      "text/plain": [
       "106"
      ]
     },
     "execution_count": 37,
     "metadata": {},
     "output_type": "execute_result"
    },
    {
     "name": "stdout",
     "output_type": "stream",
     "text": [
      "7 ?Ninja Tips? From One of Hawaii?s Largest Real Estate Investors\n",
      "7JnhVi_3UMM\n",
      "15,769 views\n",
      "2 years ago\n"
     ]
    },
    {
     "data": {
      "text/plain": [
       "106"
      ]
     },
     "execution_count": 37,
     "metadata": {},
     "output_type": "execute_result"
    },
    {
     "name": "stdout",
     "output_type": "stream",
     "text": [
      "Where?s The BEST Place to Buy a Rental Property?\n",
      "VGoJF2pnL-0\n",
      "7,691 views\n",
      "2 years ago\n"
     ]
    },
    {
     "data": {
      "text/plain": [
       "88"
      ]
     },
     "execution_count": 37,
     "metadata": {},
     "output_type": "execute_result"
    },
    {
     "name": "stdout",
     "output_type": "stream",
     "text": [
      "How Are You Preparing to ?Exit Rich? in Real Estate? w/ Sharon Lechter & Michelle Seiler Tucker\n",
      "6J6S9wwAspA\n",
      "9,187 views\n",
      "2 years ago\n"
     ]
    },
    {
     "data": {
      "text/plain": [
       "135"
      ]
     },
     "execution_count": 37,
     "metadata": {},
     "output_type": "execute_result"
    },
    {
     "name": "stdout",
     "output_type": "stream",
     "text": [
      "Rising Rent Prices See Largest Spike in Years\n",
      "AFUva7DcLMo\n",
      "15,614 views\n",
      "2 years ago\n"
     ]
    },
    {
     "data": {
      "text/plain": [
       "86"
      ]
     },
     "execution_count": 37,
     "metadata": {},
     "output_type": "execute_result"
    },
    {
     "name": "stdout",
     "output_type": "stream",
     "text": [
      "$22M in The First Two Years and a Mindset for Multifamily\n",
      "eYc7wlutmUM\n",
      "11,104 views\n",
      "2 years ago\n"
     ]
    },
    {
     "data": {
      "text/plain": [
       "98"
      ]
     },
     "execution_count": 37,
     "metadata": {},
     "output_type": "execute_result"
    },
    {
     "name": "stdout",
     "output_type": "stream",
     "text": [
      "4 Units to 2,000 and Why Large Multifamily ?Isn?t So Scary?\n",
      "i9NwwqpjGa4\n",
      "50,045 views\n",
      "2 years ago\n"
     ]
    },
    {
     "data": {
      "text/plain": [
       "102"
      ]
     },
     "execution_count": 37,
     "metadata": {},
     "output_type": "execute_result"
    },
    {
     "name": "stdout",
     "output_type": "stream",
     "text": [
      "How to Identify Motivated Sellers & Ditch Unmotivated Sellers\n",
      "W5ycdP277zc\n",
      "6,565 views\n",
      "2 years ago\n"
     ]
    },
    {
     "data": {
      "text/plain": [
       "101"
      ]
     },
     "execution_count": 37,
     "metadata": {},
     "output_type": "execute_result"
    },
    {
     "name": "stdout",
     "output_type": "stream",
     "text": [
      "Real Estate Rookie Bootcamp | Learn to Get Your First Deal in 90 Days\n",
      "0S9XLuLYpfw\n",
      "13,707 views\n",
      "2 years ago\n"
     ]
    },
    {
     "data": {
      "text/plain": [
       "110"
      ]
     },
     "execution_count": 37,
     "metadata": {},
     "output_type": "execute_result"
    },
    {
     "name": "stdout",
     "output_type": "stream",
     "text": [
      "10 Common Real Estate Investing Questions w/ David Greene\n",
      "pigIcNZgQFU\n",
      "83,267 views\n",
      "2 years ago\n"
     ]
    },
    {
     "data": {
      "text/plain": [
       "98"
      ]
     },
     "execution_count": 37,
     "metadata": {},
     "output_type": "execute_result"
    },
    {
     "name": "stdout",
     "output_type": "stream",
     "text": [
      "How to Determine Property Value | Home Valuation Like a Pro\n",
      "Mq6EIrok2_c\n",
      "41,160 views\n",
      "2 years ago\n"
     ]
    },
    {
     "data": {
      "text/plain": [
       "100"
      ]
     },
     "execution_count": 37,
     "metadata": {},
     "output_type": "execute_result"
    },
    {
     "name": "stdout",
     "output_type": "stream",
     "text": [
      "Has the Housing Market Insanity Peaked?\n",
      "5g4qGtmFi84\n",
      "31,935 views\n",
      "2 years ago\n"
     ]
    },
    {
     "data": {
      "text/plain": [
       "80"
      ]
     },
     "execution_count": 37,
     "metadata": {},
     "output_type": "execute_result"
    },
    {
     "name": "stdout",
     "output_type": "stream",
     "text": [
      "Multifamily Financing: How a 24 Year Old Raised $20M\n",
      "38DaD2oumAE\n",
      "17,049 views\n",
      "2 years ago\n"
     ]
    },
    {
     "data": {
      "text/plain": [
       "93"
      ]
     },
     "execution_count": 37,
     "metadata": {},
     "output_type": "execute_result"
    },
    {
     "name": "stdout",
     "output_type": "stream",
     "text": [
      "The Key to Scaling Real Estate that Most Investors Miss Out On (+New Podcast!)\n",
      "rHaMzbQDQ8g\n",
      "17,791 views\n",
      "2 years ago\n"
     ]
    },
    {
     "data": {
      "text/plain": [
       "119"
      ]
     },
     "execution_count": 37,
     "metadata": {},
     "output_type": "execute_result"
    },
    {
     "name": "stdout",
     "output_type": "stream",
     "text": [
      "Want Off-Market Leads? Try These 2 Underrated Lead Sources\n",
      "YPpex5Bz-js\n",
      "7,288 views\n",
      "2 years ago\n"
     ]
    },
    {
     "data": {
      "text/plain": [
       "98"
      ]
     },
     "execution_count": 37,
     "metadata": {},
     "output_type": "execute_result"
    },
    {
     "name": "stdout",
     "output_type": "stream",
     "text": [
      "Atomic Habits That Help You Achieve Unthinkable Success w/ NYT Best Selling Author James Clear\n",
      "7VdmlQBLOKU\n",
      "26,151 views\n",
      "2 years ago\n"
     ]
    },
    {
     "data": {
      "text/plain": [
       "135"
      ]
     },
     "execution_count": 37,
     "metadata": {},
     "output_type": "execute_result"
    },
    {
     "name": "stdout",
     "output_type": "stream",
     "text": [
      "2021 Forbearance Crisis: 3 Reasons It's NOT Like 2007\n",
      "Al7juX6YbgA\n",
      "18,088 views\n",
      "2 years ago\n"
     ]
    },
    {
     "data": {
      "text/plain": [
       "94"
      ]
     },
     "execution_count": 37,
     "metadata": {},
     "output_type": "execute_result"
    },
    {
     "name": "stdout",
     "output_type": "stream",
     "text": [
      "How 1 Duplex Investment Turned into 3,300 Rental Units\n",
      "FIXZZRQWXg0\n",
      "37,761 views\n",
      "2 years ago\n"
     ]
    },
    {
     "data": {
      "text/plain": [
       "97"
      ]
     },
     "execution_count": 37,
     "metadata": {},
     "output_type": "execute_result"
    },
    {
     "name": "stdout",
     "output_type": "stream",
     "text": [
      "3 Ways to Simplify Your Real Estate Investing w/ Brandon Turner\n",
      "qiM4fVVRpFU\n",
      "16,554 views\n",
      "2 years ago\n"
     ]
    },
    {
     "data": {
      "text/plain": [
       "104"
      ]
     },
     "execution_count": 37,
     "metadata": {},
     "output_type": "execute_result"
    },
    {
     "name": "stdout",
     "output_type": "stream",
     "text": [
      "Why Your Fix and Flip Calculations Turn Out WRONG\n",
      "rjmorfUe6D4\n",
      "15,882 views\n",
      "2 years ago\n"
     ]
    },
    {
     "data": {
      "text/plain": [
       "90"
      ]
     },
     "execution_count": 37,
     "metadata": {},
     "output_type": "execute_result"
    },
    {
     "name": "stdout",
     "output_type": "stream",
     "text": [
      "Is Becoming a Real Estate Agent Worth It?\n",
      "_k3EOiI5TkM\n",
      "8,269 views\n",
      "2 years ago\n"
     ]
    },
    {
     "data": {
      "text/plain": [
       "81"
      ]
     },
     "execution_count": 37,
     "metadata": {},
     "output_type": "execute_result"
    },
    {
     "name": "stdout",
     "output_type": "stream",
     "text": [
      "3 Crucial Steps When Vetting a Rental Property\n",
      "0g9QaOXyyAw\n",
      "12,564 views\n",
      "2 years ago\n"
     ]
    },
    {
     "data": {
      "text/plain": [
       "87"
      ]
     },
     "execution_count": 37,
     "metadata": {},
     "output_type": "execute_result"
    },
    {
     "name": "stdout",
     "output_type": "stream",
     "text": [
      "The 5 Keys to Scale Your Real Estate Portfolio to $1,000,000+\n",
      "-a_yq7ywX8I\n",
      "36,773 views\n",
      "2 years ago\n"
     ]
    },
    {
     "data": {
      "text/plain": [
       "104"
      ]
     },
     "execution_count": 37,
     "metadata": {},
     "output_type": "execute_result"
    },
    {
     "name": "stdout",
     "output_type": "stream",
     "text": [
      "2021 Stock Market Crash: Why Hasn?t it Happened Yet?\n",
      "lxAky2ihWC8\n",
      "19,246 views\n",
      "2 years ago\n"
     ]
    },
    {
     "data": {
      "text/plain": [
       "93"
      ]
     },
     "execution_count": 37,
     "metadata": {},
     "output_type": "execute_result"
    },
    {
     "name": "stdout",
     "output_type": "stream",
     "text": [
      "Funding a $4M+ Apartment Investment with $0 Out-of-Pocket\n",
      "zI1fU-FNwAs\n",
      "13,674 views\n",
      "2 years ago\n"
     ]
    },
    {
     "data": {
      "text/plain": [
       "98"
      ]
     },
     "execution_count": 37,
     "metadata": {},
     "output_type": "execute_result"
    },
    {
     "name": "stdout",
     "output_type": "stream",
     "text": [
      "This Full-Time Firefighter Built a 35-Unit Rental Portfolio\n",
      "gxbx_4I_26Y\n",
      "15,461 views\n",
      "2 years ago\n"
     ]
    },
    {
     "data": {
      "text/plain": [
       "100"
      ]
     },
     "execution_count": 37,
     "metadata": {},
     "output_type": "execute_result"
    },
    {
     "name": "stdout",
     "output_type": "stream",
     "text": [
      "Can't Find Real Estate Deals? Try Asking This 1 Question\n",
      "y3BepVg_IlU\n",
      "13,944 views\n",
      "2 years ago\n"
     ]
    },
    {
     "data": {
      "text/plain": [
       "97"
      ]
     },
     "execution_count": 37,
     "metadata": {},
     "output_type": "execute_result"
    },
    {
     "name": "stdout",
     "output_type": "stream",
     "text": [
      "The 4 Fundamentals of Multifamily Real Estate Investing\n",
      "IFdcfE5WMXM\n",
      "48,495 views\n",
      "2 years ago\n"
     ]
    },
    {
     "data": {
      "text/plain": [
       "96"
      ]
     },
     "execution_count": 37,
     "metadata": {},
     "output_type": "execute_result"
    },
    {
     "name": "stdout",
     "output_type": "stream",
     "text": [
      "Build an Unstoppable Real Estate Portfolio with the ?Core 4?\n",
      "fRirepxC_ho\n",
      "41,338 views\n",
      "2 years ago\n"
     ]
    },
    {
     "data": {
      "text/plain": [
       "101"
      ]
     },
     "execution_count": 37,
     "metadata": {},
     "output_type": "execute_result"
    },
    {
     "name": "stdout",
     "output_type": "stream",
     "text": [
      "3 Ways to Estimate Rehab Costs (Even on Your FIRST Deal)\n",
      "fn2BgjljpjY\n",
      "57,301 views\n",
      "2 years ago\n"
     ]
    },
    {
     "data": {
      "text/plain": [
       "97"
      ]
     },
     "execution_count": 37,
     "metadata": {},
     "output_type": "execute_result"
    },
    {
     "name": "stdout",
     "output_type": "stream",
     "text": [
      "The Housing Market Just Crossed a HUGE Threshold\n",
      "RqmwFFpIhB0\n",
      "27,404 views\n",
      "2 years ago\n"
     ]
    },
    {
     "data": {
      "text/plain": [
       "89"
      ]
     },
     "execution_count": 37,
     "metadata": {},
     "output_type": "execute_result"
    },
    {
     "name": "stdout",
     "output_type": "stream",
     "text": [
      "Losing $50M & Bouncing Back Better with Rod Khleif\n",
      "2uedSnPy3m0\n",
      "8,158 views\n",
      "2 years ago\n"
     ]
    },
    {
     "data": {
      "text/plain": [
       "90"
      ]
     },
     "execution_count": 37,
     "metadata": {},
     "output_type": "execute_result"
    },
    {
     "name": "stdout",
     "output_type": "stream",
     "text": [
      "Making $200k a Month After Being on the Verge of Bankruptcy\n",
      "U1Ypi2mcWWo\n",
      "16,972 views\n",
      "2 years ago\n"
     ]
    },
    {
     "data": {
      "text/plain": [
       "100"
      ]
     },
     "execution_count": 37,
     "metadata": {},
     "output_type": "execute_result"
    },
    {
     "name": "stdout",
     "output_type": "stream",
     "text": [
      "7 Money Myths That Stop You From Making Millions\n",
      "Bu9pUXY1obI\n",
      "27,920 views\n",
      "2 years ago\n"
     ]
    },
    {
     "data": {
      "text/plain": [
       "89"
      ]
     },
     "execution_count": 37,
     "metadata": {},
     "output_type": "execute_result"
    },
    {
     "name": "stdout",
     "output_type": "stream",
     "text": [
      "MLS Deal with HUGE Real Estate Value-Add Opportunity\n",
      "PBnQkZIlyB0\n",
      "9,667 views\n",
      "2 years ago\n"
     ]
    },
    {
     "data": {
      "text/plain": [
       "92"
      ]
     },
     "execution_count": 37,
     "metadata": {},
     "output_type": "execute_result"
    },
    {
     "name": "stdout",
     "output_type": "stream",
     "text": [
      "Using The 1% Rule for Real Estate Investments? Not So Fast\n",
      "mgDF_uR1F9k\n",
      "23,226 views\n",
      "2 years ago\n"
     ]
    },
    {
     "data": {
      "text/plain": [
       "99"
      ]
     },
     "execution_count": 37,
     "metadata": {},
     "output_type": "execute_result"
    },
    {
     "name": "stdout",
     "output_type": "stream",
     "text": [
      "Brandon Turner's 10 Lessons That Led to a $50M+ Portfolio\n",
      "2KhiOWkh9KI\n",
      "64,392 views\n",
      "2 years ago\n"
     ]
    },
    {
     "data": {
      "text/plain": [
       "98"
      ]
     },
     "execution_count": 37,
     "metadata": {},
     "output_type": "execute_result"
    },
    {
     "name": "stdout",
     "output_type": "stream",
     "text": [
      "Lumber Prices Down, But Housing Prices Up? Here?s Why | Money Market Recap\n",
      "oyILmZ0ji7U\n",
      "15,217 views\n",
      "2 years ago\n"
     ]
    },
    {
     "data": {
      "text/plain": [
       "117"
      ]
     },
     "execution_count": 37,
     "metadata": {},
     "output_type": "execute_result"
    },
    {
     "name": "stdout",
     "output_type": "stream",
     "text": [
      "300 Doors in Just 1 Year & Scaling Multifamily Investments\n",
      "xWvHSqhGJsA\n",
      "66,858 views\n",
      "2 years ago\n"
     ]
    },
    {
     "data": {
      "text/plain": [
       "99"
      ]
     },
     "execution_count": 37,
     "metadata": {},
     "output_type": "execute_result"
    },
    {
     "name": "stdout",
     "output_type": "stream",
     "text": [
      "Renovation Walkthrough + Building a Scope of Work (Live!)\n",
      "NlFqJb4LhOo\n",
      "11,224 views\n",
      "2 years ago\n"
     ]
    },
    {
     "data": {
      "text/plain": [
       "98"
      ]
     },
     "execution_count": 37,
     "metadata": {},
     "output_type": "execute_result"
    },
    {
     "name": "stdout",
     "output_type": "stream",
     "text": [
      "5 Multifamily Tips So You Can Start Investing TODAY w/ Sterling White\n",
      "5YlApGG9jT8\n",
      "10,526 views\n",
      "2 years ago\n"
     ]
    },
    {
     "data": {
      "text/plain": [
       "110"
      ]
     },
     "execution_count": 37,
     "metadata": {},
     "output_type": "execute_result"
    },
    {
     "name": "stdout",
     "output_type": "stream",
     "text": [
      "Finding Comfort in Uncertainty w/ BJJ Black Belt Ryron Gracie\n",
      "tqEsPlwBZ3c\n",
      "5,942 views\n",
      "2 years ago\n"
     ]
    },
    {
     "data": {
      "text/plain": [
       "101"
      ]
     },
     "execution_count": 37,
     "metadata": {},
     "output_type": "execute_result"
    },
    {
     "name": "stdout",
     "output_type": "stream",
     "text": [
      "3 Techniques Most Real Estate Investors Are Too Scared to Try\n",
      "4IXI4W9cmRU\n",
      "6,399 views\n",
      "2 years ago\n"
     ]
    },
    {
     "data": {
      "text/plain": [
       "101"
      ]
     },
     "execution_count": 37,
     "metadata": {},
     "output_type": "execute_result"
    },
    {
     "name": "stdout",
     "output_type": "stream",
     "text": [
      "Why Unemployment is Lagging + a New Real Estate Tax Credit | Money Market Recap\n",
      "9n15JM2z2EU\n",
      "3,276 views\n",
      "2 years ago\n"
     ]
    },
    {
     "data": {
      "text/plain": [
       "119"
      ]
     },
     "execution_count": 37,
     "metadata": {},
     "output_type": "execute_result"
    },
    {
     "name": "stdout",
     "output_type": "stream",
     "text": [
      "Giving Up 80% Of His Income to Invest in Apartments\n",
      "D30gEP6bgtM\n",
      "28,438 views\n",
      "2 years ago\n"
     ]
    },
    {
     "data": {
      "text/plain": [
       "92"
      ]
     },
     "execution_count": 37,
     "metadata": {},
     "output_type": "execute_result"
    },
    {
     "name": "stdout",
     "output_type": "stream",
     "text": [
      "10 Short-Term Rentals in His First Year with Tony J. Robinson\n",
      "8kB_M5b238s\n",
      "63,498 views\n",
      "2 years ago\n"
     ]
    },
    {
     "data": {
      "text/plain": [
       "102"
      ]
     },
     "execution_count": 37,
     "metadata": {},
     "output_type": "execute_result"
    },
    {
     "name": "stdout",
     "output_type": "stream",
     "text": [
      "Flipping vs. BRRRR Investing + Which to Choose | Analyzing Real Estate Deals\n",
      "bnY2o02AKB8\n",
      "31,303 views\n",
      "2 years ago\n"
     ]
    },
    {
     "data": {
      "text/plain": [
       "117"
      ]
     },
     "execution_count": 37,
     "metadata": {},
     "output_type": "execute_result"
    },
    {
     "name": "stdout",
     "output_type": "stream",
     "text": [
      "Stop Sending Boring Client Gifts w/ Giftology's John Ruhlin\n",
      "g4r3nGQ_2lo\n",
      "5,876 views\n",
      "2 years ago\n"
     ]
    },
    {
     "data": {
      "text/plain": [
       "99"
      ]
     },
     "execution_count": 37,
     "metadata": {},
     "output_type": "execute_result"
    },
    {
     "name": "stdout",
     "output_type": "stream",
     "text": [
      "Stock Gains & Mortgage Rates Fall Again | Money Market Recap\n",
      "BtQyltrAynI\n",
      "11,160 views\n",
      "2 years ago\n"
     ]
    },
    {
     "data": {
      "text/plain": [
       "101"
      ]
     },
     "execution_count": 37,
     "metadata": {},
     "output_type": "execute_result"
    },
    {
     "name": "stdout",
     "output_type": "stream",
     "text": [
      "From Living on Section 8 to Multifamily Millionaire with Sterling White\n",
      "G7GbU2qW8bk\n",
      "14,355 views\n",
      "2 years ago\n"
     ]
    },
    {
     "data": {
      "text/plain": [
       "112"
      ]
     },
     "execution_count": 37,
     "metadata": {},
     "output_type": "execute_result"
    },
    {
     "name": "stdout",
     "output_type": "stream",
     "text": [
      "Pili's Systems - It's Not About Multi Tasking | $75M in Properties\n",
      "m0syCEb5Cbo\n",
      "126,646 views\n",
      "2 years ago\n"
     ]
    },
    {
     "data": {
      "text/plain": [
       "108"
      ]
     },
     "execution_count": 37,
     "metadata": {},
     "output_type": "execute_result"
    },
    {
     "name": "stdout",
     "output_type": "stream",
     "text": [
      "6 Best Real Estate Markets for Cash Flow\n",
      "JzC9OSSk1qQ\n",
      "48,835 views\n",
      "2 years ago\n"
     ]
    },
    {
     "data": {
      "text/plain": [
       "81"
      ]
     },
     "execution_count": 37,
     "metadata": {},
     "output_type": "execute_result"
    },
    {
     "name": "stdout",
     "output_type": "stream",
     "text": [
      "The $500,000 Flipping Mistake | Analyzing Real Estate Deals\n",
      "zz9JxR2iWF4\n",
      "11,806 views\n",
      "2 years ago\n"
     ]
    },
    {
     "data": {
      "text/plain": [
       "102"
      ]
     },
     "execution_count": 37,
     "metadata": {},
     "output_type": "execute_result"
    },
    {
     "name": "stdout",
     "output_type": "stream",
     "text": [
      "David Greene Answers Top Real Estate Investing Questions\n",
      "C5QyykAR1ks\n",
      "40,928 views\n",
      "2 years ago\n"
     ]
    },
    {
     "data": {
      "text/plain": [
       "97"
      ]
     },
     "execution_count": 37,
     "metadata": {},
     "output_type": "execute_result"
    },
    {
     "name": "stdout",
     "output_type": "stream",
     "text": [
      "Crypto Crash & Home Sales Drop AGAIN | Money Market Recap\n",
      "FYglKdYfwNc\n",
      "15,280 views\n",
      "2 years ago\n"
     ]
    },
    {
     "data": {
      "text/plain": [
       "98"
      ]
     },
     "execution_count": 37,
     "metadata": {},
     "output_type": "execute_result"
    },
    {
     "name": "stdout",
     "output_type": "stream",
     "text": [
      "$100k Profits in 90 Days via Virtual Real Estate Investing\n",
      "4Z1TgTSOhkY\n",
      "26,685 views\n",
      "2 years ago\n"
     ]
    },
    {
     "data": {
      "text/plain": [
       "99"
      ]
     },
     "execution_count": 37,
     "metadata": {},
     "output_type": "execute_result"
    },
    {
     "name": "stdout",
     "output_type": "stream",
     "text": [
      "Real Estate Cold Calling: Tips, Scripts, & What to Avoid\n",
      "qlFhg7q3vks\n",
      "5,204 views\n",
      "2 years ago\n"
     ]
    },
    {
     "data": {
      "text/plain": [
       "98"
      ]
     },
     "execution_count": 37,
     "metadata": {},
     "output_type": "execute_result"
    },
    {
     "name": "stdout",
     "output_type": "stream",
     "text": [
      "$51k Flip Profit in 3 Months | Analyzing Real Estate Deals\n",
      "ebDecbz91vc\n",
      "8,201 views\n",
      "2 years ago\n"
     ]
    },
    {
     "data": {
      "text/plain": [
       "98"
      ]
     },
     "execution_count": 37,
     "metadata": {},
     "output_type": "execute_result"
    },
    {
     "name": "stdout",
     "output_type": "stream",
     "text": [
      "The Motivation for MJ & Kobe to Win with Tim Grover\n",
      "l4EAK18y3A8\n",
      "46,231 views\n",
      "2 years ago\n"
     ]
    },
    {
     "data": {
      "text/plain": [
       "92"
      ]
     },
     "execution_count": 37,
     "metadata": {},
     "output_type": "execute_result"
    },
    {
     "name": "stdout",
     "output_type": "stream",
     "text": [
      "Money Market Recap: Inflation, CPI, & Safest Investments\n",
      "3yxqfDTMfV8\n",
      "5,557 views\n",
      "2 years ago\n"
     ]
    },
    {
     "data": {
      "text/plain": [
       "98"
      ]
     },
     "execution_count": 37,
     "metadata": {},
     "output_type": "execute_result"
    },
    {
     "name": "stdout",
     "output_type": "stream",
     "text": [
      "Million Dollar Deals as a DIY-er & Real Estate Investor @investorgirlbritt\n",
      "S8_BIE0ANE0\n",
      "33,770 views\n",
      "2 years ago\n"
     ]
    },
    {
     "data": {
      "text/plain": [
       "115"
      ]
     },
     "execution_count": 37,
     "metadata": {},
     "output_type": "execute_result"
    },
    {
     "name": "stdout",
     "output_type": "stream",
     "text": [
      "Direct Mail: Finding Deals + How NOT to End Up in the Trash\n",
      "tdYEHlHsSvw\n",
      "9,940 views\n",
      "2 years ago\n"
     ]
    },
    {
     "data": {
      "text/plain": [
       "99"
      ]
     },
     "execution_count": 37,
     "metadata": {},
     "output_type": "execute_result"
    },
    {
     "name": "stdout",
     "output_type": "stream",
     "text": [
      "Are We In a Housing Market Bubble?\n",
      "-udfs7X92So\n",
      "22,493 views\n",
      "2 years ago\n"
     ]
    },
    {
     "data": {
      "text/plain": [
       "75"
      ]
     },
     "execution_count": 37,
     "metadata": {},
     "output_type": "execute_result"
    },
    {
     "name": "stdout",
     "output_type": "stream",
     "text": [
      "Analyzing Real Estate: $57k Profit on a NASTY 3 Bed 1 Bath\n",
      "UFfN9fXMDvI\n",
      "14,454 views\n",
      "2 years ago\n"
     ]
    },
    {
     "data": {
      "text/plain": [
       "99"
      ]
     },
     "execution_count": 37,
     "metadata": {},
     "output_type": "execute_result"
    },
    {
     "name": "stdout",
     "output_type": "stream",
     "text": [
      "LIVE Real Estate Investing Q&A (Pt. 2)\n",
      "fGxNdkw2RzA\n",
      "10,418 views\n",
      "2 years ago\n"
     ]
    },
    {
     "data": {
      "text/plain": [
       "79"
      ]
     },
     "execution_count": 37,
     "metadata": {},
     "output_type": "execute_result"
    },
    {
     "name": "stdout",
     "output_type": "stream",
     "text": [
      "Money Market Recap: Biden Taxes, Evictions, & Home Buyer Hope\n",
      "Un3ZWCNwPnw\n",
      "5,919 views\n",
      "2 years ago\n"
     ]
    },
    {
     "data": {
      "text/plain": [
       "103"
      ]
     },
     "execution_count": 37,
     "metadata": {},
     "output_type": "execute_result"
    },
    {
     "name": "stdout",
     "output_type": "stream",
     "text": [
      "LIVE Real Estate Investing Q&A (Pt. 1)\n",
      "wGpI4Y-M1PE\n",
      "11,131 views\n",
      "2 years ago\n"
     ]
    },
    {
     "data": {
      "text/plain": [
       "79"
      ]
     },
     "execution_count": 37,
     "metadata": {},
     "output_type": "execute_result"
    },
    {
     "name": "stdout",
     "output_type": "stream",
     "text": [
      "How to Invest in an Expensive Market and Live RENT FREE!\n",
      "YqU977GR6P4\n",
      "11,172 views\n",
      "2 years ago\n"
     ]
    },
    {
     "data": {
      "text/plain": [
       "97"
      ]
     },
     "execution_count": 37,
     "metadata": {},
     "output_type": "execute_result"
    },
    {
     "name": "stdout",
     "output_type": "stream",
     "text": [
      "Make Your Own Real Estate List: Driving for Dollars Step by Step\n",
      "wYEP72lZ2G8\n",
      "25,401 views\n",
      "2 years ago\n"
     ]
    },
    {
     "data": {
      "text/plain": [
       "105"
      ]
     },
     "execution_count": 37,
     "metadata": {},
     "output_type": "execute_result"
    },
    {
     "name": "stdout",
     "output_type": "stream",
     "text": [
      "Adam Grant on The Mindsets Leading to Growth (and Failure)\n",
      "_nfG3ywGCo4\n",
      "10,817 views\n",
      "2 years ago\n"
     ]
    },
    {
     "data": {
      "text/plain": [
       "99"
      ]
     },
     "execution_count": 37,
     "metadata": {},
     "output_type": "execute_result"
    },
    {
     "name": "stdout",
     "output_type": "stream",
     "text": [
      "Using \"Good Debt\" to Retire Early with Real Estate\n",
      "Tfmm_6WxwLQ\n",
      "95,837 views\n",
      "2 years ago\n"
     ]
    },
    {
     "data": {
      "text/plain": [
       "95"
      ]
     },
     "execution_count": 37,
     "metadata": {},
     "output_type": "execute_result"
    },
    {
     "name": "stdout",
     "output_type": "stream",
     "text": [
      "Find Great Deals Off Market with Anson Young\n",
      "_vHBnfNlWDk\n",
      "8,424 views\n",
      "2 years ago\n"
     ]
    },
    {
     "data": {
      "text/plain": [
       "84"
      ]
     },
     "execution_count": 37,
     "metadata": {},
     "output_type": "execute_result"
    },
    {
     "name": "stdout",
     "output_type": "stream",
     "text": [
      "Ryan Serhant on \"Big Money Energy\" and $100M+ Real Estate\n",
      "PRnmaPZ8cJg\n",
      "65,856 views\n",
      "2 years ago\n"
     ]
    },
    {
     "data": {
      "text/plain": [
       "102"
      ]
     },
     "execution_count": 37,
     "metadata": {},
     "output_type": "execute_result"
    },
    {
     "name": "stdout",
     "output_type": "stream",
     "text": [
      "Coming Back Stronger in Real Estate with Welby Accely\n",
      "BEb3aLACec8\n",
      "120,080 views\n",
      "2 years ago\n"
     ]
    },
    {
     "data": {
      "text/plain": [
       "95"
      ]
     },
     "execution_count": 37,
     "metadata": {},
     "output_type": "execute_result"
    },
    {
     "name": "stdout",
     "output_type": "stream",
     "text": [
      "\"Building Yourself Out of a Job\" with Investor Codie Sanchez | BiggerPockets Business 105\n",
      "999rMfWAtzw\n",
      "89,777 views\n",
      "2 years ago\n"
     ]
    },
    {
     "data": {
      "text/plain": [
       "134"
      ]
     },
     "execution_count": 37,
     "metadata": {},
     "output_type": "execute_result"
    },
    {
     "name": "stdout",
     "output_type": "stream",
     "text": [
      "How to Meet Real Estate Investors with Anson Young\n",
      "vpwR1FmIK34\n",
      "7,367 views\n",
      "2 years ago\n"
     ]
    },
    {
     "data": {
      "text/plain": [
       "90"
      ]
     },
     "execution_count": 37,
     "metadata": {},
     "output_type": "execute_result"
    },
    {
     "name": "stdout",
     "output_type": "stream",
     "text": [
      "How to Buy Your First Rental Property (In 90 Days or Less!)\n",
      "__CbXjb1aeU\n",
      "304,244 views\n",
      "2 years ago\n"
     ]
    },
    {
     "data": {
      "text/plain": [
       "101"
      ]
     },
     "execution_count": 37,
     "metadata": {},
     "output_type": "execute_result"
    },
    {
     "name": "stdout",
     "output_type": "stream",
     "text": [
      "The 5 Fundamentals That Led to $35M of Real Estate in 1 Year | BiggerPockets Podcast 462\n",
      "dJKfLUYV13U\n",
      "59,836 views\n",
      "2 years ago\n"
     ]
    },
    {
     "data": {
      "text/plain": [
       "129"
      ]
     },
     "execution_count": 37,
     "metadata": {},
     "output_type": "execute_result"
    },
    {
     "name": "stdout",
     "output_type": "stream",
     "text": [
      "How Anyone, Anywhere, Can Start Buying Profitable Real Estate | BP Business 104\n",
      "uPbCmhvTYpg\n",
      "14,138 views\n",
      "2 years ago\n"
     ]
    },
    {
     "data": {
      "text/plain": [
       "122"
      ]
     },
     "execution_count": 37,
     "metadata": {},
     "output_type": "execute_result"
    },
    {
     "name": "stdout",
     "output_type": "stream",
     "text": [
      "How to Analyze Real Estate Markets\n",
      "j4ySnUj16i0\n",
      "56,078 views\n",
      "2 years ago\n"
     ]
    },
    {
     "data": {
      "text/plain": [
       "75"
      ]
     },
     "execution_count": 37,
     "metadata": {},
     "output_type": "execute_result"
    },
    {
     "name": "stdout",
     "output_type": "stream",
     "text": [
      "Defeating the \"Enemy of Success\" w/ Steven Pressfield (The War of Art) | BiggerPockets Podcast 461\n",
      "dKFdmbpEWME\n",
      "10,937 views\n",
      "2 years ago\n"
     ]
    },
    {
     "data": {
      "text/plain": [
       "143"
      ]
     },
     "execution_count": 37,
     "metadata": {},
     "output_type": "execute_result"
    },
    {
     "name": "stdout",
     "output_type": "stream",
     "text": [
      "How to Best Structure a Partnership for Investing in Rental Properties | Daily Podcast 184\n",
      "uwYr3wPSUIE\n",
      "20,105 views\n",
      "2 years ago\n"
     ]
    },
    {
     "data": {
      "text/plain": [
       "131"
      ]
     },
     "execution_count": 37,
     "metadata": {},
     "output_type": "execute_result"
    },
    {
     "name": "stdout",
     "output_type": "stream",
     "text": [
      "Subdividing Land: What Real Estate Investors Should Know | Daily Podcast 183\n",
      "y_3SP6N-l4c\n",
      "10,933 views\n",
      "2 years ago\n"
     ]
    },
    {
     "data": {
      "text/plain": [
       "117"
      ]
     },
     "execution_count": 37,
     "metadata": {},
     "output_type": "execute_result"
    },
    {
     "name": "stdout",
     "output_type": "stream",
     "text": [
      "From Sleeping on a Couch to Owning 20 Units (in 2 Years!) | BiggerPockets Podcast 460\n",
      "AcFDmeLelDU\n",
      "117,135 views\n",
      "2 years ago\n"
     ]
    },
    {
     "data": {
      "text/plain": [
       "127"
      ]
     },
     "execution_count": 37,
     "metadata": {},
     "output_type": "execute_result"
    },
    {
     "name": "stdout",
     "output_type": "stream",
     "text": [
      "How I Find Private Money Lenders to 100% Fund My Deals (& How You Can, Too) | Daily Podcast 182\n",
      "zbL46JgOMNM\n",
      "28,160 views\n",
      "2 years ago\n"
     ]
    },
    {
     "data": {
      "text/plain": [
       "138"
      ]
     },
     "execution_count": 37,
     "metadata": {},
     "output_type": "execute_result"
    },
    {
     "name": "stdout",
     "output_type": "stream",
     "text": [
      "Understanding Real Estate Property Class: How to Know Where to Invest | Daily Podcast 181\n",
      "KRx3WhjmTZ0\n",
      "3,845 views\n",
      "2 years ago\n"
     ]
    },
    {
     "data": {
      "text/plain": [
       "129"
      ]
     },
     "execution_count": 37,
     "metadata": {},
     "output_type": "execute_result"
    },
    {
     "name": "stdout",
     "output_type": "stream",
     "text": [
      "Are You Seen as Credible in A Customer?s Eye? with Mitchell Levy | BP Business 103\n",
      "ra4HMYv3sT8\n",
      "2,160 views\n",
      "2 years ago\n"
     ]
    },
    {
     "data": {
      "text/plain": [
       "122"
      ]
     },
     "execution_count": 37,
     "metadata": {},
     "output_type": "execute_result"
    },
    {
     "name": "stdout",
     "output_type": "stream",
     "text": [
      "8 Simple Steps to Close Real Estate Deals Like a Rockstar | Daily Podcast 180\n",
      "YzFx9o7vbAg\n",
      "2,819 views\n",
      "2 years ago\n"
     ]
    },
    {
     "data": {
      "text/plain": [
       "117"
      ]
     },
     "execution_count": 37,
     "metadata": {},
     "output_type": "execute_result"
    },
    {
     "name": "stdout",
     "output_type": "stream",
     "text": [
      "Tiffany Aliche's 10 Financial Components to Become 'Financially Whole' | BP Money 187\n",
      "_T9LCBrv_Tk\n",
      "10,254 views\n",
      "2 years ago\n"
     ]
    },
    {
     "data": {
      "text/plain": [
       "126"
      ]
     },
     "execution_count": 37,
     "metadata": {},
     "output_type": "execute_result"
    },
    {
     "name": "stdout",
     "output_type": "stream",
     "text": [
      "How Much to Charge for Rent in 2021: A Landlord's Guide | Daily Podcast 179\n",
      "dvkIC_gmw1M\n",
      "7,930 views\n",
      "2 years ago\n"
     ]
    },
    {
     "data": {
      "text/plain": [
       "115"
      ]
     },
     "execution_count": 37,
     "metadata": {},
     "output_type": "execute_result"
    },
    {
     "name": "stdout",
     "output_type": "stream",
     "text": [
      "The Superpower of Listening: Get More Out of Your Conversations | BiggerPockets Podcast 459\n",
      "YRPriyLGiqI\n",
      "6,053 views\n",
      "2 years ago\n"
     ]
    },
    {
     "data": {
      "text/plain": [
       "131"
      ]
     },
     "execution_count": 37,
     "metadata": {},
     "output_type": "execute_result"
    },
    {
     "name": "stdout",
     "output_type": "stream",
     "text": [
      "How to Choose the Right Mobile Home Park For Your Portfolio | Daily Podcast 178\n",
      "SVkW0cPt6us\n",
      "2,420 views\n",
      "2 years ago\n"
     ]
    },
    {
     "data": {
      "text/plain": [
       "119"
      ]
     },
     "execution_count": 37,
     "metadata": {},
     "output_type": "execute_result"
    },
    {
     "name": "stdout",
     "output_type": "stream",
     "text": [
      "Stop Making Excuses in Business & How to Develop a ?Scout Mindset? | Rookie Podcast 68\n",
      "KMzodGQTCxU\n",
      "4,715 views\n",
      "2 years ago\n"
     ]
    },
    {
     "data": {
      "text/plain": [
       "126"
      ]
     },
     "execution_count": 37,
     "metadata": {},
     "output_type": "execute_result"
    },
    {
     "name": "stdout",
     "output_type": "stream",
     "text": [
      "What Is Underwriting? Here's What to Expect | Daily Podcast 177\n",
      "aNKqlxEkX9Q\n",
      "3,671 views\n",
      "2 years ago\n"
     ]
    },
    {
     "data": {
      "text/plain": [
       "103"
      ]
     },
     "execution_count": 37,
     "metadata": {},
     "output_type": "execute_result"
    },
    {
     "name": "stdout",
     "output_type": "stream",
     "text": [
      "Finance Friday: Using Student Loan Forgiveness to Catapult FI w/ Sammie | BP Money 186\n",
      "_iJ6v11yDko\n",
      "4,061 views\n",
      "2 years ago\n"
     ]
    },
    {
     "data": {
      "text/plain": [
       "126"
      ]
     },
     "execution_count": 37,
     "metadata": {},
     "output_type": "execute_result"
    },
    {
     "name": "stdout",
     "output_type": "stream",
     "text": [
      "How to Choose the Right Commercial Broker for Your Next Investment | Daily Podcast 176\n",
      "lVfvwI24pBM\n",
      "1,811 views\n",
      "2 years ago\n"
     ]
    },
    {
     "data": {
      "text/plain": [
       "126"
      ]
     },
     "execution_count": 37,
     "metadata": {},
     "output_type": "execute_result"
    },
    {
     "name": "stdout",
     "output_type": "stream",
     "text": [
      "Ditching \"Active Investing\" for More Passive Income Streams | BiggerPockets Podcast 458\n",
      "RU0_BbP7U_M\n",
      "15,427 views\n",
      "2 years ago\n"
     ]
    },
    {
     "data": {
      "text/plain": [
       "132"
      ]
     },
     "execution_count": 37,
     "metadata": {},
     "output_type": "execute_result"
    },
    {
     "name": "stdout",
     "output_type": "stream",
     "text": [
      "8 Reasons Smart Investors Get their Real Estate License | Daily Podcast 175\n",
      "0hy_XdQ7oaE\n",
      "19,686 views\n",
      "2 years ago\n"
     ]
    },
    {
     "data": {
      "text/plain": [
       "116"
      ]
     },
     "execution_count": 37,
     "metadata": {},
     "output_type": "execute_result"
    },
    {
     "name": "stdout",
     "output_type": "stream",
     "text": [
      "Moving From Single Family Homes to Self-Storage Units with Dee Brock | Rookie Podcast 67\n",
      "BeoQxrMRITo\n",
      "9,316 views\n",
      "2 years ago\n"
     ]
    },
    {
     "data": {
      "text/plain": [
       "128"
      ]
     },
     "execution_count": 37,
     "metadata": {},
     "output_type": "execute_result"
    },
    {
     "name": "stdout",
     "output_type": "stream",
     "text": [
      "5 Questions to Ask Yourself If You're Considering DIY Property Maintenance | Daily Podcast 174\n",
      "ZdiCkQMAS8s\n",
      "1,903 views\n",
      "2 years ago\n"
     ]
    },
    {
     "data": {
      "text/plain": [
       "134"
      ]
     },
     "execution_count": 37,
     "metadata": {},
     "output_type": "execute_result"
    },
    {
     "name": "stdout",
     "output_type": "stream",
     "text": [
      "Are You Ready to Take the Entrepreneurial Leap? | BP Business 102\n",
      "HYL0Q8JWO48\n",
      "3,194 views\n",
      "2 years ago\n"
     ]
    },
    {
     "data": {
      "text/plain": [
       "105"
      ]
     },
     "execution_count": 37,
     "metadata": {},
     "output_type": "execute_result"
    },
    {
     "name": "stdout",
     "output_type": "stream",
     "text": [
      "Flippers and Airbnb Investors: Here?s How an S Corp Election Can Help You | Daily Podcast 173\n",
      "1usb-JjNdGo\n",
      "3,756 views\n",
      "2 years ago\n"
     ]
    },
    {
     "data": {
      "text/plain": [
       "133"
      ]
     },
     "execution_count": 37,
     "metadata": {},
     "output_type": "execute_result"
    },
    {
     "name": "stdout",
     "output_type": "stream",
     "text": [
      "?I DON?T Want to Retire Early? with Investing Expert Barbara Friedberg | BP Money 185\n",
      "-1QiSRBRSL0\n",
      "4,481 views\n",
      "2 years ago\n"
     ]
    },
    {
     "data": {
      "text/plain": [
       "125"
      ]
     },
     "execution_count": 37,
     "metadata": {},
     "output_type": "execute_result"
    },
    {
     "name": "stdout",
     "output_type": "stream",
     "text": [
      "10 Must-Have Features of the Best Rent Collection Apps | Daily Podcast 172\n",
      "hXAoZozLHKY\n",
      "16,714 views\n",
      "2 years ago\n"
     ]
    },
    {
     "data": {
      "text/plain": [
       "115"
      ]
     },
     "execution_count": 37,
     "metadata": {},
     "output_type": "execute_result"
    },
    {
     "name": "stdout",
     "output_type": "stream",
     "text": [
      "How Thinking 5 Moves Ahead Can Make You a Millionaire w/ Patrick Bet-David | BP Podcast 457\n",
      "1R19mc4QXO8\n",
      "31,995 views\n",
      "2 years ago\n"
     ]
    },
    {
     "data": {
      "text/plain": [
       "132"
      ]
     },
     "execution_count": 37,
     "metadata": {},
     "output_type": "execute_result"
    },
    {
     "name": "stdout",
     "output_type": "stream",
     "text": [
      "Is Foundation Damage Always a Deal-Breaker? | Daily Podcast 171\n",
      "oEAmlpUU3iw\n",
      "6,213 views\n",
      "2 years ago\n"
     ]
    },
    {
     "data": {
      "text/plain": [
       "103"
      ]
     },
     "execution_count": 37,
     "metadata": {},
     "output_type": "execute_result"
    },
    {
     "name": "stdout",
     "output_type": "stream",
     "text": [
      "Rookie Reply: Buying Sight Unseen & Financing Off-Market Deals | Rookie Podcast 66\n",
      "WW21zBwDPJU\n",
      "4,214 views\n",
      "2 years ago\n"
     ]
    },
    {
     "data": {
      "text/plain": [
       "122"
      ]
     },
     "execution_count": 37,
     "metadata": {},
     "output_type": "execute_result"
    },
    {
     "name": "stdout",
     "output_type": "stream",
     "text": [
      "Investors: Don't Negotiate Until You Know the Home's Condition | Daily Podcast 170\n",
      "zUIRz1dagMk\n",
      "2,786 views\n",
      "2 years ago\n"
     ]
    },
    {
     "data": {
      "text/plain": [
       "122"
      ]
     },
     "execution_count": 37,
     "metadata": {},
     "output_type": "execute_result"
    },
    {
     "name": "stdout",
     "output_type": "stream",
     "text": [
      "Finance Friday: Is Your FI Number Overly-Conservative? | BP Money 184\n",
      "MWIz3tdntpQ\n",
      "9,460 views\n",
      "2 years ago\n"
     ]
    },
    {
     "data": {
      "text/plain": [
       "109"
      ]
     },
     "execution_count": 37,
     "metadata": {},
     "output_type": "execute_result"
    },
    {
     "name": "stdout",
     "output_type": "stream",
     "text": [
      "Finder's Fees: What Real Estate Investors Need to Know | Daily Podcast 169\n",
      "SB3Dm4MbiT0\n",
      "6,187 views\n",
      "2 years ago\n"
     ]
    },
    {
     "data": {
      "text/plain": [
       "114"
      ]
     },
     "execution_count": 37,
     "metadata": {},
     "output_type": "execute_result"
    },
    {
     "name": "stdout",
     "output_type": "stream",
     "text": [
      "126 Multi-Family Units On a Military Salary with Erika Sleger | BiggerPockets Podcast 456\n",
      "rL55wCSUFdg\n",
      "31,093 views\n",
      "2 years ago\n"
     ]
    },
    {
     "data": {
      "text/plain": [
       "130"
      ]
     },
     "execution_count": 37,
     "metadata": {},
     "output_type": "execute_result"
    },
    {
     "name": "stdout",
     "output_type": "stream",
     "text": [
      "The Ultimate Guide to Lease Renewals | Daily Podcast\n",
      "gRM9d3oFVeA\n",
      "5,504 views\n",
      "2 years ago\n"
     ]
    },
    {
     "data": {
      "text/plain": [
       "92"
      ]
     },
     "execution_count": 37,
     "metadata": {},
     "output_type": "execute_result"
    },
    {
     "name": "stdout",
     "output_type": "stream",
     "text": [
      "Multifamily, Mobile Homes, & Commercial Deals: All in 2 Years! w/ Tommy Polise | Rookie Podcast 65\n",
      "4vRVFUtFXfA\n",
      "8,585 views\n",
      "2 years ago\n"
     ]
    },
    {
     "data": {
      "text/plain": [
       "140"
      ]
     },
     "execution_count": 37,
     "metadata": {},
     "output_type": "execute_result"
    },
    {
     "name": "stdout",
     "output_type": "stream",
     "text": [
      "Tired of Market Manipulation? Skip Robinhood--Invest in Real Estate Instead | Daily Podcast\n",
      "XFsiA0kJPpI\n",
      "1,787 views\n",
      "2 years ago\n"
     ]
    },
    {
     "data": {
      "text/plain": [
       "131"
      ]
     },
     "execution_count": 37,
     "metadata": {},
     "output_type": "execute_result"
    },
    {
     "name": "stdout",
     "output_type": "stream",
     "text": [
      "Acquiring a $1.5M Business Using Only $10k with Nigel Guisinger & Sean Ade | BP Business 101\n",
      "XYAwqUqnMao\n",
      "6,783 views\n",
      "2 years ago\n"
     ]
    },
    {
     "data": {
      "text/plain": [
       "132"
      ]
     },
     "execution_count": 37,
     "metadata": {},
     "output_type": "execute_result"
    },
    {
     "name": "stdout",
     "output_type": "stream",
     "text": [
      "Understanding Real Estate Commissions  (And How to Negotiate Them!) | Daily Podcast\n",
      "mYGtvzZNyac\n",
      "2,393 views\n",
      "2 years ago\n"
     ]
    },
    {
     "data": {
      "text/plain": [
       "123"
      ]
     },
     "execution_count": 37,
     "metadata": {},
     "output_type": "execute_result"
    },
    {
     "name": "stdout",
     "output_type": "stream",
     "text": [
      "Mini Millionaires: Set Up Your Children for Financial Independence with Rob Phelan | BP Money 183\n",
      "TePFp48DuGc\n",
      "7,296 views\n",
      "2 years ago\n"
     ]
    },
    {
     "data": {
      "text/plain": [
       "137"
      ]
     },
     "execution_count": 37,
     "metadata": {},
     "output_type": "execute_result"
    },
    {
     "name": "stdout",
     "output_type": "stream",
     "text": [
      "Mortgage Interest Deductions 101: What You Should Know | Daily Podcast\n",
      "JHn5rt6jmb0\n",
      "5,325 views\n",
      "2 years ago\n"
     ]
    },
    {
     "data": {
      "text/plain": [
       "110"
      ]
     },
     "execution_count": 37,
     "metadata": {},
     "output_type": "execute_result"
    },
    {
     "name": "stdout",
     "output_type": "stream",
     "text": [
      "How Blogging Can Help Grow Your Realtor Business | Daily Podcast\n",
      "apy47sDoKCE\n",
      "1,772 views\n",
      "2 years ago\n"
     ]
    },
    {
     "data": {
      "text/plain": [
       "104"
      ]
     },
     "execution_count": 37,
     "metadata": {},
     "output_type": "execute_result"
    },
    {
     "name": "stdout",
     "output_type": "stream",
     "text": [
      "How Do I Place Properties Under a Newly Acquired LLC? | Rookie Podcast 64\n",
      "aZkOlffd60g\n",
      "6,965 views\n",
      "2 years ago\n"
     ]
    },
    {
     "data": {
      "text/plain": [
       "113"
      ]
     },
     "execution_count": 37,
     "metadata": {},
     "output_type": "execute_result"
    },
    {
     "name": "stdout",
     "output_type": "stream",
     "text": [
      "Adopting this Mindset is Critical to Your Success as a Real Estate Agent | Daily Podcast\n",
      "pkUZJMP5450\n",
      "3,056 views\n",
      "2 years ago\n"
     ]
    },
    {
     "data": {
      "text/plain": [
       "128"
      ]
     },
     "execution_count": 37,
     "metadata": {},
     "output_type": "execute_result"
    },
    {
     "name": "stdout",
     "output_type": "stream",
     "text": [
      "What if My Career Gets Phased Out? Finance Friday with Mike | BP Money 182\n",
      "UL-Ew_kS9h4\n",
      "2,669 views\n",
      "2 years ago\n"
     ]
    },
    {
     "data": {
      "text/plain": [
       "114"
      ]
     },
     "execution_count": 37,
     "metadata": {},
     "output_type": "execute_result"
    },
    {
     "name": "stdout",
     "output_type": "stream",
     "text": [
      "Flipping Commercial Properties and Finding Success as a First Timer | Daily Podcast\n",
      "6YszWTSOgxo\n",
      "3,035 views\n",
      "2 years ago\n"
     ]
    },
    {
     "data": {
      "text/plain": [
       "123"
      ]
     },
     "execution_count": 37,
     "metadata": {},
     "output_type": "execute_result"
    },
    {
     "name": "stdout",
     "output_type": "stream",
     "text": [
      "Retiring in 2 years Through ?Aggressive? Rental Property Investing | BiggerPockets Podcast 454\n",
      "HiGNo19QIqo\n",
      "536,228 views\n",
      "2 years ago\n"
     ]
    },
    {
     "data": {
      "text/plain": [
       "136"
      ]
     },
     "execution_count": 37,
     "metadata": {},
     "output_type": "execute_result"
    },
    {
     "name": "stdout",
     "output_type": "stream",
     "text": [
      "How to Keep Quality Tenants | Daily Podcast\n",
      "YsS8XTku12Y\n",
      "3,109 views\n",
      "2 years ago\n"
     ]
    },
    {
     "data": {
      "text/plain": [
       "83"
      ]
     },
     "execution_count": 37,
     "metadata": {},
     "output_type": "execute_result"
    },
    {
     "name": "stdout",
     "output_type": "stream",
     "text": [
      "Diverging From Corporate Life to Flip Houses Full-Time with Sean and Ann Wayne | Rookie Podcast 63\n",
      "V36BvplQBX0\n",
      "6,879 views\n",
      "2 years ago\n"
     ]
    },
    {
     "data": {
      "text/plain": [
       "138"
      ]
     },
     "execution_count": 37,
     "metadata": {},
     "output_type": "execute_result"
    },
    {
     "name": "stdout",
     "output_type": "stream",
     "text": [
      "7 Ways to Flip Houses with No Money | Daily Podcast\n",
      "d_34FY6V0Cw\n",
      "6,007 views\n",
      "2 years ago\n"
     ]
    },
    {
     "data": {
      "text/plain": [
       "91"
      ]
     },
     "execution_count": 37,
     "metadata": {},
     "output_type": "execute_result"
    },
    {
     "name": "stdout",
     "output_type": "stream",
     "text": [
      "You Can't Fear Failure: Scott Trench on the Evolution of BiggerPockets\n",
      "eHQ0W0EFKAs\n",
      "4,052 views\n",
      "2 years ago\n"
     ]
    },
    {
     "data": {
      "text/plain": [
       "110"
      ]
     },
     "execution_count": 37,
     "metadata": {},
     "output_type": "execute_result"
    },
    {
     "name": "stdout",
     "output_type": "stream",
     "text": [
      "LLC or Umbrella Insurance: Which Is Better for Investors?\n",
      "w1zCL4bwhyM\n",
      "13,532 views\n",
      "2 years ago\n"
     ]
    },
    {
     "data": {
      "text/plain": [
       "98"
      ]
     },
     "execution_count": 37,
     "metadata": {},
     "output_type": "execute_result"
    },
    {
     "name": "stdout",
     "output_type": "stream",
     "text": [
      "A Slow, Steady, and Sustainable Way to Buy Rentals with Julie | BP Money 181\n",
      "hcXLgMxHagM\n",
      "22,900 views\n",
      "2 years ago\n"
     ]
    },
    {
     "data": {
      "text/plain": [
       "119"
      ]
     },
     "execution_count": 37,
     "metadata": {},
     "output_type": "execute_result"
    },
    {
     "name": "stdout",
     "output_type": "stream",
     "text": [
      "How Will COVID-19 Impact Real Estate in 2021? | Daily Podcast\n",
      "sV3iYSfOj-s\n",
      "4,371 views\n",
      "2 years ago\n"
     ]
    },
    {
     "data": {
      "text/plain": [
       "101"
      ]
     },
     "execution_count": 37,
     "metadata": {},
     "output_type": "execute_result"
    },
    {
     "name": "stdout",
     "output_type": "stream",
     "text": [
      "Live Q&A: Risk, Partnerships, Inspiration & Opportunity of Real Estate | BiggerPockets Podcast 453\n",
      "ZY3PVQF09mI\n",
      "7,887 views\n",
      "2 years ago\n"
     ]
    },
    {
     "data": {
      "text/plain": [
       "140"
      ]
     },
     "execution_count": 37,
     "metadata": {},
     "output_type": "execute_result"
    },
    {
     "name": "stdout",
     "output_type": "stream",
     "text": [
      "Finding the Right Real Estate Broker: A Key Tool for Investing Success | Daily Podcast\n",
      "hI5RykrS_UA\n",
      "2,871 views\n",
      "2 years ago\n"
     ]
    },
    {
     "data": {
      "text/plain": [
       "126"
      ]
     },
     "execution_count": 37,
     "metadata": {},
     "output_type": "execute_result"
    },
    {
     "name": "stdout",
     "output_type": "stream",
     "text": [
      "Rookie Reply: What?s The Best Way to Find a Lender?\n",
      "PRNUUVsHnlk\n",
      "4,397 views\n",
      "2 years ago\n"
     ]
    },
    {
     "data": {
      "text/plain": [
       "91"
      ]
     },
     "execution_count": 37,
     "metadata": {},
     "output_type": "execute_result"
    },
    {
     "name": "stdout",
     "output_type": "stream",
     "text": [
      "The Power of Word of Mouth in Real Estate Investing (Tell Anyone and Everyone!) | Daily Podcast\n",
      "r2ZG9qv_Tn8\n",
      "1,766 views\n",
      "2 years ago\n"
     ]
    },
    {
     "data": {
      "text/plain": [
       "135"
      ]
     },
     "execution_count": 37,
     "metadata": {},
     "output_type": "execute_result"
    },
    {
     "name": "stdout",
     "output_type": "stream",
     "text": [
      "How to Build Equity on Your Real Estate Properties (3 Ways)\n",
      "y7Ma1vMiA74\n",
      "8,980 views\n",
      "2 years ago\n"
     ]
    },
    {
     "data": {
      "text/plain": [
       "99"
      ]
     },
     "execution_count": 37,
     "metadata": {},
     "output_type": "execute_result"
    },
    {
     "name": "stdout",
     "output_type": "stream",
     "text": [
      "So You?ve Reached Millionaire Status, What?s Next? Finance Friday with Brian Blask | BP Money 180\n",
      "UqAE3_vcU4M\n",
      "4,941 views\n",
      "2 years ago\n"
     ]
    },
    {
     "data": {
      "text/plain": [
       "139"
      ]
     },
     "execution_count": 37,
     "metadata": {},
     "output_type": "execute_result"
    },
    {
     "name": "stdout",
     "output_type": "stream",
     "text": [
      "How to Choose a Financial Planner Who Gets Real Estate | Daily Podcast\n",
      "dg1SD8lH6xE\n",
      "2,394 views\n",
      "2 years ago\n"
     ]
    },
    {
     "data": {
      "text/plain": [
       "110"
      ]
     },
     "execution_count": 37,
     "metadata": {},
     "output_type": "execute_result"
    },
    {
     "name": "stdout",
     "output_type": "stream",
     "text": [
      "Landing Incredible Deals Using This ?Scary? Technique with Steve Trang | BiggerPockets Podcast 452\n",
      "_Kx63D3XBT4\n",
      "19,277 views\n",
      "2 years ago\n"
     ]
    },
    {
     "data": {
      "text/plain": [
       "139"
      ]
     },
     "execution_count": 37,
     "metadata": {},
     "output_type": "execute_result"
    },
    {
     "name": "stdout",
     "output_type": "stream",
     "text": [
      "How To Land Quality Deals While Working With a Wholesaler\n",
      "HjN-97RgK3E\n",
      "3,136 views\n",
      "2 years ago\n"
     ]
    },
    {
     "data": {
      "text/plain": [
       "97"
      ]
     },
     "execution_count": 37,
     "metadata": {},
     "output_type": "execute_result"
    },
    {
     "name": "stdout",
     "output_type": "stream",
     "text": [
      "Digital Nomad with 15 Units in 5 Different Areas with Michael Su | Rookie Podcast 61\n",
      "sXPMpq_6rbE\n",
      "6,851 views\n",
      "2 years ago\n"
     ]
    },
    {
     "data": {
      "text/plain": [
       "124"
      ]
     },
     "execution_count": 37,
     "metadata": {},
     "output_type": "execute_result"
    },
    {
     "name": "stdout",
     "output_type": "stream",
     "text": [
      "5 Strategies for Investing in Real Estate Mortgage Notes | Daily Podcast\n",
      "yDrdTEXkQoQ\n",
      "3,883 views\n",
      "2 years ago\n"
     ]
    },
    {
     "data": {
      "text/plain": [
       "112"
      ]
     },
     "execution_count": 37,
     "metadata": {},
     "output_type": "execute_result"
    },
    {
     "name": "stdout",
     "output_type": "stream",
     "text": [
      "Finding Profitable Opportunities Using ?Deliberate Data? with Dr. John Johnson | BP Business 99\n",
      "JsEHB03IWyI\n",
      "2,982 views\n",
      "2 years ago\n"
     ]
    },
    {
     "data": {
      "text/plain": [
       "135"
      ]
     },
     "execution_count": 37,
     "metadata": {},
     "output_type": "execute_result"
    },
    {
     "name": "stdout",
     "output_type": "stream",
     "text": [
      "Landlords Should Require Renter's Insurance--Here's Why | Daily Podcast\n",
      "icNb9geFHcE\n",
      "2,858 views\n",
      "2 years ago\n"
     ]
    },
    {
     "data": {
      "text/plain": [
       "111"
      ]
     },
     "execution_count": 37,
     "metadata": {},
     "output_type": "execute_result"
    },
    {
     "name": "stdout",
     "output_type": "stream",
     "text": [
      "?The Guy Who Did Everything Wrong But Still Figured it Out? with David Pere | BP Money 179\n",
      "m7GTc7Fax_s\n",
      "6,215 views\n",
      "2 years ago\n"
     ]
    },
    {
     "data": {
      "text/plain": [
       "130"
      ]
     },
     "execution_count": 37,
     "metadata": {},
     "output_type": "execute_result"
    },
    {
     "name": "stdout",
     "output_type": "stream",
     "text": [
      "8 Steps to Take Now to Prepare to Buy a Home in 2021 | Daily Podcast\n",
      "u4RY8SrVtbc\n",
      "6,108 views\n",
      "2 years ago\n"
     ]
    },
    {
     "data": {
      "text/plain": [
       "108"
      ]
     },
     "execution_count": 37,
     "metadata": {},
     "output_type": "execute_result"
    },
    {
     "name": "stdout",
     "output_type": "stream",
     "text": [
      "Stop Chasing the ?False Summit? with Michael Hyatt | BiggerPockets Podcast 451\n",
      "N2Ro33Hep18\n",
      "7,052 views\n",
      "2 years ago\n"
     ]
    },
    {
     "data": {
      "text/plain": [
       "118"
      ]
     },
     "execution_count": 37,
     "metadata": {},
     "output_type": "execute_result"
    },
    {
     "name": "stdout",
     "output_type": "stream",
     "text": [
      "Top 5 Tips for a Smooth and Stress-Free Home Sale | Daily Podcast\n",
      "BfSNIMXo0q8\n",
      "1,784 views\n",
      "2 years ago\n"
     ]
    },
    {
     "data": {
      "text/plain": [
       "105"
      ]
     },
     "execution_count": 37,
     "metadata": {},
     "output_type": "execute_result"
    },
    {
     "name": "stdout",
     "output_type": "stream",
     "text": [
      "Rookie Reply: How Do I Analyze Short-Term Rentals?\n",
      "GG8dKrZnFmY\n",
      "23,244 views\n",
      "2 years ago\n"
     ]
    },
    {
     "data": {
      "text/plain": [
       "91"
      ]
     },
     "execution_count": 37,
     "metadata": {},
     "output_type": "execute_result"
    },
    {
     "name": "stdout",
     "output_type": "stream",
     "text": [
      "14 Markets Where Home Flippers Are Doubling Their Money | Daily Podcast\n",
      "pTdy2ng20No\n",
      "4,320 views\n",
      "2 years ago\n"
     ]
    },
    {
     "data": {
      "text/plain": [
       "111"
      ]
     },
     "execution_count": 37,
     "metadata": {},
     "output_type": "execute_result"
    },
    {
     "name": "stdout",
     "output_type": "stream",
     "text": [
      "Finance Friday: From $33k in Debt to $100k+ in Net Worth with Budget Girl | BP Money 178\n",
      "aG2-DRyVYys\n",
      "7,620 views\n",
      "2 years ago\n"
     ]
    },
    {
     "data": {
      "text/plain": [
       "128"
      ]
     },
     "execution_count": 37,
     "metadata": {},
     "output_type": "execute_result"
    },
    {
     "name": "stdout",
     "output_type": "stream",
     "text": [
      "Driving for Dollars: How to Find (and Buy!) Distressed Properties | Daily Podcast\n",
      "Ao1dXLnJdYI\n",
      "7,443 views\n",
      "2 years ago\n"
     ]
    },
    {
     "data": {
      "text/plain": [
       "121"
      ]
     },
     "execution_count": 37,
     "metadata": {},
     "output_type": "execute_result"
    },
    {
     "name": "stdout",
     "output_type": "stream",
     "text": [
      "How Your First Time Home Buying Decision Affects Long-Term Wealth | BiggerPockets Podcast 450\n",
      "uWVSyuiTBJo\n",
      "18,044 views\n",
      "2 years ago\n"
     ]
    },
    {
     "data": {
      "text/plain": [
       "134"
      ]
     },
     "execution_count": 37,
     "metadata": {},
     "output_type": "execute_result"
    },
    {
     "name": "stdout",
     "output_type": "stream",
     "text": [
      "5 Essential Property Maintenance Tasks To Keep Your Rental in Tip-Top Shape | Daily Podcast\n",
      "DoEibrVpb1g\n",
      "9,626 views\n",
      "2 years ago\n"
     ]
    },
    {
     "data": {
      "text/plain": [
       "131"
      ]
     },
     "execution_count": 37,
     "metadata": {},
     "output_type": "execute_result"
    },
    {
     "name": "stdout",
     "output_type": "stream",
     "text": [
      "Rookie First-Time Home Buyer Questions Answered by Scott and Mindy | Rookie Podcast 59\n",
      "dOIkAQv39MM\n",
      "7,388 views\n",
      "2 years ago\n"
     ]
    },
    {
     "data": {
      "text/plain": [
       "126"
      ]
     },
     "execution_count": 37,
     "metadata": {},
     "output_type": "execute_result"
    },
    {
     "name": "stdout",
     "output_type": "stream",
     "text": [
      "Build a Big Life, Not Just a Big Business with The Empire Building Podcast Hosts | BP Business 98\n",
      "jVMRGIsbjcE\n",
      "2,815 views\n",
      "2 years ago\n"
     ]
    },
    {
     "data": {
      "text/plain": [
       "139"
      ]
     },
     "execution_count": 37,
     "metadata": {},
     "output_type": "execute_result"
    },
    {
     "name": "stdout",
     "output_type": "stream",
     "text": [
      "How to Invest in Real Estate at a Long Distance\n",
      "ZRaZ2y15Pdg\n",
      "10,628 views\n",
      "2 years ago\n"
     ]
    },
    {
     "data": {
      "text/plain": [
       "88"
      ]
     },
     "execution_count": 37,
     "metadata": {},
     "output_type": "execute_result"
    },
    {
     "name": "stdout",
     "output_type": "stream",
     "text": [
      "Putting Yourself in the Best Financial Position as a First Time Home Buyer | BP Money 177\n",
      "Y0uVPN8cBmg\n",
      "8,247 views\n",
      "2 years ago\n"
     ]
    },
    {
     "data": {
      "text/plain": [
       "129"
      ]
     },
     "execution_count": 37,
     "metadata": {},
     "output_type": "execute_result"
    },
    {
     "name": "stdout",
     "output_type": "stream",
     "text": [
      "How Emails Are Constantly Destroying Your Productivity with Cal Newport | BiggerPockets Podcast 449\n",
      "I7s3etqz4vk\n",
      "6,077 views\n",
      "2 years ago\n"
     ]
    },
    {
     "data": {
      "text/plain": [
       "139"
      ]
     },
     "execution_count": 37,
     "metadata": {},
     "output_type": "execute_result"
    },
    {
     "name": "stdout",
     "output_type": "stream",
     "text": [
      "Rookie Reply: Doing The Work Yourself vs. Hiring Out | Rookie Podcast 58\n",
      "8rRBzxCSH2M\n",
      "3,969 views\n",
      "2 years ago\n"
     ]
    },
    {
     "data": {
      "text/plain": [
       "112"
      ]
     },
     "execution_count": 37,
     "metadata": {},
     "output_type": "execute_result"
    },
    {
     "name": "stdout",
     "output_type": "stream",
     "text": [
      "8 Reasons the Best Landlords Always E-Sign Rental Agreements | Daily Podcast\n",
      "yecllr4xozI\n",
      "5,250 views\n",
      "2 years ago\n"
     ]
    },
    {
     "data": {
      "text/plain": [
       "116"
      ]
     },
     "execution_count": 37,
     "metadata": {},
     "output_type": "execute_result"
    },
    {
     "name": "stdout",
     "output_type": "stream",
     "text": [
      "How to Grow Retirement Accounts Before Having Kids | Finance Friday with Steve | BP Money 176\n",
      "XEiqNpBQxu8\n",
      "2,900 views\n",
      "2 years ago\n"
     ]
    },
    {
     "data": {
      "text/plain": [
       "133"
      ]
     },
     "execution_count": 37,
     "metadata": {},
     "output_type": "execute_result"
    },
    {
     "name": "stdout",
     "output_type": "stream",
     "text": [
      "Should You Buy Properties With Back Taxes or Liens? | Daily Podcast\n",
      "-PNcUPkM3M8\n",
      "4,747 views\n",
      "2 years ago\n"
     ]
    },
    {
     "data": {
      "text/plain": [
       "107"
      ]
     },
     "execution_count": 37,
     "metadata": {},
     "output_type": "execute_result"
    },
    {
     "name": "stdout",
     "output_type": "stream",
     "text": [
      "The Lazy Person?s Guide to Financial Freedom in Less Than 10 Years | BiggerPockets Podcast 448\n",
      "slyMcNjnd3E\n",
      "157,721 views\n",
      "2 years ago\n"
     ]
    },
    {
     "data": {
      "text/plain": [
       "136"
      ]
     },
     "execution_count": 37,
     "metadata": {},
     "output_type": "execute_result"
    },
    {
     "name": "stdout",
     "output_type": "stream",
     "text": [
      "4 Golden Rules of Real Estate Investing | Daily Podcast\n",
      "pK9GuB6U_E8\n",
      "7,897 views\n",
      "2 years ago\n"
     ]
    },
    {
     "data": {
      "text/plain": [
       "95"
      ]
     },
     "execution_count": 37,
     "metadata": {},
     "output_type": "execute_result"
    },
    {
     "name": "stdout",
     "output_type": "stream",
     "text": [
      "Virtual Assistants, Roach Infestations, and Turnkey Companies with Maria Acosta | Rookie Podcast 57\n",
      "7vHn8ATpD-M\n",
      "7,371 views\n",
      "2 years ago\n"
     ]
    },
    {
     "data": {
      "text/plain": [
       "141"
      ]
     },
     "execution_count": 37,
     "metadata": {},
     "output_type": "execute_result"
    }
   ],
   "source": [
    "# store the data to CSV \n",
    "\n",
    "f = open(\"02_Results/BiggerPockets_url_list.csv\",\"w\")\n",
    "writer = csv.writer(f)\n",
    "header = ['title','ID',\"views\",\"publishedTime\"]\n",
    "x = -1\n",
    "writer.writerow(header)\n",
    "\n",
    "for video in videos:\n",
    "    print(video['title']['runs'][x+1]['text'].encode('cp850','replace').decode('cp850'))\n",
    "    print(video['videoId'].encode('cp850','replace').decode('cp850'))\n",
    "    print(video['viewCountText']['simpleText'].encode('cp850','replace').decode('cp850'))\n",
    "    print(video['publishedTimeText']['simpleText'].encode('cp850','replace').decode('cp850'))\n",
    "    \n",
    "    writer.writerow([video['title']['runs'][x+1]['text'].encode('cp850','replace').decode('cp850'), \n",
    "                   video['videoId'].encode('cp850','replace').decode('cp850'), \n",
    "                   video['viewCountText']['simpleText'].encode('cp850','replace').decode('cp850'),\n",
    "                   video['publishedTimeText']['simpleText'].encode('cp850','replace').decode('cp850')]);"
   ]
  },
  {
   "cell_type": "code",
   "execution_count": 38,
   "id": "6afb86ba",
   "metadata": {},
   "outputs": [
    {
     "data": {
      "text/plain": [
       "'7vHn8ATpD-M'"
      ]
     },
     "execution_count": 38,
     "metadata": {},
     "output_type": "execute_result"
    }
   ],
   "source": [
    "# test a single video\n",
    "video['videoId']\n",
    "\n",
    "# Testing to download comments from link\n",
    "downloader = YoutubeCommentDownloader()\n",
    "comments = downloader.get_comments_from_url('https://www.youtube.com/watch?v=Eklq6ximjI0', sort_by=SORT_BY_POPULAR)\n",
    "#https://www.youtube.com/watch?v=IVK5vQg1UvY\n",
    "\n",
    "# empty data frame\n",
    "comment_df = pd.DataFrame()\n",
    "\n",
    "# show first 10 comments by getting the first 10th items from generator object\n",
    "comments_top10 = itertools.islice(comments, 10)\n",
    "\n",
    "# convert generator object to pd.dataframe\n",
    "comments_top10df= pd.DataFrame(comments_top10)"
   ]
  },
  {
   "cell_type": "code",
   "execution_count": 39,
   "id": "19b8ccd4",
   "metadata": {},
   "outputs": [
    {
     "data": {
      "text/html": [
       "<div>\n",
       "<style scoped>\n",
       "    .dataframe tbody tr th:only-of-type {\n",
       "        vertical-align: middle;\n",
       "    }\n",
       "\n",
       "    .dataframe tbody tr th {\n",
       "        vertical-align: top;\n",
       "    }\n",
       "\n",
       "    .dataframe thead th {\n",
       "        text-align: right;\n",
       "    }\n",
       "</style>\n",
       "<table border=\"1\" class=\"dataframe\">\n",
       "  <thead>\n",
       "    <tr style=\"text-align: right;\">\n",
       "      <th></th>\n",
       "      <th>cid</th>\n",
       "      <th>text</th>\n",
       "      <th>time</th>\n",
       "      <th>author</th>\n",
       "      <th>channel</th>\n",
       "      <th>votes</th>\n",
       "      <th>photo</th>\n",
       "      <th>heart</th>\n",
       "      <th>reply</th>\n",
       "      <th>time_parsed</th>\n",
       "    </tr>\n",
       "  </thead>\n",
       "  <tbody>\n",
       "    <tr>\n",
       "      <th>0</th>\n",
       "      <td>Ugw3idsdnRqcsY0-twh4AaABAg</td>\n",
       "      <td>I respect the hustle from the guest but I woul...</td>\n",
       "      <td>4 months ago</td>\n",
       "      <td>@AutomotiveAnatomy</td>\n",
       "      <td>UCVy2MTmpifoQdkekgLo7D6w</td>\n",
       "      <td>35</td>\n",
       "      <td>https://yt3.ggpht.com/ytc/AIf8zZT870KN9TPf2cFG...</td>\n",
       "      <td>False</td>\n",
       "      <td>False</td>\n",
       "      <td>1.695086e+09</td>\n",
       "    </tr>\n",
       "    <tr>\n",
       "      <th>1</th>\n",
       "      <td>Ugy1HUr_7OJoaaXJ7hp4AaABAg</td>\n",
       "      <td>Your story is awesome! Your way of finding goo...</td>\n",
       "      <td>4 months ago</td>\n",
       "      <td>@DanKohan</td>\n",
       "      <td>UCJgGq3FJDRWHhyqNnan7s4g</td>\n",
       "      <td>3</td>\n",
       "      <td>https://yt3.ggpht.com/U_sjdFRL28wTalCvuFIfnixw...</td>\n",
       "      <td>False</td>\n",
       "      <td>False</td>\n",
       "      <td>1.695086e+09</td>\n",
       "    </tr>\n",
       "    <tr>\n",
       "      <th>2</th>\n",
       "      <td>UgzHqXEy8-rCiv2dP6B4AaABAg</td>\n",
       "      <td>Glad this is working out for her... for now. W...</td>\n",
       "      <td>4 months ago</td>\n",
       "      <td>@michaelmansour6326</td>\n",
       "      <td>UC3wYw9YhiJZpAvgyB6Rb7hQ</td>\n",
       "      <td>17</td>\n",
       "      <td>https://yt3.ggpht.com/ytc/AIf8zZT3u5OHaDKZylJz...</td>\n",
       "      <td>False</td>\n",
       "      <td>False</td>\n",
       "      <td>1.695086e+09</td>\n",
       "    </tr>\n",
       "    <tr>\n",
       "      <th>3</th>\n",
       "      <td>UgxlFtECnqvfn90UrQh4AaABAg</td>\n",
       "      <td>When it comes to investing at a distance I wou...</td>\n",
       "      <td>4 months ago</td>\n",
       "      <td>@dionmcneeley7859</td>\n",
       "      <td>UCTesYWEW-kot5aoBNHCsyiQ</td>\n",
       "      <td>10</td>\n",
       "      <td>https://yt3.ggpht.com/ytc/AIf8zZTE9oDg4aouz0CR...</td>\n",
       "      <td>False</td>\n",
       "      <td>False</td>\n",
       "      <td>1.695086e+09</td>\n",
       "    </tr>\n",
       "    <tr>\n",
       "      <th>4</th>\n",
       "      <td>UgyMJ7rD3tq01cR9r_Z4AaABAg</td>\n",
       "      <td>You are an inspiration to many people! Way to ...</td>\n",
       "      <td>4 months ago (edited)</td>\n",
       "      <td>@kampaninipot9846</td>\n",
       "      <td>UC7qTWEVf-LzZiQmeXn7llfA</td>\n",
       "      <td>3</td>\n",
       "      <td>https://yt3.ggpht.com/ytc/AIf8zZQBlHiw5frbVqH0...</td>\n",
       "      <td>False</td>\n",
       "      <td>False</td>\n",
       "      <td>1.695086e+09</td>\n",
       "    </tr>\n",
       "    <tr>\n",
       "      <th>5</th>\n",
       "      <td>UgxU472OmU3lkYHJWzN4AaABAg</td>\n",
       "      <td>Sounds like a recipe for disaster: two partner...</td>\n",
       "      <td>4 months ago (edited)</td>\n",
       "      <td>@tammyrussell-rice5508</td>\n",
       "      <td>UCwvmBi5mYzW8RB64IhoI4OA</td>\n",
       "      <td>13</td>\n",
       "      <td>https://yt3.ggpht.com/ytc/AIf8zZRbdVhvzxi61E7b...</td>\n",
       "      <td>False</td>\n",
       "      <td>False</td>\n",
       "      <td>1.695086e+09</td>\n",
       "    </tr>\n",
       "    <tr>\n",
       "      <th>6</th>\n",
       "      <td>Ugzw4hAKt9ZWdZuYRwd4AaABAg</td>\n",
       "      <td>I am new to the stock market. Every stock that...</td>\n",
       "      <td>3 months ago</td>\n",
       "      <td>@GregMunro</td>\n",
       "      <td>UCXo-JzbQfPvBL5YX9R774hA</td>\n",
       "      <td>11</td>\n",
       "      <td>https://yt3.ggpht.com/r1BJ9EU2z5irfr8-ClEf7_-I...</td>\n",
       "      <td>False</td>\n",
       "      <td>False</td>\n",
       "      <td>1.697678e+09</td>\n",
       "    </tr>\n",
       "    <tr>\n",
       "      <th>7</th>\n",
       "      <td>Ugz0uSt0-4eqxEgfna94AaABAg</td>\n",
       "      <td>Transfer of wealth usually occur during market...</td>\n",
       "      <td>2 months ago</td>\n",
       "      <td>@AlinaLopez-vz9qp</td>\n",
       "      <td>UC8ql0Ib2du_0Cv6Q4vco5aw</td>\n",
       "      <td>5</td>\n",
       "      <td>https://yt3.ggpht.com/ytc/AIf8zZRTvmREYFucHwLQ...</td>\n",
       "      <td>False</td>\n",
       "      <td>False</td>\n",
       "      <td>1.700360e+09</td>\n",
       "    </tr>\n",
       "    <tr>\n",
       "      <th>8</th>\n",
       "      <td>Ugw2fQ2aXwXeNYCdtVt4AaABAg</td>\n",
       "      <td>Rob really makes these easy to watch despite t...</td>\n",
       "      <td>4 months ago</td>\n",
       "      <td>@carolinewolaver5590</td>\n",
       "      <td>UCAeftmVOyVTWFs71leeSC8g</td>\n",
       "      <td>2</td>\n",
       "      <td>https://yt3.ggpht.com/ytc/AIf8zZSyDz1YiTZayDyN...</td>\n",
       "      <td>False</td>\n",
       "      <td>False</td>\n",
       "      <td>1.695086e+09</td>\n",
       "    </tr>\n",
       "    <tr>\n",
       "      <th>9</th>\n",
       "      <td>Ugz0lakik8tdp96KV414AaABAg</td>\n",
       "      <td>Is the real estate going to continue to perfor...</td>\n",
       "      <td>2 months ago</td>\n",
       "      <td>@Giftock</td>\n",
       "      <td>UCyQ2OyCEtvytbP6CkcUQn9w</td>\n",
       "      <td>0</td>\n",
       "      <td>https://yt3.ggpht.com/EhHgSiu8oxCcDDDRrW0l1gHZ...</td>\n",
       "      <td>False</td>\n",
       "      <td>False</td>\n",
       "      <td>1.700360e+09</td>\n",
       "    </tr>\n",
       "  </tbody>\n",
       "</table>\n",
       "</div>"
      ],
      "text/plain": [
       "                          cid  \\\n",
       "0  Ugw3idsdnRqcsY0-twh4AaABAg   \n",
       "1  Ugy1HUr_7OJoaaXJ7hp4AaABAg   \n",
       "2  UgzHqXEy8-rCiv2dP6B4AaABAg   \n",
       "3  UgxlFtECnqvfn90UrQh4AaABAg   \n",
       "4  UgyMJ7rD3tq01cR9r_Z4AaABAg   \n",
       "5  UgxU472OmU3lkYHJWzN4AaABAg   \n",
       "6  Ugzw4hAKt9ZWdZuYRwd4AaABAg   \n",
       "7  Ugz0uSt0-4eqxEgfna94AaABAg   \n",
       "8  Ugw2fQ2aXwXeNYCdtVt4AaABAg   \n",
       "9  Ugz0lakik8tdp96KV414AaABAg   \n",
       "\n",
       "                                                text                   time  \\\n",
       "0  I respect the hustle from the guest but I woul...           4 months ago   \n",
       "1  Your story is awesome! Your way of finding goo...           4 months ago   \n",
       "2  Glad this is working out for her... for now. W...           4 months ago   \n",
       "3  When it comes to investing at a distance I wou...           4 months ago   \n",
       "4  You are an inspiration to many people! Way to ...  4 months ago (edited)   \n",
       "5  Sounds like a recipe for disaster: two partner...  4 months ago (edited)   \n",
       "6  I am new to the stock market. Every stock that...           3 months ago   \n",
       "7  Transfer of wealth usually occur during market...           2 months ago   \n",
       "8  Rob really makes these easy to watch despite t...           4 months ago   \n",
       "9  Is the real estate going to continue to perfor...           2 months ago   \n",
       "\n",
       "                   author                   channel votes  \\\n",
       "0      @AutomotiveAnatomy  UCVy2MTmpifoQdkekgLo7D6w    35   \n",
       "1               @DanKohan  UCJgGq3FJDRWHhyqNnan7s4g     3   \n",
       "2     @michaelmansour6326  UC3wYw9YhiJZpAvgyB6Rb7hQ    17   \n",
       "3       @dionmcneeley7859  UCTesYWEW-kot5aoBNHCsyiQ    10   \n",
       "4       @kampaninipot9846  UC7qTWEVf-LzZiQmeXn7llfA     3   \n",
       "5  @tammyrussell-rice5508  UCwvmBi5mYzW8RB64IhoI4OA    13   \n",
       "6              @GregMunro  UCXo-JzbQfPvBL5YX9R774hA    11   \n",
       "7       @AlinaLopez-vz9qp  UC8ql0Ib2du_0Cv6Q4vco5aw     5   \n",
       "8    @carolinewolaver5590  UCAeftmVOyVTWFs71leeSC8g     2   \n",
       "9                @Giftock  UCyQ2OyCEtvytbP6CkcUQn9w     0   \n",
       "\n",
       "                                               photo  heart  reply  \\\n",
       "0  https://yt3.ggpht.com/ytc/AIf8zZT870KN9TPf2cFG...  False  False   \n",
       "1  https://yt3.ggpht.com/U_sjdFRL28wTalCvuFIfnixw...  False  False   \n",
       "2  https://yt3.ggpht.com/ytc/AIf8zZT3u5OHaDKZylJz...  False  False   \n",
       "3  https://yt3.ggpht.com/ytc/AIf8zZTE9oDg4aouz0CR...  False  False   \n",
       "4  https://yt3.ggpht.com/ytc/AIf8zZQBlHiw5frbVqH0...  False  False   \n",
       "5  https://yt3.ggpht.com/ytc/AIf8zZRbdVhvzxi61E7b...  False  False   \n",
       "6  https://yt3.ggpht.com/r1BJ9EU2z5irfr8-ClEf7_-I...  False  False   \n",
       "7  https://yt3.ggpht.com/ytc/AIf8zZRTvmREYFucHwLQ...  False  False   \n",
       "8  https://yt3.ggpht.com/ytc/AIf8zZSyDz1YiTZayDyN...  False  False   \n",
       "9  https://yt3.ggpht.com/EhHgSiu8oxCcDDDRrW0l1gHZ...  False  False   \n",
       "\n",
       "    time_parsed  \n",
       "0  1.695086e+09  \n",
       "1  1.695086e+09  \n",
       "2  1.695086e+09  \n",
       "3  1.695086e+09  \n",
       "4  1.695086e+09  \n",
       "5  1.695086e+09  \n",
       "6  1.697678e+09  \n",
       "7  1.700360e+09  \n",
       "8  1.695086e+09  \n",
       "9  1.700360e+09  "
      ]
     },
     "execution_count": 39,
     "metadata": {},
     "output_type": "execute_result"
    }
   ],
   "source": [
    "comments_top10df"
   ]
  },
  {
   "cell_type": "code",
   "execution_count": 4,
   "id": "ee14a926",
   "metadata": {},
   "outputs": [],
   "source": [
    "### 2. Loop through the videos to get comments and polarity index ###"
   ]
  },
  {
   "cell_type": "code",
   "execution_count": 40,
   "id": "6504e670",
   "metadata": {},
   "outputs": [],
   "source": [
    "# create an empty list to store comment polarity for each video \n",
    "pol_list = []"
   ]
  },
  {
   "cell_type": "code",
   "execution_count": 41,
   "id": "4c6ae5bf",
   "metadata": {},
   "outputs": [
    {
     "name": "stderr",
     "output_type": "stream",
     "text": [
      "[nltk_data] Downloading package stopwords to\n",
      "[nltk_data]     C:\\Users\\marvi\\AppData\\Roaming\\nltk_data...\n",
      "[nltk_data]   Package stopwords is already up-to-date!\n"
     ]
    },
    {
     "data": {
      "text/plain": [
       "True"
      ]
     },
     "execution_count": 41,
     "metadata": {},
     "output_type": "execute_result"
    },
    {
     "name": "stdout",
     "output_type": "stream",
     "text": [
      "[]\n"
     ]
    }
   ],
   "source": [
    "# download the stopwords package required for downstream:\n",
    "nltk.download('stopwords')\n",
    "\n",
    "#print(video['videoId'])\n",
    "print(pol_list)"
   ]
  },
  {
   "cell_type": "code",
   "execution_count": 43,
   "id": "e1809c79",
   "metadata": {},
   "outputs": [],
   "source": [
    "# loop through all videos \n",
    "\n",
    "for video in videos: \n",
    "    \n",
    "    # step 1. download comments from link \n",
    "    \n",
    "        downloader = YoutubeCommentDownloader()\n",
    "        str1=\"https://www.youtube.com/watch?v=\"+str(video['videoId'])\n",
    "        comments = downloader.get_comments_from_url(str1, sort_by=SORT_BY_POPULAR)\n",
    "\n",
    "        # Look at the first 50 comments\n",
    "        comments_top50 = itertools.islice(comments, 50)\n",
    "        comments_top50df= pd.DataFrame(comments_top50)\n",
    "\n",
    "    # step 2. clean data \n",
    "        # remove punctuation:\n",
    "        comments_top50df['text'] = comments_top50df['text'].str.replace('[^\\w\\s]','')\n",
    "\n",
    "        # remove emoji\n",
    "        # REFERENCE : https://gist.github.com/slowkow/7a7f61f495e3dbb7e3d767f97bd7304b\n",
    "        def remove_emoji(string):\n",
    "            emoji_pattern = re.compile(\"[\"\n",
    "                                       u\"\\U0001F600-\\U0001F64F\"  # emoticons\n",
    "                                       u\"\\U0001F300-\\U0001F5FF\"  # symbols & pictographs\n",
    "                                       u\"\\U0001F680-\\U0001F6FF\"  # transport & map symbols\n",
    "                                       u\"\\U0001F1E0-\\U0001F1FF\"  # flags (iOS)\n",
    "                                       u\"\\U00002500-\\U00002BEF\"  # chinese char\n",
    "                                       u\"\\U00002702-\\U000027B0\"\n",
    "                                       u\"\\U00002702-\\U000027B0\"\n",
    "                                       u\"\\U000024C2-\\U0001F251\"\n",
    "                                       u\"\\U0001f926-\\U0001f937\"\n",
    "                                       u\"\\U00010000-\\U0010ffff\"\n",
    "                                       u\"\\u2640-\\u2642\"\n",
    "                                       u\"\\u2600-\\u2B55\"\n",
    "                                       u\"\\u200d\"\n",
    "                                       u\"\\u23cf\"\n",
    "                                       u\"\\u23e9\"\n",
    "                                       u\"\\u231a\"\n",
    "                                       u\"\\ufe0f\"  # dingbats\n",
    "                                       u\"\\u3030\"\n",
    "                                       \"]+\", flags=re.UNICODE)\n",
    "            return emoji_pattern.sub(r'', string)\n",
    "\n",
    "        comments_top50df['text'] = comments_top50df['text'].apply(lambda x: remove_emoji(x))\n",
    "        \n",
    "        #still have stopwords\n",
    "\n",
    "        stop = stopwords.words('english')\n",
    "        comments_top50df['text'] = comments_top50df['text'].apply(lambda x: \" \".join(x for x in x.split() if x not in stop))\n",
    "\n",
    "        # lemmatization using Spacy \n",
    "        # initialize Spacy ‘en’ model, same way for single video analysis \n",
    "        nlp = spacy.load(\"en_core_web_sm\", disable=['parser', 'ner'])\n",
    "\n",
    "        def space(comment):\n",
    "            doc = nlp(comment)\n",
    "            return \" \".join([token.lemma_ for token in doc])\n",
    "\n",
    "        comments_top50df['text'] = comments_top50df['text'].apply(space)\n",
    "\n",
    "        # remove rows without text  \n",
    "        comments_top50df['text'].replace('', np.nan, inplace=True)\n",
    "        comments_top50df.dropna(subset=['text'], inplace=True)\n",
    "\n",
    "    #step 3. Calculating Sentiment polarity for each comment\n",
    "\n",
    "        pol=[str(video['videoId'])] # list which will contain the polarity of the comments\n",
    "        # start the list with video ID\n",
    "        \n",
    "        for i in comments_top50df['text']:\n",
    "            try:\n",
    "                analysis =TextBlob(i)\n",
    "                pol.append(analysis.sentiment.polarity)\n",
    "\n",
    "            except:\n",
    "                pol.append(0)\n",
    "                \n",
    "        # adding polarity to df\n",
    "        pol_list.append(pol)\n",
    "        \n",
    "        # save as the loop keeps going\n",
    "        np.savetxt(\"02_Results/looping_polarity_allvideos.csv\",\n",
    "        pol_list,\n",
    "        delimiter =\", \",\n",
    "        fmt ='% s')"
   ]
  },
  {
   "cell_type": "code",
   "execution_count": 5,
   "id": "581f592f",
   "metadata": {},
   "outputs": [],
   "source": [
    "### 3. Data visualization ###"
   ]
  },
  {
   "cell_type": "code",
   "execution_count": 44,
   "id": "52b3b4ee",
   "metadata": {},
   "outputs": [
    {
     "ename": "FileNotFoundError",
     "evalue": "[Errno 2] No such file or directory: '02_Results/looping_polarity_allvideos.csv'",
     "output_type": "error",
     "traceback": [
      "\u001b[1;31m---------------------------------------------------------------------------\u001b[0m",
      "\u001b[1;31mFileNotFoundError\u001b[0m                         Traceback (most recent call last)",
      "Cell \u001b[1;32mIn[44], line 2\u001b[0m\n\u001b[0;32m      1\u001b[0m \u001b[38;5;66;03m# read in the top 50 comment polarity results\u001b[39;00m\n\u001b[1;32m----> 2\u001b[0m pol_df \u001b[38;5;241m=\u001b[39m \u001b[43mpd\u001b[49m\u001b[38;5;241;43m.\u001b[39;49m\u001b[43mread_csv\u001b[49m\u001b[43m(\u001b[49m\u001b[38;5;124;43m\"\u001b[39;49m\u001b[38;5;124;43m02_Results/looping_polarity_allvideos.csv\u001b[39;49m\u001b[38;5;124;43m\"\u001b[39;49m\u001b[43m)\u001b[49m \n\u001b[0;32m      3\u001b[0m pol_df\u001b[38;5;241m.\u001b[39mhead()\n",
      "File \u001b[1;32m~\\anaconda3\\lib\\site-packages\\pandas\\util\\_decorators.py:211\u001b[0m, in \u001b[0;36mdeprecate_kwarg.<locals>._deprecate_kwarg.<locals>.wrapper\u001b[1;34m(*args, **kwargs)\u001b[0m\n\u001b[0;32m    209\u001b[0m     \u001b[38;5;28;01melse\u001b[39;00m:\n\u001b[0;32m    210\u001b[0m         kwargs[new_arg_name] \u001b[38;5;241m=\u001b[39m new_arg_value\n\u001b[1;32m--> 211\u001b[0m \u001b[38;5;28;01mreturn\u001b[39;00m func(\u001b[38;5;241m*\u001b[39margs, \u001b[38;5;241m*\u001b[39m\u001b[38;5;241m*\u001b[39mkwargs)\n",
      "File \u001b[1;32m~\\anaconda3\\lib\\site-packages\\pandas\\util\\_decorators.py:331\u001b[0m, in \u001b[0;36mdeprecate_nonkeyword_arguments.<locals>.decorate.<locals>.wrapper\u001b[1;34m(*args, **kwargs)\u001b[0m\n\u001b[0;32m    325\u001b[0m \u001b[38;5;28;01mif\u001b[39;00m \u001b[38;5;28mlen\u001b[39m(args) \u001b[38;5;241m>\u001b[39m num_allow_args:\n\u001b[0;32m    326\u001b[0m     warnings\u001b[38;5;241m.\u001b[39mwarn(\n\u001b[0;32m    327\u001b[0m         msg\u001b[38;5;241m.\u001b[39mformat(arguments\u001b[38;5;241m=\u001b[39m_format_argument_list(allow_args)),\n\u001b[0;32m    328\u001b[0m         \u001b[38;5;167;01mFutureWarning\u001b[39;00m,\n\u001b[0;32m    329\u001b[0m         stacklevel\u001b[38;5;241m=\u001b[39mfind_stack_level(),\n\u001b[0;32m    330\u001b[0m     )\n\u001b[1;32m--> 331\u001b[0m \u001b[38;5;28;01mreturn\u001b[39;00m func(\u001b[38;5;241m*\u001b[39margs, \u001b[38;5;241m*\u001b[39m\u001b[38;5;241m*\u001b[39mkwargs)\n",
      "File \u001b[1;32m~\\anaconda3\\lib\\site-packages\\pandas\\io\\parsers\\readers.py:950\u001b[0m, in \u001b[0;36mread_csv\u001b[1;34m(filepath_or_buffer, sep, delimiter, header, names, index_col, usecols, squeeze, prefix, mangle_dupe_cols, dtype, engine, converters, true_values, false_values, skipinitialspace, skiprows, skipfooter, nrows, na_values, keep_default_na, na_filter, verbose, skip_blank_lines, parse_dates, infer_datetime_format, keep_date_col, date_parser, dayfirst, cache_dates, iterator, chunksize, compression, thousands, decimal, lineterminator, quotechar, quoting, doublequote, escapechar, comment, encoding, encoding_errors, dialect, error_bad_lines, warn_bad_lines, on_bad_lines, delim_whitespace, low_memory, memory_map, float_precision, storage_options)\u001b[0m\n\u001b[0;32m    935\u001b[0m kwds_defaults \u001b[38;5;241m=\u001b[39m _refine_defaults_read(\n\u001b[0;32m    936\u001b[0m     dialect,\n\u001b[0;32m    937\u001b[0m     delimiter,\n\u001b[1;32m   (...)\u001b[0m\n\u001b[0;32m    946\u001b[0m     defaults\u001b[38;5;241m=\u001b[39m{\u001b[38;5;124m\"\u001b[39m\u001b[38;5;124mdelimiter\u001b[39m\u001b[38;5;124m\"\u001b[39m: \u001b[38;5;124m\"\u001b[39m\u001b[38;5;124m,\u001b[39m\u001b[38;5;124m\"\u001b[39m},\n\u001b[0;32m    947\u001b[0m )\n\u001b[0;32m    948\u001b[0m kwds\u001b[38;5;241m.\u001b[39mupdate(kwds_defaults)\n\u001b[1;32m--> 950\u001b[0m \u001b[38;5;28;01mreturn\u001b[39;00m \u001b[43m_read\u001b[49m\u001b[43m(\u001b[49m\u001b[43mfilepath_or_buffer\u001b[49m\u001b[43m,\u001b[49m\u001b[43m \u001b[49m\u001b[43mkwds\u001b[49m\u001b[43m)\u001b[49m\n",
      "File \u001b[1;32m~\\anaconda3\\lib\\site-packages\\pandas\\io\\parsers\\readers.py:605\u001b[0m, in \u001b[0;36m_read\u001b[1;34m(filepath_or_buffer, kwds)\u001b[0m\n\u001b[0;32m    602\u001b[0m _validate_names(kwds\u001b[38;5;241m.\u001b[39mget(\u001b[38;5;124m\"\u001b[39m\u001b[38;5;124mnames\u001b[39m\u001b[38;5;124m\"\u001b[39m, \u001b[38;5;28;01mNone\u001b[39;00m))\n\u001b[0;32m    604\u001b[0m \u001b[38;5;66;03m# Create the parser.\u001b[39;00m\n\u001b[1;32m--> 605\u001b[0m parser \u001b[38;5;241m=\u001b[39m TextFileReader(filepath_or_buffer, \u001b[38;5;241m*\u001b[39m\u001b[38;5;241m*\u001b[39mkwds)\n\u001b[0;32m    607\u001b[0m \u001b[38;5;28;01mif\u001b[39;00m chunksize \u001b[38;5;129;01mor\u001b[39;00m iterator:\n\u001b[0;32m    608\u001b[0m     \u001b[38;5;28;01mreturn\u001b[39;00m parser\n",
      "File \u001b[1;32m~\\anaconda3\\lib\\site-packages\\pandas\\io\\parsers\\readers.py:1442\u001b[0m, in \u001b[0;36mTextFileReader.__init__\u001b[1;34m(self, f, engine, **kwds)\u001b[0m\n\u001b[0;32m   1439\u001b[0m     \u001b[38;5;28mself\u001b[39m\u001b[38;5;241m.\u001b[39moptions[\u001b[38;5;124m\"\u001b[39m\u001b[38;5;124mhas_index_names\u001b[39m\u001b[38;5;124m\"\u001b[39m] \u001b[38;5;241m=\u001b[39m kwds[\u001b[38;5;124m\"\u001b[39m\u001b[38;5;124mhas_index_names\u001b[39m\u001b[38;5;124m\"\u001b[39m]\n\u001b[0;32m   1441\u001b[0m \u001b[38;5;28mself\u001b[39m\u001b[38;5;241m.\u001b[39mhandles: IOHandles \u001b[38;5;241m|\u001b[39m \u001b[38;5;28;01mNone\u001b[39;00m \u001b[38;5;241m=\u001b[39m \u001b[38;5;28;01mNone\u001b[39;00m\n\u001b[1;32m-> 1442\u001b[0m \u001b[38;5;28mself\u001b[39m\u001b[38;5;241m.\u001b[39m_engine \u001b[38;5;241m=\u001b[39m \u001b[38;5;28;43mself\u001b[39;49m\u001b[38;5;241;43m.\u001b[39;49m\u001b[43m_make_engine\u001b[49m\u001b[43m(\u001b[49m\u001b[43mf\u001b[49m\u001b[43m,\u001b[49m\u001b[43m \u001b[49m\u001b[38;5;28;43mself\u001b[39;49m\u001b[38;5;241;43m.\u001b[39;49m\u001b[43mengine\u001b[49m\u001b[43m)\u001b[49m\n",
      "File \u001b[1;32m~\\anaconda3\\lib\\site-packages\\pandas\\io\\parsers\\readers.py:1735\u001b[0m, in \u001b[0;36mTextFileReader._make_engine\u001b[1;34m(self, f, engine)\u001b[0m\n\u001b[0;32m   1733\u001b[0m     \u001b[38;5;28;01mif\u001b[39;00m \u001b[38;5;124m\"\u001b[39m\u001b[38;5;124mb\u001b[39m\u001b[38;5;124m\"\u001b[39m \u001b[38;5;129;01mnot\u001b[39;00m \u001b[38;5;129;01min\u001b[39;00m mode:\n\u001b[0;32m   1734\u001b[0m         mode \u001b[38;5;241m+\u001b[39m\u001b[38;5;241m=\u001b[39m \u001b[38;5;124m\"\u001b[39m\u001b[38;5;124mb\u001b[39m\u001b[38;5;124m\"\u001b[39m\n\u001b[1;32m-> 1735\u001b[0m \u001b[38;5;28mself\u001b[39m\u001b[38;5;241m.\u001b[39mhandles \u001b[38;5;241m=\u001b[39m \u001b[43mget_handle\u001b[49m\u001b[43m(\u001b[49m\n\u001b[0;32m   1736\u001b[0m \u001b[43m    \u001b[49m\u001b[43mf\u001b[49m\u001b[43m,\u001b[49m\n\u001b[0;32m   1737\u001b[0m \u001b[43m    \u001b[49m\u001b[43mmode\u001b[49m\u001b[43m,\u001b[49m\n\u001b[0;32m   1738\u001b[0m \u001b[43m    \u001b[49m\u001b[43mencoding\u001b[49m\u001b[38;5;241;43m=\u001b[39;49m\u001b[38;5;28;43mself\u001b[39;49m\u001b[38;5;241;43m.\u001b[39;49m\u001b[43moptions\u001b[49m\u001b[38;5;241;43m.\u001b[39;49m\u001b[43mget\u001b[49m\u001b[43m(\u001b[49m\u001b[38;5;124;43m\"\u001b[39;49m\u001b[38;5;124;43mencoding\u001b[39;49m\u001b[38;5;124;43m\"\u001b[39;49m\u001b[43m,\u001b[49m\u001b[43m \u001b[49m\u001b[38;5;28;43;01mNone\u001b[39;49;00m\u001b[43m)\u001b[49m\u001b[43m,\u001b[49m\n\u001b[0;32m   1739\u001b[0m \u001b[43m    \u001b[49m\u001b[43mcompression\u001b[49m\u001b[38;5;241;43m=\u001b[39;49m\u001b[38;5;28;43mself\u001b[39;49m\u001b[38;5;241;43m.\u001b[39;49m\u001b[43moptions\u001b[49m\u001b[38;5;241;43m.\u001b[39;49m\u001b[43mget\u001b[49m\u001b[43m(\u001b[49m\u001b[38;5;124;43m\"\u001b[39;49m\u001b[38;5;124;43mcompression\u001b[39;49m\u001b[38;5;124;43m\"\u001b[39;49m\u001b[43m,\u001b[49m\u001b[43m \u001b[49m\u001b[38;5;28;43;01mNone\u001b[39;49;00m\u001b[43m)\u001b[49m\u001b[43m,\u001b[49m\n\u001b[0;32m   1740\u001b[0m \u001b[43m    \u001b[49m\u001b[43mmemory_map\u001b[49m\u001b[38;5;241;43m=\u001b[39;49m\u001b[38;5;28;43mself\u001b[39;49m\u001b[38;5;241;43m.\u001b[39;49m\u001b[43moptions\u001b[49m\u001b[38;5;241;43m.\u001b[39;49m\u001b[43mget\u001b[49m\u001b[43m(\u001b[49m\u001b[38;5;124;43m\"\u001b[39;49m\u001b[38;5;124;43mmemory_map\u001b[39;49m\u001b[38;5;124;43m\"\u001b[39;49m\u001b[43m,\u001b[49m\u001b[43m \u001b[49m\u001b[38;5;28;43;01mFalse\u001b[39;49;00m\u001b[43m)\u001b[49m\u001b[43m,\u001b[49m\n\u001b[0;32m   1741\u001b[0m \u001b[43m    \u001b[49m\u001b[43mis_text\u001b[49m\u001b[38;5;241;43m=\u001b[39;49m\u001b[43mis_text\u001b[49m\u001b[43m,\u001b[49m\n\u001b[0;32m   1742\u001b[0m \u001b[43m    \u001b[49m\u001b[43merrors\u001b[49m\u001b[38;5;241;43m=\u001b[39;49m\u001b[38;5;28;43mself\u001b[39;49m\u001b[38;5;241;43m.\u001b[39;49m\u001b[43moptions\u001b[49m\u001b[38;5;241;43m.\u001b[39;49m\u001b[43mget\u001b[49m\u001b[43m(\u001b[49m\u001b[38;5;124;43m\"\u001b[39;49m\u001b[38;5;124;43mencoding_errors\u001b[39;49m\u001b[38;5;124;43m\"\u001b[39;49m\u001b[43m,\u001b[49m\u001b[43m \u001b[49m\u001b[38;5;124;43m\"\u001b[39;49m\u001b[38;5;124;43mstrict\u001b[39;49m\u001b[38;5;124;43m\"\u001b[39;49m\u001b[43m)\u001b[49m\u001b[43m,\u001b[49m\n\u001b[0;32m   1743\u001b[0m \u001b[43m    \u001b[49m\u001b[43mstorage_options\u001b[49m\u001b[38;5;241;43m=\u001b[39;49m\u001b[38;5;28;43mself\u001b[39;49m\u001b[38;5;241;43m.\u001b[39;49m\u001b[43moptions\u001b[49m\u001b[38;5;241;43m.\u001b[39;49m\u001b[43mget\u001b[49m\u001b[43m(\u001b[49m\u001b[38;5;124;43m\"\u001b[39;49m\u001b[38;5;124;43mstorage_options\u001b[39;49m\u001b[38;5;124;43m\"\u001b[39;49m\u001b[43m,\u001b[49m\u001b[43m \u001b[49m\u001b[38;5;28;43;01mNone\u001b[39;49;00m\u001b[43m)\u001b[49m\u001b[43m,\u001b[49m\n\u001b[0;32m   1744\u001b[0m \u001b[43m\u001b[49m\u001b[43m)\u001b[49m\n\u001b[0;32m   1745\u001b[0m \u001b[38;5;28;01massert\u001b[39;00m \u001b[38;5;28mself\u001b[39m\u001b[38;5;241m.\u001b[39mhandles \u001b[38;5;129;01mis\u001b[39;00m \u001b[38;5;129;01mnot\u001b[39;00m \u001b[38;5;28;01mNone\u001b[39;00m\n\u001b[0;32m   1746\u001b[0m f \u001b[38;5;241m=\u001b[39m \u001b[38;5;28mself\u001b[39m\u001b[38;5;241m.\u001b[39mhandles\u001b[38;5;241m.\u001b[39mhandle\n",
      "File \u001b[1;32m~\\anaconda3\\lib\\site-packages\\pandas\\io\\common.py:856\u001b[0m, in \u001b[0;36mget_handle\u001b[1;34m(path_or_buf, mode, encoding, compression, memory_map, is_text, errors, storage_options)\u001b[0m\n\u001b[0;32m    851\u001b[0m \u001b[38;5;28;01melif\u001b[39;00m \u001b[38;5;28misinstance\u001b[39m(handle, \u001b[38;5;28mstr\u001b[39m):\n\u001b[0;32m    852\u001b[0m     \u001b[38;5;66;03m# Check whether the filename is to be opened in binary mode.\u001b[39;00m\n\u001b[0;32m    853\u001b[0m     \u001b[38;5;66;03m# Binary mode does not support 'encoding' and 'newline'.\u001b[39;00m\n\u001b[0;32m    854\u001b[0m     \u001b[38;5;28;01mif\u001b[39;00m ioargs\u001b[38;5;241m.\u001b[39mencoding \u001b[38;5;129;01mand\u001b[39;00m \u001b[38;5;124m\"\u001b[39m\u001b[38;5;124mb\u001b[39m\u001b[38;5;124m\"\u001b[39m \u001b[38;5;129;01mnot\u001b[39;00m \u001b[38;5;129;01min\u001b[39;00m ioargs\u001b[38;5;241m.\u001b[39mmode:\n\u001b[0;32m    855\u001b[0m         \u001b[38;5;66;03m# Encoding\u001b[39;00m\n\u001b[1;32m--> 856\u001b[0m         handle \u001b[38;5;241m=\u001b[39m \u001b[38;5;28;43mopen\u001b[39;49m\u001b[43m(\u001b[49m\n\u001b[0;32m    857\u001b[0m \u001b[43m            \u001b[49m\u001b[43mhandle\u001b[49m\u001b[43m,\u001b[49m\n\u001b[0;32m    858\u001b[0m \u001b[43m            \u001b[49m\u001b[43mioargs\u001b[49m\u001b[38;5;241;43m.\u001b[39;49m\u001b[43mmode\u001b[49m\u001b[43m,\u001b[49m\n\u001b[0;32m    859\u001b[0m \u001b[43m            \u001b[49m\u001b[43mencoding\u001b[49m\u001b[38;5;241;43m=\u001b[39;49m\u001b[43mioargs\u001b[49m\u001b[38;5;241;43m.\u001b[39;49m\u001b[43mencoding\u001b[49m\u001b[43m,\u001b[49m\n\u001b[0;32m    860\u001b[0m \u001b[43m            \u001b[49m\u001b[43merrors\u001b[49m\u001b[38;5;241;43m=\u001b[39;49m\u001b[43merrors\u001b[49m\u001b[43m,\u001b[49m\n\u001b[0;32m    861\u001b[0m \u001b[43m            \u001b[49m\u001b[43mnewline\u001b[49m\u001b[38;5;241;43m=\u001b[39;49m\u001b[38;5;124;43m\"\u001b[39;49m\u001b[38;5;124;43m\"\u001b[39;49m\u001b[43m,\u001b[49m\n\u001b[0;32m    862\u001b[0m \u001b[43m        \u001b[49m\u001b[43m)\u001b[49m\n\u001b[0;32m    863\u001b[0m     \u001b[38;5;28;01melse\u001b[39;00m:\n\u001b[0;32m    864\u001b[0m         \u001b[38;5;66;03m# Binary mode\u001b[39;00m\n\u001b[0;32m    865\u001b[0m         handle \u001b[38;5;241m=\u001b[39m \u001b[38;5;28mopen\u001b[39m(handle, ioargs\u001b[38;5;241m.\u001b[39mmode)\n",
      "\u001b[1;31mFileNotFoundError\u001b[0m: [Errno 2] No such file or directory: '02_Results/looping_polarity_allvideos.csv'"
     ]
    }
   ],
   "source": [
    "# read in the top 50 comment polarity results\n",
    "pol_df = pd.read_csv(\"02_Results/looping_polarity_allvideos.csv\") \n",
    "pol_df.head()"
   ]
  },
  {
   "cell_type": "code",
   "execution_count": null,
   "id": "6319bfa5",
   "metadata": {},
   "outputs": [],
   "source": [
    " # read in the video ID numbers, titles, and published time \n",
    "video_df = pd.read_csv(\"02_Results/OutdoorChefLife_url_list_allvideos.csv\")\n",
    "video_df.head()"
   ]
  },
  {
   "cell_type": "code",
   "execution_count": null,
   "id": "5ecceee1",
   "metadata": {},
   "outputs": [],
   "source": [
    "# join the two data fram based on ID \n",
    "video_pol_df= pd.merge( video_df,pol_df, on=\"ID\")\n",
    "video_pol_df.head()"
   ]
  },
  {
   "cell_type": "code",
   "execution_count": null,
   "id": "7bc74d03",
   "metadata": {},
   "outputs": [],
   "source": [
    "# replace the dollar sign $ with USD in the title, otherwise it will cause bugs in plotting \n",
    "video_pol_df['title'] = video_pol_df['title'].str.replace(\"$\", \"USD\")"
   ]
  },
  {
   "cell_type": "code",
   "execution_count": null,
   "id": "dda655da",
   "metadata": {},
   "outputs": [],
   "source": [
    "# now make a new video_seq column \n",
    "video_pol_df[\"Video_seq\"] = np.arange(1, len(video_pol_df[\"Video_seq\"])+1,1)"
   ]
  },
  {
   "cell_type": "code",
   "execution_count": null,
   "id": "399edd46",
   "metadata": {},
   "outputs": [],
   "source": [
    "# Make a new column \"Video_seq\" + \"Title\"\n",
    "video_pol_df['seq_title'] =  \"No.\"+ video_pol_df['Video_seq'].astype(str) + \" \" + video_pol_df['title']\n",
    "video_pol_df['seq_title']"
   ]
  },
  {
   "cell_type": "code",
   "execution_count": null,
   "id": "c1e0d74c",
   "metadata": {},
   "outputs": [],
   "source": [
    "# calculate the average comment polarity per video, and add to the data frame \n",
    "video_pol_df.loc[:,\"Pol1\":\"Pol50\"].head()\n",
    "video_pol_df['Pol_mean']= video_pol_df.loc[:,\"Pol1\":\"Pol50\"].mean(axis = 1)\n",
    "video_pol_df['Pol_mean']"
   ]
  },
  {
   "cell_type": "code",
   "execution_count": null,
   "id": "1df0d039",
   "metadata": {},
   "outputs": [],
   "source": [
    "# Calculate the maximum polarity per videos, and add to the data frame \n",
    "video_pol_df['Pol_max']= video_pol_df.loc[:,\"Pol1\":\"Pol50\"].max(axis = 1)\n",
    "video_pol_df['Pol_max']"
   ]
  },
  {
   "cell_type": "code",
   "execution_count": null,
   "id": "ed16d1e7",
   "metadata": {},
   "outputs": [],
   "source": [
    "# Calculate the minimum polarity per videos, and add to the data frame \n",
    "video_pol_df['Pol_min']= video_pol_df.loc[:,\"Pol1\":\"Pol50\"].min(axis = 1)\n",
    "video_pol_df['Pol_min']"
   ]
  },
  {
   "cell_type": "code",
   "execution_count": null,
   "id": "9ee43d07",
   "metadata": {},
   "outputs": [],
   "source": [
    "# Calculate the mean values for all video comments\n",
    "allvideo_mean= video_pol_df['Pol_mean'].mean()"
   ]
  },
  {
   "cell_type": "code",
   "execution_count": null,
   "id": "ceec9924",
   "metadata": {},
   "outputs": [],
   "source": [
    "# Find the video with the highest comment polarity (most positive)\n",
    "video_pol_df['Pol_mean'].idxmax()\n",
    "video_pol_df['Pol_mean'].max()\n",
    "\n",
    "video_pol_df.loc[video_pol_df['Pol_mean'].idxmax()]"
   ]
  },
  {
   "cell_type": "code",
   "execution_count": null,
   "id": "66713d53",
   "metadata": {},
   "outputs": [],
   "source": [
    "# Create the time-series plot\n",
    "\n",
    "# to set the plot size\n",
    "time_seriesplot = plt.figure(figsize=(60, 25), dpi=1000)\n",
    "\n",
    "ax= plt.subplot()\n",
    "\n",
    "plt.plot(video_pol_df['Video_seq'], video_pol_df['Pol_max'], linestyle = 'dotted', color = \"green\")\n",
    "plt.plot(video_pol_df['Video_seq'], video_pol_df['Pol_mean'], linestyle = 'dotted', color = \"black\")\n",
    "plt.plot(video_pol_df['Video_seq'], video_pol_df['Pol_min'], linestyle = 'dotted', color = \"orange\")\n",
    "  \n",
    "# Add a horizontal line at y = 0 \n",
    "plt.axhline(y = 0, color = 'red', linestyle = '-')\n",
    "plt.axhline(y = allvideo_mean, color = 'pink', linestyle = '-') # the mean polarity of all videos \n",
    "\n",
    "# Add title and axis labels\n",
    "plt.title('Time Series Plot')\n",
    "plt.xlabel('Time order (from the newest to the oldest videos)')\n",
    "plt.ylabel('Mean comment polarity index')\n",
    "plt.xticks(np.arange(1, 304, 1), rotation=-90)\n",
    "plt.grid(axis = 'x')\n",
    "ax.set_xticklabels(video_pol_df['seq_title'], fontsize=7, rotation=-90)\n",
    "\n",
    "# Display the plot\n",
    "plt.show()"
   ]
  },
  {
   "cell_type": "code",
   "execution_count": null,
   "id": "cb5d882e",
   "metadata": {},
   "outputs": [],
   "source": [
    "# save high resolution figure\n",
    "time_seriesplot.tight_layout()\n",
    "time_seriesplot.savefig('02_Results/time_series.pdf', format='pdf', dpi=1000)"
   ]
  },
  {
   "cell_type": "code",
   "execution_count": null,
   "id": "72b4e507",
   "metadata": {},
   "outputs": [],
   "source": [
    "# to make an interactive version, which will allow hovering \n",
    "# https://plotly.com/python/hover-text-and-formatting/\n",
    "# https://plotly.com/python/embedding-plotly-graphs-in-HTML/\n",
    "\n",
    "fig = px.line(video_pol_df, x=\"seq_title\", y=\"Pol_mean\",  \n",
    "             labels={\n",
    "                     \"Pol_mean\": \"Comment positivity\",\n",
    "                     \"seq_title\": \"Videos listed from the newest to oldest\"\n",
    "                 },\n",
    "                title=\"How positive the Youtube Comments are for each video of Outdoor Chef Life?\")\n",
    "\n",
    "fig.update_traces(mode=\"markers+lines\", hovertemplate=None)\n",
    "\n",
    "fig.update_xaxes(tickfont_size=3, ticks=\"outside\", ticklen=5, tickwidth=0.5)\n",
    "\n",
    "fig.update_layout(hovermode=\"x unified\" )\n",
    "\n",
    "fig.show()"
   ]
  },
  {
   "cell_type": "code",
   "execution_count": null,
   "id": "0244ccc6",
   "metadata": {},
   "outputs": [],
   "source": [
    "# save as html file\n",
    "import plotly\n",
    "plotly.offline.plot(fig, filename='02_Results/Video_polarity_mean_plotly.html')"
   ]
  },
  {
   "cell_type": "code",
   "execution_count": null,
   "id": "75f39a81",
   "metadata": {},
   "outputs": [],
   "source": []
  },
  {
   "cell_type": "code",
   "execution_count": null,
   "id": "54da79ea",
   "metadata": {},
   "outputs": [],
   "source": []
  }
 ],
 "metadata": {
  "kernelspec": {
   "display_name": "Python 3 (ipykernel)",
   "language": "python",
   "name": "python3"
  },
  "language_info": {
   "codemirror_mode": {
    "name": "ipython",
    "version": 3
   },
   "file_extension": ".py",
   "mimetype": "text/x-python",
   "name": "python",
   "nbconvert_exporter": "python",
   "pygments_lexer": "ipython3",
   "version": "3.10.9"
  }
 },
 "nbformat": 4,
 "nbformat_minor": 5
}
